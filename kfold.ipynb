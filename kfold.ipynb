{
 "cells": [
  {
   "cell_type": "code",
   "execution_count": 1,
   "id": "8ee60a06-9225-4650-b054-96c8e7639a8e",
   "metadata": {},
   "outputs": [],
   "source": [
    "import pandas as pd\n",
    "import matplotlib\n",
    "import matplotlib.pyplot as plt\n",
    "import numpy as np\n",
    "from sklearn.datasets import load_iris\n",
    "from sklearn.metrics import classification_report\n",
    "from sklearn.preprocessing import StandardScaler\n",
    "from sklearn.preprocessing import OrdinalEncoder\n",
    "from sklvq import GMLVQ\n",
    "from timeit import timeit\n",
    "from sklearn.model_selection import KFold\n",
    "\n",
    "from sklearn.metrics import confusion_matrix\n",
    "from sklearn.model_selection import (\n",
    "    cross_val_score,\n",
    "    RepeatedKFold,\n",
    ")\n",
    "\n",
    "\n",
    "matplotlib.rc(\"xtick\", labelsize=\"small\")\n",
    "matplotlib.rc(\"ytick\", labelsize=\"small\")"
   ]
  },
  {
   "cell_type": "code",
   "execution_count": 2,
   "id": "ea602d97-5f59-463a-bb1a-e499ffc82c80",
   "metadata": {},
   "outputs": [],
   "source": [
    "def getdata():\n",
    "    data = pd.read_csv(\"feature_vectors.csv\").to_numpy()\n",
    "    labels = pd.read_csv(\"diagnosis_label.csv\").to_numpy().squeeze()\n",
    "    labelscenter = pd.read_csv(\"center_label.csv\").to_numpy().squeeze()\n",
    "\n",
    "    labelsfinal = labels + labelscenter\n",
    "    \n",
    "    # better way to perform this\n",
    "    labelsdiseases1 = np.where(labelsfinal == 'HCUMCG') \n",
    "    centerlabels1 = labelsfinal[labelsdiseases1]\n",
    "    labelsdiseases2 = np.where(labelsfinal == 'HCUGOSM') \n",
    "    #labelsdiseases = np.where(labels == 'HCCUN','1',centerlabels) \n",
    "    centerlabels2 = labelsfinal[labelsdiseases2]\n",
    "    labelsdiseases3 = np.where(labelsfinal == 'HCCUN') \n",
    "    centerlabels3 = labelsfinal[labelsdiseases3]\n",
    "    \n",
    "    # better way to perform this\n",
    "    centerlabels = np.concatenate((centerlabels1,centerlabels2,centerlabels3))\n",
    "    centerdata = data[labelsdiseases1]\n",
    "    centerdata = np.concatenate((centerdata,data[labelsdiseases2]))\n",
    "    centerdata = np.concatenate((centerdata,data[labelsdiseases3]))\n",
    "    \n",
    "    \n",
    "    #data = ztransform(data)\n",
    "    #centerdata = ztransform(centerdata)\n",
    "    return data,labels,centerdata,centerlabels"
   ]
  },
  {
   "cell_type": "code",
   "execution_count": 3,
   "id": "54dd2050-b30b-4f53-8247-8d5108b2dea7",
   "metadata": {},
   "outputs": [],
   "source": [
    "def ztransform(data_ztransform):\n",
    "    # Sklearn's standardscaler to perform z-transform\n",
    "    scaler = StandardScaler()\n",
    "\n",
    "    # Compute (fit) and apply (transform) z-transform\n",
    "    # why do we do an inverse z transform\n",
    "    data_ztransform = scaler.fit_transform(data_ztransform)\n",
    "    \n",
    "    return data_ztransform"
   ]
  },
  {
   "cell_type": "code",
   "execution_count": 4,
   "id": "fcaec41e-474c-4d5b-a6fb-7f241f31dff0",
   "metadata": {},
   "outputs": [],
   "source": [
    "def model_definition():\n",
    "    \n",
    "    model = GMLVQ(\n",
    "    distance_type=\"adaptive-squared-euclidean\",\n",
    "    activation_type=\"sigmoid\",\n",
    "    activation_params={\"beta\": 2},\n",
    "    solver_type=\"sgd\",\n",
    "    solver_params={\"max_runs\": 20,\"batch_size\":1,\"step_size\": np.array([0.1, 0.05])},\n",
    "    random_state=1428,)\n",
    "    \n",
    "    return model"
   ]
  },
  {
   "cell_type": "code",
   "execution_count": 5,
   "id": "a480a63c-b436-4b60-8394-3d3c0b88414c",
   "metadata": {},
   "outputs": [],
   "source": [
    "def train_modelkfold(data, label, folds=10):\n",
    "    modellist = list()\n",
    "    accuracies = list()\n",
    "    x_dlist = list()\n",
    "    y_dlist = list()\n",
    "    transformed_modell = list()\n",
    "    transformed_datal = list()\n",
    "    scaler = StandardScaler()\n",
    "\n",
    "    kfold = KFold(folds, shuffle=True,random_state=3)\n",
    "    for training_indices, testing_indices in kfold.split(data):\n",
    "        model = model_definition()\n",
    "        accuracy = 0\n",
    "        correct = 0\n",
    "        trainX, trainY, testX, testY = data[training_indices], label[training_indices], data[testing_indices], label[testing_indices]\n",
    "        print(np.shape(trainX))\n",
    "        model.fit(trainX, trainY)\n",
    "        \n",
    "        #validation accuracy\n",
    "        # could use model.predict but it will only give the fraction of the correctly predicted labels\n",
    "        #_, accuraccy = model.evaluate(testX, testY)\n",
    "        predictedlabels = model.predict(testX)\n",
    "        \n",
    "        # since no model.evaluate.....\n",
    "        \n",
    "        for i in range(len(predictedlabels)):\n",
    "            if(predictedlabels[i]==testY[i]):\n",
    "                correct = correct+1\n",
    "        \n",
    "        accuracy = correct/len(testY)\n",
    "        print('%.3f accuracy' % (correct/len(testY)))\n",
    "        \n",
    "        \n",
    "        # tranforming the data in every k fold iteration on that specific \n",
    "        trainX = scaler.fit_transform(trainX)\n",
    "        trainX = scaler.inverse_transform(trainX)\n",
    "        transformed_data = model.transform(trainX, scale=True)\n",
    "\n",
    "        x_d = transformed_data[:, 0]\n",
    "        y_d = transformed_data[:, 1]\n",
    "\n",
    "        # Transform the model, i.e., the prototypes (scaled by square root of eigenvalues \"scale = True\")\n",
    "        # prototype inverser transform\n",
    "        prototypes = scaler.inverse_transform(model.prototypes_)\n",
    "        transformed_model = model.transform(prototypes, scale=True)\n",
    "        \n",
    "        \n",
    "        \n",
    "        # stores accuracies and test data on last kth model\n",
    "        accuracies.append(accuracy)\n",
    "        modellist.append(model)\n",
    "        \n",
    "        x_dlist.append(x_d)\n",
    "        y_dlist.append(y_d)\n",
    "        transformed_modell.append(transformed_model)\n",
    "        transformed_datal.append(transformed_data)\n",
    "        print('======================================')\n",
    "        print(confusion_matrix(testY, predictedlabels))\n",
    "        print('======================================')\n",
    "        #histories.append(history_kfold)\n",
    "    return modellist,accuracies,x_dlist,y_dlist,transformed_modell,transformed_datal"
   ]
  },
  {
   "cell_type": "code",
   "execution_count": null,
   "id": "4c6afebd-cf58-4d70-b7af-b7623a60b216",
   "metadata": {},
   "outputs": [],
   "source": []
  },
  {
   "cell_type": "code",
   "execution_count": 6,
   "id": "223b4fbf-9ab3-4049-bdab-a228d60eafcb",
   "metadata": {},
   "outputs": [],
   "source": [
    "def calculate_lambda():\n",
    "    #average_lambda = np.mean(sum(model.lambda_ for model in modellist),axis=0)\n",
    "    average_lambda = sum(model.lambda_ for model in modellist)/len(modellist)\n",
    "        #modellist\n",
    "    return average_lambda"
   ]
  },
  {
   "cell_type": "code",
   "execution_count": null,
   "id": "374a9637-27cf-4ca5-8a0f-a40a3fb1f556",
   "metadata": {},
   "outputs": [],
   "source": []
  },
  {
   "cell_type": "code",
   "execution_count": 7,
   "id": "4e2616df-6c56-41f9-a954-af4c988c5263",
   "metadata": {},
   "outputs": [],
   "source": [
    "#def averageplot(x_list,y_list,transformed_modell):\n",
    "#    xlist= sum(x for x in x_list)/len(x_list)\n",
    "#    ylist=sum(y for y in y_list)/len(y_list)\n",
    "\n",
    "    # column eigen vectors\n",
    "    \n",
    "#    transformlist=sum((transformed for transformed in transformed_modell), axis = 1)/len(ylist)\n",
    "    \n",
    "#    return xlist,ylist,transformlist"
   ]
  },
  {
   "cell_type": "code",
   "execution_count": 8,
   "id": "82487e92-9466-4ad5-beae-259f994d4e45",
   "metadata": {},
   "outputs": [
    {
     "name": "stdout",
     "output_type": "stream",
     "text": [
      "(73, 36)\n",
      "0.889 accuracy\n",
      "======================================\n",
      "[[2 0 0]\n",
      " [0 1 1]\n",
      " [0 0 5]]\n",
      "======================================\n",
      "(73, 36)\n",
      "0.889 accuracy\n",
      "======================================\n",
      "[[8 1]\n",
      " [0 0]]\n",
      "======================================\n",
      "(74, 36)\n",
      "1.000 accuracy\n",
      "======================================\n",
      "[[3 0 0]\n",
      " [0 4 0]\n",
      " [0 0 1]]\n",
      "======================================\n",
      "(74, 36)\n",
      "1.000 accuracy\n",
      "======================================\n",
      "[[3 0 0]\n",
      " [0 2 0]\n",
      " [0 0 3]]\n",
      "======================================\n",
      "(74, 36)\n",
      "1.000 accuracy\n",
      "======================================\n",
      "[[2 0 0]\n",
      " [0 5 0]\n",
      " [0 0 1]]\n",
      "======================================\n",
      "(74, 36)\n",
      "0.875 accuracy\n",
      "======================================\n",
      "[[3 0 0]\n",
      " [0 4 0]\n",
      " [0 1 0]]\n",
      "======================================\n",
      "(74, 36)\n",
      "0.750 accuracy\n",
      "======================================\n",
      "[[1 0 0]\n",
      " [0 5 0]\n",
      " [0 2 0]]\n",
      "======================================\n",
      "(74, 36)\n",
      "1.000 accuracy\n",
      "======================================\n",
      "[[2 0 0]\n",
      " [0 4 0]\n",
      " [0 0 2]]\n",
      "======================================\n",
      "(74, 36)\n",
      "0.875 accuracy\n",
      "======================================\n",
      "[[1 0 0]\n",
      " [0 5 0]\n",
      " [0 1 1]]\n",
      "======================================\n",
      "(74, 36)\n",
      "0.875 accuracy\n",
      "======================================\n",
      "[[2 0 0]\n",
      " [0 4 0]\n",
      " [0 1 1]]\n",
      "======================================\n"
     ]
    }
   ],
   "source": [
    "data,labels,centerdata,centerlabels = getdata()\n",
    "modellist,accuracies,x_dlist,y_dlist,transformed_modell,transformed_datal = train_modelkfold(centerdata,centerlabels)"
   ]
  },
  {
   "cell_type": "code",
   "execution_count": 9,
   "id": "89b852eb-877c-47b2-a77d-cdd988df54d7",
   "metadata": {},
   "outputs": [
    {
     "data": {
      "text/plain": [
       "array([6.92334080e-04, 1.82993093e-04, 1.50674635e-03, 9.66910900e-04,\n",
       "       7.45194157e-02, 3.49536107e-02, 4.68415704e-03, 3.07042009e-02,\n",
       "       1.08512547e-02, 2.00794308e-01, 3.94631294e-05, 1.79470281e-03,\n",
       "       2.36713769e-02, 1.00125674e-03, 1.47842874e-02, 1.05838297e-02,\n",
       "       1.47088586e-01, 5.43477534e-04, 1.85370104e-02, 1.01132822e-02,\n",
       "       9.51579521e-02, 1.79634298e-03, 3.02717101e-03, 1.17000864e-02,\n",
       "       6.24563840e-03, 2.23358851e-03, 4.27561658e-03, 2.28248751e-04,\n",
       "       3.88279708e-02, 2.39812602e-02, 3.62343177e-03, 2.13196054e-02,\n",
       "       1.30628036e-02, 3.10828582e-02, 1.55158746e-01, 2.65475337e-04])"
      ]
     },
     "execution_count": 9,
     "metadata": {},
     "output_type": "execute_result"
    }
   ],
   "source": [
    "np.diagonal(modellist[9].lambda_)"
   ]
  },
  {
   "cell_type": "code",
   "execution_count": 10,
   "id": "1b7fead0-5eaf-4ce3-ba3e-0c6aef97880a",
   "metadata": {},
   "outputs": [
    {
     "data": {
      "text/plain": [
       "(74, 36)"
      ]
     },
     "execution_count": 10,
     "metadata": {},
     "output_type": "execute_result"
    }
   ],
   "source": [
    "np.shape(transformed_datal[9])"
   ]
  },
  {
   "cell_type": "code",
   "execution_count": 11,
   "id": "d38500fe-c614-4cc2-9913-714aec890bdf",
   "metadata": {},
   "outputs": [
    {
     "data": {
      "text/plain": [
       "10"
      ]
     },
     "execution_count": 11,
     "metadata": {},
     "output_type": "execute_result"
    }
   ],
   "source": [
    "len(x_dlist)"
   ]
  },
  {
   "cell_type": "code",
   "execution_count": 12,
   "id": "3f674c88-8fe4-4cd9-961e-362b0ddce4a0",
   "metadata": {},
   "outputs": [],
   "source": [
    "#xlist,ylist,transformlist = averageplot(x_dlist,y_dlist,transformed_modell)"
   ]
  },
  {
   "cell_type": "code",
   "execution_count": 13,
   "id": "a1f30a9b-6c55-4267-8c2e-b06c2e6cd9f0",
   "metadata": {},
   "outputs": [],
   "source": [
    "average_lambda = calculate_lambda()"
   ]
  },
  {
   "cell_type": "markdown",
   "id": "21d3519b-3572-4ed5-8d26-1413dfe3eaed",
   "metadata": {},
   "source": [
    "type(average_lambda)"
   ]
  },
  {
   "cell_type": "markdown",
   "id": "843396df-24d7-405e-9e3e-41feeaf6e277",
   "metadata": {},
   "source": [
    "# Eigen value decompostion of the average lambda to derive eigen values and eigen vectors"
   ]
  },
  {
   "cell_type": "code",
   "execution_count": 14,
   "id": "04ff1279-4173-4315-a08c-67088c4d51b9",
   "metadata": {},
   "outputs": [],
   "source": [
    "def eigendecomposition(average_lambda):\n",
    "    eigenvalues, eigenvectors = np.linalg.eigh(average_lambda)\n",
    "    # Flip (reverse the order to descending) before assigning.\n",
    "    eigenvalues = np.flip(eigenvalues)\n",
    "\n",
    "    # eigenvectors are column matrix in ascending order. Flip the columns and transpose the matrix\n",
    "    # to get the descending ordered row matrix.\n",
    "    eigenvectors = np.flip(eigenvectors, axis=1).T\n",
    "    \n",
    "    return eigenvalues,eigenvectors"
   ]
  },
  {
   "cell_type": "code",
   "execution_count": 15,
   "id": "debfee1f-6ade-460b-8684-ce5eec06b3a8",
   "metadata": {},
   "outputs": [],
   "source": [
    "eigenvalues,eigenvectors = eigendecomposition(average_lambda)"
   ]
  },
  {
   "cell_type": "code",
   "execution_count": 16,
   "id": "aaecd463-47e8-45dc-ab5e-149012a4b39d",
   "metadata": {},
   "outputs": [
    {
     "data": {
      "text/plain": [
       "36"
      ]
     },
     "execution_count": 16,
     "metadata": {},
     "output_type": "execute_result"
    }
   ],
   "source": [
    "len(eigenvalues)"
   ]
  },
  {
   "cell_type": "code",
   "execution_count": 17,
   "id": "2626c498-9825-4e12-b77f-10b00b191fb7",
   "metadata": {},
   "outputs": [],
   "source": [
    "feature_names = ['a', 'b', 'c', 'd', 'e', 'f', 'g', 'h', 'i', 'j', 'k', 'l', 'm', 'n', 'o', 'p', 'q', 'r', 's', 't', 'u', 'v', 'w', 'x', 'y', 'z','ab','ac','ad','ae','af','ag','ah','ai','aj','ak']\n"
   ]
  },
  {
   "cell_type": "code",
   "execution_count": 18,
   "id": "d5e10e7a-0958-4d96-b379-b4a377d98cc9",
   "metadata": {},
   "outputs": [],
   "source": [
    "def ploteigenvalues(eigenvalues,eigenvectors):\n",
    "   # Plot the eigenvalues of the eigenvectors of the relevance matrix.\n",
    "\n",
    "    %matplotlib inline \n",
    "    fig, ax = plt.subplots()\n",
    "    fig.suptitle(\"Eigenvalues\")\n",
    "    ax.bar(range(0, len(eigenvalues)), eigenvalues)\n",
    "    ax.set_ylabel(\"Weight\")\n",
    "    ax.grid(False)\n",
    "    plt.savefig('centereigenvalues.png')\n",
    "\n",
    "\n",
    "    # Plot the first two eigenvectors of the relevance matrix, which  is called `omega_hat`.\n",
    "    fig, ax = plt.subplots()\n",
    "    fig.suptitle(\"First Eigenvector\")\n",
    "    ax.bar(feature_names, eigenvectors[0, :])\n",
    "    ax.set_ylabel(\"Weight\")\n",
    "    ax.grid(False)\n",
    "    plt.savefig('Firstvectorcenter.png')\n",
    "\n",
    "    \n",
    "    fig, ax = plt.subplots()\n",
    "    fig.suptitle(\"Second Eigenvector\")\n",
    "    ax.bar(feature_names, eigenvectors[1, :])\n",
    "    ax.set_ylabel(\"Weight\")\n",
    "    ax.grid(False)\n",
    "    plt.savefig('Secondvectorcenter.png')\n",
    "\n",
    "    fig, ax = plt.subplots()\n",
    "    # The relevance matrix is available after fitting the model.\n",
    "    relevance_matrix = average_lambda\n",
    "    fig.suptitle(\"Relevance Matrix Diagonal Center data\")\n",
    "    ax.bar(feature_names, np.diagonal(relevance_matrix))\n",
    "    ax.set_ylabel(\"Weight\")\n",
    "    ax.grid(False)\n",
    "    plt.savefig('centerrelevance.png')\n"
   ]
  },
  {
   "cell_type": "code",
   "execution_count": 19,
   "id": "a2e9810a-e101-4d1d-98e4-47574fb02ed1",
   "metadata": {},
   "outputs": [
    {
     "data": {
      "image/png": "[encoded data removed]",
      "text/plain": [
       "<Figure size 432x288 with 1 Axes>"
      ]
     },
     "metadata": {
      "needs_background": "light"
     },
     "output_type": "display_data"
    },
    {
     "data": {
      "image/png": "[encoded data removed]",
      "text/plain": [
       "<Figure size 432x288 with 1 Axes>"
      ]
     },
     "metadata": {
      "needs_background": "light"
     },
     "output_type": "display_data"
    },
    {
     "data": {
      "image/png": "[encoded data removed]",
      "text/plain": [
       "<Figure size 432x288 with 1 Axes>"
      ]
     },
     "metadata": {
      "needs_background": "light"
     },
     "output_type": "display_data"
    },
    {
     "data": {
      "image/png": "[encoded data removed]",
      "text/plain": [
       "<Figure size 432x288 with 1 Axes>"
      ]
     },
     "metadata": {
      "needs_background": "light"
     },
     "output_type": "display_data"
    }
   ],
   "source": [
    "ploteigenvalues(eigenvalues,eigenvectors)"
   ]
  },
  {
   "cell_type": "code",
   "execution_count": 20,
   "id": "b3e81460-b818-4de2-8093-7f360c3a4ffc",
   "metadata": {},
   "outputs": [],
   "source": [
    "N=36\n",
    "K=3\n",
    "I = np.identity(N)\n",
    "outerproduct = np.zeros((N,N))   \n",
    "for i in range(K):\n",
    "    \n",
    "    outerproduct = np.outer(eigenvectors[i,:].T,eigenvectors[i,:])\n",
    "\n",
    "correctionmatrix = I-outerproduct"
   ]
  },
  {
   "cell_type": "code",
   "execution_count": 21,
   "id": "b03aef75-7cef-41ae-9fb5-52f4ee687e36",
   "metadata": {},
   "outputs": [
    {
     "data": {
      "text/plain": [
       "36"
      ]
     },
     "execution_count": 21,
     "metadata": {},
     "output_type": "execute_result"
    }
   ],
   "source": [
    "len(correctionmatrix)"
   ]
  },
  {
   "cell_type": "code",
   "execution_count": 22,
   "id": "dcf9e474-6de1-49fc-94ad-1346ec164844",
   "metadata": {},
   "outputs": [],
   "source": [
    "# Sklearn's standardscaler to perform z-transform\n",
    "scaler = StandardScaler()\n",
    "\n",
    "# Compute (fit) and apply (transform) z-transform\n",
    "centerdata = scaler.fit_transform(centerdata)\n",
    "\n",
    "# The creation of the model object used to fit the data to.\n",
    "model1 = GMLVQ(\n",
    "    distance_type=\"adaptive-squared-euclidean\",\n",
    "    activation_type=\"sigmoid\",\n",
    "    activation_params={\"beta\": 2},\n",
    "    solver_type=\"sgd\",\n",
    "    solver_params={\"max_runs\": 20,\"batch_size\":1,\"step_size\": np.array([0.1, 0.05])},\n",
    "    random_state=1428,\n",
    "    relevance_correction=correctionmatrix\n",
    ")"
   ]
  },
  {
   "cell_type": "code",
   "execution_count": 23,
   "id": "f42996b0-6776-4349-8318-9dfb910024e7",
   "metadata": {},
   "outputs": [],
   "source": [
    "\n",
    "# Train the model using the scaled data and true labels\n",
    "model1.fit(data, labels)\n",
    "\n",
    "# Predict the labels using the trained model\n",
    "predicted_labels = model1.predict(data)\n",
    "# To get a sense of the training performance we could print the classification report.\n",
    "#print(classification_report(labelssubclass, predicted_labels))"
   ]
  },
  {
   "cell_type": "code",
   "execution_count": 24,
   "id": "c9f98c67-9bc8-42ea-954e-05738173d855",
   "metadata": {},
   "outputs": [],
   "source": [
    "# trained omega\n",
    "omegad = model1.omega_"
   ]
  },
  {
   "cell_type": "code",
   "execution_count": 25,
   "id": "8a9b9323-05d4-4510-ab06-3dc30b8e1801",
   "metadata": {},
   "outputs": [
    {
     "data": {
      "image/png": "[encoded data removed]",
      "text/plain": [
       "<Figure size 432x288 with 1 Axes>"
      ]
     },
     "metadata": {
      "needs_background": "light"
     },
     "output_type": "display_data"
    },
    {
     "data": {
      "image/png": "[encoded data removed]",
      "text/plain": [
       "<Figure size 432x288 with 1 Axes>"
      ]
     },
     "metadata": {
      "needs_background": "light"
     },
     "output_type": "display_data"
    },
    {
     "data": {
      "image/png": "[encoded data removed]",
      "text/plain": [
       "<Figure size 432x288 with 1 Axes>"
      ]
     },
     "metadata": {
      "needs_background": "light"
     },
     "output_type": "display_data"
    },
    {
     "data": {
      "image/png": "[encoded data removed]",
      "text/plain": [
       "<Figure size 432x288 with 1 Axes>"
      ]
     },
     "metadata": {
      "needs_background": "light"
     },
     "output_type": "display_data"
    }
   ],
   "source": [
    "# Plot the eigenvalues of the eigenvectors of the relevance matrix.\n",
    "fig, ax = plt.subplots()\n",
    "fig.suptitle(\"Eigenvalues\")\n",
    "ax.bar(range(0, len(model1.eigenvalues_)), model1.eigenvalues_)\n",
    "ax.set_ylabel(\"Weight\")\n",
    "ax.grid(False)\n",
    "plt.savefig('diseaseeigenvalues.png')\n",
    "\n",
    "\n",
    "# Plot the first two eigenvectors of the relevance matrix, which  is called `omega_hat`.\n",
    "fig, ax = plt.subplots()\n",
    "fig.suptitle(\"First Eigenvector\")\n",
    "ax.bar(feature_names, model1.omega_hat_[0, :])\n",
    "ax.set_ylabel(\"Weight\")\n",
    "ax.grid(False)\n",
    "plt.savefig('Firstvectordisease.png')\n",
    "\n",
    "\n",
    "fig, ax = plt.subplots()\n",
    "fig.suptitle(\"Second Eigenvector\")\n",
    "ax.bar(feature_names, model1.omega_hat_[1, :])\n",
    "ax.set_ylabel(\"Weight\")\n",
    "ax.grid(False)\n",
    "plt.savefig('Secondvectordisease.png')\n",
    "\n",
    "\n",
    "fig, ax = plt.subplots()\n",
    "# The relevance matrix is available after fitting the model.\n",
    "relevance_matrix = model1.lambda_\n",
    "fig.suptitle(\"Relevance Matrix Diagonal Center data\")\n",
    "ax.bar(feature_names, np.diagonal(relevance_matrix))\n",
    "ax.set_ylabel(\"Weight\")\n",
    "ax.grid(False)\n",
    "plt.savefig('disease123.png')"
   ]
  },
  {
   "cell_type": "code",
   "execution_count": 26,
   "id": "346925e3-2a63-47de-87c0-0de73bf363be",
   "metadata": {},
   "outputs": [
    {
     "name": "stdout",
     "output_type": "stream",
     "text": [
      "3\n",
      "['AD' 'HC' 'PD']\n",
      "A1: Black, A2: Red, B1: Green, B2: Blue, Centers A and B, and diseases 1 and 2.) \n"
     ]
    },
    {
     "data": {
      "image/png": "[encoded data removed]",
      "text/plain": [
       "<Figure size 432x288 with 1 Axes>"
      ]
     },
     "metadata": {
      "needs_background": "light"
     },
     "output_type": "display_data"
    }
   ],
   "source": [
    "# removing the z transform\n",
    "data = scaler.inverse_transform(data)\n",
    "transformed_data = model1.transform(data, scale=True)\n",
    "\n",
    "x_d = transformed_data[:, 0]\n",
    "y_d = transformed_data[:, 1]\n",
    "\n",
    "# Transform the model, i.e., the prototypes (scaled by square root of eigenvalues \"scale = True\")\n",
    "# prototype inverser transform\n",
    "prototypes = scaler.inverse_transform(model1.prototypes_)\n",
    "\n",
    "transformed_model1 = model1.transform(prototypes, scale=True)\n",
    "\n",
    "print(len(model1.prototypes_))\n",
    "x_m = transformed_model1[:, 0]\n",
    "y_m = transformed_model1[:, 1]\n",
    "\n",
    "fig, ax = plt.subplots()\n",
    "fig.suptitle(\"Maindataset disease data with corresponding prototypes\")\n",
    "colors = ['yellow','Magenta','brown']#,'pink','lightgreen']\n",
    "for i, cls in enumerate(model1.classes_):\n",
    "    ii = cls == labels\n",
    "    ax.scatter(\n",
    "        x_d[ii],\n",
    "        y_d[ii],\n",
    "        c=colors[i],\n",
    "        s=100,\n",
    "        alpha=0.7,\n",
    "        edgecolors=\"white\",\n",
    "        label=model1.classes_[model1.prototypes_labels_[i]],\n",
    "    )\n",
    "ax.scatter(x_m, y_m, c=colors, s=180, alpha=0.8, edgecolors=\"black\", linewidth=2.0)\n",
    "ax.set_xlabel(\"First eigenvector\")\n",
    "ax.set_ylabel(\"Second eigenvector\")\n",
    "ax.legend()\n",
    "ax.grid(True)\n",
    "print(model1.classes_)\n",
    "plt.savefig('disease.png')\n",
    "#plt.savefig('destination_path23.eps', format='eps')\n",
    "print('A1: Black, A2: Red, B1: Green, B2: Blue, Centers A and B, and diseases 1 and 2.) ')"
   ]
  },
  {
   "cell_type": "code",
   "execution_count": 10,
   "id": "cce3a51d-8104-41b5-8316-bcd16e122219",
   "metadata": {},
   "outputs": [
    {
     "name": "stdout",
     "output_type": "stream",
     "text": [
      "GMLVQ(activation_params={'beta': 2}, random_state=1428,\n",
      "      solver_params={'batch_size': 1, 'max_runs': 20,\n",
      "                     'step_size': array([0.1 , 0.05])},\n",
      "      solver_type='sgd')\n"
     ]
    }
   ],
   "source": [
    "print(modellist[1])"
   ]
  },
  {
   "cell_type": "code",
   "execution_count": null,
   "id": "f170b024-fc8c-4462-8b36-9cd990428340",
   "metadata": {},
   "outputs": [],
   "source": []
  }
 ],
 "metadata": {
  "kernelspec": {
   "display_name": "Python 3",
   "language": "python",
   "name": "python3"
  },
  "language_info": {
   "codemirror_mode": {
    "name": "ipython",
    "version": 3
   },
   "file_extension": ".py",
   "mimetype": "text/x-python",
   "name": "python",
   "nbconvert_exporter": "python",
   "pygments_lexer": "ipython3",
   "version": "3.8.5"
  }
 },
 "nbformat": 4,
 "nbformat_minor": 5
}

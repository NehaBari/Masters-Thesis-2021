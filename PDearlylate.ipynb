{
 "cells": [
  {
   "cell_type": "markdown",
   "id": "d7de23e3-e618-42b7-87fb-35fc0f973460",
   "metadata": {
    "tags": []
   },
   "source": [
    "## 6 class AD PD model"
   ]
  },
  {
   "cell_type": "code",
   "execution_count": 1,
   "id": "69d10766-4a2b-4a94-83da-0f8790ca5cc6",
   "metadata": {},
   "outputs": [],
   "source": [
    "import pandas as pd\n",
    "import matplotlib\n",
    "import matplotlib.pyplot as plt\n",
    "import numpy as np\n",
    "from sklearn.preprocessing import StandardScaler\n",
    "from sklearn.preprocessing import OrdinalEncoder\n",
    "from sklvq import GMLVQ\n",
    "from timeit import timeit\n",
    "from sklearn.model_selection import KFold\n",
    "from itertools import chain\n",
    "from sklearn.metrics import confusion_matrix\n",
    "from sklearn.model_selection import (\n",
    "    cross_val_score,\n",
    "    RepeatedKFold,\n",
    ")\n",
    "from sklearn.pipeline import make_pipeline\n",
    "from sklearn.metrics import precision_recall_curve\n",
    "from sklearn.metrics import roc_curve,roc_auc_score,auc\n",
    "import colorama\n",
    "from colorama import Fore, Style\n",
    "matplotlib.rc(\"xtick\", labelsize=\"small\")\n",
    "matplotlib.rc(\"ytick\", labelsize=\"small\")"
   ]
  },
  {
   "cell_type": "code",
   "execution_count": 2,
   "id": "3202a5d3-4161-4efa-bfdf-d854bc9f214e",
   "metadata": {},
   "outputs": [],
   "source": [
    "def getdata():\n",
    "    data = pd.read_csv(\"feature_vectors.csv\").to_numpy()\n",
    "    labels = pd.read_csv(\"diagnosis_label.csv\").to_numpy().squeeze()\n",
    "    labelscenter = pd.read_csv(\"center_label.csv\").to_numpy().squeeze()\n",
    "\n",
    "    labelsfinal = labels + labelscenter\n",
    "    \n",
    "    # better way to perform this\n",
    "    labelsdiseases1 = np.where(labelsfinal == 'HCUMCG') \n",
    "    centerlabels1 = labelsfinal[labelsdiseases1]\n",
    "    labelsdiseases2 = np.where(labelsfinal == 'HCUGOSM') \n",
    "    #labelsdiseases = np.where(labels == 'HCCUN','1',centerlabels) \n",
    "    centerlabels2 = labelsfinal[labelsdiseases2]\n",
    "    labelsdiseases3 = np.where(labelsfinal == 'HCCUN') \n",
    "    centerlabels3 = labelsfinal[labelsdiseases3]\n",
    "    \n",
    "    # better way to perform this\n",
    "    centerlabels = np.concatenate((centerlabels1,centerlabels2,centerlabels3))\n",
    "    centerdata = data[labelsdiseases1]\n",
    "    centerdata = np.concatenate((centerdata,data[labelsdiseases2]))\n",
    "    centerdata = np.concatenate((centerdata,data[labelsdiseases3]))\n",
    "    \n",
    "    scalar = StandardScaler()\n",
    "    #data = ztransform(data,scaler)\n",
    "    #centerdata= ztransform(centerdata,scaler)\n",
    "    return data,labels,centerdata,centerlabels,labelscenter,scalar"
   ]
  },
  {
   "cell_type": "code",
   "execution_count": 3,
   "id": "a2aed082-2c6e-44b8-b7a9-7cf7ef81c4c0",
   "metadata": {},
   "outputs": [],
   "source": [
    "def ztransform(data_ztransform,scalarz):\n",
    "    # Sklearn's standardscaler to perform z-transform\n",
    "\n",
    "    # Compute (fit) and apply (transform) z-transform\n",
    "    # why do we do an inverse z transform\n",
    "    #scalar = scalar\n",
    "    data_ztransform = scalarz.fit_transform(data_ztransform)\n",
    "    return data_ztransform,scalarz"
   ]
  },
  {
   "cell_type": "code",
   "execution_count": 4,
   "id": "e24eaf5a-8a91-4ac4-b4f8-c344d3f3750e",
   "metadata": {},
   "outputs": [],
   "source": [
    "class ProcessLogger:\n",
    "    def __init__(self):\n",
    "        self.states = np.array([])\n",
    "\n",
    "    # A callback function has to accept two arguments, i.e., model and state, where model is the\n",
    "    # current model, and state contains a number of the optimizers variables.\n",
    "    def __call__(self, state):\n",
    "        self.states = np.append(self.states, state)\n",
    "        return False  # The callback function can also be used to stop training early,\n",
    "        # if some condition is met by returning True.\n",
    "\n",
    "        \n",
    "        \n",
    "logger = ProcessLogger()\n",
    "\n"
   ]
  },
  {
   "cell_type": "code",
   "execution_count": 5,
   "id": "d2c57056-faf4-4b7b-a736-17e99ff18eb6",
   "metadata": {},
   "outputs": [],
   "source": [
    "def model_definition_center():\n",
    "    \n",
    "    model = GMLVQ(\n",
    "    distance_type=\"adaptive-squared-euclidean\",\n",
    "    activation_type=\"sigmoid\",\n",
    "    activation_params={\"beta\": 2},\n",
    "        #wgd\n",
    "    solver_type=\"wgd\",\n",
    "    solver_params={\"max_runs\": 50,\"step_size\": np.array([0.1, 0.05]),\"callback\": logger},\n",
    "    #solver_params={\"max_runs\": 10,\"batch_size\":1,\"step_size\": np.array([0.1, 0.05])},\n",
    "    random_state=1428,)\n",
    "    \n",
    "    return model"
   ]
  },
  {
   "cell_type": "code",
   "execution_count": 6,
   "id": "00982c12-964c-4d89-a7af-4b08ef40515c",
   "metadata": {},
   "outputs": [],
   "source": [
    "def model_definition_disease(correctionmatrix):\n",
    "    model1 = GMLVQ(\n",
    "        distance_type=\"adaptive-squared-euclidean\",\n",
    "        activation_type=\"sigmoid\",\n",
    "        activation_params={\"beta\": 2},\n",
    "        solver_type=\"wgd\",\n",
    "        solver_params={\"max_runs\": 50,\"step_size\": np.array([0.1, 0.05]),\"callback\": logger},\n",
    "        #solver_params={\"max_runs\": 10,\"batch_size\":1,\"step_size\": np.array([0.1, 0.05])},\n",
    "        random_state=1428,\n",
    "        relevance_correction=correctionmatrix\n",
    "    )\n",
    "    return model1"
   ]
  },
  {
   "cell_type": "code",
   "execution_count": 7,
   "id": "f994e290-fe66-4baf-8d69-e5c690930871",
   "metadata": {},
   "outputs": [],
   "source": [
    "def train_modelkfold(data, label,disease,correctionmatrix1,repeated,scalar,folds=5):\n",
    "    modelmatrix = np.zeros((repeated,folds),dtype=object) \n",
    "    scalars = np.zeros((repeated,folds),dtype=object)\n",
    "    datamatrix =  np.zeros((repeated,folds),dtype=object) \n",
    "    labelmatrix = np.zeros((repeated,folds),dtype=object)\n",
    "    accuracies = np.zeros((repeated,folds),dtype=float) \n",
    "    # each entry will store the test labels and the predicted labels\n",
    "    testlabels = np.zeros((repeated,folds),dtype=object) \n",
    "    predicted = np.zeros((repeated,folds),dtype=object) \n",
    "    probablities = np.zeros((repeated,folds),dtype=object) \n",
    "    laeblscore = np.zeros((repeated,folds),dtype=object) \n",
    "    testing_indicesM = np.zeros((repeated,folds),dtype=object) \n",
    "    traning_indicesM = np.zeros((repeated,folds),dtype=object) \n",
    "    \n",
    "    if disease==False:\n",
    "        print('Repeated K fold for center data')\n",
    "    else:\n",
    "        print('Repeated K fold for disease data')\n",
    "    for repeated in range(repeated):\n",
    "        \n",
    "        print(\"========Repeated fold number\",str(repeated),\"========\")\n",
    "        kfold = KFold(folds, shuffle=True)\n",
    "        \n",
    "        for k, (training_indices, testing_indices) in enumerate(kfold.split(data)):\n",
    "            if disease==False:\n",
    "                model = model_definition_center()\n",
    "                #print('in this')\n",
    "                #print(type(model))\n",
    "            else:\n",
    "                #model = model_definition_center()\n",
    "                model = model_definition_disease(correctionmatrix1)\n",
    "            accuracy = 0\n",
    "            correct = 0\n",
    "            trainX, trainY, testX, testY = data[training_indices], label[training_indices], data[testing_indices], label[testing_indices]\n",
    "            #applying z transform on training data only\n",
    "            trainX,scalar1 = ztransform(trainX,scalar)\n",
    "            model.fit(trainX,trainY)\n",
    "            \n",
    "            # model is fitted, can also do = model\n",
    "            modelmatrix[repeated,k] = model\n",
    "            datamatrix[repeated,k] = trainX\n",
    "            \n",
    "            \n",
    "            labelmatrix[repeated,k] = trainY\n",
    "\n",
    "            testX = scalar1.transform(testX)\n",
    "            predictedlabels = model.predict(testX)\n",
    "            #print(confusion_matrix(testX, predictedlabels))\n",
    "            for i in range(len(predictedlabels)):\n",
    "                if(predictedlabels[i]==testY[i]):\n",
    "                    correct = correct+1\n",
    "                    \n",
    "            scalars[repeated,k] = scalar1\n",
    "            \n",
    "            probabilties = model.predict_proba(testX)\n",
    "            \n",
    "            laeblscore[repeated,k] = model.decision_function(testX)\n",
    "            \n",
    "            probablities[repeated,k] = probabilties\n",
    "            \n",
    "            testlabels[repeated,k] = testY\n",
    "            \n",
    "            predicted[repeated,k] = predictedlabels\n",
    "            \n",
    "            \n",
    "            testing_indicesM[repeated,k] = testing_indices\n",
    "            traning_indicesM[repeated,k] = training_indices\n",
    "            # accuracy and error rate for the validation set(test set in kfold)\n",
    "            accuracy = correct/len(testY)\n",
    "            print('%.3f accuracy' % (correct/len(testY)))\n",
    "            \n",
    "            # could also plot same for the training set in the kfold\n",
    "    return modelmatrix,datamatrix,labelmatrix,scalars,testlabels,predicted,probablities,laeblscore,testing_indicesM,traning_indicesM"
   ]
  },
  {
   "cell_type": "code",
   "execution_count": 8,
   "id": "8cbe8b86-7264-4184-9299-fedcd77b4244",
   "metadata": {},
   "outputs": [],
   "source": [
    "def calculate_lambda(modelmatrix,repeated):\n",
    "    #average_lambda = np.mean(sum(model.lambda_ for model in modellist),axis=0)\n",
    "    #check the shape of total_lambda\n",
    "    \n",
    "    total_lambda = np.zeros((36,36),dtype = 'float')\n",
    "    print(repeated)\n",
    "    for index in range(repeated):\n",
    "        print(index)\n",
    "        lambdaperfold = np.zeros((36,36),dtype='float')        \n",
    "        \n",
    "        for modelin in modelmatrix[index,:]:\n",
    "            lambdaperfold = lambdaperfold + modelin.lambda_\n",
    "\n",
    "        lambdaperfold = lambdaperfold/np.shape(modelmatrix)[1]\n",
    "        \n",
    "        total_lambda = total_lambda + lambdaperfold\n",
    "        \n",
    "    total_lambda = total_lambda/repeated\n",
    "\n",
    "    return total_lambda"
   ]
  },
  {
   "cell_type": "code",
   "execution_count": 9,
   "id": "df865776-0f42-4239-a7ee-cebe14a57c44",
   "metadata": {},
   "outputs": [],
   "source": [
    "def eigendecomposition(average_lambda):\n",
    "    eigenvalues, eigenvectors = np.linalg.eigh(average_lambda)\n",
    "    # eigen vectors returned in columns\n",
    "    # Flip (reverse the order to descending) before assigning.\n",
    "    eigenvalues = np.flip(eigenvalues)\n",
    "\n",
    "    # eigenvectors are column matrix in ascending order. Flip the columns and transpose the matrix\n",
    "    # to get the descending ordered row matrix.\n",
    "    \n",
    "    # eigenvectors are row matrices\n",
    "    #eigenvectors = eigenvectors.T\n",
    "    #eigenvectors = np.flip(eigenvectors,axis=0)\n",
    "    eigenvectors = np.flip(eigenvectors, axis=1).T\n",
    "    \n",
    "    return eigenvalues,eigenvectors"
   ]
  },
  {
   "cell_type": "code",
   "execution_count": 10,
   "id": "ed4ff9b3-72de-43c6-b211-08f498ee7c07",
   "metadata": {},
   "outputs": [],
   "source": [
    "feature_names = ['a', 'b', 'c', 'd', 'e', 'f', 'g', 'h', 'i', 'j', 'k', 'l', 'm', 'n', 'o', 'p', 'q', 'r', 's', 't', 'u', 'v', 'w', 'x', 'y', 'z','ab','ac','ad','ae','af','ag','ah','ai','aj','ak']\n"
   ]
  },
  {
   "cell_type": "code",
   "execution_count": 11,
   "id": "107fd399-d6bd-4fa5-93e9-e807c4ddb73f",
   "metadata": {},
   "outputs": [],
   "source": [
    "\n",
    "def correction_matrix(eigvectorscenter):\n",
    "    N=36\n",
    "    K=1\n",
    "    I = np.identity(N)\n",
    "    outerproduct = np.zeros((N,N))   \n",
    "    for i in range(K):\n",
    "        # check this\n",
    "        outerproduct +=  np.outer(eigvectorscenter.T[:,i],eigvectorscenter[i,:])\n",
    "        outerproduct1 =  np.outer(eigvectorscenter.T[:,0],eigvectorscenter[0,:])\n",
    "        outerproduct2 =  np.outer(eigvectorscenter.T[:,1],eigvectorscenter[1,:])        \n",
    "    correctionmatrix = I-outerproduct\n",
    "    return correctionmatrix"
   ]
  },
  {
   "cell_type": "code",
   "execution_count": 12,
   "id": "984592bb-a2b2-4c20-8b4c-a8d4eb3fe219",
   "metadata": {},
   "outputs": [],
   "source": [
    "def calculate_prototype(modelmatrix,repeated,dimension):\n",
    "    #prototypeaverage = np.zeros((prototype,dimensions),dtype='float')    \n",
    "    numberofprototypes = len(modelmatrix[0][0].prototypes_)\n",
    "    prototypeaverage = np.zeros((numberofprototypes,dimension),dtype='float')    \n",
    "    modellist = list(chain.from_iterable(zip(*modelmatrix)))\n",
    "    for modelin in range(len(modellist)):\n",
    "        for i in range(numberofprototypes):\n",
    "            prototypeaverage[i] = np.add(prototypeaverage[i],modellist[modelin].prototypes_[i])\n",
    "    return prototypeaverage/len(modellist)"
   ]
  },
  {
   "cell_type": "code",
   "execution_count": 13,
   "id": "e62110c4-8c85-4834-bf88-0a463cdf12b5",
   "metadata": {},
   "outputs": [],
   "source": [
    "def calculate_eigenvaluesc(modelmatrix,repeated,dimension):\n",
    "    #prototypeaverage = np.zeros((prototype,dimensions),dtype='float')    \n",
    "    numberofprototypes = len(modelmatrix[0][0].prototypes_)\n",
    "    prototypeaverage = np.zeros(dimension,dtype='float')    \n",
    "    modellist = list(chain.from_iterable(zip(*modelmatrix)))\n",
    "    for modelin in range(len(modellist)):\n",
    "        prototypeaverage = np.add(prototypeaverage,modellist[modelin].eigenvalues_)\n",
    "    return prototypeaverage/len(modellist)"
   ]
  },
  {
   "cell_type": "code",
   "execution_count": 14,
   "id": "17468d1e-8673-4487-b7cd-c11a5c512719",
   "metadata": {},
   "outputs": [],
   "source": [
    "def calculate_eigenvaluesd(modelmatrix,repeated,dimension):\n",
    "    #prototypeaverage = np.zeros((prototype,dimensions),dtype='float')    \n",
    "    numberofprototypes = len(modelmatrix[0][0].prototypes_)\n",
    "    prototypeaverage = np.zeros(dimension,dtype='float')    \n",
    "    modellist = list(chain.from_iterable(zip(*modelmatrix)))\n",
    "    for modelin in range(len(modellist)):\n",
    "        prototypeaverage = np.add(prototypeaverage,modellist[modelin].eigenvalues_)\n",
    "    return prototypeaverage/len(modellist)"
   ]
  },
  {
   "cell_type": "code",
   "execution_count": 15,
   "id": "3ffacb53-a2d0-46b7-873f-da176a393335",
   "metadata": {},
   "outputs": [],
   "source": [
    "def calculate_eigenvectorsc(modelmatrix,repeated,dimension):\n",
    "    #prototypeaverage = np.zeros((prototype,dimensions),dtype='float')    \n",
    "    numberofprototypes = len(modelmatrix[0][0].eigenvectors_)\n",
    "    prototypeaverage = np.zeros((numberofprototypes,dimension),dtype='float')    \n",
    "    modellist = list(chain.from_iterable(zip(*modelmatrix)))\n",
    "    for modelin in range(len(modellist)):\n",
    "        for i in range(numberofprototypes):\n",
    "            prototypeaverage[i] = np.add(prototypeaverage[i],modellist[modelin].eigenvectors_[i])\n",
    "    return prototypeaverage/len(modellist)"
   ]
  },
  {
   "cell_type": "code",
   "execution_count": 16,
   "id": "6a2de365-4f71-47b4-9bc5-6dc9c3d600d6",
   "metadata": {},
   "outputs": [],
   "source": [
    "def calculate_eigenvectorsd(modelmatrix,repeated,dimension):\n",
    "    #prototypeaverage = np.zeros((prototype,dimensions),dtype='float')    \n",
    "    numberofprototypes = len(modelmatrix[0][0].eigenvectors_)\n",
    "    prototypeaverage = np.zeros((numberofprototypes,dimension),dtype='float')    \n",
    "    modellist = list(chain.from_iterable(zip(*modelmatrix)))\n",
    "    for modelin in range(len(modellist)):\n",
    "        for i in range(numberofprototypes):\n",
    "            prototypeaverage[i] = np.add(prototypeaverage[i],modellist[modelin].eigenvectors_[i])\n",
    "    return prototypeaverage/len(modellist)"
   ]
  },
  {
   "cell_type": "code",
   "execution_count": 17,
   "id": "fb39e7b2-9ba7-40ef-bee3-d71d5c44523d",
   "metadata": {},
   "outputs": [],
   "source": [
    "def calculate_prototype1(modelmatrix,repeated,dimension):\n",
    "    #prototypeaverage = np.zeros((prototype,dimensions),dtype='float')    \n",
    "    numberofprototypes = len(modelmatrix[0][0].prototypes_)\n",
    "    prototypeaverage = np.zeros((numberofprototypes,dimension),dtype='float')    \n",
    "    modellist = list(chain.from_iterable(zip(*modelmatrix)))\n",
    "    for modelin in range(len(modellist)):\n",
    "        for i in range(numberofprototypes):\n",
    "            prototypeaverage[i] = np.add(prototypeaverage[i],modellist[modelin].prototypes_[i])\n",
    "    return prototypeaverage/len(modellist)"
   ]
  },
  {
   "cell_type": "code",
   "execution_count": 18,
   "id": "1b7ed910-5c4c-46b5-856d-3895cdf1cb57",
   "metadata": {},
   "outputs": [],
   "source": [
    "data,labels,centerdata1,centerlabels1,labelscenter,scalar = getdata()\n",
    "\n",
    "\n",
    "\n",
    "######UMCG indices##########\n",
    "\n",
    "#ADindices = np.where(labels=='AD')\n",
    "\n",
    "UMCGindices = np.where(labelscenter=='UMCG')\n",
    "\n",
    "# Remove UMCH 1st from data, centerlabels and diseaselabels\n",
    "\n",
    "\n",
    "datanoUMCG = np.delete(data,UMCGindices,axis=0)\n",
    "\n",
    "labelsnoUMCG = np.delete(labels,UMCGindices,axis=0)\n",
    "\n",
    "labelscenternoUMCG = np.delete(labelscenter,UMCGindices,axis=0)\n",
    "\n"
   ]
  },
  {
   "cell_type": "code",
   "execution_count": 19,
   "id": "7db72af8-49c9-418d-af7e-2b25403226f6",
   "metadata": {},
   "outputs": [],
   "source": [
    "### get AD indices\n",
    "\n",
    "ADindices = np.where(labelsnoUMCG=='AD')\n",
    "\n",
    "# datacenter is the data with no umcg and AD incides\n",
    "\n",
    "finaldatacenter = np.delete(datanoUMCG,ADindices,axis=0)\n",
    "\n",
    "#Final center labels with no AD and UMCG\n",
    "finalcenterlabels = np.delete(labelscenternoUMCG,ADindices,axis=0)\n",
    "\n",
    "\n",
    "# labelsnoAD for disease data\n",
    "labelsnoAD = np.delete(labelsnoUMCG,ADindices,axis=0)\n"
   ]
  },
  {
   "cell_type": "code",
   "execution_count": 20,
   "id": "c5ae467c-8476-4ff1-8865-b658c0ec2b6a",
   "metadata": {},
   "outputs": [],
   "source": [
    "### get HC indices and remove them for the disease data and labels\n",
    "# fetching HC indices\n",
    "\n",
    "healthycontrolindices = np.where(labelsnoAD=='HC')\n",
    "\n",
    "finaldatadisease = np.delete(finaldatacenter,healthycontrolindices,axis=0)\n",
    "\n",
    "labelsnoDHC = np.delete(labelsnoAD,healthycontrolindices,axis=0)\n",
    "\n",
    "centernoHC = np.delete(finalcenterlabels,healthycontrolindices,axis=0)\n",
    "\n",
    "##############\n",
    "\n",
    "Finallabelsdisease = labelsnoDHC+centernoHC"
   ]
  },
  {
   "cell_type": "markdown",
   "id": "933ffd57-c981-4191-b043-737ab74cfa0f",
   "metadata": {},
   "source": [
    "## get data"
   ]
  },
  {
   "cell_type": "code",
   "execution_count": 21,
   "id": "0d75df09-9887-44a9-bf49-22f53b9693b4",
   "metadata": {},
   "outputs": [
    {
     "name": "stdout",
     "output_type": "stream",
     "text": [
      "Repeated K fold for center data\n",
      "========Repeated fold number 0 ========\n",
      "1.000 accuracy\n",
      "0.941 accuracy\n",
      "1.000 accuracy\n",
      "1.000 accuracy\n",
      "0.970 accuracy\n",
      "========Repeated fold number 1 ========\n",
      "1.000 accuracy\n",
      "0.971 accuracy\n",
      "0.971 accuracy\n",
      "1.000 accuracy\n",
      "0.970 accuracy\n",
      "========Repeated fold number 2 ========\n",
      "0.971 accuracy\n",
      "1.000 accuracy\n",
      "1.000 accuracy\n",
      "0.970 accuracy\n",
      "1.000 accuracy\n",
      "========Repeated fold number 3 ========\n",
      "0.941 accuracy\n",
      "1.000 accuracy\n",
      "0.971 accuracy\n",
      "1.000 accuracy\n",
      "1.000 accuracy\n",
      "========Repeated fold number 4 ========\n",
      "0.971 accuracy\n",
      "1.000 accuracy\n",
      "0.971 accuracy\n",
      "1.000 accuracy\n",
      "1.000 accuracy\n",
      "========Repeated fold number 5 ========\n",
      "0.971 accuracy\n",
      "1.000 accuracy\n",
      "0.971 accuracy\n",
      "0.970 accuracy\n",
      "0.970 accuracy\n",
      "========Repeated fold number 6 ========\n",
      "0.941 accuracy\n",
      "0.971 accuracy\n",
      "0.971 accuracy\n",
      "1.000 accuracy\n",
      "0.970 accuracy\n",
      "========Repeated fold number 7 ========\n",
      "0.941 accuracy\n",
      "1.000 accuracy\n",
      "1.000 accuracy\n",
      "1.000 accuracy\n",
      "1.000 accuracy\n",
      "========Repeated fold number 8 ========\n",
      "1.000 accuracy\n",
      "0.971 accuracy\n",
      "1.000 accuracy\n",
      "0.970 accuracy\n",
      "1.000 accuracy\n",
      "========Repeated fold number 9 ========\n",
      "1.000 accuracy\n",
      "1.000 accuracy\n",
      "0.941 accuracy\n",
      "1.000 accuracy\n",
      "1.000 accuracy\n",
      "10\n",
      "0\n",
      "1\n",
      "2\n",
      "3\n",
      "4\n",
      "5\n",
      "6\n",
      "7\n",
      "8\n",
      "9\n",
      "                                                     \n",
      "The sum of the digonal of the center relevance matrix\n",
      "1.0\n",
      "                                                     \n"
     ]
    }
   ],
   "source": [
    "\n",
    "centermodel,datamatrix,labelmatrix,scalars1,testlabelsc,predictedc,probabiltiesc,laeblscorec,testing_indicesC,training_indicesC = train_modelkfold(finaldatacenter,finalcenterlabels,False,None,10,scalar)\n",
    "\n",
    "average_lambda_center = calculate_lambda(centermodel,10)\n",
    "\n",
    "average_prototype_center = calculate_prototype(centermodel,10,36)\n",
    "\n",
    "\n",
    "eigenvectorc =calculate_eigenvectorsc(centermodel,10,36)\n",
    "\n",
    "\n",
    "eigenvaluec = calculate_eigenvaluesc(centermodel,10,36)\n",
    "\n",
    "print('                                                     ')\n",
    "\n",
    "\n",
    "print('The sum of the digonal of the center relevance matrix')\n",
    "\n",
    "print(np.sum(np.diagonal(average_lambda_center)))\n",
    "\n",
    "print('                                                     ')\n",
    "\n",
    "\n",
    "eigenvaluescenter,eigenvectorscenter= eigendecomposition(average_lambda_center)\n",
    "\n",
    "\n",
    "correctionmatrix1 = correction_matrix(eigenvectorscenter)\n",
    "\n",
    "#correctionmatrix = correction_matrix()\n"
   ]
  },
  {
   "cell_type": "markdown",
   "id": "0de9713b-dd91-45ae-aee1-aef100fc9a40",
   "metadata": {},
   "source": [
    "## center data fitting (3 class)"
   ]
  },
  {
   "cell_type": "code",
   "execution_count": 22,
   "id": "8f464885-e58f-42e5-8d51-005250df0d5b",
   "metadata": {},
   "outputs": [
    {
     "name": "stdout",
     "output_type": "stream",
     "text": [
      "Repeated K fold for disease data\n",
      "========Repeated fold number 0 ========\n",
      "0.905 accuracy\n",
      "0.952 accuracy\n",
      "0.762 accuracy\n",
      "0.762 accuracy\n",
      "0.762 accuracy\n",
      "========Repeated fold number 1 ========\n",
      "0.762 accuracy\n",
      "0.905 accuracy\n",
      "0.714 accuracy\n",
      "0.714 accuracy\n",
      "1.000 accuracy\n",
      "========Repeated fold number 2 ========\n",
      "0.857 accuracy\n",
      "0.762 accuracy\n",
      "0.857 accuracy\n",
      "0.857 accuracy\n",
      "0.714 accuracy\n",
      "========Repeated fold number 3 ========\n",
      "0.762 accuracy\n",
      "0.857 accuracy\n",
      "0.952 accuracy\n",
      "0.857 accuracy\n",
      "0.952 accuracy\n",
      "========Repeated fold number 4 ========\n",
      "0.857 accuracy\n",
      "0.762 accuracy\n",
      "0.762 accuracy\n",
      "0.952 accuracy\n",
      "0.857 accuracy\n",
      "========Repeated fold number 5 ========\n",
      "0.905 accuracy\n",
      "0.810 accuracy\n",
      "0.857 accuracy\n",
      "0.905 accuracy\n",
      "0.810 accuracy\n",
      "========Repeated fold number 6 ========\n",
      "0.857 accuracy\n",
      "0.857 accuracy\n",
      "0.810 accuracy\n",
      "0.810 accuracy\n",
      "0.857 accuracy\n",
      "========Repeated fold number 7 ========\n",
      "0.810 accuracy\n",
      "0.952 accuracy\n",
      "0.857 accuracy\n",
      "0.857 accuracy\n",
      "0.762 accuracy\n",
      "========Repeated fold number 8 ========\n",
      "0.905 accuracy\n",
      "0.905 accuracy\n",
      "0.857 accuracy\n",
      "0.857 accuracy\n",
      "0.762 accuracy\n",
      "========Repeated fold number 9 ========\n",
      "0.857 accuracy\n",
      "0.762 accuracy\n",
      "0.857 accuracy\n",
      "0.857 accuracy\n",
      "0.810 accuracy\n",
      "10\n",
      "0\n",
      "1\n",
      "2\n",
      "3\n",
      "4\n",
      "5\n",
      "6\n",
      "7\n",
      "8\n",
      "9\n",
      "The sum of the digonal of the disease relevance matrix\n",
      "0.9999999999999998\n"
     ]
    }
   ],
   "source": [
    "\n",
    "diseasemodel,datamatrix1,labelmatrix1,scalars2,testlabelsd,predictedd,probabiltiesd,laeblscored,testing_indicesD,training_indicesD  = train_modelkfold(finaldatadisease,Finallabelsdisease,True,correctionmatrix1,10,scalar)\n",
    "\n",
    "average_lambda_disease = calculate_lambda(diseasemodel,10)\n",
    "\n",
    "eigenvaluesdisease,eigenvectorsdisease = eigendecomposition(average_lambda_disease)\n",
    "\n",
    "average_prototype_disease = calculate_prototype1(diseasemodel,10,36)\n",
    "\n",
    "eigenvectord=calculate_eigenvectorsd(diseasemodel,10,36)\n",
    "\n",
    "eigenvalued = calculate_eigenvaluesd(centermodel,10,36)\n",
    "\n",
    "\n",
    "\n",
    "print('The sum of the digonal of the disease relevance matrix')\n",
    "\n",
    "print(np.sum(np.diagonal(average_lambda_disease)))\n"
   ]
  },
  {
   "cell_type": "raw",
   "id": "77609ed7-6e0a-463c-bfa4-5626f81926de",
   "metadata": {},
   "source": [
    "### get HC indices and remove them for the disease data and labels\n",
    "# fetching HC indices\n",
    "\n",
    "healthycontrolindices = np.where(labelsnoAD=='HC')\n",
    "\n",
    "finaldatadisease = np.delete(datacenter,healthycontrolindices,axis=0)\n",
    "\n",
    "labelsnoDHC = np.delete(labelsnoAD,healthycontrolindices,axis=0)\n",
    "\n",
    "centernoHC = np.delete(finalcenterlabels,healthycontrolindices,axis=0)\n",
    "\n",
    "##############\n",
    "\n",
    "Finallabelsdisease = labelsnoDHC+centernoHC"
   ]
  },
  {
   "cell_type": "markdown",
   "id": "8ef4c267-517f-40a9-99e4-ebe103cc940d",
   "metadata": {},
   "source": [
    "## single model trained on 4 class disease and 3 class center data"
   ]
  },
  {
   "cell_type": "raw",
   "id": "7dc6e391-b477-4725-b3d5-f1683cfa8d26",
   "metadata": {},
   "source": [
    "\n",
    "modelc = model_definition_center()\n",
    "pipeline1 = make_pipeline(scalar, modelc)\n",
    "scalarc=pipeline1.fit(finaldatacenter, finalcenterlabels)\n",
    "\n",
    "\n",
    "correctionmatrix12 = correction_matrix(modelc.eigenvectors_)\n",
    "\n",
    "modeld = model_definition_disease(correctionmatrix12)\n",
    "pipeline2 = make_pipeline(scalar, modeld)\n",
    "scalard=pipeline2.fit(finaldatadisease, Finallabelsdisease)\n",
    "predictedlabels = modeld.predict(finaldatadisease)"
   ]
  },
  {
   "cell_type": "code",
   "execution_count": 23,
   "id": "8c05dd5c-3e3d-4e63-921b-7a0f18577cf6",
   "metadata": {},
   "outputs": [],
   "source": [
    "# training an individual model\n",
    "modelc = model_definition_center()\n",
    "centerdata1,scalarIc = ztransform(finaldatacenter,scalar)\n",
    "\n",
    "modelc.fit(finaldatacenter,finalcenterlabels)\n",
    "\n",
    "correctionmatrix12 = correction_matrix(modelc.eigenvectors_)\n",
    "datanoHC,scalarId = ztransform(finaldatadisease,scalar)\n",
    "\n",
    "modeld = model_definition_disease(correctionmatrix12)\n",
    "\n",
    "modeld.fit(finaldatadisease,Finallabelsdisease)\n",
    "predictedlabels = modeld.predict(finaldatadisease)"
   ]
  },
  {
   "cell_type": "markdown",
   "id": "2b5e5da0-880f-45a8-b075-f6af623459f8",
   "metadata": {},
   "source": [
    "## Zero dot product"
   ]
  },
  {
   "cell_type": "code",
   "execution_count": 24,
   "id": "dc49fc97-4b04-45c3-8396-9be18fbe2390",
   "metadata": {},
   "outputs": [
    {
     "name": "stdout",
     "output_type": "stream",
     "text": [
      "5.551115123125783e-17\n"
     ]
    }
   ],
   "source": [
    "# removed the influence of the leading eigen vector from each \n",
    "first_eigen_vector = np.dot(diseasemodel[0][3].eigenvectors_[0,:],eigenvectorscenter[0,:])\n",
    "print(first_eigen_vector)"
   ]
  },
  {
   "cell_type": "code",
   "execution_count": 25,
   "id": "cf6111af-73b7-45cf-80d0-954ca93ccaa9",
   "metadata": {},
   "outputs": [],
   "source": [
    "def check_orthogonality(centermodel,diseasemodel,dimensions,repeated,folds,eigenvectorscenter):\n",
    "    centerlist = list(chain.from_iterable(zip(*centermodel)))\n",
    "    disease_center = list()\n",
    "    disease_averagecenter= list()\n",
    "    for j in range(2):\n",
    "        for array,modeld in enumerate(diseasemodel[j]):\n",
    "            disease_averagecenter.append(np.dot(modeld.eigenvectors_[:2,:],eigenvectorscenter[:2,:].T))\n",
    "            for modelc in centerlist:\n",
    "                # eigenvectors are row vectors\n",
    "                disease_center.append((np.dot(modeld.eigenvectors_[:2,:],modelc.eigenvectors_[:2,:].T)))\n",
    "    return disease_averagecenter,disease_center"
   ]
  },
  {
   "cell_type": "code",
   "execution_count": 26,
   "id": "aa152fdc-9d40-47b7-9d7b-be78df85d9f8",
   "metadata": {},
   "outputs": [],
   "source": [
    "from sklearn.utils.validation import check_is_fitted, check_array\n",
    "def transform1(X,eigenvaluesaverage,eigenvectoraverage,scale):\n",
    "    X = check_array(X)\n",
    "    eigenvaluesaverage[eigenvaluesaverage < 0] = 0\n",
    "    eigenvectoraverage = np.sqrt(eigenvaluesaverage[:, None]) * eigenvectoraverage\n",
    "    if scale:\n",
    "        return np.matmul(X, eigenvectoraverage.T)\n",
    "    return np.matmul(X, eigenvectoraverage.T)"
   ]
  },
  {
   "cell_type": "code",
   "execution_count": 27,
   "id": "95ae6673-e41f-4595-b513-fac252052ab5",
   "metadata": {},
   "outputs": [
    {
     "data": {
      "text/plain": [
       "array(['PDCUN', 'PDUGOSM'], dtype=object)"
      ]
     },
     "execution_count": 27,
     "metadata": {},
     "output_type": "execute_result"
    }
   ],
   "source": [
    "modeld.classes_"
   ]
  },
  {
   "cell_type": "raw",
   "id": "69fd74b8-1bae-496e-bc21-47ea9e038682",
   "metadata": {},
   "source": [
    "visualizeSinglemodel(modelc,scalarIc,centerdata1,centerlabels1,modelc.eigenvalues_,modelc.eigenvectors_,average_prototype_center)\n",
    "#disease with average disease eigen vectors\n",
    "# higher negative eigen vectors on xaxis represents lower score /importance of that component"
   ]
  },
  {
   "cell_type": "code",
   "execution_count": 28,
   "id": "9fd6ca10-172e-414c-b71d-708b32a85cb4",
   "metadata": {},
   "outputs": [
    {
     "data": {
      "text/plain": [
       "array([14,  2,  1,  4])"
      ]
     },
     "execution_count": 28,
     "metadata": {},
     "output_type": "execute_result"
    }
   ],
   "source": [
    "confusion_matrix(testlabelsd[0][0],predictedd[0][1], labels=['PDCUN', 'PDUGOSM']).ravel()"
   ]
  },
  {
   "cell_type": "code",
   "execution_count": 29,
   "id": "eaec5a8b-a82f-4f88-803c-b2989eab8364",
   "metadata": {},
   "outputs": [],
   "source": [
    "def confusionmatrix(test,predicted):\n",
    "    PDCUNPDCUN=PDCUNPDUGOSM=PDUGOSMPDCUN=PDUGOSMPDUGOSM=0\n",
    "    PDCUNPDCUN,PDCUNPDUGOSM,PDUGOSMPDCUN,PDUGOSMPDUGOSM = confusion_matrix(test, predicted, labels=['PDCUN', 'PDUGOSM']).ravel()\n",
    "            \n",
    "    return PDCUNPDCUN,PDCUNPDUGOSM,PDUGOSMPDCUN,PDUGOSMPDUGOSM\n",
    "            "
   ]
  },
  {
   "cell_type": "code",
   "execution_count": 30,
   "id": "1aa7f7c6-3109-4044-832d-b66ed06ecda8",
   "metadata": {},
   "outputs": [],
   "source": [
    "def confusionmatrix_61class(modelmatrix,testlabelmatrix,predictedlabelmatrix):\n",
    "    #testlist = list(chain.from_iterable(zip(*testlabelmatrix)))\n",
    "    #predictedlist = list(chain.from_iterable(zip(*predictedlabelmatrix)))\n",
    "    #1class only passing one set of test and predicted labels\n",
    "    testlist = testlabelmatrix\n",
    "    predictedlist = predictedlabelmatrix\n",
    "\n",
    "\n",
    "    #testlist= testlist.astype(int)\n",
    "    #predictedlist = predictlist.astype(int)\n",
    "    PDCUN_tpr = dict()\n",
    "    PDCUN_fpr = dict()\n",
    "    \n",
    "    \n",
    "    PDUGOSM_tpr = dict()\n",
    "    PDUGOSM_fpr = dict()\n",
    "    \n",
    "    nPDCUN_fpr=nPDCUN_tpr= nPDUGOSM_fpr= nPDUGOSM_tpr=0\n",
    "    \n",
    "    \n",
    "    PDCUNPDCUN,PDCUNPDUGOSM,PDUGOSMPDCUN,PDUGOSMPDUGOSM  = confusionmatrix(testlabelmatrix,predictedlabelmatrix)\n",
    "        \n",
    "    nPDCUN_fpr = (PDUGOSMPDCUN)/(PDUGOSMPDCUN+PDUGOSMPDUGOSM)\n",
    "    nPDCUN_tpr = (PDCUNPDCUN)/(PDCUNPDCUN+PDCUNPDUGOSM)\n",
    "\n",
    "\n",
    "    nPDUGOSM_fpr = (PDCUNPDUGOSM)/(PDCUNPDUGOSM+PDCUNPDCUN)\n",
    "    nPDUGOSM_tpr = (PDUGOSMPDUGOSM)/(PDUGOSMPDUGOSM+PDUGOSMPDCUN)\n",
    "\n",
    "    #############################\n",
    "    PDCUN_fpr = nPDCUN_fpr\n",
    "    PDCUN_tpr = nPDCUN_tpr\n",
    "    \n",
    "    \n",
    "    PDUGOSM_fpr = nPDUGOSM_fpr\n",
    "    PDUGOSM_tpr = nPDUGOSM_tpr\n",
    "    # add to the dictionary\n",
    "    #pd_fpr[i].append(npd_fpr)\n",
    "    #pd_tpr[i].append(npd_tpr)\n",
    "    #ad_fpr[i].append(nad_fpr)\n",
    "    #ad_tpr[i].append(nad_tpr)\n",
    "\n",
    "#return PDCUN_PDCUN,PDCUN_PDUGOSM,PDCUN_PDUMCG,PDCUN_ADUGOSM,PDCUN_ADUMCG,PDUGOSM_PDCUN, PDUGOSM_PDUGOSM, PDUGOSM_PDUMCG, PDUGOSM_ADUGOSM, PDUGOSM_ADUMCG,PDUMCG_PDCUN, PDUMCG_PDUGOSM, PDUMCG_PDUMCG, PDUMCG_ADUGOSM, PDUMCG_ADUMCG,ADUGOSM_PDCUN ,ADUGOSM_PDUGOSM ,ADUGOSM_PDUMCG, ADUGOSM_ADUGOSM ,ADUGOSM_ADUMCG,ADUMCG_PDCUN, ADUMCG_PDUGOSM, ADUMCG_PDUMCG, ADUMCG_ADUGOSM, ADUMCG_ADUMCG\n",
    "    return PDCUN_fpr,PDCUN_tpr,PDUGOSM_fpr,PDUGOSM_tpr"
   ]
  },
  {
   "cell_type": "code",
   "execution_count": 31,
   "id": "3b20f81a-1e8b-4d5b-8160-be6ef633752c",
   "metadata": {},
   "outputs": [],
   "source": [
    "def confusionmatrix_6class(modelmatrix,testlabelmatrix,predictedlabelmatrix):\n",
    "    testlist = list(chain.from_iterable(zip(*testlabelmatrix)))\n",
    "    predictedlist = list(chain.from_iterable(zip(*predictedlabelmatrix)))\n",
    "    # storing the values \n",
    "\n",
    "\n",
    "    #testlist= testlist.astype(int)\n",
    "    #predictedlist = predictlist.astype(int)\n",
    "    PDCUN_tpr = dict()\n",
    "    PDCUN_fpr = dict()\n",
    "    \n",
    "    \n",
    "    PDUGOSM_tpr = dict()\n",
    "    PDUGOSM_fpr = dict()\n",
    "    \n",
    "    \n",
    "    for i in range(len(testlist)):\n",
    "        nPDCUN_fpr=nPDCUN_tpr= nPDUGOSM_fpr= nPDUGOSM_tpr=0\n",
    "        PDCUNPDCUN,PDCUNPDUGOSM,PDUGOSMPDCUN,PDUGOSMPDUGOSM  = confusionmatrix(testlist[i],predictedlist[i])\n",
    "\n",
    "        nPDCUN_fpr = (PDUGOSMPDCUN)/(PDUGOSMPDCUN+PDUGOSMPDUGOSM)\n",
    "        nPDCUN_tpr = (PDCUNPDCUN)/(PDCUNPDCUN+PDCUNPDUGOSM)\n",
    "\n",
    "\n",
    "        nPDUGOSM_fpr = (PDCUNPDUGOSM)/(PDCUNPDUGOSM+PDCUNPDCUN)\n",
    "        nPDUGOSM_tpr = (PDUGOSMPDUGOSM)/(PDUGOSMPDUGOSM+PDUGOSMPDCUN)\n",
    "\n",
    "        #############################\n",
    "        PDCUN_fpr[i] = nPDCUN_fpr\n",
    "        PDCUN_tpr[i] = nPDCUN_tpr\n",
    "\n",
    "\n",
    "        PDUGOSM_fpr[i] = nPDUGOSM_fpr\n",
    "        PDUGOSM_tpr[i] = nPDUGOSM_tpr\n",
    "\n",
    "#return PDCUN_PDCUN,PDCUN_PDUGOSM,PDCUN_PDUMCG,PDCUN_ADUGOSM,PDCUN_ADUMCG,PDUGOSM_PDCUN, PDUGOSM_PDUGOSM, PDUGOSM_PDUMCG, PDUGOSM_ADUGOSM, PDUGOSM_ADUMCG,PDUMCG_PDCUN, PDUMCG_PDUGOSM, PDUMCG_PDUMCG, PDUMCG_ADUGOSM, PDUMCG_ADUMCG,ADUGOSM_PDCUN ,ADUGOSM_PDUGOSM ,ADUGOSM_PDUMCG, ADUGOSM_ADUGOSM ,ADUGOSM_ADUMCG,ADUMCG_PDCUN, ADUMCG_PDUGOSM, ADUMCG_PDUMCG, ADUMCG_ADUGOSM, ADUMCG_ADUMCG\n",
    "    return PDCUN_fpr,PDCUN_tpr,PDUGOSM_fpr,PDUGOSM_tpr"
   ]
  },
  {
   "cell_type": "markdown",
   "id": "651b62ea-ffa7-4911-a5bc-5b7c5091fd1e",
   "metadata": {},
   "source": [
    "## confusion matrix "
   ]
  },
  {
   "cell_type": "code",
   "execution_count": 32,
   "id": "22f39cd8-59bc-4a89-b010-af6c29595dd3",
   "metadata": {},
   "outputs": [],
   "source": [
    "testlabelsdsingle = np.concatenate(list(chain.from_iterable(zip(*testlabelsd))), axis=0 )\n",
    "predicteddsingle = np.concatenate( list(chain.from_iterable(zip(*predictedd))), axis=0 )\n",
    "probabiltysingle = np.concatenate( list(chain.from_iterable(zip(*probabiltiesd))), axis=0 )"
   ]
  },
  {
   "cell_type": "markdown",
   "id": "7358abf2-bfde-4ec6-91af-866046ca2ee7",
   "metadata": {},
   "source": [
    "## confusion matrix for kfold models"
   ]
  },
  {
   "cell_type": "code",
   "execution_count": 33,
   "id": "3485d01d-89b8-488d-a894-65aafdd97f83",
   "metadata": {},
   "outputs": [],
   "source": [
    "PDCUN_fpr,PDCUN_tpr,PDUGOSM_fpr,PDUGOSM_tpr = confusionmatrix_6class(diseasemodel,testlabelsd,predictedd)\n",
    "\n",
    "PDCUN_fpr1,PDCUN_tpr1,PDUGOSM_fpr1,PDUGOSM_tpr1 = confusionmatrix_61class(diseasemodel,testlabelsdsingle,predicteddsingle)"
   ]
  },
  {
   "cell_type": "markdown",
   "id": "640f2f8d-f074-4285-8d88-80ccf8c45452",
   "metadata": {},
   "source": [
    "## create dictionary for models and an averaged model"
   ]
  },
  {
   "cell_type": "code",
   "execution_count": 34,
   "id": "6ba32161-41ba-40ee-afec-f49bbf808d09",
   "metadata": {},
   "outputs": [],
   "source": [
    "n_classes=['PDCUN', 'PDUGOSM']\n",
    "plotdict_tpr1 = dict()\n",
    "plotdict_fpr1 = dict()\n",
    "\n",
    "plotdict_tpr1 = PDCUN_tpr1,PDUGOSM_tpr1\n",
    "plotdict_fpr1 = PDCUN_fpr1,PDUGOSM_fpr1"
   ]
  },
  {
   "cell_type": "code",
   "execution_count": 35,
   "id": "de231b96-1bad-42f5-a70d-f111dbf7a99b",
   "metadata": {},
   "outputs": [],
   "source": [
    "n_classes=['PDCUN', 'PDUGOSM']\n",
    "plotdict_tpr = dict()\n",
    "plotdict_fpr = dict()\n",
    "\n",
    "#for j in range(len(repeated)*folds):\n",
    "for j in range(10*5):\n",
    "\n",
    "    \n",
    "    plotdict_tpr[j] = PDCUN_tpr[j],PDUGOSM_tpr[j]\n",
    "    plotdict_fpr[j]= PDCUN_fpr[j],PDUGOSM_fpr[j]"
   ]
  },
  {
   "cell_type": "code",
   "execution_count": 36,
   "id": "5516c92b-bf38-4851-861d-c0099a4ffaed",
   "metadata": {},
   "outputs": [
    {
     "data": {
      "image/png": "[encoded data removed]",
      "text/plain": [
       "<Figure size 720x720 with 1 Axes>"
      ]
     },
     "metadata": {
      "needs_background": "light"
     },
     "output_type": "display_data"
    }
   ],
   "source": [
    "testlist = list(chain.from_iterable(zip(*testlabelsd)))\n",
    "probabiltylist = list(chain.from_iterable(zip(*probabiltiesd)))\n",
    "fpru = dict()\n",
    "tpru = dict()\n",
    "roc_aucu = dict()\n",
    "for k in range(len(testlist)):\n",
    "\n",
    "    n_classes=['PDCUN', 'PDUGOSM']\n",
    "    # structures\n",
    "    fpr = dict()\n",
    "\n",
    "    tpr = dict()\n",
    "\n",
    "    roc_auc = dict()\n",
    "    \n",
    "    \n",
    "    \n",
    "    fpr1 = dict()\n",
    "\n",
    "    tpr1 = dict()\n",
    "\n",
    "    roc_auc1 = dict()\n",
    "    \n",
    "\n",
    "    colorrange = ['lightblue','lightblue','lightblue']\n",
    "    colorrange2 = ['red','blue','green']\n",
    "    for i in range(len(n_classes)):\n",
    "        fpr[i], tpr[i], _ = roc_curve(testlist[k],probabiltylist[k][:,i],pos_label=n_classes[i], drop_intermediate=True)\n",
    "        roc_auc[i] = auc(fpr[i], tpr[i])\n",
    "        fpru[k] = fpr\n",
    "        tpru[k] = tpr\n",
    "        roc_aucu[k] = roc_auc\n",
    "        \n",
    "    for j in range(len(n_classes)):\n",
    "        fpr1[j], tpr1[j], _ = roc_curve(testlabelsdsingle,probabiltysingle[:,j],pos_label=n_classes[j], drop_intermediate=True)\n",
    "        roc_auc1[j] = auc(fpr1[j], tpr1[j])\n",
    "\n",
    "    \n",
    "    \n",
    "    \n",
    "figsize=(10, 10)\n",
    "# roc for each class\n",
    "fig, ax = plt.subplots(figsize=figsize)\n",
    "\n",
    "\n",
    "\n",
    "ax.plot([0, 1], [0, 1], 'k--')\n",
    "ax.set_xlim([0.0, 1.0])\n",
    "ax.set_ylim([0.0, 1.05])\n",
    "ax.set_xlabel('False Positive Rate')\n",
    "ax.set_ylabel('True Positive Rate')\n",
    "ax.set_title('Receiver operating characteristic example') \n",
    "\n",
    "\n",
    "for k1 in range(len(testlist)):\n",
    "    for i1 in range(len(n_classes)):  \n",
    "        ax.plot(fpru[k1][i1], tpru[k1][i1], label='_nolegend_',color=colorrange[i1])\n",
    "\n",
    "        #ax.plot(PDCUN_fpr[i], PDCUN_fpr[i],  marker=\"o\", markersize=\"12\")\n",
    "        ax.plot(plotdict_fpr[k1][i1], plotdict_tpr[k][i1],  color=colorrange[i])#,marker=\"o\", markersize=\"12\")\n",
    "        \n",
    "        \n",
    "#plotdict_tpr1 = ADUGOSM_tpr1,ADUMCG_tpr1,PDCUN_tpr1,PDUGOSM_tpr1,PDUMCG_tpr1\n",
    "#plotdict_fpr1 = ADUGOSM_fpr1,ADUMCG_fpr1,PDCUN_tpr1,PDUGOSM_fpr1,PDUMCG_fpr1\n",
    "\n",
    "for i2 in range(len(n_classes)):\n",
    "    ax.plot(fpr1[i2], tpr1[i2], label='ROC curve (AUC = %0.2f) for %s' % (roc_auc1[i2], n_classes[i2]),color=colorrange2[i2])\n",
    "    ax.plot(plotdict_fpr1[i2], plotdict_tpr1[i2], color=colorrange2[i2],marker=\"o\", markersize=\"12\")\n",
    "\n",
    "ax.legend(loc=\"right\")   \n",
    "ax.grid(False)\n",
    "fig.savefig('roc6class.png')\n",
    "#ax.grid(alpha=.4)\n",
    "plt.show()"
   ]
  },
  {
   "cell_type": "code",
   "execution_count": 37,
   "id": "fa70b53b-2018-4cc7-8eca-e220ef5d4670",
   "metadata": {},
   "outputs": [
    {
     "data": {
      "text/plain": [
       "{0: 0.866555380989788, 1: 0.8665553809897879}"
      ]
     },
     "execution_count": 37,
     "metadata": {},
     "output_type": "execute_result"
    }
   ],
   "source": [
    "roc_auc1"
   ]
  },
  {
   "cell_type": "code",
   "execution_count": 38,
   "id": "07aec1eb-1b6d-4768-b1b6-bd24c1c01cea",
   "metadata": {},
   "outputs": [
    {
     "data": {
      "text/plain": [
       "[<matplotlib.lines.Line2D at 0x7f13b21ac190>]"
      ]
     },
     "execution_count": 38,
     "metadata": {},
     "output_type": "execute_result"
    }
   ],
   "source": [
    "ax.plot(fpru[k][i], tpru[k][i], label='ROC curve (AUC = %0.2f) for %s' % (roc_aucu[k][i], n_classes[i]),color=colorrange[i])\n",
    "\n",
    "## The area under the curve is used for binary classification. Therefore for each disease every other 4 sets of diseases are a negavive(not being sick). \n",
    "##For example:\n",
    "##    ADUGOSM ---> positive\n",
    "##    ADUMCG, PDCUN, PDUGOSM, PDUMCG ---> negative\n",
    "##    For each such set tpr and fpr is calcualated which is different. Therefore there are different Area under the curves values. \n",
    "## either that or if required AUC per disease per center can be plotted in a different plot\n",
    "## averegae AUC cuve:- explain logic from bookmarks\n",
    "\n",
    "\n",
    "\n",
    "# makes sense because correction applied to the average disease lambda, while below refers to individual model\n"
   ]
  },
  {
   "cell_type": "markdown",
   "id": "714aecee-d527-4978-8de2-aff64ed8bd0d",
   "metadata": {},
   "source": [
    "## ROC curve for one trained model for 6 class classification"
   ]
  },
  {
   "cell_type": "raw",
   "id": "01486ab7-30d1-4473-9ee7-eb5a9141112a",
   "metadata": {},
   "source": [
    "testlist = list(chain.from_iterable(zip(*testlabelsd)))\n",
    "probabiltylist = list(chain.from_iterable(zip(*probabiltiesd)))\n",
    "for k in range(len(testlist)):\n",
    "\n",
    "    n_classes=['ADUGOSM', 'ADUMCG', 'PDCUN', 'PDUGOSM', 'PDUMCG']\n",
    "    # structures\n",
    "    fpr = dict()\n",
    "    tpr = dict()\n",
    "    roc_auc = dict()\n",
    "    colorrange = ['r','g','b','pink','brown']\n",
    "    for i in range(len(n_classes)):\n",
    "        fpr[i], tpr[i], _ = roc_curve(testlist[k],probabiltylist[k][:,i],pos_label=n_classes[i], drop_intermediate=True)\n",
    "        roc_auc[i] = auc(fpr[i], tpr[i])\n",
    "\n",
    "    figsize=(10, 10)\n",
    "    # roc for each class\n",
    "    fig, ax = plt.subplots(figsize=figsize)\n",
    "    \n",
    "    ax.plot([0, 1], [0, 1], 'k--')\n",
    "    ax.set_xlim([0.0, 1.0])\n",
    "    ax.set_ylim([0.0, 1.05])\n",
    "    ax.set_xlabel('False Positive Rate')\n",
    "    ax.set_ylabel('True Positive Rate')\n",
    "    ax.set_title('Receiver operating characteristic example')\n",
    "    for i in range(len(n_classes)):  \n",
    "        ax.plot(fpr[i], tpr[i], label='ROC curve (AUC = %0.2f) for %s' % (roc_auc[i], n_classes[i]),color=colorrange[i])\n",
    "        #ax.plot(PDCUN_fpr[i], PDCUN_fpr[i],  marker=\"o\", markersize=\"12\")\n",
    "        ax.plot(plotdict_fpr[k][i], plotdict_tpr[k][i],  color=colorrange[i],marker=\"o\", markersize=\"12\")\n",
    "    ax.legend(loc=\"best\")\n",
    "    ax.grid(False)\n",
    "    fig.savefig('roc2class.png')\n",
    "    #ax.grid(alpha=.4)\n",
    "    plt.show()"
   ]
  },
  {
   "cell_type": "markdown",
   "id": "9eca0be2-a944-486d-9891-ebe326f0b0e8",
   "metadata": {},
   "source": [
    "## visualize models 6 class"
   ]
  },
  {
   "cell_type": "code",
   "execution_count": 39,
   "id": "c9b3f7df-4a20-44d6-8165-3be86341b6dc",
   "metadata": {},
   "outputs": [],
   "source": [
    "# removing the z transform\n",
    "def visualizeSinglemodeld(model,scalarI,data,labels,eigenvaluesaverage,eigenvectoraverage,prototypes1):\n",
    "    data = scalarI.inverse_transform(data)    \n",
    "    transformed_data = model.transform(data,True)\n",
    "    \n",
    "    # all examples 1st and 2nd feature\n",
    "    x_d = transformed_data[:, 0]\n",
    "    y_d = transformed_data[:, 1]\n",
    "\n",
    "    # Transform the model, i.e., the prototypes (scaled by square root of eigenvalues \"scale = True\")\n",
    "    # prototype inverser transform\n",
    "    prototypes = scalarI.inverse_transform(prototypes1)\n",
    "\n",
    "    transformed_model = model.transform(prototypes, scale=True)\n",
    "\n",
    "    #transformed_model = transform1(prototypes,eigenvaluesaverage,eigenvectoraverage,scale=True)\n",
    "\n",
    "    x_m = transformed_model[:, 0]\n",
    "    y_m = transformed_model[:, 1]\n",
    "\n",
    "    fig, ax = plt.subplots()\n",
    "    fig.suptitle(\"Maindataset disease data with corresponding prototypes\")\n",
    "    colors = ['pink','magenta']#,'red','lightgreen']\n",
    "    for i, cls in enumerate(model.classes_):\n",
    "        ii = cls == labels\n",
    "        ax.scatter(\n",
    "            x_d[ii],\n",
    "            y_d[ii],\n",
    "            c=colors[i],\n",
    "            s=100,\n",
    "            alpha=0.7,\n",
    "            edgecolors=\"white\",\n",
    "            label=model.classes_[model.prototypes_labels_[i]],\n",
    "        )\n",
    "    ax.scatter(x_m, y_m, c=colors, s=180, alpha=0.8, edgecolors=\"black\", linewidth=2.0)\n",
    "    ax.set_xlabel(\"First eigenvector\")\n",
    "    ax.set_ylabel(\"Second eigenvector\")\n",
    "    ax.legend()\n",
    "    #plt.ylim([-1, 30])\n",
    "    #plt.xlim([-30, 30])\n",
    "    ax.grid(True)\n",
    "    print(model.classes_)\n",
    "    #fig.savefig('visualize_center.eps', format='eps')\n",
    "    fig.savefig('disease_correction_singelmodel.png')\n",
    "    print('A1: Black, A2: Red, B1: Green, B2: Blue, Centers A and B, and diseases 1 and 2.) ')"
   ]
  },
  {
   "cell_type": "code",
   "execution_count": 47,
   "id": "6d2cb040-21a2-44e7-ba6d-a10efa60ea0d",
   "metadata": {},
   "outputs": [],
   "source": [
    "# removing the z transform\n",
    "def averageprototype(model,scalarI,data,labels,eigenvaluesaverage,eigenvectoraverage,average_prototype):\n",
    "    data = scalarI.inverse_transform(data)\n",
    "    transformed_data = transform1(data,eigenvaluesdisease,eigenvectoraverage,True)\n",
    "\n",
    "    \n",
    "    # all examples 1st and 2nd feature\n",
    "    x_d = transformed_data[:, 0]\n",
    "    y_d = transformed_data[:, 1]\n",
    "\n",
    "\n",
    "    #transformed_model = model.transform(prototypes, scale=True)\n",
    "    prototypes = scalarI.inverse_transform(average_prototype)\n",
    "    transformed_model = transform1(prototypes,eigenvaluesaverage,eigenvectoraverage,scale=True)\n",
    "    #transformed_model = model.transform(prototypes, scale=True)\n",
    "    x_m = transformed_model[:, 0]\n",
    "    y_m = transformed_model[:, 1]\n",
    "    fig, ax = plt.subplots()\n",
    "    fig.suptitle(\"Maindataset disease data with corresponding prototypes\")\n",
    "    colors = ['pink','magenta']#,'red','lightgreen']\n",
    "    for i, cls in enumerate(model.classes_):\n",
    "        ii = cls == labels\n",
    "        ax.scatter(\n",
    "            x_d[ii],\n",
    "            y_d[ii],\n",
    "            c=colors[i],\n",
    "            s=100,\n",
    "            alpha=0.7,\n",
    "            edgecolors=\"white\",\n",
    "            label=model.classes_[model.prototypes_labels_[i]],\n",
    "        )\n",
    "    ax.scatter(x_m, y_m, c=colors, s=180, alpha=0.8, edgecolors=\"black\", linewidth=2.0)\n",
    "    ax.set_xlabel(\"First eigenvector\")\n",
    "    ax.set_ylabel(\"Second eigenvector\")\n",
    "    ax.legend()\n",
    "    #plt.ylim([-1, 30])\n",
    "    #plt.xlim([-30, 30])\n",
    "    ax.grid(True)\n",
    "    print(model.classes_)\n",
    "    #fig.savefig('visualize_center.eps', format='eps')\n",
    "    fig.savefig('disease_correction_singelmodel_kfold.png')\n",
    "    print('A1: Black, A2: Red, B1: Green, B2: Blue, Centers A and B, and diseases 1 and 2.) ')"
   ]
  },
  {
   "cell_type": "code",
   "execution_count": 54,
   "id": "7846db8e-cc8b-47d0-a566-237c5abdd441",
   "metadata": {},
   "outputs": [
    {
     "name": "stdout",
     "output_type": "stream",
     "text": [
      "returning if\n",
      "returning if\n",
      "['PDCUN' 'PDUGOSM']\n",
      "A1: Black, A2: Red, B1: Green, B2: Blue, Centers A and B, and diseases 1 and 2.) \n",
      "returning if\n",
      "returning if\n",
      "['CUN' 'UGOSM']\n",
      "A1: Black, A2: Red, B1: Green, B2: Blue, Centers A and B, and diseases 1 and 2.) \n",
      "['PDCUN' 'PDUGOSM']\n",
      "A1: Black, A2: Red, B1: Green, B2: Blue, Centers A and B, and diseases 1 and 2.) \n",
      "['CUN' 'UGOSM']\n",
      "A1: Black, A2: Red, B1: Green, B2: Blue, Centers A and B, and diseases 1 and 2.) \n"
     ]
    },
    {
     "data": {
      "image/png": "[encoded data removed]",
      "text/plain": [
       "<Figure size 432x288 with 1 Axes>"
      ]
     },
     "metadata": {
      "needs_background": "light"
     },
     "output_type": "display_data"
    },
    {
     "data": {
      "image/png": "[encoded data removed]",
      "text/plain": [
       "<Figure size 432x288 with 1 Axes>"
      ]
     },
     "metadata": {
      "needs_background": "light"
     },
     "output_type": "display_data"
    },
    {
     "data": {
      "image/png": "[encoded data removed]",
      "text/plain": [
       "<Figure size 432x288 with 1 Axes>"
      ]
     },
     "metadata": {
      "needs_background": "light"
     },
     "output_type": "display_data"
    },
    {
     "data": {
      "image/png": "[encoded data removed]",
      "text/plain": [
       "<Figure size 432x288 with 1 Axes>"
      ]
     },
     "metadata": {
      "needs_background": "light"
     },
     "output_type": "display_data"
    }
   ],
   "source": [
    "visualizeSinglemodeld(modeld,scalarId,finaldatadisease,Finallabelsdisease,modeld.eigenvalues_,modeld.eigenvectors_,modeld.prototypes_)\n",
    "\n",
    "visualizeSinglemodeld(modelc,scalarIc,finaldatacenter,finalcenterlabels,modelc.eigenvalues_,modelc.eigenvectors_,modelc.prototypes_)\n",
    "\n",
    "averageprototype(modeld,scalar,finaldatadisease,Finallabelsdisease,eigenvaluesdisease,eigenvectorsdisease,average_prototype_disease)\n",
    "\n",
    "averageprototype(modelc,scalarIc,finaldatacenter,finalcenterlabels,eigenvaluesdisease,eigenvectorsdisease,average_prototype_center)\n",
    "\n",
    "# visualize_diseaseaverage(diseasemodel[0][2],scalars2[0][2],datamatrix1[0][2],labelmatrix1[0][2],eigenvaluesdisease,eigenvectorsdisease)\n",
    "#eigenvectorc  eigenvaluec eigenvectord eigenvalued\n",
    "\n",
    "#visualizeSinglemodeld(diseasemodel[0][3],scalars2[0][3],datamatrix1[0][3],labelmatrix1[0][3],diseasemodel[0][3].eigenvalues_,diseasemodel[0][3].eigenvectors_,diseasemodel[0][3].prototypes_)\n",
    "#averageprototype(centermodel[0][2],scalars1[0][2],finaldatacenter,finalcenterlabels,eigenvaluesdisease,eigenvectorsdisease,average_prototype_center)\n",
    "\n",
    "# Trained on 2 class but visualised with 6 class, below list\n",
    "#visualize_diseaseaverage(diseasemodel[0][2],scalars2[0][2],datamatrix1[0][2],labelmatrix1[0][2],eigenvaluesdisease,eigenvectorsdisease)\n",
    "#visualize_disease(diseasemodel[0][2],scalars2[0][2],datamatrix1[0][2],labelmatrix1[0][2])"
   ]
  },
  {
   "cell_type": "code",
   "execution_count": 51,
   "id": "283a6b59-011c-446f-b6c0-4cda642c1405",
   "metadata": {},
   "outputs": [
    {
     "data": {
      "text/plain": [
       "array([[ 0.24365044,  0.14659085, -0.03953944, -0.2351036 , -0.34929399,\n",
       "        -0.18858381,  0.23274718, -0.21526606, -0.20433439,  0.44027586,\n",
       "        -0.10425857, -0.08259817, -0.28926443, -0.25923016, -0.21531644,\n",
       "        -0.1048679 , -0.06138523, -0.0656376 ,  0.25371131,  0.03454727,\n",
       "        -0.01656982, -0.08185418, -0.03473836, -0.21669664, -0.16192321,\n",
       "        -0.14061329,  0.27349153,  0.05009512,  0.28798509,  0.08304489,\n",
       "         0.04294857, -0.02842941, -0.10037403, -0.13010784,  0.69452415,\n",
       "        -0.0355742 ],\n",
       "       [-0.53060736, -0.36778222, -0.17332307,  0.22567469,  0.64184018,\n",
       "         0.40281984, -0.3732316 ,  0.53661568,  0.63122002, -0.84879297,\n",
       "         0.39758642,  0.27795775,  0.76871196,  0.59706645,  0.52716433,\n",
       "         0.12948331,  0.09544434,  0.12384604, -0.74259251, -0.24875346,\n",
       "        -0.00802014,  0.13558985,  0.2257437 ,  0.47528927,  0.28389916,\n",
       "         0.23581873, -0.5788655 , -0.12536917, -0.60804531, -0.17525377,\n",
       "        -0.23459538,  0.18696321,  0.24680714,  0.13714572, -1.22022238,\n",
       "        -0.23595839]])"
      ]
     },
     "execution_count": 51,
     "metadata": {},
     "output_type": "execute_result"
    }
   ],
   "source": [
    "(average_prototype_disease)"
   ]
  },
  {
   "cell_type": "code",
   "execution_count": 49,
   "id": "f46be373-0994-4fd9-b881-10fe5f98beda",
   "metadata": {},
   "outputs": [
    {
     "data": {
      "text/plain": [
       "array([ 12.27131584,   7.29409991,  -1.89555492, -11.74913929,\n",
       "       -17.55256761,  -9.3119052 ,  11.49041538, -10.52717241,\n",
       "       -10.30055702,  21.91734599,  -5.26300545,  -4.14289854,\n",
       "       -14.51329309, -12.8343305 , -10.51591911,  -5.22373016,\n",
       "        -3.18102354,  -3.34740875,  12.65342342,   1.68544033,\n",
       "        -0.7374589 ,  -4.10419052,  -1.65465991, -10.88795889,\n",
       "        -8.26646   ,  -7.21722912,  13.54858924,   2.46073962,\n",
       "        14.4286145 ,   4.13928765,   1.95349776,  -1.39876807,\n",
       "        -4.99377142,  -6.74067923,  34.73897059,  -2.01941289])"
      ]
     },
     "execution_count": 49,
     "metadata": {},
     "output_type": "execute_result"
    }
   ],
   "source": [
    "diseasemodel[0][0].prototypes_[0] +  diseasemodel[0][1].prototypes_[0] + diseasemodel[0][2].prototypes_[0] + diseasemodel[0][3].prototypes_[0]+   diseasemodel[0][4].prototypes_[0] + diseasemodel[1][0].prototypes_[0] +  diseasemodel[1][1].prototypes_[0] + diseasemodel[1][2].prototypes_[0] + diseasemodel[1][3].prototypes_[0]+   diseasemodel[1][4].prototypes_[0]+diseasemodel[2][0].prototypes_[0] +  diseasemodel[2][1].prototypes_[0] + diseasemodel[2][2].prototypes_[0] + diseasemodel[2][3].prototypes_[0]+   diseasemodel[2][4].prototypes_[0]+diseasemodel[3][0].prototypes_[0] +  diseasemodel[3][1].prototypes_[0] + diseasemodel[3][2].prototypes_[0] + diseasemodel[3][3].prototypes_[0]+   diseasemodel[3][4].prototypes_[0]+diseasemodel[4][0].prototypes_[0] +  diseasemodel[4][1].prototypes_[0] + diseasemodel[4][2].prototypes_[0] + diseasemodel[4][3].prototypes_[0]+   diseasemodel[4][4].prototypes_[0]+diseasemodel[5][0].prototypes_[0] +  diseasemodel[5][1].prototypes_[0] + diseasemodel[5][2].prototypes_[0] + diseasemodel[5][3].prototypes_[0]+   diseasemodel[5][4].prototypes_[0]+diseasemodel[6][0].prototypes_[0] +  diseasemodel[6][1].prototypes_[0] + diseasemodel[6][2].prototypes_[0] + diseasemodel[6][3].prototypes_[0]+   diseasemodel[6][4].prototypes_[0]++diseasemodel[7][0].prototypes_[0] +  diseasemodel[7][1].prototypes_[0] + diseasemodel[7][2].prototypes_[0] + diseasemodel[7][3].prototypes_[0]+   diseasemodel[7][4].prototypes_[0]+diseasemodel[8][0].prototypes_[0] +  diseasemodel[8][1].prototypes_[0] + diseasemodel[8][2].prototypes_[0] + diseasemodel[8][3].prototypes_[0]+   diseasemodel[8][4].prototypes_[0]+diseasemodel[9][0].prototypes_[0] +  diseasemodel[9][1].prototypes_[0] + diseasemodel[9][2].prototypes_[0] + diseasemodel[9][3].prototypes_[0]+   diseasemodel[9][4].prototypes_[0]"
   ]
  },
  {
   "cell_type": "code",
   "execution_count": 53,
   "id": "1c696161-b1e0-4f3b-90ae-0362b3cfcd8c",
   "metadata": {},
   "outputs": [
    {
     "data": {
      "text/plain": [
       "-0.2349827858"
      ]
     },
     "execution_count": 53,
     "metadata": {},
     "output_type": "execute_result"
    }
   ],
   "source": [
    " -11.74913929/50"
   ]
  },
  {
   "cell_type": "code",
   "execution_count": 47,
   "id": "1a48cb7e-ddee-4cf7-837c-258801f18d96",
   "metadata": {},
   "outputs": [
    {
     "data": {
      "text/plain": [
       "array([ 0.24365044,  0.14659085, -0.03953944, -0.2351036 , -0.34929399,\n",
       "       -0.18858381,  0.23274718, -0.21526606, -0.20433439,  0.44027586,\n",
       "       -0.10425857, -0.08259817, -0.28926443, -0.25923016, -0.21531644,\n",
       "       -0.1048679 , -0.06138523, -0.0656376 ,  0.25371131,  0.03454727,\n",
       "       -0.01656982, -0.08185418, -0.03473836, -0.21669664, -0.16192321,\n",
       "       -0.14061329,  0.27349153,  0.05009512,  0.28798509,  0.08304489,\n",
       "        0.04294857, -0.02842941, -0.10037403, -0.13010784,  0.69452415,\n",
       "       -0.0355742 ])"
      ]
     },
     "execution_count": 47,
     "metadata": {},
     "output_type": "execute_result"
    }
   ],
   "source": [
    "c/50"
   ]
  },
  {
   "cell_type": "code",
   "execution_count": 48,
   "id": "a3dd9b53-988f-4a61-aa2e-bd784788b23e",
   "metadata": {},
   "outputs": [],
   "source": [
    "a1 = diseasemodel[0][0].prototypes_[1] +  diseasemodel[0][1].prototypes_[1] + diseasemodel[0][2].prototypes_[1] + diseasemodel[0][3].prototypes_[1]+   diseasemodel[0][4].prototypes_[1] + diseasemodel[1][0].prototypes_[1] +  diseasemodel[1][1].prototypes_[1] + diseasemodel[1][2].prototypes_[1] + diseasemodel[1][3].prototypes_[1]+   diseasemodel[1][4].prototypes_[1]+diseasemodel[2][0].prototypes_[1] +  diseasemodel[2][1].prototypes_[1] + diseasemodel[2][2].prototypes_[1] + diseasemodel[2][3].prototypes_[1]+   diseasemodel[2][4].prototypes_[1]+diseasemodel[3][0].prototypes_[1] +  diseasemodel[3][1].prototypes_[1] + diseasemodel[3][2].prototypes_[1] + diseasemodel[3][3].prototypes_[1]+   diseasemodel[3][4].prototypes_[1]+diseasemodel[4][0].prototypes_[1] +  diseasemodel[4][1].prototypes_[1] + diseasemodel[4][2].prototypes_[1] + diseasemodel[4][3].prototypes_[1]+   diseasemodel[4][4].prototypes_[1]+diseasemodel[5][0].prototypes_[1] +  diseasemodel[5][1].prototypes_[1] + diseasemodel[5][2].prototypes_[1] + diseasemodel[5][3].prototypes_[1]+   diseasemodel[5][4].prototypes_[1]+diseasemodel[6][0].prototypes_[1] +  diseasemodel[6][1].prototypes_[1] + diseasemodel[6][2].prototypes_[1] + diseasemodel[6][3].prototypes_[1]+   diseasemodel[6][4].prototypes_[1]++diseasemodel[7][0].prototypes_[1] +  diseasemodel[7][1].prototypes_[1] + diseasemodel[7][2].prototypes_[1] + diseasemodel[7][3].prototypes_[1]+   diseasemodel[7][4].prototypes_[1]+diseasemodel[8][0].prototypes_[1] +  diseasemodel[8][1].prototypes_[1] + diseasemodel[8][2].prototypes_[1] + diseasemodel[8][3].prototypes_[1]+   diseasemodel[8][4].prototypes_[1]+diseasemodel[9][0].prototypes_[1] +  diseasemodel[9][1].prototypes_[1] + diseasemodel[9][2].prototypes_[1] + diseasemodel[9][3].prototypes_[1]+   diseasemodel[9][4].prototypes_[1]"
   ]
  },
  {
   "cell_type": "code",
   "execution_count": 49,
   "id": "677f0081-10f7-429b-a304-34e269472b5e",
   "metadata": {},
   "outputs": [
    {
     "data": {
      "text/plain": [
       "array([-0.53060736, -0.36778222, -0.17332307,  0.22567469,  0.64184018,\n",
       "        0.40281984, -0.3732316 ,  0.53661568,  0.63122002, -0.84879297,\n",
       "        0.39758642,  0.27795775,  0.76871196,  0.59706645,  0.52716433,\n",
       "        0.12948331,  0.09544434,  0.12384604, -0.74259251, -0.24875346,\n",
       "       -0.00802014,  0.13558985,  0.2257437 ,  0.47528927,  0.28389916,\n",
       "        0.23581873, -0.5788655 , -0.12536917, -0.60804531, -0.17525377,\n",
       "       -0.23459538,  0.18696321,  0.24680714,  0.13714572, -1.22022238,\n",
       "       -0.23595839])"
      ]
     },
     "execution_count": 49,
     "metadata": {},
     "output_type": "execute_result"
    }
   ],
   "source": [
    "a1/50"
   ]
  },
  {
   "cell_type": "code",
   "execution_count": 55,
   "id": "d70abdcb-7ca9-4592-9098-668dc698ad6e",
   "metadata": {},
   "outputs": [],
   "source": [
    "# Plot the eigenvalues of the eigenvectors of the relevance matrix.\n",
    "def ploteigenvalues(eigenvalues,eigenvectors,average_lambda,d):\n",
    "    fig, ax = plt.subplots()\n",
    "    fig.suptitle(\"Eigen values with correction \"+d+ \" main data\")\n",
    "    ax.bar(range(0, len(eigenvalues)), eigenvalues)\n",
    "    ax.set_ylabel(\"Weight\")\n",
    "    ax.grid(False)\n",
    "    fig.savefig('eigenvalues'+d+'.eps', format='eps')\n",
    "    fig.savefig('eigenvalues'+d+'.png')\n",
    "    #fig.savefig('eigenvalues+d+.svg\", format ='svg', dpi=1200)\n",
    "\n",
    "\n",
    "    # Plot the first two eigenvectors of the relevance matrix, which  is called `omega_hat`.\n",
    "    fig, ax = plt.subplots()\n",
    "    fig.suptitle(\"First Eigenvector with correction \" +d+ \" main data\")\n",
    "    ax.bar(feature_names, eigenvectors[0, :])\n",
    "    ax.set_ylabel(\"Weight\")\n",
    "    ax.grid(False)\n",
    "    fig.savefig('Firsteigenvector'+d+'.eps', format='eps')\n",
    "    fig.savefig('Firsteigenvector'+d+'.png')\n",
    "    \n",
    "    fig, ax = plt.subplots()\n",
    "    fig.suptitle(\"Second Eigenvector with correction \" +d+ \" main data\")\n",
    "    ax.bar(feature_names, eigenvectors[1, :])\n",
    "    ax.set_ylabel(\"Weight\")\n",
    "    ax.grid(False)\n",
    "    fig.savefig('Secondeigenvector'+d+'.eps', format='eps')\n",
    "    fig.savefig('Secondeigenvector'+d+'.png')\n",
    "    fig, ax = plt.subplots()\n",
    "    # The relevance matrix is available after fitting the model.\n",
    "    relevance_matrix = average_lambda\n",
    "    fig.suptitle(\"Relevance Matrix Diagonal with correction \" +d+ \" main data\")\n",
    "    ax.bar(feature_names, np.diagonal(relevance_matrix))\n",
    "    ax.set_ylabel(\"Weight\")\n",
    "    ax.grid(False)\n",
    "    fig.savefig('relevancematrix'+d+'.eps', format='eps')\n",
    "    fig.savefig('relevancematrix'+d+'.png')"
   ]
  },
  {
   "cell_type": "code",
   "execution_count": 56,
   "id": "857b30ef-68d3-42a7-bb46-e539a03a91bf",
   "metadata": {},
   "outputs": [],
   "source": [
    "# Plot the eigenvalues of the eigenvectors of the relevance matrix.\n",
    "def ploteigenvalueswithout(eigenvalues,eigenvectors,average_lambda,d):\n",
    "    fig, ax = plt.subplots()\n",
    "    fig.suptitle(\"Eigen values without correction \"+d+ \" main data\")\n",
    "    ax.bar(range(0, len(eigenvalues)), eigenvalues)\n",
    "    ax.set_ylabel(\"Weight\")\n",
    "    ax.grid(False)\n",
    "    fig.savefig('eigenvalues'+d+'.eps', format='eps')\n",
    "    fig.savefig('eigenvalues'+d+'.png')\n",
    "    #fig.savefig('eigenvalues+d+.svg\", format ='svg', dpi=1200)\n",
    "\n",
    "\n",
    "    # Plot the first two eigenvectors of the relevance matrix, which  is called `omega_hat`.\n",
    "    fig, ax = plt.subplots()\n",
    "    fig.suptitle(\"First Eigenvector without correction \" +d+ \" main data\")\n",
    "    ax.bar(feature_names, eigenvectors[0, :])\n",
    "    ax.set_ylabel(\"Weight\")\n",
    "    ax.grid(False)\n",
    "    fig.savefig('Firsteigenvector'+d+'.eps', format='eps')\n",
    "    fig.savefig('Firsteigenvector'+d+'.png')\n",
    "    \n",
    "    fig, ax = plt.subplots()\n",
    "    fig.suptitle(\"Second Eigenvector without correction \" +d+ \" main data\")\n",
    "    ax.bar(feature_names, eigenvectors[1, :])\n",
    "    ax.set_ylabel(\"Weight\")\n",
    "    ax.grid(False)\n",
    "    fig.savefig('Secondeigenvector'+d+'.eps', format='eps')\n",
    "    fig.savefig('Secondeigenvector'+d+'.png')\n",
    "    fig, ax = plt.subplots()\n",
    "    # The relevance matrix is available after fitting the model.\n",
    "    relevance_matrix = average_lambda\n",
    "    fig.suptitle(\"Relevance Matrix Diagonal without correction \" +d+ \" main data\")\n",
    "    ax.bar(feature_names, np.diagonal(relevance_matrix))\n",
    "    ax.set_ylabel(\"Weight\")\n",
    "    ax.grid(False)\n",
    "    fig.savefig('relevancematrix'+d+'.eps', format='eps')\n",
    "    fig.savefig('relevancematrix'+d+'.png')"
   ]
  },
  {
   "cell_type": "code",
   "execution_count": 57,
   "id": "6262368a-6008-4ef7-9113-dc9bee6fd10d",
   "metadata": {},
   "outputs": [],
   "source": [
    "## average "
   ]
  },
  {
   "cell_type": "code",
   "execution_count": 58,
   "id": "1156c2ae-024b-43b6-bdef-bba503dca463",
   "metadata": {},
   "outputs": [
    {
     "data": {
      "image/png": "[encoded data removed]",
      "text/plain": [
       "<Figure size 432x288 with 1 Axes>"
      ]
     },
     "metadata": {
      "needs_background": "light"
     },
     "output_type": "display_data"
    },
    {
     "data": {
      "image/png": "[encoded data removed]",
      "text/plain": [
       "<Figure size 432x288 with 1 Axes>"
      ]
     },
     "metadata": {
      "needs_background": "light"
     },
     "output_type": "display_data"
    },
    {
     "data": {
      "image/png": "[encoded data removed]",
      "text/plain": [
       "<Figure size 432x288 with 1 Axes>"
      ]
     },
     "metadata": {
      "needs_background": "light"
     },
     "output_type": "display_data"
    },
    {
     "data": {
      "image/png": "[encoded data removed]",
      "text/plain": [
       "<Figure size 432x288 with 1 Axes>"
      ]
     },
     "metadata": {
      "needs_background": "light"
     },
     "output_type": "display_data"
    }
   ],
   "source": [
    "ploteigenvalues(eigenvaluescenter,eigenvectorscenter,average_lambda_center,'center')"
   ]
  },
  {
   "cell_type": "code",
   "execution_count": 59,
   "id": "7157a2fc-b999-4262-9a09-55b1664ba737",
   "metadata": {},
   "outputs": [
    {
     "data": {
      "image/png": "[encoded data removed]",
      "text/plain": [
       "<Figure size 432x288 with 1 Axes>"
      ]
     },
     "metadata": {
      "needs_background": "light"
     },
     "output_type": "display_data"
    },
    {
     "data": {
      "image/png": "[encoded data removed]",
      "text/plain": [
       "<Figure size 432x288 with 1 Axes>"
      ]
     },
     "metadata": {
      "needs_background": "light"
     },
     "output_type": "display_data"
    },
    {
     "data": {
      "image/png": "[encoded data removed]",
      "text/plain": [
       "<Figure size 432x288 with 1 Axes>"
      ]
     },
     "metadata": {
      "needs_background": "light"
     },
     "output_type": "display_data"
    },
    {
     "data": {
      "image/png": "[encoded data removed]",
      "text/plain": [
       "<Figure size 432x288 with 1 Axes>"
      ]
     },
     "metadata": {
      "needs_background": "light"
     },
     "output_type": "display_data"
    }
   ],
   "source": [
    "ploteigenvalues(modeld.eigenvalues_,modeld.eigenvectors_,modeld.lambda_,'disease')"
   ]
  },
  {
   "cell_type": "code",
   "execution_count": null,
   "id": "ef3be110-32da-489f-b026-7dd4faa49a27",
   "metadata": {},
   "outputs": [],
   "source": []
  },
  {
   "cell_type": "code",
   "execution_count": 60,
   "id": "7cc93704-59f3-46d0-b062-4b86975cb082",
   "metadata": {},
   "outputs": [
    {
     "data": {
      "image/png": "[encoded data removed]",
      "text/plain": [
       "<Figure size 432x288 with 1 Axes>"
      ]
     },
     "metadata": {
      "needs_background": "light"
     },
     "output_type": "display_data"
    },
    {
     "data": {
      "image/png": "[encoded data removed]",
      "text/plain": [
       "<Figure size 432x288 with 1 Axes>"
      ]
     },
     "metadata": {
      "needs_background": "light"
     },
     "output_type": "display_data"
    },
    {
     "data": {
      "image/png": "[encoded data removed]",
      "text/plain": [
       "<Figure size 432x288 with 1 Axes>"
      ]
     },
     "metadata": {
      "needs_background": "light"
     },
     "output_type": "display_data"
    },
    {
     "data": {
      "image/png": "[encoded data removed]",
      "text/plain": [
       "<Figure size 432x288 with 1 Axes>"
      ]
     },
     "metadata": {
      "needs_background": "light"
     },
     "output_type": "display_data"
    }
   ],
   "source": [
    "ploteigenvalues(eigenvaluesdisease,eigenvectorsdisease,average_lambda_disease,'disease')"
   ]
  },
  {
   "cell_type": "code",
   "execution_count": null,
   "id": "d17236ee-3106-4857-be68-7a20efaf3f90",
   "metadata": {},
   "outputs": [],
   "source": [
    "ploteigenvalues(modelc.eigenvalues_,modelc.eigenvectors_,modelc.lambda_,'disease')"
   ]
  },
  {
   "cell_type": "code",
   "execution_count": null,
   "id": "52953510-c078-4ff7-b26c-8b12f4678a8e",
   "metadata": {},
   "outputs": [],
   "source": []
  }
 ],
 "metadata": {
  "kernelspec": {
   "display_name": "Python 3",
   "language": "python",
   "name": "python3"
  },
  "language_info": {
   "codemirror_mode": {
    "name": "ipython",
    "version": 3
   },
   "file_extension": ".py",
   "mimetype": "text/x-python",
   "name": "python",
   "nbconvert_exporter": "python",
   "pygments_lexer": "ipython3",
   "version": "3.8.5"
  }
 },
 "nbformat": 4,
 "nbformat_minor": 5
}

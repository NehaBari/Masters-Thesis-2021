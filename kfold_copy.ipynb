{
 "cells": [
  {
   "cell_type": "code",
   "execution_count": 1,
   "id": "8ee60a06-9225-4650-b054-96c8e7639a8e",
   "metadata": {},
   "outputs": [],
   "source": [
    "import pandas as pd\n",
    "import matplotlib\n",
    "import matplotlib.pyplot as plt\n",
    "import numpy as np\n",
    "from sklearn.datasets import load_iris\n",
    "from sklearn.metrics import classification_report\n",
    "from sklearn.preprocessing import StandardScaler\n",
    "from sklearn.preprocessing import OrdinalEncoder\n",
    "from sklvq import GMLVQ\n",
    "from timeit import timeit\n",
    "from sklearn.model_selection import KFold\n",
    "\n",
    "from sklearn.metrics import confusion_matrix\n",
    "from sklearn.model_selection import (\n",
    "    cross_val_score,\n",
    "    RepeatedKFold,\n",
    ")\n",
    "\n",
    "\n",
    "\n",
    "import colorama\n",
    "from colorama import Fore, Style\n",
    "matplotlib.rc(\"xtick\", labelsize=\"small\")\n",
    "matplotlib.rc(\"ytick\", labelsize=\"small\")"
   ]
  },
  {
   "cell_type": "code",
   "execution_count": 2,
   "id": "ea602d97-5f59-463a-bb1a-e499ffc82c80",
   "metadata": {},
   "outputs": [],
   "source": [
    "def getdata():\n",
    "    data = pd.read_csv(\"feature_vectors.csv\").to_numpy()\n",
    "    labels = pd.read_csv(\"diagnosis_label.csv\").to_numpy().squeeze()\n",
    "    labelscenter = pd.read_csv(\"center_label.csv\").to_numpy().squeeze()\n",
    "\n",
    "    labelsfinal = labels + labelscenter\n",
    "    \n",
    "    # better way to perform this\n",
    "    labelsdiseases1 = np.where(labelsfinal == 'HCUMCG') \n",
    "    centerlabels1 = labelsfinal[labelsdiseases1]\n",
    "    labelsdiseases2 = np.where(labelsfinal == 'HCUGOSM') \n",
    "    #labelsdiseases = np.where(labels == 'HCCUN','1',centerlabels) \n",
    "    centerlabels2 = labelsfinal[labelsdiseases2]\n",
    "    labelsdiseases3 = np.where(labelsfinal == 'HCCUN') \n",
    "    centerlabels3 = labelsfinal[labelsdiseases3]\n",
    "    \n",
    "    # better way to perform this\n",
    "    centerlabels = np.concatenate((centerlabels1,centerlabels2,centerlabels3))\n",
    "    centerdata = data[labelsdiseases1]\n",
    "    centerdata = np.concatenate((centerdata,data[labelsdiseases2]))\n",
    "    centerdata = np.concatenate((centerdata,data[labelsdiseases3]))\n",
    "    \n",
    "    scaler = StandardScaler()\n",
    "    data = ztransform(data,scaler)\n",
    "    centerdata= ztransform(centerdata,scaler)\n",
    "    return data,labels,centerdata,centerlabels,scaler"
   ]
  },
  {
   "cell_type": "code",
   "execution_count": 3,
   "id": "54dd2050-b30b-4f53-8247-8d5108b2dea7",
   "metadata": {},
   "outputs": [],
   "source": [
    "def ztransform(data_ztransform,scaler):\n",
    "    # Sklearn's standardscaler to perform z-transform\n",
    "\n",
    "    # Compute (fit) and apply (transform) z-transform\n",
    "    # why do we do an inverse z transform\n",
    "    scaler1 = scaler\n",
    "    data_ztransform = scaler1.fit_transform(data_ztransform)\n",
    "    \n",
    "    return data_ztransform"
   ]
  },
  {
   "cell_type": "code",
   "execution_count": 4,
   "id": "fcaec41e-474c-4d5b-a6fb-7f241f31dff0",
   "metadata": {},
   "outputs": [],
   "source": [
    "def model_definition_center():\n",
    "    \n",
    "    model = GMLVQ(\n",
    "    distance_type=\"adaptive-squared-euclidean\",\n",
    "    activation_type=\"sigmoid\",\n",
    "    activation_params={\"beta\": 2},\n",
    "    solver_type=\"sgd\",\n",
    "    solver_params={\"max_runs\": 20,\"batch_size\":1,\"step_size\": np.array([0.1, 0.05])},\n",
    "    random_state=1428,)\n",
    "    \n",
    "    return model"
   ]
  },
  {
   "cell_type": "code",
   "execution_count": 5,
   "id": "29ad8314-5716-4442-bc00-21db8c6879e3",
   "metadata": {},
   "outputs": [],
   "source": [
    "def model_definition_disease(correctionmatrix):\n",
    "    model1 = GMLVQ(\n",
    "        distance_type=\"adaptive-squared-euclidean\",\n",
    "        activation_type=\"sigmoid\",\n",
    "        activation_params={\"beta\": 2},\n",
    "        solver_type=\"sgd\",\n",
    "        solver_params={\"max_runs\": 20,\"batch_size\":1,\"step_size\": np.array([0.1, 0.05])},\n",
    "        random_state=1428,\n",
    "        relevance_correction=correctionmatrix\n",
    "    )\n",
    "    return model1"
   ]
  },
  {
   "cell_type": "code",
   "execution_count": 6,
   "id": "a480a63c-b436-4b60-8394-3d3c0b88414c",
   "metadata": {},
   "outputs": [],
   "source": [
    "def train_modelkfold(data, label,disease,correctionmatrix,repeated,folds=5):\n",
    "    modelmatrix = np.zeros((repeated,folds),dtype=object) \n",
    "    accuracies = np.zeros((repeated,folds),dtype=float) \n",
    "    transformed_model_matrix = np.zeros((repeated,folds),dtype=object) \n",
    "    transformed_data_matrix = np.zeros((repeated,folds),dtype=int)\n",
    "    \n",
    "    if disease==False:\n",
    "        print('Repeated K fold for center data')\n",
    "    else:\n",
    "        print('Repeated K fold for disease data')\n",
    "    for repeated in range(repeated):\n",
    "        print(\"========Repeated fold number\",str(repeated),\"========\")\n",
    "        kfold = KFold(folds, shuffle=True)\n",
    "        for k, (training_indices, testing_indices) in enumerate(kfold.split(data)):\n",
    "            if disease==False:\n",
    "                model = model_definition_center()\n",
    "                #print('in this')\n",
    "                #print(type(model))\n",
    "            else:\n",
    "                model = model_definition_disease(correctionmatrix)\n",
    "            accuracy = 0\n",
    "            correct = 0\n",
    "            trainX, trainY, testX, testY = data[training_indices], label[training_indices], data[testing_indices], label[testing_indices]\n",
    "            #print(np.shape(trainX))\n",
    "            model.fit(trainX, trainY)\n",
    "            #validation accuracy\n",
    "            # could use model.predict but it will only give the fraction of the correctly predicted labels\n",
    "            #_, accuraccy = model.evaluate(testX, testY)\n",
    "            predictedlabels = model.predict(testX)\n",
    "\n",
    "            # since no model.evaluate.....\n",
    "\n",
    "            for i in range(len(predictedlabels)):\n",
    "                if(predictedlabels[i]==testY[i]):\n",
    "                    correct = correct+1\n",
    "\n",
    "            accuracy = correct/len(testY)\n",
    "            print('%.3f accuracy' % (correct/len(testY)))\n",
    "            \n",
    "            # stored row wise\n",
    "            modelmatrix[repeated,k] = model\n",
    "        #histories.append(history_kfold)\n",
    "    return modelmatrix"
   ]
  },
  {
   "cell_type": "code",
   "execution_count": 7,
   "id": "223b4fbf-9ab3-4049-bdab-a228d60eafcb",
   "metadata": {},
   "outputs": [],
   "source": [
    "def calculate_lambda(modelmatrix,repeated):\n",
    "    #average_lambda = np.mean(sum(model.lambda_ for model in modellist),axis=0)\n",
    "    #check the shape of total_lambda\n",
    "    \n",
    "    total_lambda = np.zeros((36,36),dtype = 'float')\n",
    "    print(repeated)\n",
    "    for index in range(repeated):\n",
    "        print(index)\n",
    "        lambdaperfold = np.zeros((36,36),dtype='float')        \n",
    "        \n",
    "        for modelin in modelmatrix[index,:]:\n",
    "            lambdaperfold = lambdaperfold + modelin.lambda_\n",
    "\n",
    "        lambdaperfold = lambdaperfold/np.shape(modelmatrix)[1]\n",
    "        \n",
    "        total_lambda = total_lambda + lambdaperfold\n",
    "        \n",
    "    total_lambda = total_lambda/repeated\n",
    "\n",
    "    return total_lambda"
   ]
  },
  {
   "cell_type": "code",
   "execution_count": 8,
   "id": "d7eadc4a-55e9-4fd0-93a0-f43f7c0680d0",
   "metadata": {},
   "outputs": [],
   "source": [
    "def eigendecomposition(average_lambda):\n",
    "    eigenvalues, eigenvectors = np.linalg.eigh(average_lambda)\n",
    "    # eigen vectors returned in columns\n",
    "    # Flip (reverse the order to descending) before assigning.\n",
    "    eigenvalues = np.flip(eigenvalues)\n",
    "\n",
    "    # eigenvectors are column matrix in ascending order. Flip the columns and transpose the matrix\n",
    "    # to get the descending ordered row matrix.\n",
    "    \n",
    "    # eigenvectors are row matrices\n",
    "    eigenvectors = np.flip(eigenvectors, axis=1).T\n",
    "    \n",
    "    return eigenvalues,eigenvectors"
   ]
  },
  {
   "cell_type": "code",
   "execution_count": 9,
   "id": "b79c4fd0-5a90-411f-ab7d-d91c96c67116",
   "metadata": {},
   "outputs": [],
   "source": [
    "feature_names = ['a', 'b', 'c', 'd', 'e', 'f', 'g', 'h', 'i', 'j', 'k', 'l', 'm', 'n', 'o', 'p', 'q', 'r', 's', 't', 'u', 'v', 'w', 'x', 'y', 'z','ab','ac','ad','ae','af','ag','ah','ai','aj','ak']\n"
   ]
  },
  {
   "cell_type": "code",
   "execution_count": 10,
   "id": "cfb68064-26b7-49a7-b3f1-5a35d89acdf9",
   "metadata": {},
   "outputs": [],
   "source": [
    "\n",
    "def correction_matrix(eigenvectors):\n",
    "    N=36\n",
    "    K=2\n",
    "    I = np.identity(N)\n",
    "    outerproduct = np.zeros((N,N))   \n",
    "    for i in range(K):\n",
    "        # check this\n",
    "        outerproduct +=  np.outer(eigenvectors[i,:],eigenvectors[i,:].T)\n",
    "        print(np.shape(outerproduct))\n",
    "        \n",
    "    correctionmatrix = I-outerproduct\n",
    "    return correctionmatrix"
   ]
  },
  {
   "cell_type": "raw",
   "id": "0d0e8bae-e036-4296-82b1-88f94a6cdc72",
   "metadata": {},
   "source": [
    "def correction_matrix():\n",
    "    N=36\n",
    "    K=2\n",
    "    I = np.identity(N)\n",
    "    p = np.identity(N)  \n",
    "    \n",
    "    for i in range(2):\n",
    "        p[:,i] = p[:,i]*0\n",
    "        \n",
    "    correctionmatrix = p\n",
    "    print(correctionmatrix)\n",
    "    return correctionmatrix"
   ]
  },
  {
   "cell_type": "code",
   "execution_count": 11,
   "id": "58867b58-735e-4738-af95-82b4d1447c25",
   "metadata": {},
   "outputs": [
    {
     "name": "stdout",
     "output_type": "stream",
     "text": [
      "Repeated K fold for center data\n",
      "========Repeated fold number 0 ========\n",
      "0.941 accuracy\n",
      "0.941 accuracy\n",
      "0.812 accuracy\n",
      "0.875 accuracy\n",
      "0.875 accuracy\n",
      "========Repeated fold number 1 ========\n",
      "0.941 accuracy\n",
      "0.941 accuracy\n",
      "0.688 accuracy\n",
      "0.875 accuracy\n",
      "0.938 accuracy\n",
      "2\n",
      "0\n",
      "1\n",
      "                                                     \n",
      "The sum of the digonal of the center relevance matrix\n",
      "0.9999999999999998\n",
      "                                                     \n",
      "(36, 36)\n",
      "(36, 36)\n"
     ]
    }
   ],
   "source": [
    "# check if this is the right label for disease\n",
    "data,labels,centerdata,centerlabels,scalar = getdata()\n",
    "\n",
    "centermodel = train_modelkfold(centerdata,centerlabels,False,None,2)\n",
    "\n",
    "average_lambda_center = calculate_lambda(centermodel,2)\n",
    "\n",
    "print('                                                     ')\n",
    "\n",
    "\n",
    "print('The sum of the digonal of the center relevance matrix')\n",
    "\n",
    "print(np.sum(np.diagonal(average_lambda_center)))\n",
    "\n",
    "print('                                                     ')\n",
    "\n",
    "\n",
    "eigenvaluescenter,eigenvectorscenter = eigendecomposition(average_lambda_center)\n",
    "\n",
    "\n",
    "correctionmatrix = correction_matrix(eigenvectorscenter)\n",
    "\n",
    "#correctionmatrix = correction_matrix()\n"
   ]
  },
  {
   "cell_type": "code",
   "execution_count": 12,
   "id": "73ef7154-c636-4bd4-a100-36f5516dc5ae",
   "metadata": {},
   "outputs": [
    {
     "name": "stdout",
     "output_type": "stream",
     "text": [
      "Repeated K fold for disease data\n",
      "========Repeated fold number 0 ========\n",
      "0.687 accuracy\n",
      "0.791 accuracy\n",
      "0.773 accuracy\n",
      "0.621 accuracy\n",
      "0.773 accuracy\n",
      "========Repeated fold number 1 ========\n",
      "0.731 accuracy\n",
      "0.627 accuracy\n",
      "0.727 accuracy\n",
      "0.667 accuracy\n",
      "0.712 accuracy\n",
      "2\n",
      "0\n",
      "1\n",
      "The sum of the digonal of the disease relevance matrix\n",
      "1.0000000000000002\n"
     ]
    }
   ],
   "source": [
    "\n",
    "diseasemodel = train_modelkfold(data,labels,True,correctionmatrix,2)\n",
    "\n",
    "average_lambda_disease = calculate_lambda(diseasemodel,2)\n",
    "\n",
    "eigenvaluesdisease,eigenvectorsdisease = eigendecomposition(average_lambda_disease)\n",
    "\n",
    "\n",
    "\n",
    "\n",
    "print('The sum of the digonal of the disease relevance matrix')\n",
    "\n",
    "print(np.sum(np.diagonal(average_lambda_disease)))\n"
   ]
  },
  {
   "cell_type": "code",
   "execution_count": 13,
   "id": "e58a2e5f-0935-4a8b-8aa7-456e38e9c716",
   "metadata": {},
   "outputs": [
    {
     "name": "stdout",
     "output_type": "stream",
     "text": [
      "-3.2959746043559335e-17\n"
     ]
    }
   ],
   "source": [
    "first_eigen_vector = np.dot(eigenvectorsdisease[0,:],eigenvectorscenter[0,:])\n",
    "print(first_eigen_vector)"
   ]
  },
  {
   "cell_type": "code",
   "execution_count": 14,
   "id": "8d79964c-b04d-4ff9-96c0-8c76b7156a22",
   "metadata": {},
   "outputs": [
    {
     "data": {
      "text/plain": [
       "(36, 36)"
      ]
     },
     "execution_count": 14,
     "metadata": {},
     "output_type": "execute_result"
    }
   ],
   "source": [
    "np.shape(eigenvectorsdisease)"
   ]
  },
  {
   "cell_type": "code",
   "execution_count": 15,
   "id": "85c1357a-2143-4ee5-bbf1-9e5565bf0f78",
   "metadata": {},
   "outputs": [
    {
     "name": "stdout",
     "output_type": "stream",
     "text": [
      "(2, 5)\n"
     ]
    }
   ],
   "source": [
    "print(np.shape(centermodel))"
   ]
  },
  {
   "cell_type": "code",
   "execution_count": 16,
   "id": "a4e1c540-2ec6-4a46-80f5-acb2aafd260a",
   "metadata": {},
   "outputs": [
    {
     "name": "stdout",
     "output_type": "stream",
     "text": [
      "0.9999999999999998\n"
     ]
    }
   ],
   "source": [
    "print(np.sum(np.diagonal(average_lambda_center)))"
   ]
  },
  {
   "cell_type": "code",
   "execution_count": 25,
   "id": "6ff4f7b3-4295-4fc9-96cd-5f11c34e895a",
   "metadata": {},
   "outputs": [],
   "source": [
    "\n",
    "def check_orthogonality(centermodel,diseasemodel,dimensions,repeated,eigenvectorscenter):\n",
    "    start = 0\n",
    "    i = range(repeated)\n",
    "    while start!=repeated:\n",
    "        \n",
    "        for array,model in enumerate(diseasemodel[start,:]):\n",
    "            eigenvectorsd = np.zeros((dimensions,repeated))\n",
    "            \n",
    "            print(Fore.BLACK + \"======== Disease repeated number\",str(start),\"model number\",str(array))\n",
    "            #eigenvectorsd = model.eigenvectors_[:3,:]\n",
    "            eigenvectorsd = model.eigenvectors_\n",
    "            print('***********************************************')\n",
    "            first_eigen_vector = np.dot(eigenvectorsd[0,:],eigenvectorscenter[0,:])\n",
    "            second_eigen_vector = np.dot(eigenvectorsd[1,:],eigenvectorscenter[1,:])\n",
    "            # a trial check of the third eigen vector. \n",
    "            third_eigen_vector = np.dot(eigenvectorsd[2,:],eigenvectorscenter[2,:])\n",
    "            eigenvectorssss = np.dot(eigenvectorsd,eigenvectorscenter.T)\n",
    "            #first_eigen_vector = np.dot(eigenvectorsd[:2,:],eigenvectorscenter[:3,:].T)\n",
    "            print(eigenvectorssss)\n",
    "            #print(np.sum(np.square(eigenvectorsd[0,:])))\n",
    "            #print(np.shape(eigenvectorsd))\n",
    "            centermodel[i,:]\n",
    "            \n",
    "            for index in range(repeated):\n",
    "                for k,modelin in enumerate(centermodel[index,:]):\n",
    "                    \n",
    "                    # eigenvectorsd = columns vector\n",
    "                    #print(Fore.GREEN + \"======== center repeated number\",str(index),\"model number\",str(k),'================')\n",
    "                    #np.dot default row wise\n",
    "                    # dot product of the 1st eigen vector with all the 36 vectors of the center model\n",
    "                    #first_eigen_vector = np.dot(eigenvectorsd[:2,:],modelin.eigenvectors_[:2,:].T)\n",
    "                    #print(first_eigen_vector)\n",
    "                    #first_eigen_vector = np.dot(eigenvectorsd[0,:],modelin.eigenvectors_)\n",
    "                    #print(p1)\n",
    "                    #p4 = first_eigen_vector/(p1*p2)\n",
    "                    \n",
    "                    #print('****************************')\n",
    "                    #print(np.arccos(p4))\n",
    "                    #print(np.cos(first_eigen_vector))\n",
    "                    #print('****************************')\n",
    "                    #print(Fore.BLACK +'=============Dot product with 1st eigen vector===================')\n",
    "                    #print(Fore.BLACK,first_eigen_vector)\n",
    "                    #print('                                                                 ')\n",
    "                    #print(Fore.BLACK  + '=============Dot product with 2nd eigen vector===================')\n",
    "                    second_eigen_vector = np.dot(eigenvectorsd[1,:],modelin.eigenvectors_[:,:dimensions])\n",
    "                    #print(Fore.BLACK,second_eigen_vector)\n",
    "                    #print('=================================================================')\n",
    "        start = start+1"
   ]
  },
  {
   "cell_type": "code",
   "execution_count": 26,
   "id": "5fc2c78b-aa78-471d-9d78-3f190f36c079",
   "metadata": {},
   "outputs": [
    {
     "name": "stdout",
     "output_type": "stream",
     "text": [
      "\u001b[30m======== Disease repeated number 0 model number 0\n",
      "***********************************************\n",
      "[[ 7.75773409e-18  1.18462383e-17  1.59623632e-01 ...  4.03137599e-01\n",
      "   1.32991036e-01  7.92819968e-02]\n",
      " [ 4.31242423e-17  2.24483754e-20 -1.55987675e-01 ... -2.34452821e-01\n",
      "  -1.76327940e-01  2.92508170e-01]\n",
      " [-3.45020785e-01 -2.90747731e-01 -6.68207542e-02 ... -5.64681638e-02\n",
      "   1.50021034e-01 -3.77390730e-02]\n",
      " ...\n",
      " [-1.73899354e-01 -1.95308843e-01  1.15787296e-02 ...  5.20550269e-01\n",
      "  -1.74238783e-02 -1.90060846e-01]\n",
      " [-3.88390766e-02  6.28414038e-02  2.98233935e-02 ...  1.43286461e-01\n",
      "  -2.56983799e-01  1.43596044e-01]\n",
      " [ 7.95010217e-03 -2.06585966e-01 -4.62042817e-02 ... -2.99933429e-02\n",
      "   6.83947676e-02 -1.21475847e-01]]\n",
      "\u001b[30m======== Disease repeated number 0 model number 1\n",
      "***********************************************\n",
      "[[ 1.69655517e-17  3.70099493e-17  1.04368557e-01 ...  4.84384098e-01\n",
      "  -8.89173998e-02  2.46068639e-01]\n",
      " [-7.13424092e-17 -6.81057147e-17 -2.55300697e-01 ... -1.29963169e-01\n",
      "  -2.39913805e-01  3.30141010e-01]\n",
      " [-1.91085804e-01 -2.45067667e-01 -2.47856937e-02 ... -2.31347431e-01\n",
      "   1.07675205e-01  1.90167009e-01]\n",
      " ...\n",
      " [-7.58637737e-02 -1.73598168e-01  1.48493955e-01 ... -4.88698205e-03\n",
      "  -4.04947760e-02  2.19052052e-01]\n",
      " [ 2.92952842e-01  1.41081957e-01 -7.16504426e-02 ...  7.71434671e-02\n",
      "  -6.46930723e-02  1.50643627e-01]\n",
      " [-5.86713140e-03 -1.51114495e-02 -4.36833581e-02 ...  2.29865463e-01\n",
      "  -1.62674335e-01 -2.26280606e-03]]\n",
      "\u001b[30m======== Disease repeated number 0 model number 2\n",
      "***********************************************\n",
      "[[ 1.70457261e-16 -8.46803093e-17 -2.84123659e-02 ...  1.92607510e-01\n",
      "  -7.53575484e-02  4.02889139e-01]\n",
      " [ 5.96967975e-17  6.43763596e-17 -1.29139766e-01 ... -3.22804754e-01\n",
      "  -4.03370847e-01  2.11481747e-01]\n",
      " [ 2.74841633e-01  1.02923837e-01  7.96605744e-02 ... -1.21845223e-02\n",
      "   3.23020896e-02  8.84035681e-02]\n",
      " ...\n",
      " [-3.26503070e-01 -6.89419330e-02 -5.49013198e-02 ... -1.63674678e-01\n",
      "   1.94808135e-01  1.98586364e-02]\n",
      " [-3.94548033e-02  2.49332542e-02  5.66925741e-02 ...  7.79175365e-02\n",
      "   2.37279149e-02 -1.75823426e-01]\n",
      " [ 1.79003770e-01 -1.48752327e-01 -3.68355452e-02 ... -2.27047934e-01\n",
      "   1.22111322e-01 -1.34955629e-01]]\n",
      "\u001b[30m======== Disease repeated number 0 model number 3\n",
      "***********************************************\n",
      "[[ 2.67100258e-19  1.42007071e-17 -1.94105788e-02 ... -5.31294894e-02\n",
      "   1.42582471e-01 -4.34320751e-01]\n",
      " [ 3.25295203e-17  2.65826227e-17  2.00360499e-01 ...  2.92588462e-01\n",
      "   3.27633834e-01 -1.22398094e-02]\n",
      " [ 9.75520508e-02 -3.29016258e-02 -6.64416045e-02 ...  1.22618347e-01\n",
      "  -1.13502459e-01 -1.10787475e-01]\n",
      " ...\n",
      " [-1.21493782e-02  3.46473151e-02 -4.73867413e-02 ... -1.61704161e-01\n",
      "  -2.01992174e-01  2.23031858e-01]\n",
      " [ 7.17845837e-03 -9.04559718e-02 -1.06248424e-01 ... -3.30671586e-03\n",
      "   1.53559669e-01 -7.33128899e-02]\n",
      " [ 5.93884039e-01  2.53937696e-01 -1.36071624e-01 ...  1.60411382e-01\n",
      "   1.54175211e-02  1.33130327e-02]]\n",
      "\u001b[30m======== Disease repeated number 0 model number 4\n",
      "***********************************************\n",
      "[[-4.30682754e-17 -5.60692257e-18  1.63036020e-02 ...  1.62247572e-01\n",
      "  -4.86214609e-02  3.05502360e-01]\n",
      " [-1.99921589e-17 -1.83070430e-17 -2.43500597e-01 ... -4.28379007e-01\n",
      "  -7.11791017e-02  2.38699786e-01]\n",
      " [ 6.53159950e-02  7.42447378e-02 -9.66807772e-02 ...  1.42960025e-01\n",
      "  -1.93038321e-01 -6.12171798e-02]\n",
      " ...\n",
      " [ 1.10552667e-03  1.77488333e-01  1.85119900e-01 ...  4.61214204e-02\n",
      "  -3.14947967e-02 -2.61671011e-01]\n",
      " [-1.14349297e-01 -2.99477243e-01 -1.83631799e-02 ...  5.94211686e-02\n",
      "   1.10863262e-01 -9.94942974e-02]\n",
      " [ 3.52286682e-02 -1.25145605e-01 -6.89058780e-02 ...  3.38683684e-02\n",
      "  -1.82509540e-01 -3.43125366e-01]]\n",
      "\u001b[30m======== Disease repeated number 1 model number 0\n",
      "***********************************************\n",
      "[[-1.59728652e-16 -5.27419788e-17  9.27296781e-02 ...  1.37858357e-01\n",
      "  -3.02828162e-01  1.80461358e-01]\n",
      " [-5.55906796e-17 -4.83683315e-17 -2.75576984e-01 ... -4.64590184e-01\n",
      "  -1.34815850e-01  1.85973979e-01]\n",
      " [-2.13104509e-01 -1.57899994e-01  7.85183717e-03 ...  1.93877871e-01\n",
      "  -2.37237372e-03 -8.60934606e-03]\n",
      " ...\n",
      " [ 1.30209499e-01 -3.48879230e-01 -2.55843514e-01 ... -7.65818778e-02\n",
      "  -7.56339391e-02  2.44829313e-01]\n",
      " [ 1.01333573e-01  1.63103888e-01  1.28789494e-01 ...  1.17576404e-01\n",
      "   6.72824563e-02 -2.50055158e-01]\n",
      " [-2.74199354e-01 -7.55377510e-02  9.43140410e-02 ...  1.36376027e-01\n",
      "   2.51940833e-02  1.47944996e-01]]\n",
      "\u001b[30m======== Disease repeated number 1 model number 1\n",
      "***********************************************\n",
      "[[ 4.29837081e-17 -3.09333881e-17  2.29142918e-02 ...  2.13374377e-01\n",
      "  -9.58736689e-02  2.88842166e-01]\n",
      " [-2.63915920e-17 -1.28449340e-17 -2.10550847e-01 ... -4.04989371e-01\n",
      "  -2.58009447e-01  1.30070618e-01]\n",
      " [ 4.22122470e-01 -1.48739730e-01  6.89189119e-02 ...  2.35438420e-02\n",
      "   8.23597448e-02 -1.64069183e-02]\n",
      " ...\n",
      " [-1.15450536e-01  4.03653428e-02  2.45285283e-01 ...  1.53330592e-01\n",
      "  -1.02385061e-01 -4.38052070e-02]\n",
      " [-2.80995577e-02 -3.17944767e-02  1.74197119e-01 ... -5.04377044e-02\n",
      "   1.75619853e-01 -3.57331584e-02]\n",
      " [-3.25491329e-01 -1.88772294e-01  1.52310903e-01 ...  1.24482345e-01\n",
      "  -1.45330764e-01  5.62851532e-02]]\n",
      "\u001b[30m======== Disease repeated number 1 model number 2\n",
      "***********************************************\n",
      "[[-1.00369374e-17 -1.55558055e-17 -9.27357486e-03 ...  1.56203078e-01\n",
      "  -2.17994640e-01  1.52781842e-01]\n",
      " [ 5.65802064e-18  2.54038673e-17 -3.13871880e-01 ... -3.95101859e-01\n",
      "  -2.42185181e-01  1.77931228e-01]\n",
      " [-4.91211202e-02  1.11172580e-01  1.31596898e-01 ...  1.89367408e-01\n",
      "  -3.66962270e-01  1.45486453e-03]\n",
      " ...\n",
      " [ 1.59086111e-01  1.29256816e-02  1.08813774e-01 ...  6.74238830e-02\n",
      "  -6.42189578e-02 -4.28127281e-02]\n",
      " [-1.53731758e-02 -8.36707079e-02  5.83081308e-02 ... -7.26387858e-02\n",
      "   3.98144121e-02  1.28937482e-01]\n",
      " [-1.30253389e-01 -6.03108407e-02  1.22929885e-01 ... -1.58385681e-02\n",
      "  -1.50143624e-01  8.00758956e-03]]\n",
      "\u001b[30m======== Disease repeated number 1 model number 3\n",
      "***********************************************\n",
      "[[ 4.44995943e-17 -5.21365572e-17  1.88612499e-01 ...  2.96525090e-01\n",
      "   5.98395078e-02 -2.98965356e-02]\n",
      " [-5.66836349e-17  1.76220887e-17  1.92924801e-01 ...  2.70617091e-01\n",
      "   3.53328209e-01 -3.12202826e-01]\n",
      " [-1.02321678e-01 -3.96842562e-02 -1.03842345e-01 ...  3.41005256e-02\n",
      "   1.43348313e-01 -3.67267287e-02]\n",
      " ...\n",
      " [ 7.70603374e-02  1.95257886e-02  5.58960816e-02 ... -2.42281939e-01\n",
      "   1.38874985e-01 -1.38537840e-01]\n",
      " [ 2.58127356e-01  8.70254737e-02 -2.36443520e-01 ... -5.85063749e-02\n",
      "   1.15469211e-01  1.26478967e-01]\n",
      " [ 1.46725766e-02 -1.38013353e-01 -5.08734641e-02 ... -5.30146982e-02\n",
      "  -1.60112290e-03 -2.05134891e-01]]\n",
      "\u001b[30m======== Disease repeated number 1 model number 4\n",
      "***********************************************\n",
      "[[ 5.36536052e-17  3.06090677e-17  4.86480890e-02 ...  3.12090071e-01\n",
      "  -4.25168707e-02  3.39527241e-01]\n",
      " [ 7.95778263e-17  7.00670251e-17 -1.02969820e-01 ... -3.50675522e-01\n",
      "  -1.36688514e-01  4.22202182e-01]\n",
      " [ 2.80025463e-02  4.69818411e-02  1.56311206e-01 ... -1.22895098e-01\n",
      "  -4.20516336e-03  1.38091627e-01]\n",
      " ...\n",
      " [ 1.52798557e-01 -2.65535146e-02  4.33048477e-01 ... -1.56872639e-01\n",
      "  -1.58136445e-01 -6.70849778e-02]\n",
      " [-9.07540178e-03 -1.06148078e-01  2.69890159e-02 ...  4.99417965e-02\n",
      "   1.38798200e-01  9.38541830e-02]\n",
      " [ 6.28983515e-02  5.57656653e-02  4.00015670e-02 ... -1.54677809e-01\n",
      "   7.07615167e-02 -1.55712539e-01]]\n"
     ]
    }
   ],
   "source": [
    "check_orthogonality(centermodel,diseasemodel,36,2,eigenvectorscenter)"
   ]
  },
  {
   "cell_type": "code",
   "execution_count": 51,
   "id": "b3e81460-b818-4de2-8093-7f360c3a4ffc",
   "metadata": {},
   "outputs": [],
   "source": [
    "# Plot the eigenvalues of the eigenvectors of the relevance matrix.\n",
    "def ploteigenvalues(eigenvalues,eigenvectors,average_lambda,d):\n",
    "    fig, ax = plt.subplots()\n",
    "    fig.suptitle(\"Eigen values with correction \"+d+ \" main data\")\n",
    "    ax.bar(range(0, len(eigenvalues)), eigenvalues)\n",
    "    ax.set_ylabel(\"Weight\")\n",
    "    ax.grid(False)\n",
    "    fig.savefig('eigenvalues'+d+'.eps', format='eps')\n",
    "    #fig.savefig('eigenvalues+d+.svg\", format ='svg', dpi=1200)\n",
    "\n",
    "\n",
    "    # Plot the first two eigenvectors of the relevance matrix, which  is called `omega_hat`.\n",
    "    fig, ax = plt.subplots()\n",
    "    fig.suptitle(\"First Eigenvector with correction \" +d+ \" main data\")\n",
    "    ax.bar(feature_names, eigenvectors[0, :])\n",
    "    ax.set_ylabel(\"Weight\")\n",
    "    ax.grid(False)\n",
    "    fig.savefig('Firsteigenvector'+d+'.eps', format='eps')\n",
    "\n",
    "    fig, ax = plt.subplots()\n",
    "    fig.suptitle(\"Second Eigenvector with correction \" +d+ \" main data\")\n",
    "    ax.bar(feature_names, eigenvectors[1, :])\n",
    "    ax.set_ylabel(\"Weight\")\n",
    "    ax.grid(False)\n",
    "    fig.savefig('Secondeigenvector'+d+'.eps', format='eps')\n",
    "\n",
    "    fig, ax = plt.subplots()\n",
    "    # The relevance matrix is available after fitting the model.\n",
    "    relevance_matrix = average_lambda\n",
    "    fig.suptitle(\"Relevance Matrix Diagonal with correction \" +d+ \" main data\")\n",
    "    ax.bar(feature_names, np.diagonal(relevance_matrix))\n",
    "    ax.set_ylabel(\"Weight\")\n",
    "    ax.grid(False)\n",
    "    fig.savefig('relevancematrix'+d+'.eps', format='eps')"
   ]
  },
  {
   "cell_type": "code",
   "execution_count": 20,
   "id": "b03aef75-7cef-41ae-9fb5-52f4ee687e36",
   "metadata": {},
   "outputs": [
    {
     "data": {
      "image/png": "[encoded data removed]",
      "text/plain": [
       "<Figure size 432x288 with 1 Axes>"
      ]
     },
     "metadata": {
      "needs_background": "light"
     },
     "output_type": "display_data"
    },
    {
     "data": {
      "image/png": "[encoded data removed]",
      "text/plain": [
       "<Figure size 432x288 with 1 Axes>"
      ]
     },
     "metadata": {
      "needs_background": "light"
     },
     "output_type": "display_data"
    },
    {
     "data": {
      "image/png": "[encoded data removed]",
      "text/plain": [
       "<Figure size 432x288 with 1 Axes>"
      ]
     },
     "metadata": {
      "needs_background": "light"
     },
     "output_type": "display_data"
    },
    {
     "data": {
      "image/png": "[encoded data removed]",
      "text/plain": [
       "<Figure size 432x288 with 1 Axes>"
      ]
     },
     "metadata": {
      "needs_background": "light"
     },
     "output_type": "display_data"
    }
   ],
   "source": [
    "ploteigenvalues(eigenvaluescenter,eigenvectorscenter,average_lambda_center,'center')"
   ]
  },
  {
   "cell_type": "code",
   "execution_count": 21,
   "id": "e3f3f319-3d29-4e43-8553-33f3cecdb2df",
   "metadata": {},
   "outputs": [
    {
     "data": {
      "image/png": "[encoded data removed]",
      "text/plain": [
       "<Figure size 432x288 with 1 Axes>"
      ]
     },
     "metadata": {
      "needs_background": "light"
     },
     "output_type": "display_data"
    },
    {
     "data": {
      "image/png": "[encoded data removed]",
      "text/plain": [
       "<Figure size 432x288 with 1 Axes>"
      ]
     },
     "metadata": {
      "needs_background": "light"
     },
     "output_type": "display_data"
    },
    {
     "data": {
      "image/png": "[encoded data removed]",
      "text/plain": [
       "<Figure size 432x288 with 1 Axes>"
      ]
     },
     "metadata": {
      "needs_background": "light"
     },
     "output_type": "display_data"
    },
    {
     "data": {
      "image/png": "[encoded data removed]",
      "text/plain": [
       "<Figure size 432x288 with 1 Axes>"
      ]
     },
     "metadata": {
      "needs_background": "light"
     },
     "output_type": "display_data"
    }
   ],
   "source": [
    "ploteigenvalues(eigenvaluesdisease,eigenvectorsdisease,average_lambda_disease,'disease')"
   ]
  },
  {
   "cell_type": "code",
   "execution_count": 22,
   "id": "346925e3-2a63-47de-87c0-0de73bf363be",
   "metadata": {},
   "outputs": [],
   "source": [
    "# removing the z transform\n",
    "def visualize(model,scaler):\n",
    "    \n",
    "    data = scaler.inverse_transform(data)\n",
    "    transformed_data = model.transform(data, scale=True)\n",
    "\n",
    "    x_d = transformed_data[:, 0]\n",
    "    y_d = transformed_data[:, 1]\n",
    "\n",
    "    # Transform the model, i.e., the prototypes (scaled by square root of eigenvalues \"scale = True\")\n",
    "    # prototype inverser transform\n",
    "    prototypes = scaler.inverse_transform(model1.prototypes_)\n",
    "\n",
    "    transformed_model1 = model1.transform(prototypes, scale=True)\n",
    "\n",
    "    print(len(model1.prototypes_))\n",
    "    x_m = transformed_model1[:, 0]\n",
    "    y_m = transformed_model1[:, 1]\n",
    "\n",
    "    fig, ax = plt.subplots()\n",
    "    fig.suptitle(\"Maindataset disease data with corresponding prototypes\")\n",
    "    colors = ['yellow','Magenta','brown']#,'pink','lightgreen']\n",
    "    for i, cls in enumerate(model1.classes_):\n",
    "        ii = cls == labels\n",
    "        ax.scatter(\n",
    "            x_d[ii],\n",
    "            y_d[ii],\n",
    "            c=colors[i],\n",
    "            s=100,\n",
    "            alpha=0.7,\n",
    "            edgecolors=\"white\",\n",
    "            label=model1.classes_[model1.prototypes_labels_[i]],\n",
    "        )\n",
    "    ax.scatter(x_m, y_m, c=colors, s=180, alpha=0.8, edgecolors=\"black\", linewidth=2.0)\n",
    "    ax.set_xlabel(\"First eigenvector\")\n",
    "    ax.set_ylabel(\"Second eigenvector\")\n",
    "    ax.legend()\n",
    "    ax.grid(True)\n",
    "    print(model1.classes_)\n",
    "    plt.savefig('disease.png')\n",
    "    #plt.savefig('destination_path23.eps', format='eps')\n",
    "    print('A1: Black, A2: Red, B1: Green, B2: Blue, Centers A and B, and diseases 1 and 2.) ')"
   ]
  },
  {
   "cell_type": "code",
   "execution_count": 23,
   "id": "cce3a51d-8104-41b5-8316-bcd16e122219",
   "metadata": {},
   "outputs": [
    {
     "ename": "NameError",
     "evalue": "name 'modellist' is not defined",
     "output_type": "error",
     "traceback": [
      "\u001b[0;31m---------------------------------------------------------------------------\u001b[0m",
      "\u001b[0;31mNameError\u001b[0m                                 Traceback (most recent call last)",
      "\u001b[0;32m<ipython-input-23-3ee42be5a1c4>\u001b[0m in \u001b[0;36m<module>\u001b[0;34m\u001b[0m\n\u001b[0;32m----> 1\u001b[0;31m \u001b[0mprint\u001b[0m\u001b[0;34m(\u001b[0m\u001b[0mmodellist\u001b[0m\u001b[0;34m[\u001b[0m\u001b[0;36m1\u001b[0m\u001b[0;34m]\u001b[0m\u001b[0;34m)\u001b[0m\u001b[0;34m\u001b[0m\u001b[0;34m\u001b[0m\u001b[0m\n\u001b[0m",
      "\u001b[0;31mNameError\u001b[0m: name 'modellist' is not defined"
     ]
    }
   ],
   "source": [
    "print(modellist[1])"
   ]
  },
  {
   "cell_type": "code",
   "execution_count": null,
   "id": "f170b024-fc8c-4462-8b36-9cd990428340",
   "metadata": {},
   "outputs": [],
   "source": []
  }
 ],
 "metadata": {
  "kernelspec": {
   "display_name": "Python 3",
   "language": "python",
   "name": "python3"
  },
  "language_info": {
   "codemirror_mode": {
    "name": "ipython",
    "version": 3
   },
   "file_extension": ".py",
   "mimetype": "text/x-python",
   "name": "python",
   "nbconvert_exporter": "python",
   "pygments_lexer": "ipython3",
   "version": "3.8.5"
  }
 },
 "nbformat": 4,
 "nbformat_minor": 5
}

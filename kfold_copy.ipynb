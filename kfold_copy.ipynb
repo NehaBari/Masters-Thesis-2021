{
 "cells": [
  {
   "cell_type": "code",
   "execution_count": 1,
   "id": "8ee60a06-9225-4650-b054-96c8e7639a8e",
   "metadata": {},
   "outputs": [],
   "source": [
    "import pandas as pd\n",
    "import matplotlib\n",
    "import matplotlib.pyplot as plt\n",
    "import numpy as np\n",
    "from sklearn.metrics import classification_report\n",
    "from sklearn.preprocessing import StandardScaler\n",
    "from sklearn.preprocessing import OrdinalEncoder\n",
    "from sklvq import GMLVQ\n",
    "from timeit import timeit\n",
    "from sklearn.model_selection import KFold\n",
    "from sklearn.metrics import confusion_matrix\n",
    "from sklearn.model_selection import (\n",
    "    cross_val_score,\n",
    "    RepeatedKFold,\n",
    ")\n",
    "from itertools import chain\n",
    "import colorama\n",
    "from colorama import Fore, Style\n",
    "\n",
    "matplotlib.rc(\"xtick\", labelsize=\"small\")\n",
    "matplotlib.rc(\"ytick\", labelsize=\"small\")"
   ]
  },
  {
   "cell_type": "code",
   "execution_count": 2,
   "id": "ea602d97-5f59-463a-bb1a-e499ffc82c80",
   "metadata": {},
   "outputs": [],
   "source": [
    "def getdata():\n",
    "    data = pd.read_csv(\"feature_vectors.csv\").to_numpy()\n",
    "    labels = pd.read_csv(\"diagnosis_label.csv\").to_numpy().squeeze()\n",
    "    labelscenter = pd.read_csv(\"center_label.csv\").to_numpy().squeeze()\n",
    "\n",
    "    labelsfinal = labels + labelscenter\n",
    "    \n",
    "    # better way to perform this\n",
    "    labelsdiseases1 = np.where(labelsfinal == 'HCUMCG') \n",
    "    centerlabels1 = labelsfinal[labelsdiseases1]\n",
    "    labelsdiseases2 = np.where(labelsfinal == 'HCUGOSM') \n",
    "    #labelsdiseases = np.where(labels == 'HCCUN','1',centerlabels) \n",
    "    centerlabels2 = labelsfinal[labelsdiseases2]\n",
    "    labelsdiseases3 = np.where(labelsfinal == 'HCCUN') \n",
    "    centerlabels3 = labelsfinal[labelsdiseases3]\n",
    "    \n",
    "    # better way to perform this\n",
    "    centerlabels = np.concatenate((centerlabels1,centerlabels2,centerlabels3))\n",
    "    centerdata = data[labelsdiseases1]\n",
    "    centerdata = np.concatenate((centerdata,data[labelsdiseases2]))\n",
    "    centerdata = np.concatenate((centerdata,data[labelsdiseases3]))\n",
    "    \n",
    "    scalar = StandardScaler()\n",
    "    #data = ztransform(data,scaler)\n",
    "    #centerdata= ztransform(centerdata,scaler)\n",
    "    return data,labels,centerdata,centerlabels,scalar"
   ]
  },
  {
   "cell_type": "code",
   "execution_count": 3,
   "id": "54dd2050-b30b-4f53-8247-8d5108b2dea7",
   "metadata": {},
   "outputs": [],
   "source": [
    "def ztransform(data_ztransform,scalar):\n",
    "    # Sklearn's standardscaler to perform z-transform\n",
    "\n",
    "    # Compute (fit) and apply (transform) z-transform\n",
    "    # why do we do an inverse z transform\n",
    "    data_ztransform = scalar.fit_transform(data_ztransform)\n",
    "    \n",
    "    return data_ztransform"
   ]
  },
  {
   "cell_type": "code",
   "execution_count": 4,
   "id": "fcaec41e-474c-4d5b-a6fb-7f241f31dff0",
   "metadata": {},
   "outputs": [],
   "source": [
    "def model_definition_center():\n",
    "    \n",
    "    model = GMLVQ(distance_type=\"adaptive-squared-euclidean\",\n",
    "    activation_type=\"sigmoid\",\n",
    "    activation_params={\"beta\": 2},\n",
    "    solver_type=\"sgd\",\n",
    "    solver_params={\"max_runs\": 20,\"batch_size\":20,\"step_size\": np.array([0.1,0.05])},\n",
    "    random_state=142\n",
    "    )\n",
    "    return model"
   ]
  },
  {
   "cell_type": "code",
   "execution_count": 5,
   "id": "29ad8314-5716-4442-bc00-21db8c6879e3",
   "metadata": {},
   "outputs": [],
   "source": [
    "def model_definition_disease(correctionmatrix):\n",
    "    model1 = GMLVQ(\n",
    "    distance_type=\"adaptive-squared-euclidean\",\n",
    "    activation_type=\"sigmoid\",\n",
    "    activation_params={\"beta\": 2},\n",
    "    solver_type=\"sgd\",\n",
    "    solver_params={\"max_runs\": 20,\"batch_size\":20,\"step_size\": np.array([0.1,0.05])},\n",
    "    random_state=1428,\n",
    "    )\n",
    "    return model1"
   ]
  },
  {
   "cell_type": "code",
   "execution_count": 6,
   "id": "75c034ae-b7d4-49d3-a592-0744d297c7ef",
   "metadata": {},
   "outputs": [],
   "source": [
    "#"
   ]
  },
  {
   "cell_type": "code",
   "execution_count": 7,
   "id": "a480a63c-b436-4b60-8394-3d3c0b88414c",
   "metadata": {},
   "outputs": [],
   "source": [
    "def train_modelkfold(data, label,disease,correctionmatrix,repeated,scalar,folds=5):\n",
    "    modelmatrix = np.zeros((repeated,folds),dtype=object) \n",
    "    datamatrix =  np.zeros((repeated,folds),dtype=object) \n",
    "    labelmatrix = np.zeros((repeated,folds),dtype=object)\n",
    "    accuracies = np.zeros((repeated,folds),dtype=float) \n",
    "    transformed_model_matrix = np.zeros((repeated,folds),dtype=object) \n",
    "    transformed_data_matrix = np.zeros((repeated,folds),dtype=int)\n",
    "    \n",
    "    if disease==False:\n",
    "        print('Repeated K fold for center data')\n",
    "    else:\n",
    "        print('Repeated K fold for disease data')\n",
    "    for repeated in range(repeated):\n",
    "        print(\"========Repeated fold number\",str(repeated),\"========\")\n",
    "        kfold = KFold(folds, shuffle=True)\n",
    "        for k, (training_indices, testing_indices) in enumerate(kfold.split(data)):\n",
    "            if disease==False:\n",
    "                model = model_definition_center()\n",
    "                #print('in this')\n",
    "                #print(type(model))\n",
    "            else:\n",
    "                model = model_definition_disease(correctionmatrix)\n",
    "            accuracy = 0\n",
    "            correct = 0\n",
    "            trainX, trainY, testX, testY = data[training_indices], label[training_indices], data[testing_indices], label[testing_indices]\n",
    "            #applying z transform on training data only\n",
    "            trainX = ztransform(trainX,scalar)\n",
    "            \n",
    "            print(np.shape(trainY))\n",
    "            \n",
    "            \n",
    "            model.fit(trainX, trainY)\n",
    "            #validation accuracy\n",
    "            # could use model.predict but it will only give the fraction of the correctly predicted labels\n",
    "            #_, accuraccy = model.evaluate(testX, testY)\n",
    "            predictedlabels = model.predict(testX)\n",
    "\n",
    "            # since no model.evaluate.....\n",
    "\n",
    "            for i in range(len(predictedlabels)):\n",
    "                if(predictedlabels[i]==testY[i]):\n",
    "                    correct = correct+1\n",
    "\n",
    "            accuracy = correct/len(testY)\n",
    "            print('%.3f accuracy' % (correct/len(testY)))\n",
    "            \n",
    "            # stored row wise\n",
    "            modelmatrix[repeated,k] = model\n",
    "            datamatrix[repeated,k] = trainX\n",
    "            labelmatrix[repeated,k] = trainY\n",
    "        #histories.append(history_kfold)\n",
    "    return modelmatrix,datamatrix,labelmatrix"
   ]
  },
  {
   "cell_type": "code",
   "execution_count": 8,
   "id": "223b4fbf-9ab3-4049-bdab-a228d60eafcb",
   "metadata": {},
   "outputs": [],
   "source": [
    "def calculate_lambda(modelmatrix,repeated):\n",
    "    #average_lambda = np.mean(sum(model.lambda_ for model in modellist),axis=0)\n",
    "    #check the shape of total_lambda\n",
    "    \n",
    "    total_lambda = np.zeros((36,36),dtype = 'float')\n",
    "    print(repeated)\n",
    "    for index in range(repeated):\n",
    "        print(index)\n",
    "        lambdaperfold = np.zeros((36,36),dtype='float')        \n",
    "        \n",
    "        for modelin in modelmatrix[index,:]:\n",
    "            lambdaperfold = lambdaperfold + modelin.lambda_\n",
    "\n",
    "        lambdaperfold = lambdaperfold/np.shape(modelmatrix)[1]\n",
    "        \n",
    "        total_lambda = total_lambda + lambdaperfold\n",
    "        \n",
    "    total_lambda = total_lambda/repeated\n",
    "\n",
    "    return total_lambda"
   ]
  },
  {
   "cell_type": "code",
   "execution_count": 9,
   "id": "d7eadc4a-55e9-4fd0-93a0-f43f7c0680d0",
   "metadata": {},
   "outputs": [],
   "source": [
    "def eigendecomposition(average_lambda):\n",
    "    eigenvalues, eigenvectors = np.linalg.eigh(average_lambda)\n",
    "    # eigen vectors returned in columns\n",
    "    # Flip (reverse the order to descending) before assigning.\n",
    "    eigenvalues = np.flip(eigenvalues)\n",
    "\n",
    "    # eigenvectors are column matrix in ascending order. Flip the columns and transpose the matrix\n",
    "    # to get the descending ordered row matrix.\n",
    "    \n",
    "    # eigenvectors are row matrices\n",
    "    eigenvectors = np.flip(eigenvectors, axis=1).T\n",
    "    \n",
    "    return eigenvalues,eigenvectors"
   ]
  },
  {
   "cell_type": "code",
   "execution_count": 10,
   "id": "b79c4fd0-5a90-411f-ab7d-d91c96c67116",
   "metadata": {},
   "outputs": [],
   "source": [
    "feature_names = ['a', 'b', 'c', 'd', 'e', 'f', 'g', 'h', 'i', 'j', 'k', 'l', 'm', 'n', 'o', 'p', 'q', 'r', 's', 't', 'u', 'v', 'w', 'x', 'y', 'z','ab','ac','ad','ae','af','ag','ah','ai','aj','ak']\n"
   ]
  },
  {
   "cell_type": "code",
   "execution_count": 11,
   "id": "cfb68064-26b7-49a7-b3f1-5a35d89acdf9",
   "metadata": {},
   "outputs": [],
   "source": [
    "\n",
    "def correction_matrix(eigenvectors):\n",
    "    N=36\n",
    "    K=2\n",
    "    I = np.identity(N)\n",
    "    outerproduct = np.zeros((N,N))   \n",
    "    for i in range(K):\n",
    "        # check this\n",
    "        outerproduct +=  np.outer(eigenvectors[i,:],eigenvectors[i,:].T)\n",
    "        print(np.shape(outerproduct))\n",
    "        \n",
    "    correctionmatrix = I-outerproduct\n",
    "    return correctionmatrix"
   ]
  },
  {
   "cell_type": "raw",
   "id": "0d0e8bae-e036-4296-82b1-88f94a6cdc72",
   "metadata": {},
   "source": [
    "def correction_matrix():\n",
    "    N=36\n",
    "    K=2\n",
    "    I = np.identity(N)\n",
    "    p = np.identity(N)  \n",
    "    \n",
    "    for i in range(2):\n",
    "        p[:,i] = p[:,i]*0\n",
    "        \n",
    "    correctionmatrix = p\n",
    "    print(correctionmatrix)\n",
    "    return correctionmatrix"
   ]
  },
  {
   "cell_type": "code",
   "execution_count": 12,
   "id": "58867b58-735e-4738-af95-82b4d1447c25",
   "metadata": {},
   "outputs": [
    {
     "name": "stdout",
     "output_type": "stream",
     "text": [
      "Repeated K fold for center data\n",
      "========Repeated fold number 0 ========\n",
      "(65,)\n",
      "1.000 accuracy\n",
      "(65,)\n",
      "0.824 accuracy\n",
      "(66,)\n",
      "0.750 accuracy\n",
      "(66,)\n",
      "0.875 accuracy\n",
      "(66,)\n",
      "0.812 accuracy\n",
      "========Repeated fold number 1 ========\n",
      "(65,)\n",
      "0.647 accuracy\n",
      "(65,)\n",
      "1.000 accuracy\n",
      "(66,)\n",
      "0.938 accuracy\n",
      "(66,)\n",
      "0.750 accuracy\n",
      "(66,)\n",
      "0.812 accuracy\n",
      "2\n",
      "0\n",
      "1\n",
      "                                                     \n",
      "The sum of the digonal of the center relevance matrix\n",
      "1.0\n",
      "                                                     \n",
      "(36, 36)\n",
      "(36, 36)\n"
     ]
    }
   ],
   "source": [
    "# check if this is the right label for disease\n",
    "data,labels,centerdata,centerlabels,scalar = getdata()\n",
    "\n",
    "centermodel,datamatrix,labelmatrix = train_modelkfold(centerdata,centerlabels,False,None,2,scalar)\n",
    "\n",
    "average_lambda_center = calculate_lambda(centermodel,2)\n",
    "\n",
    "print('                                                     ')\n",
    "\n",
    "\n",
    "print('The sum of the digonal of the center relevance matrix')\n",
    "\n",
    "print(np.sum(np.diagonal(average_lambda_center)))\n",
    "\n",
    "print('                                                     ')\n",
    "\n",
    "\n",
    "eigenvaluescenter,eigenvectorscenter = eigendecomposition(average_lambda_center)\n",
    "\n",
    "\n",
    "correctionmatrix = correction_matrix(eigenvectorscenter)\n",
    "\n",
    "#correctionmatrix = correction_matrix()\n"
   ]
  },
  {
   "cell_type": "code",
   "execution_count": 13,
   "id": "73ef7154-c636-4bd4-a100-36f5516dc5ae",
   "metadata": {},
   "outputs": [
    {
     "name": "stdout",
     "output_type": "stream",
     "text": [
      "Repeated K fold for disease data\n",
      "========Repeated fold number 0 ========\n",
      "(265,)\n",
      "0.672 accuracy\n",
      "(265,)\n",
      "0.716 accuracy\n",
      "(266,)\n",
      "0.727 accuracy\n",
      "(266,)\n",
      "0.712 accuracy\n",
      "(266,)\n",
      "0.742 accuracy\n",
      "========Repeated fold number 1 ========\n",
      "(265,)\n",
      "0.761 accuracy\n",
      "(265,)\n",
      "0.746 accuracy\n",
      "(266,)\n",
      "0.652 accuracy\n",
      "(266,)\n",
      "0.682 accuracy\n",
      "(266,)\n",
      "0.727 accuracy\n",
      "2\n",
      "0\n",
      "1\n",
      "The sum of the digonal of the disease relevance matrix\n",
      "0.9999999999999999\n"
     ]
    }
   ],
   "source": [
    "\n",
    "diseasemodel,datamatrix1,labelmatrix1 = train_modelkfold(data,labels,True,correctionmatrix,2,scalar)\n",
    "\n",
    "average_lambda_disease = calculate_lambda(diseasemodel,2)\n",
    "\n",
    "eigenvaluesdisease,eigenvectorsdisease = eigendecomposition(average_lambda_disease)\n",
    "\n",
    "\n",
    "\n",
    "\n",
    "print('The sum of the digonal of the disease relevance matrix')\n",
    "\n",
    "print(np.sum(np.diagonal(average_lambda_disease)))\n"
   ]
  },
  {
   "cell_type": "code",
   "execution_count": 14,
   "id": "e58a2e5f-0935-4a8b-8aa7-456e38e9c716",
   "metadata": {},
   "outputs": [
    {
     "name": "stdout",
     "output_type": "stream",
     "text": [
      "0.1311633123011652\n"
     ]
    }
   ],
   "source": [
    "first_eigen_vector = np.dot(eigenvectorsdisease[0,:],eigenvectorscenter[0,:])\n",
    "print(first_eigen_vector)"
   ]
  },
  {
   "cell_type": "code",
   "execution_count": 15,
   "id": "8665de29-1bc7-47cb-83a9-3edb3f4e5d9b",
   "metadata": {},
   "outputs": [],
   "source": [
    "def check_orthogonality(centermodel,diseasemodel,dimensions,repeated,folds,eigenvectorscenter):\n",
    "    centerlist = list(chain.from_iterable(zip(*centermodel)))\n",
    "    disease_center = list()\n",
    "    disease_averagecenter= list()\n",
    "    for j in range(2):\n",
    "        for array,modeld in enumerate(diseasemodel[j]):\n",
    "            disease_averagecenter.append(np.dot(modeld.eigenvectors_[:2,:],eigenvectorscenter[:2,:].T))\n",
    "            for modelc in centerlist:\n",
    "                disease_center.append((np.dot(modeld.eigenvectors_[:2,:],modelc.eigenvectors_[:2,:].T)))\n",
    "    return disease_averagecenter,disease_center"
   ]
  },
  {
   "cell_type": "code",
   "execution_count": 16,
   "id": "da83afe4-ce59-4f5d-a2e7-cecae9179c63",
   "metadata": {},
   "outputs": [],
   "source": [
    "disease_averagecenter,diseasecenter = check_orthogonality(centermodel,diseasemodel,36,2,5,eigenvectorscenter)"
   ]
  },
  {
   "cell_type": "code",
   "execution_count": 17,
   "id": "1b6573fe-0798-453c-9f24-ba651da75038",
   "metadata": {},
   "outputs": [
    {
     "data": {
      "text/plain": [
       "(10, 2, 2)"
      ]
     },
     "execution_count": 17,
     "metadata": {},
     "output_type": "execute_result"
    }
   ],
   "source": [
    "np.shape(disease_averagecenter)"
   ]
  },
  {
   "cell_type": "code",
   "execution_count": 18,
   "id": "1db2cc21-ede2-4cff-b9b5-5606f65cb0ac",
   "metadata": {},
   "outputs": [
    {
     "data": {
      "text/plain": [
       "100"
      ]
     },
     "execution_count": 18,
     "metadata": {},
     "output_type": "execute_result"
    }
   ],
   "source": [
    "len(diseasecenter)"
   ]
  },
  {
   "cell_type": "code",
   "execution_count": 19,
   "id": "b3e81460-b818-4de2-8093-7f360c3a4ffc",
   "metadata": {},
   "outputs": [],
   "source": [
    "# Plot the eigenvalues of the eigenvectors of the relevance matrix.\n",
    "def ploteigenvalues(eigenvalues,eigenvectors,average_lambda,d):\n",
    "    fig, ax = plt.subplots()\n",
    "    fig.suptitle(\"Eigen values with correction \"+d+ \" main data\")\n",
    "    ax.bar(range(0, len(eigenvalues)), eigenvalues)\n",
    "    ax.set_ylabel(\"Weight\")\n",
    "    ax.grid(False)\n",
    "    fig.savefig('eigenvalues'+d+'.eps', format='eps')\n",
    "    #fig.savefig('eigenvalues+d+.svg\", format ='svg', dpi=1200)\n",
    "\n",
    "\n",
    "    # Plot the first two eigenvectors of the relevance matrix, which  is called `omega_hat`.\n",
    "    fig, ax = plt.subplots()\n",
    "    fig.suptitle(\"First Eigenvector with correction \" +d+ \" main data\")\n",
    "    ax.bar(feature_names, eigenvectors[0, :])\n",
    "    ax.set_ylabel(\"Weight\")\n",
    "    ax.grid(False)\n",
    "    fig.savefig('Firsteigenvector'+d+'.eps', format='eps')\n",
    "\n",
    "    fig, ax = plt.subplots()\n",
    "    fig.suptitle(\"Second Eigenvector with correction \" +d+ \" main data\")\n",
    "    ax.bar(feature_names, eigenvectors[1, :])\n",
    "    ax.set_ylabel(\"Weight\")\n",
    "    ax.grid(False)\n",
    "    fig.savefig('Secondeigenvector'+d+'.eps', format='eps')\n",
    "\n",
    "    fig, ax = plt.subplots()\n",
    "    # The relevance matrix is available after fitting the model.\n",
    "    relevance_matrix = average_lambda\n",
    "    fig.suptitle(\"Relevance Matrix Diagonal with correction \" +d+ \" main data\")\n",
    "    ax.bar(feature_names, np.diagonal(relevance_matrix))\n",
    "    ax.set_ylabel(\"Weight\")\n",
    "    ax.grid(False)\n",
    "    fig.savefig('relevancematrix'+d+'.eps', format='eps')"
   ]
  },
  {
   "cell_type": "code",
   "execution_count": 20,
   "id": "b03aef75-7cef-41ae-9fb5-52f4ee687e36",
   "metadata": {},
   "outputs": [
    {
     "data": {
      "image/png": "[encoded data removed]",
      "text/plain": [
       "<Figure size 432x288 with 1 Axes>"
      ]
     },
     "metadata": {
      "needs_background": "light"
     },
     "output_type": "display_data"
    },
    {
     "data": {
      "image/png": "[encoded data removed]",
      "text/plain": [
       "<Figure size 432x288 with 1 Axes>"
      ]
     },
     "metadata": {
      "needs_background": "light"
     },
     "output_type": "display_data"
    },
    {
     "data": {
      "image/png": "[encoded data removed]",
      "text/plain": [
       "<Figure size 432x288 with 1 Axes>"
      ]
     },
     "metadata": {
      "needs_background": "light"
     },
     "output_type": "display_data"
    },
    {
     "data": {
      "image/png": "[encoded data removed]",
      "text/plain": [
       "<Figure size 432x288 with 1 Axes>"
      ]
     },
     "metadata": {
      "needs_background": "light"
     },
     "output_type": "display_data"
    }
   ],
   "source": [
    "ploteigenvalues(eigenvaluescenter,eigenvectorscenter,average_lambda_center,'center')"
   ]
  },
  {
   "cell_type": "code",
   "execution_count": 21,
   "id": "e3f3f319-3d29-4e43-8553-33f3cecdb2df",
   "metadata": {},
   "outputs": [
    {
     "data": {
      "image/png": "[encoded data removed]",
      "text/plain": [
       "<Figure size 432x288 with 1 Axes>"
      ]
     },
     "metadata": {
      "needs_background": "light"
     },
     "output_type": "display_data"
    },
    {
     "data": {
      "image/png": "[encoded data removed]",
      "text/plain": [
       "<Figure size 432x288 with 1 Axes>"
      ]
     },
     "metadata": {
      "needs_background": "light"
     },
     "output_type": "display_data"
    },
    {
     "data": {
      "image/png": "[encoded data removed]",
      "text/plain": [
       "<Figure size 432x288 with 1 Axes>"
      ]
     },
     "metadata": {
      "needs_background": "light"
     },
     "output_type": "display_data"
    },
    {
     "data": {
      "image/png": "[encoded data removed]",
      "text/plain": [
       "<Figure size 432x288 with 1 Axes>"
      ]
     },
     "metadata": {
      "needs_background": "light"
     },
     "output_type": "display_data"
    }
   ],
   "source": [
    "ploteigenvalues(eigenvaluesdisease,eigenvectorsdisease,average_lambda_disease,'disease')"
   ]
  },
  {
   "cell_type": "code",
   "execution_count": 22,
   "id": "346925e3-2a63-47de-87c0-0de73bf363be",
   "metadata": {},
   "outputs": [],
   "source": [
    "# removing the z transform\n",
    "def visualize(model,scaler,centerdata,centerlabels):\n",
    "    \n",
    "    centerdata = scaler.inverse_transform(centerdata)\n",
    "    transformed_data = model.transform(centerdata, scale=True)\n",
    "\n",
    "    x_d = transformed_data[:, 0]\n",
    "    y_d = transformed_data[:, 1]\n",
    "\n",
    "    # Transform the model, i.e., the prototypes (scaled by square root of eigenvalues \"scale = True\")\n",
    "    # prototype inverser transform\n",
    "    prototypes = scaler.inverse_transform(model.prototypes_)\n",
    "    \n",
    "    #transformed_model = model.transform(model.prototypes_, scale=True)\n",
    "    transformed_model = model.transform(prototypes, scale=True)\n",
    "\n",
    "    print(len(model.prototypes_))\n",
    "    x_m = transformed_model[:, 0]\n",
    "    y_m = transformed_model[:, 1]\n",
    "\n",
    "    fig, ax = plt.subplots()\n",
    "    fig.suptitle(\"Maindataset disease data with corresponding prototypes\")\n",
    "    colors = ['yellow','magenta','brown']#,'pink','lightgreen']\n",
    "    for i, cls in enumerate(model.classes_):\n",
    "        ii = cls == centerlabels\n",
    "        ax.scatter(\n",
    "            x_d[ii],\n",
    "            y_d[ii],\n",
    "            c=colors[i],\n",
    "            s=100,\n",
    "            alpha=0.7,\n",
    "            edgecolors=\"white\",\n",
    "            label=model.classes_[model.prototypes_labels_[i]],\n",
    "        )\n",
    "    ax.scatter(x_m, y_m, c=colors, s=180, alpha=0.8, edgecolors=\"black\", linewidth=2.0)\n",
    "    ax.set_xlabel(\"First eigenvector\")\n",
    "    ax.set_ylabel(\"Second eigenvector\")\n",
    "    ax.legend()\n",
    "    ax.grid(True)\n",
    "    print(model.classes_)\n",
    "    plt.savefig('disease.png')\n",
    "    #plt.savefig('destination_path23.eps', format='eps')\n",
    "    print('A1: Black, A2: Red, B1: Green, B2: Blue, Centers A and B, and diseases 1 and 2.) ')"
   ]
  },
  {
   "cell_type": "code",
   "execution_count": 23,
   "id": "b02ac5fc-9bc1-4ba9-b936-f0f413fa0e8b",
   "metadata": {},
   "outputs": [],
   "source": [
    "# removing the z transform\n",
    "def visualize_disease(model,scaler,data,labels):\n",
    "    \n",
    "    data = scaler.inverse_transform(data)\n",
    "    transformed_data = model.transform(data, scale=True)\n",
    "\n",
    "    x_d = transformed_data[:, 0]\n",
    "    y_d = transformed_data[:, 1]\n",
    "\n",
    "    # Transform the model, i.e., the prototypes (scaled by square root of eigenvalues \"scale = True\")\n",
    "    # prototype inverser transform\n",
    "    prototypes = scaler.inverse_transform(model.prototypes_)\n",
    "\n",
    "    transformed_model = model.transform(prototypes, scale=True)\n",
    "\n",
    "    print(len(model.prototypes_))\n",
    "    x_m = transformed_model[:, 0]\n",
    "    y_m = transformed_model[:, 1]\n",
    "\n",
    "    fig, ax = plt.subplots()\n",
    "    fig.suptitle(\"Maindataset disease data with corresponding prototypes\")\n",
    "    colors = ['yellow','magenta','lightgreen']#,'pink','lightgreen']\n",
    "    for i, cls in enumerate(model.classes_):\n",
    "        ii = cls == labels\n",
    "        ax.scatter(\n",
    "            x_d[ii],\n",
    "            y_d[ii],\n",
    "            c=colors[i],\n",
    "            s=100,\n",
    "            alpha=0.7,\n",
    "            edgecolors=\"white\",\n",
    "            label=model.classes_[model.prototypes_labels_[i]],\n",
    "        )\n",
    "    ax.scatter(x_m, y_m, c=colors, s=180, alpha=0.8, edgecolors=\"black\", linewidth=2.0)\n",
    "    ax.set_xlabel(\"First eigenvector\")\n",
    "    ax.set_ylabel(\"Second eigenvector\")\n",
    "    ax.legend()\n",
    "    ax.grid(True)\n",
    "    print(model.classes_)\n",
    "    plt.savefig('disease.png')\n",
    "    #plt.savefig('destination_path23.eps', format='eps')\n",
    "    print('A1: Black, A2: Red, B1: Green, B2: Blue, Centers A and B, and diseases 1 and 2.) ')"
   ]
  },
  {
   "cell_type": "code",
   "execution_count": 24,
   "id": "cce3a51d-8104-41b5-8316-bcd16e122219",
   "metadata": {},
   "outputs": [
    {
     "name": "stdout",
     "output_type": "stream",
     "text": [
      "3\n",
      "['HCCUN' 'HCUGOSM' 'HCUMCG']\n",
      "A1: Black, A2: Red, B1: Green, B2: Blue, Centers A and B, and diseases 1 and 2.) \n",
      "3\n",
      "['AD' 'HC' 'PD']\n",
      "A1: Black, A2: Red, B1: Green, B2: Blue, Centers A and B, and diseases 1 and 2.) \n"
     ]
    },
    {
     "data": {
      "image/png": "[encoded data removed]",
      "text/plain": [
       "<Figure size 432x288 with 1 Axes>"
      ]
     },
     "metadata": {
      "needs_background": "light"
     },
     "output_type": "display_data"
    },
    {
     "data": {
      "image/png": "[encoded data removed]",
      "text/plain": [
       "<Figure size 432x288 with 1 Axes>"
      ]
     },
     "metadata": {
      "needs_background": "light"
     },
     "output_type": "display_data"
    }
   ],
   "source": [
    "visualize(centermodel[0][1],scalar,datamatrix[0][1],labelmatrix[0][1])\n",
    "visualize_disease(diseasemodel[0][1],scalar,datamatrix1[0][1],labelmatrix1[0][1])"
   ]
  },
  {
   "cell_type": "code",
   "execution_count": 25,
   "id": "b04f09d0-2ad1-4a9d-a840-e14a8a681eea",
   "metadata": {},
   "outputs": [
    {
     "data": {
      "text/plain": [
       "array([[ 0.50687227, -0.13949911,  0.48160982, -0.26072893,  0.74053141,\n",
       "         0.0073078 , -0.6465811 ,  0.25782409,  0.21903918,  0.11806267,\n",
       "         0.27024928,  0.55602341, -0.36999389, -0.47440045,  0.82335373,\n",
       "        -0.06854998,  0.36678948,  0.30011937, -0.33016083, -0.32870728,\n",
       "        -1.08162845,  0.08970427, -0.09882107,  0.36275273,  0.20598278,\n",
       "         0.64731057, -0.60714277,  0.16342318, -0.72330891, -0.69790626,\n",
       "        -0.05624357, -0.61003739,  0.13120226,  0.56360703,  0.2354572 ,\n",
       "         0.07869634],\n",
       "       [-1.44853719, -0.52573362, -0.97065755,  0.03238618, -0.15765166,\n",
       "         0.31470713,  0.39890653,  0.18326724, -0.2891768 , -0.21504893,\n",
       "         0.11782853, -0.11062006,  0.40302132,  0.34826493,  0.15006555,\n",
       "         0.38751666, -0.13551491, -0.4853803 , -0.08723425, -0.29642503,\n",
       "         0.50260734,  0.2123742 ,  0.59130752,  0.3592685 ,  0.19652103,\n",
       "        -0.60781246, -0.01777066,  0.04763727, -0.16203102,  0.63176965,\n",
       "        -0.20541452,  0.59666875,  0.40636199, -0.49223547, -0.60613639,\n",
       "        -0.58401362],\n",
       "       [ 0.24943789,  0.2425371 ,  0.03457835,  0.1405412 , -0.40896598,\n",
       "        -0.21744281,  0.32302845, -0.23010736,  0.01160818, -0.05780585,\n",
       "        -0.08852865, -0.27899165,  0.14957515,  0.23612565, -0.66189035,\n",
       "        -0.218641  , -0.20176413,  0.03356866,  0.26565961,  0.24811506,\n",
       "         0.39592901, -0.30476014, -0.10156228, -0.36528819, -0.20553721,\n",
       "        -0.15693514,  0.3776116 , -0.00585099,  0.41157443,  0.1180366 ,\n",
       "         0.14651853,  0.11313526, -0.24153916, -0.11979007,  0.08336973,\n",
       "         0.1584395 ]])"
      ]
     },
     "execution_count": 25,
     "metadata": {},
     "output_type": "execute_result"
    }
   ],
   "source": [
    "diseasemodel[1][2].prototypes_"
   ]
  },
  {
   "cell_type": "code",
   "execution_count": null,
   "id": "8ae6c81d-1fbb-4c1b-b1c9-ecee57a4c55e",
   "metadata": {},
   "outputs": [],
   "source": []
  },
  {
   "cell_type": "code",
   "execution_count": 26,
   "id": "9d248d6d-8106-409f-820b-fc5a83211be6",
   "metadata": {},
   "outputs": [
    {
     "data": {
      "text/plain": [
       "array(['AD', 'AD', 'AD', 'AD', 'AD', 'AD', 'AD', 'AD', 'AD', 'AD', 'AD',\n",
       "       'AD', 'AD', 'AD', 'AD', 'AD', 'AD', 'AD', 'AD', 'AD', 'AD', 'AD',\n",
       "       'AD', 'AD', 'AD', 'AD', 'AD', 'PD', 'PD', 'PD', 'PD', 'PD', 'PD',\n",
       "       'PD', 'PD', 'PD', 'PD', 'PD', 'PD', 'PD', 'PD', 'PD', 'PD', 'PD',\n",
       "       'PD', 'PD', 'PD', 'PD', 'PD', 'PD', 'PD', 'PD', 'PD', 'PD', 'PD',\n",
       "       'PD', 'PD', 'PD', 'PD', 'PD', 'PD', 'PD', 'PD', 'PD', 'PD', 'PD',\n",
       "       'PD', 'PD', 'PD', 'PD', 'PD', 'PD', 'HC', 'HC', 'HC', 'HC', 'HC',\n",
       "       'HC', 'HC', 'HC', 'HC', 'HC', 'HC', 'HC', 'HC', 'HC', 'HC', 'HC',\n",
       "       'AD', 'AD', 'AD', 'AD', 'AD', 'AD', 'AD', 'AD', 'AD', 'AD', 'AD',\n",
       "       'AD', 'AD', 'AD', 'AD', 'AD', 'AD', 'AD', 'AD', 'AD', 'AD', 'AD',\n",
       "       'AD', 'AD', 'AD', 'AD', 'AD', 'AD', 'AD', 'AD', 'AD', 'AD', 'AD',\n",
       "       'AD', 'AD', 'AD', 'AD', 'AD', 'AD', 'AD', 'AD', 'AD', 'AD', 'AD',\n",
       "       'AD', 'AD', 'AD', 'AD', 'AD', 'AD', 'HC', 'HC', 'HC', 'HC', 'HC',\n",
       "       'HC', 'HC', 'HC', 'HC', 'HC', 'HC', 'HC', 'HC', 'HC', 'HC', 'HC',\n",
       "       'HC', 'HC', 'HC', 'HC', 'HC', 'HC', 'HC', 'HC', 'HC', 'HC', 'HC',\n",
       "       'HC', 'HC', 'HC', 'HC', 'HC', 'HC', 'HC', 'HC', 'HC', 'HC', 'HC',\n",
       "       'PD', 'PD', 'PD', 'PD', 'PD', 'PD', 'PD', 'PD', 'PD', 'PD', 'PD',\n",
       "       'PD', 'PD', 'PD', 'PD', 'PD', 'PD', 'PD', 'PD', 'PD', 'PD', 'PD',\n",
       "       'PD', 'PD', 'PD', 'PD', 'HC', 'HC', 'HC', 'HC', 'HC', 'HC', 'HC',\n",
       "       'HC', 'HC', 'HC', 'HC', 'HC', 'HC', 'HC', 'PD', 'PD', 'PD', 'PD',\n",
       "       'PD', 'PD', 'PD', 'PD', 'PD', 'PD', 'PD', 'PD', 'PD', 'PD', 'PD',\n",
       "       'PD', 'PD', 'PD', 'PD', 'PD', 'PD', 'PD', 'PD', 'PD', 'PD', 'PD',\n",
       "       'PD', 'PD', 'PD', 'PD', 'PD', 'PD', 'PD', 'PD', 'PD', 'PD', 'PD',\n",
       "       'PD', 'PD', 'PD', 'PD', 'PD', 'PD', 'PD', 'PD', 'PD', 'PD', 'PD',\n",
       "       'PD'], dtype=object)"
      ]
     },
     "execution_count": 26,
     "metadata": {},
     "output_type": "execute_result"
    }
   ],
   "source": [
    "labelmatrix1[0][1]"
   ]
  },
  {
   "cell_type": "raw",
   "id": "d35856c7-595a-469f-aace-30f72e552fba",
   "metadata": {},
   "source": [
    "from itertools import chain\n",
    "\n",
    "def check_orthogonality(centermodel,diseasemodel,dimensions,repeated,folds,eigenvectorscenter):\n",
    "    i = range(repeated)\n",
    "    finallist = np.zero((repeated,repeated*folds))\n",
    "    centerlist = list(chain.from_iterable(zip(*centermodel)))\n",
    "    \n",
    "    for start in range(repeated):\n",
    "        #print(start)\n",
    "        listmodel = np.zeros((repeated,folds),dtype=object)\n",
    "        for array,modeld in enumerate(diseasemodel[start]):\n",
    "            listmodel[start] = modeld\n",
    "            print(array)\n",
    "            print('********************')\n",
    "            for modelc in centerlist:\n",
    "                finallist[start].append(np.dot(modeld.eigenvectors_[:2,:],modelc.eigenvectors_[:2,:])\n",
    "    return finallist"
   ]
  },
  {
   "cell_type": "code",
   "execution_count": null,
   "id": "560792dc-d1d2-4b2c-b4ca-7845ee311998",
   "metadata": {},
   "outputs": [],
   "source": []
  }
 ],
 "metadata": {
  "kernelspec": {
   "display_name": "Python 3",
   "language": "python",
   "name": "python3"
  },
  "language_info": {
   "codemirror_mode": {
    "name": "ipython",
    "version": 3
   },
   "file_extension": ".py",
   "mimetype": "text/x-python",
   "name": "python",
   "nbconvert_exporter": "python",
   "pygments_lexer": "ipython3",
   "version": "3.8.5"
  }
 },
 "nbformat": 4,
 "nbformat_minor": 5
}

{
 "cells": [
  {
   "cell_type": "code",
   "execution_count": 1,
   "id": "5921681d-a642-434f-b1b6-745fd9a4dc2f",
   "metadata": {},
   "outputs": [],
   "source": [
    "import pandas as pd\n",
    "import matplotlib\n",
    "import matplotlib.pyplot as plt\n",
    "import numpy as np\n",
    "from sklearn.datasets import load_iris\n",
    "from sklearn.metrics import classification_report\n",
    "from sklearn.preprocessing import StandardScaler\n",
    "from sklearn.preprocessing import OrdinalEncoder\n",
    "from sklvq import GMLVQ\n",
    "from timeit import timeit\n",
    "from sklearn.model_selection import KFold\n",
    "\n",
    "from itertools import chain\n",
    "from sklearn.metrics import confusion_matrix\n",
    "from sklearn.model_selection import (\n",
    "    cross_val_score,\n",
    "    RepeatedKFold,\n",
    ")\n",
    "\n",
    "\n",
    "\n",
    "import colorama\n",
    "from colorama import Fore, Style\n",
    "matplotlib.rc(\"xtick\", labelsize=\"small\")\n",
    "matplotlib.rc(\"ytick\", labelsize=\"small\")"
   ]
  },
  {
   "cell_type": "code",
   "execution_count": 2,
   "id": "dae2a5db-03a0-4843-9bd8-a8329d2838cf",
   "metadata": {},
   "outputs": [],
   "source": [
    "def getdata():\n",
    "    data = pd.read_csv(\"feature_vectors.csv\").to_numpy()\n",
    "    labels = pd.read_csv(\"diagnosis_label.csv\").to_numpy().squeeze()\n",
    "    labelscenter = pd.read_csv(\"center_label.csv\").to_numpy().squeeze()\n",
    "\n",
    "    labelsfinal = labels + labelscenter\n",
    "    \n",
    "    # better way to perform this\n",
    "    labelsdiseases1 = np.where(labelsfinal == 'HCUMCG') \n",
    "    centerlabels1 = labelsfinal[labelsdiseases1]\n",
    "    labelsdiseases2 = np.where(labelsfinal == 'HCUGOSM') \n",
    "    #labelsdiseases = np.where(labels == 'HCCUN','1',centerlabels) \n",
    "    centerlabels2 = labelsfinal[labelsdiseases2]\n",
    "    labelsdiseases3 = np.where(labelsfinal == 'HCCUN') \n",
    "    centerlabels3 = labelsfinal[labelsdiseases3]\n",
    "    \n",
    "    # better way to perform this\n",
    "    centerlabels = np.concatenate((centerlabels1,centerlabels2,centerlabels3))\n",
    "    centerdata = data[labelsdiseases1]\n",
    "    centerdata = np.concatenate((centerdata,data[labelsdiseases2]))\n",
    "    centerdata = np.concatenate((centerdata,data[labelsdiseases3]))\n",
    "    \n",
    "    scalar = StandardScaler()\n",
    "    #data = ztransform(data,scaler)\n",
    "    #centerdata= ztransform(centerdata,scaler)\n",
    "    return data,labels,centerdata,centerlabels,scalar"
   ]
  },
  {
   "cell_type": "code",
   "execution_count": 3,
   "id": "24f7eab8-c00c-4e7a-a17f-9e31bc6e779b",
   "metadata": {},
   "outputs": [],
   "source": [
    "def ztransform(data_ztransform,scaler):\n",
    "    # Sklearn's standardscaler to perform z-transform\n",
    "\n",
    "    # Compute (fit) and apply (transform) z-transform\n",
    "    # why do we do an inverse z transform\n",
    "    scaler1 = scaler\n",
    "    data_ztransform = scaler1.fit_transform(data_ztransform)\n",
    "    \n",
    "    return data_ztransform"
   ]
  },
  {
   "cell_type": "code",
   "execution_count": 4,
   "id": "4d376ab0-6a1a-4986-b67f-31a55c83f8ff",
   "metadata": {},
   "outputs": [],
   "source": [
    "def model_definition_center():\n",
    "    \n",
    "    model = GMLVQ(\n",
    "    distance_type=\"adaptive-squared-euclidean\",\n",
    "    activation_type=\"sigmoid\",\n",
    "    activation_params={\"beta\": 2},\n",
    "    solver_type=\"sgd\",\n",
    "    solver_params={\"max_runs\": 20,\"batch_size\":1,\"step_size\": np.array([0.1, 0.05])},\n",
    "    random_state=1428,)\n",
    "    \n",
    "    return model"
   ]
  },
  {
   "cell_type": "code",
   "execution_count": 5,
   "id": "8ee21924-cb86-48b8-9d44-6e0b9f6aad41",
   "metadata": {},
   "outputs": [],
   "source": [
    "def model_definition_disease(correctionmatrix):\n",
    "    model1 = GMLVQ(\n",
    "        distance_type=\"adaptive-squared-euclidean\",\n",
    "        activation_type=\"sigmoid\",\n",
    "        activation_params={\"beta\": 2},\n",
    "        solver_type=\"sgd\",\n",
    "        solver_params={\"max_runs\": 20,\"batch_size\":1,\"step_size\": np.array([0.1, 0.05])},\n",
    "        random_state=1428,\n",
    "        relevance_correction=correctionmatrix\n",
    "    )\n",
    "    return model1"
   ]
  },
  {
   "cell_type": "code",
   "execution_count": 6,
   "id": "036edbe3-549c-4e6c-9915-d82abd86dc62",
   "metadata": {},
   "outputs": [],
   "source": [
    "def train_modelkfold(data, label,disease,correctionmatrix1,repeated,scalar,folds=5):\n",
    "    modelmatrix = np.zeros((repeated,folds),dtype=object) \n",
    "    datamatrix =  np.zeros((repeated,folds),dtype=object) \n",
    "    labelmatrix = np.zeros((repeated,folds),dtype=object)\n",
    "    accuracies = np.zeros((repeated,folds),dtype=float) \n",
    "    transformed_model_matrix = np.zeros((repeated,folds),dtype=object) \n",
    "    transformed_data_matrix = np.zeros((repeated,folds),dtype=int)\n",
    "    \n",
    "    if disease==False:\n",
    "        print('Repeated K fold for center data')\n",
    "    else:\n",
    "        print('Repeated K fold for disease data')\n",
    "    for repeated in range(repeated):\n",
    "        \n",
    "        print(\"========Repeated fold number\",str(repeated),\"========\")\n",
    "        kfold = KFold(folds, shuffle=True)\n",
    "        \n",
    "        for k, (training_indices, testing_indices) in enumerate(kfold.split(data)):\n",
    "            if disease==False:\n",
    "                model = model_definition_center()\n",
    "                #print('in this')\n",
    "                #print(type(model))\n",
    "            else:\n",
    "                model = model_definition_disease(correctionmatrix1)\n",
    "            accuracy = 0\n",
    "            correct = 0\n",
    "            trainX, trainY, testX, testY = data[training_indices], label[training_indices], data[testing_indices], label[testing_indices]\n",
    "            #applying z transform on training data only\n",
    "            trainX = ztransform(trainX,scalar)\n",
    "            \n",
    "            print(np.shape(trainY))\n",
    "            \n",
    "            \n",
    "            model.fit(trainX, trainY)\n",
    "            #validation accuracy\n",
    "            # could use model.predict but it will only give the fraction of the correctly predicted labels\n",
    "            #_, accuraccy = model.evaluate(testX, testY)\n",
    "            predictedlabels = model.predict(testX)\n",
    "\n",
    "            # since no model.evaluate.....\n",
    "\n",
    "            for i in range(len(predictedlabels)):\n",
    "                if(predictedlabels[i]==testY[i]):\n",
    "                    correct = correct+1\n",
    "\n",
    "            accuracy = correct/len(testY)\n",
    "            print('%.3f accuracy' % (correct/len(testY)))\n",
    "            \n",
    "            # stored row wise\n",
    "            modelmatrix[repeated,k] = model\n",
    "            datamatrix[repeated,k] = trainX\n",
    "            labelmatrix[repeated,k] = trainY\n",
    "        #histories.append(history_kfold)\n",
    "    return modelmatrix,datamatrix,labelmatrix"
   ]
  },
  {
   "cell_type": "code",
   "execution_count": 7,
   "id": "f9b91348-13f5-4095-9c80-934737594ed9",
   "metadata": {},
   "outputs": [],
   "source": [
    "def calculate_lambda(modelmatrix,repeated):\n",
    "    #average_lambda = np.mean(sum(model.lambda_ for model in modellist),axis=0)\n",
    "    #check the shape of total_lambda\n",
    "    \n",
    "    total_lambda = np.zeros((36,36),dtype = 'float')\n",
    "    print(repeated)\n",
    "    for index in range(repeated):\n",
    "        print(index)\n",
    "        lambdaperfold = np.zeros((36,36),dtype='float')        \n",
    "        \n",
    "        for modelin in modelmatrix[index,:]:\n",
    "            lambdaperfold = lambdaperfold + modelin.lambda_\n",
    "\n",
    "        lambdaperfold = lambdaperfold/np.shape(modelmatrix)[1]\n",
    "        \n",
    "        total_lambda = total_lambda + lambdaperfold\n",
    "        \n",
    "    total_lambda = total_lambda/repeated\n",
    "\n",
    "    return total_lambda"
   ]
  },
  {
   "cell_type": "code",
   "execution_count": 8,
   "id": "0d2ac1be-9449-4db4-91e2-87613e9b6a0a",
   "metadata": {},
   "outputs": [],
   "source": [
    "def eigendecomposition(average_lambda):\n",
    "    eigenvalues, eigenvectors = np.linalg.eigh(average_lambda)\n",
    "    # eigen vectors returned in columns\n",
    "    # Flip (reverse the order to descending) before assigning.\n",
    "    eigenvalues = np.flip(eigenvalues)\n",
    "\n",
    "    # eigenvectors are column matrix in ascending order. Flip the columns and transpose the matrix\n",
    "    # to get the descending ordered row matrix.\n",
    "    \n",
    "    # eigenvectors are row matrices\n",
    "    eigenvectors = np.flip(eigenvectors, axis=1).T\n",
    "    \n",
    "    return eigenvalues,eigenvectors"
   ]
  },
  {
   "cell_type": "code",
   "execution_count": 9,
   "id": "567b355f-7a95-4147-9bb9-6daa2ef23b9d",
   "metadata": {},
   "outputs": [],
   "source": [
    "feature_names = ['a', 'b', 'c', 'd', 'e', 'f', 'g', 'h', 'i', 'j', 'k', 'l', 'm', 'n', 'o', 'p', 'q', 'r', 's', 't', 'u', 'v', 'w', 'x', 'y', 'z','ab','ac','ad','ae','af','ag','ah','ai','aj','ak']\n"
   ]
  },
  {
   "cell_type": "raw",
   "id": "88109450-3173-4679-9605-e3e3f411685a",
   "metadata": {},
   "source": [
    "\n",
    "def correction_matrix(eigenvectors):\n",
    "    N=36\n",
    "    K=2\n",
    "    I = np.identity(N)\n",
    "    outerproduct = np.zeros((N,N))   \n",
    "    for i in range(K):\n",
    "        # check this\n",
    "        outerproduct +=  np.outer(eigenvectors[i,:].T,eigenvectors[i,:])\n",
    "        print(np.shape(outerproduct))\n",
    "        \n",
    "    correctionmatrix = I-outerproduct\n",
    "    return correctionmatrix"
   ]
  },
  {
   "cell_type": "code",
   "execution_count": null,
   "id": "bc38e6fc-0081-403f-a4b7-aeb482f7560a",
   "metadata": {},
   "outputs": [],
   "source": [
    "v = np.linspace(1,16,16)"
   ]
  },
  {
   "cell_type": "code",
   "execution_count": null,
   "id": "8258e467-7485-4073-b982-328ec4cfc3a1",
   "metadata": {},
   "outputs": [],
   "source": [
    "a = np.zeros((4,4))"
   ]
  },
  {
   "cell_type": "code",
   "execution_count": null,
   "id": "ea82134e-bd9c-44de-bfa5-636c933918e8",
   "metadata": {},
   "outputs": [],
   "source": [
    "a = v"
   ]
  },
  {
   "cell_type": "code",
   "execution_count": null,
   "id": "3aa14234-ef28-4799-9334-5e4ab319e972",
   "metadata": {},
   "outputs": [],
   "source": [
    "a = a.reshape(4,4)"
   ]
  },
  {
   "cell_type": "code",
   "execution_count": null,
   "id": "d5a74865-99b5-4e0d-8bc3-a631899b8d73",
   "metadata": {},
   "outputs": [],
   "source": [
    "a"
   ]
  },
  {
   "cell_type": "code",
   "execution_count": null,
   "id": "77d9d413-d81b-48f8-8e58-0122c7dbbde2",
   "metadata": {},
   "outputs": [],
   "source": [
    "u"
   ]
  },
  {
   "cell_type": "code",
   "execution_count": null,
   "id": "7dad19d2-7427-4ed9-a709-ad77bea8509f",
   "metadata": {},
   "outputs": [],
   "source": [
    "a.T"
   ]
  },
  {
   "cell_type": "code",
   "execution_count": null,
   "id": "ac330db9-8b3a-4ce3-bd0c-f1effc270917",
   "metadata": {},
   "outputs": [],
   "source": [
    "v"
   ]
  },
  {
   "cell_type": "code",
   "execution_count": null,
   "id": "51ef7d3e-70fd-4fe9-8dda-7dec6865fbd0",
   "metadata": {},
   "outputs": [],
   "source": [
    "np.outer(a.T[:,0],a[0,:])"
   ]
  },
  {
   "cell_type": "code",
   "execution_count": null,
   "id": "17c26eae-e324-4a9e-98a0-d21d52640166",
   "metadata": {},
   "outputs": [],
   "source": [
    "a.T[:,0]"
   ]
  },
  {
   "cell_type": "code",
   "execution_count": null,
   "id": "9f01101c-5634-4402-9eca-2d78f4a021b8",
   "metadata": {},
   "outputs": [],
   "source": [
    "a[0,:]"
   ]
  },
  {
   "cell_type": "code",
   "execution_count": null,
   "id": "0fcf9b4c-0069-4000-ad0b-ba5a0fcc0fc0",
   "metadata": {},
   "outputs": [],
   "source": [
    "u = v.T"
   ]
  },
  {
   "cell_type": "code",
   "execution_count": null,
   "id": "9aafe131-7f3f-48b7-874c-b58a46f7a78e",
   "metadata": {},
   "outputs": [],
   "source": [
    "v"
   ]
  },
  {
   "cell_type": "code",
   "execution_count": null,
   "id": "4c87d358-a052-4f22-aaef-8b282e9c24ea",
   "metadata": {},
   "outputs": [],
   "source": [
    "outerproduct,outerproduct1,outerproduct2 = correction_matrix(u,v)"
   ]
  },
  {
   "cell_type": "code",
   "execution_count": null,
   "id": "8b2e3e09-1620-43d3-9e76-c0b3619144a7",
   "metadata": {},
   "outputs": [],
   "source": [
    "print(outerproduct)"
   ]
  },
  {
   "cell_type": "code",
   "execution_count": null,
   "id": "0c111fc0-38a4-46ee-971d-b8bddd2fe094",
   "metadata": {},
   "outputs": [],
   "source": [
    "a = np.linspace(1,4,4)"
   ]
  },
  {
   "cell_type": "code",
   "execution_count": null,
   "id": "3cbfb22b-df5c-4173-8e10-52f550ff49b5",
   "metadata": {},
   "outputs": [],
   "source": [
    "np.shape(a)"
   ]
  },
  {
   "cell_type": "code",
   "execution_count": null,
   "id": "ba519eeb-62f9-4488-ab46-8cb91fdc0be1",
   "metadata": {},
   "outputs": [],
   "source": [
    "b =a.T"
   ]
  },
  {
   "cell_type": "code",
   "execution_count": null,
   "id": "802b8a1c-b840-4a75-b4d3-c2ffd3f9293a",
   "metadata": {},
   "outputs": [],
   "source": [
    "np.shape(b)"
   ]
  },
  {
   "cell_type": "code",
   "execution_count": null,
   "id": "00858f12-866b-4101-97af-8fd77fc31547",
   "metadata": {},
   "outputs": [],
   "source": [
    "np.outer(a,b)"
   ]
  },
  {
   "cell_type": "code",
   "execution_count": null,
   "id": "fb79f31c-7dfa-4911-b233-08757e973746",
   "metadata": {},
   "outputs": [],
   "source": [
    "z = np.linspace(1,16,16)\n",
    "u = np.zeros((4,4))\n",
    "u=z\n",
    "u = u.reshape(4,4)"
   ]
  },
  {
   "cell_type": "code",
   "execution_count": null,
   "id": "6ba58891-296c-4f7d-8cfb-1485c43751af",
   "metadata": {},
   "outputs": [],
   "source": [
    "u"
   ]
  },
  {
   "cell_type": "code",
   "execution_count": null,
   "id": "3ba8f402-4577-488b-89f3-45432fc8e25e",
   "metadata": {},
   "outputs": [],
   "source": [
    "v=u"
   ]
  },
  {
   "cell_type": "code",
   "execution_count": null,
   "id": "d4ebba87-8ab4-4702-9df3-9952ee9a0e6d",
   "metadata": {},
   "outputs": [],
   "source": [
    "v"
   ]
  },
  {
   "cell_type": "code",
   "execution_count": null,
   "id": "c5a82afe-b3fe-4756-b072-39faf7855423",
   "metadata": {},
   "outputs": [],
   "source": [
    "outerproduct,outerproduct1,outerproduct2 = correction_matrix(u,v)"
   ]
  },
  {
   "cell_type": "code",
   "execution_count": null,
   "id": "6c184d97-db2f-4399-a241-633aa4e7f102",
   "metadata": {},
   "outputs": [],
   "source": [
    "outerproduct1"
   ]
  },
  {
   "cell_type": "code",
   "execution_count": null,
   "id": "8752ec8c-4578-4be4-a749-23162bec73b2",
   "metadata": {},
   "outputs": [],
   "source": [
    "outerproduct2"
   ]
  },
  {
   "cell_type": "code",
   "execution_count": null,
   "id": "5ec5f7ff-116a-4858-9342-da4c9b28870f",
   "metadata": {},
   "outputs": [],
   "source": [
    "I = np.identity(4)"
   ]
  },
  {
   "cell_type": "code",
   "execution_count": null,
   "id": "2314a1ab-ee15-4a29-a781-a6a8ec7bbc2e",
   "metadata": {},
   "outputs": [],
   "source": [
    "outerproduct"
   ]
  },
  {
   "cell_type": "code",
   "execution_count": null,
   "id": "2cabb0fd-9a3e-4cfc-9c26-6abfe89b41de",
   "metadata": {},
   "outputs": [],
   "source": [
    "kk = I-outerproduct"
   ]
  },
  {
   "cell_type": "code",
   "execution_count": null,
   "id": "8ec5fc69-5d09-43f4-81b0-dd152d58f20e",
   "metadata": {},
   "outputs": [],
   "source": [
    "kk"
   ]
  },
  {
   "cell_type": "raw",
   "id": "015c67c1-93af-48b6-8659-488ae9468136",
   "metadata": {},
   "source": [
    "np.matmul(kk.T,centermodel[0][0].omega_[:4,:])"
   ]
  },
  {
   "cell_type": "code",
   "execution_count": 28,
   "id": "addf7f66-5047-455e-a26a-63dd578fa6b4",
   "metadata": {},
   "outputs": [],
   "source": [
    "u1 = np.identity(4)"
   ]
  },
  {
   "cell_type": "code",
   "execution_count": 29,
   "id": "6e926748-6cc6-4121-850b-51ffcc342a7c",
   "metadata": {},
   "outputs": [
    {
     "data": {
      "text/plain": [
       "array([[1., 0., 0., 0.],\n",
       "       [0., 1., 0., 0.],\n",
       "       [0., 0., 1., 0.],\n",
       "       [0., 0., 0., 1.]])"
      ]
     },
     "execution_count": 29,
     "metadata": {},
     "output_type": "execute_result"
    }
   ],
   "source": [
    "u1"
   ]
  },
  {
   "cell_type": "code",
   "execution_count": 30,
   "id": "24a70301-bacc-4fd7-b888-32d75486605a",
   "metadata": {},
   "outputs": [],
   "source": [
    "v1 = u1.T"
   ]
  },
  {
   "cell_type": "code",
   "execution_count": 31,
   "id": "5d29ab9e-16cb-4be5-a164-411efa889eee",
   "metadata": {},
   "outputs": [
    {
     "data": {
      "text/plain": [
       "array([[1., 0., 0., 0.],\n",
       "       [0., 1., 0., 0.],\n",
       "       [0., 0., 1., 0.],\n",
       "       [0., 0., 0., 1.]])"
      ]
     },
     "execution_count": 31,
     "metadata": {},
     "output_type": "execute_result"
    }
   ],
   "source": [
    "v1"
   ]
  },
  {
   "cell_type": "code",
   "execution_count": 33,
   "id": "ef02bef5-dce3-4744-87bf-a389e45f5e4a",
   "metadata": {},
   "outputs": [
    {
     "name": "stdout",
     "output_type": "stream",
     "text": [
      "[[1. 0. 0. 0.]\n",
      " [0. 1. 0. 0.]\n",
      " [0. 0. 1. 0.]\n",
      " [0. 0. 0. 1.]]\n",
      "[[1. 0. 0. 0.]\n",
      " [0. 1. 0. 0.]\n",
      " [0. 0. 1. 0.]\n",
      " [0. 0. 0. 1.]]\n",
      "(4, 4)\n",
      "(4, 4)\n"
     ]
    }
   ],
   "source": [
    "outerproduct,outerproduct1,outerproduct2 = correction_matrix(v1,u1)"
   ]
  },
  {
   "cell_type": "code",
   "execution_count": 34,
   "id": "4d3593a7-6465-4c14-b2ab-a09dcd23b30d",
   "metadata": {},
   "outputs": [
    {
     "data": {
      "text/plain": [
       "array([[1., 0., 0., 0.],\n",
       "       [0., 1., 0., 0.],\n",
       "       [0., 0., 0., 0.],\n",
       "       [0., 0., 0., 0.]])"
      ]
     },
     "execution_count": 34,
     "metadata": {},
     "output_type": "execute_result"
    }
   ],
   "source": [
    "outerproduct"
   ]
  },
  {
   "cell_type": "code",
   "execution_count": 35,
   "id": "c838deac-1020-40b3-bbbd-95d309691705",
   "metadata": {},
   "outputs": [
    {
     "data": {
      "text/plain": [
       "array([[0., 0., 0., 0.],\n",
       "       [0., 0., 0., 0.],\n",
       "       [0., 0., 1., 0.],\n",
       "       [0., 0., 0., 1.]])"
      ]
     },
     "execution_count": 35,
     "metadata": {},
     "output_type": "execute_result"
    }
   ],
   "source": [
    "np.identity(4) - outerproduct"
   ]
  },
  {
   "cell_type": "code",
   "execution_count": 32,
   "id": "3adb0fec-c5f3-4e08-a894-2c4ff9a27258",
   "metadata": {},
   "outputs": [],
   "source": [
    "\n",
    "def correction_matrix(u,v):\n",
    "    N=4\n",
    "    K=2\n",
    "    I = np.identity(N)\n",
    "    print(u)\n",
    "    print(v)\n",
    "    outerproduct = np.zeros((N,N))   \n",
    "    for i in range(K):\n",
    "        # check this\n",
    "        outerproduct +=  np.outer(u.T[:,i],v[i,:])\n",
    "        outerproduct1 = np.outer(u.T[:,0],v[0,:])\n",
    "        outerproduct2 = np.outer(u.T[:,1],v[0,:])\n",
    "        print(np.shape(outerproduct))\n",
    "        \n",
    "    #correctionmatrix = I-outerproduct\n",
    "    return outerproduct,outerproduct1,outerproduct2"
   ]
  },
  {
   "cell_type": "code",
   "execution_count": 10,
   "id": "1a4f050e-5b9b-4af4-abb8-7dc5246de31a",
   "metadata": {},
   "outputs": [],
   "source": [
    "\n",
    "def correction_matrix(eigvectorscenter):\n",
    "    N=36\n",
    "    K=2\n",
    "    I = np.identity(N)\n",
    "    outerproduct = np.zeros((N,N))   \n",
    "    for i in range(K):\n",
    "        # check this\n",
    "        outerproduct +=  np.outer(eigvectorscenter.T[:,i],eigvectorscenter[i,:])\n",
    "        outerproduct1 =  np.outer(eigvectorscenter.T[:,0],eigvectorscenter[0,:])\n",
    "        outerproduct2 =  np.outer(eigvectorscenter.T[:,1],eigvectorscenter[1,:])        \n",
    "    correctionmatrix = I-outerproduct\n",
    "    return correctionmatrix"
   ]
  },
  {
   "cell_type": "code",
   "execution_count": 11,
   "id": "4e0c8cc7-c0e8-4dde-80dc-ce955038a2ce",
   "metadata": {},
   "outputs": [
    {
     "name": "stdout",
     "output_type": "stream",
     "text": [
      "Repeated K fold for center data\n",
      "========Repeated fold number 0 ========\n",
      "(65,)\n",
      "0.353 accuracy\n",
      "(65,)\n",
      "0.235 accuracy\n",
      "(66,)\n",
      "0.562 accuracy\n",
      "(66,)\n",
      "0.438 accuracy\n",
      "(66,)\n",
      "0.438 accuracy\n",
      "========Repeated fold number 1 ========\n",
      "(65,)\n",
      "0.471 accuracy\n",
      "(65,)\n",
      "0.412 accuracy\n",
      "(66,)\n",
      "0.250 accuracy\n",
      "(66,)\n",
      "0.312 accuracy\n",
      "(66,)\n",
      "0.312 accuracy\n",
      "2\n",
      "0\n",
      "1\n",
      "                                                     \n",
      "The sum of the digonal of the center relevance matrix\n",
      "0.9999999999999998\n",
      "                                                     \n"
     ]
    }
   ],
   "source": [
    "# check if this is the right label for disease\n",
    "data,labels,centerdata,centerlabels,scalar = getdata()\n",
    "\n",
    "centermodel,datamatrix,labelmatrix = train_modelkfold(centerdata,centerlabels,False,None,2,scalar)\n",
    "\n",
    "average_lambda_center = calculate_lambda(centermodel,2)\n",
    "\n",
    "print('                                                     ')\n",
    "\n",
    "\n",
    "print('The sum of the digonal of the center relevance matrix')\n",
    "\n",
    "print(np.sum(np.diagonal(average_lambda_center)))\n",
    "\n",
    "print('                                                     ')\n",
    "\n",
    "\n",
    "eigenvaluescenter,eigenvectorscenter = eigendecomposition(average_lambda_center)\n",
    "\n",
    "\n",
    "#correctionmatrix1 = correction_matrix(eigenvectorscenter)\n",
    "\n",
    "#correctionmatrix = correction_matrix()\n"
   ]
  },
  {
   "cell_type": "code",
   "execution_count": 12,
   "id": "b2ef0896-7662-4f25-bc8e-7791962d5a3d",
   "metadata": {},
   "outputs": [
    {
     "name": "stdout",
     "output_type": "stream",
     "text": [
      "Repeated K fold for disease data\n",
      "========Repeated fold number 0 ========\n",
      "(265,)\n",
      "0.388 accuracy\n",
      "(265,)\n",
      "0.507 accuracy\n",
      "(266,)\n",
      "0.545 accuracy\n",
      "(266,)\n",
      "0.636 accuracy\n",
      "(266,)\n",
      "0.500 accuracy\n",
      "========Repeated fold number 1 ========\n",
      "(265,)\n",
      "0.284 accuracy\n",
      "(265,)\n",
      "0.537 accuracy\n",
      "(266,)\n",
      "0.439 accuracy\n",
      "(266,)\n",
      "0.515 accuracy\n",
      "(266,)\n",
      "0.485 accuracy\n",
      "2\n",
      "0\n",
      "1\n",
      "The sum of the digonal of the disease relevance matrix\n",
      "1.0\n"
     ]
    }
   ],
   "source": [
    "\n",
    "diseasemodel,datamatrix1,labelmatrix1 = train_modelkfold(data,labels,True,None,2,scalar)\n",
    "\n",
    "average_lambda_disease = calculate_lambda(diseasemodel,2)\n",
    "\n",
    "eigenvaluesdisease,eigenvectorsdisease = eigendecomposition(average_lambda_disease)\n",
    "\n",
    "\n",
    "\n",
    "\n",
    "print('The sum of the digonal of the disease relevance matrix')\n",
    "\n",
    "print(np.sum(np.diagonal(average_lambda_disease)))\n"
   ]
  },
  {
   "cell_type": "code",
   "execution_count": 13,
   "id": "593b868d-bdf4-4066-bb38-c1ba027aea11",
   "metadata": {},
   "outputs": [
    {
     "name": "stdout",
     "output_type": "stream",
     "text": [
      "0.13287496881238725\n"
     ]
    }
   ],
   "source": [
    "first_eigen_vector = np.dot(eigenvectorsdisease[0,:],eigenvectorscenter[0,:])\n",
    "print(first_eigen_vector)"
   ]
  },
  {
   "cell_type": "code",
   "execution_count": 14,
   "id": "f2f7c8c8-80e1-4008-8325-55271ba8becb",
   "metadata": {},
   "outputs": [
    {
     "name": "stdout",
     "output_type": "stream",
     "text": [
      "-0.23731512407130362\n"
     ]
    }
   ],
   "source": [
    "first_eigen_vector = np.dot(diseasemodel[0][3].eigenvectors_[2,:],eigenvectorscenter[0,:])\n",
    "print(first_eigen_vector)"
   ]
  },
  {
   "cell_type": "code",
   "execution_count": 15,
   "id": "cf87a44c-d5a7-4a51-9457-5455b00f8ee9",
   "metadata": {},
   "outputs": [
    {
     "name": "stdout",
     "output_type": "stream",
     "text": [
      "0.14435531990115863\n"
     ]
    }
   ],
   "source": [
    "first_eigen_vector1 = np.dot(diseasemodel[0][0].eigenvectors_[0,:],centermodel[0][0].eigenvectors_[0,:])\n",
    "print(first_eigen_vector1)"
   ]
  },
  {
   "cell_type": "code",
   "execution_count": 16,
   "id": "09305a91-690a-4640-8e84-945be1502f73",
   "metadata": {},
   "outputs": [],
   "source": [
    "def check_orthogonality(centermodel,diseasemodel,dimensions,repeated,folds,eigenvectorscenter):\n",
    "    centerlist = list(chain.from_iterable(zip(*centermodel)))\n",
    "    disease_center = list()\n",
    "    disease_averagecenter= list()\n",
    "    for j in range(2):\n",
    "        for array,modeld in enumerate(diseasemodel[j]):\n",
    "            disease_averagecenter.append(np.dot(modeld.eigenvectors_[:2,:],eigenvectorscenter[:2,:].T))\n",
    "            for modelc in centerlist:\n",
    "                disease_center.append((np.dot(modeld.eigenvectors_[:2,:],modelc.eigenvectors_[:2,:].T)))\n",
    "    return disease_averagecenter,disease_center"
   ]
  },
  {
   "cell_type": "code",
   "execution_count": 17,
   "id": "5f64f30a-395d-4780-b94d-ce9cad89110b",
   "metadata": {},
   "outputs": [],
   "source": [
    "disease_averagecenter,diseasecenter = check_orthogonality(centermodel,diseasemodel,36,2,5,eigenvectorscenter)"
   ]
  },
  {
   "cell_type": "code",
   "execution_count": 18,
   "id": "946855e1-1cc1-4a15-843f-703d127ca8e9",
   "metadata": {},
   "outputs": [
    {
     "data": {
      "text/plain": [
       "(10, 2, 2)"
      ]
     },
     "execution_count": 18,
     "metadata": {},
     "output_type": "execute_result"
    }
   ],
   "source": [
    "np.shape(disease_averagecenter)"
   ]
  },
  {
   "cell_type": "code",
   "execution_count": 19,
   "id": "0a60468e-d158-49ef-b57a-2f41a2ff0149",
   "metadata": {},
   "outputs": [
    {
     "data": {
      "text/plain": [
       "100"
      ]
     },
     "execution_count": 19,
     "metadata": {},
     "output_type": "execute_result"
    }
   ],
   "source": [
    "len(diseasecenter)"
   ]
  },
  {
   "cell_type": "code",
   "execution_count": 20,
   "id": "3b4d7c94-f591-43af-9f90-fb52a695e665",
   "metadata": {},
   "outputs": [],
   "source": [
    "# Plot the eigenvalues of the eigenvectors of the relevance matrix.\n",
    "def ploteigenvalues(eigenvalues,eigenvectors,average_lambda,d):\n",
    "    fig, ax = plt.subplots()\n",
    "    fig.suptitle(\"Eigen values with correction \"+d+ \" main data\")\n",
    "    ax.bar(range(0, len(eigenvalues)), eigenvalues)\n",
    "    ax.set_ylabel(\"Weight\")\n",
    "    ax.grid(False)\n",
    "    fig.savefig('eigenvalues'+d+'.eps', format='eps')\n",
    "    #fig.savefig('eigenvalues+d+.svg\", format ='svg', dpi=1200)\n",
    "\n",
    "\n",
    "    # Plot the first two eigenvectors of the relevance matrix, which  is called `omega_hat`.\n",
    "    fig, ax = plt.subplots()\n",
    "    fig.suptitle(\"First Eigenvector with correction \" +d+ \" main data\")\n",
    "    ax.bar(feature_names, eigenvectors[0, :])\n",
    "    ax.set_ylabel(\"Weight\")\n",
    "    ax.grid(False)\n",
    "    fig.savefig('Firsteigenvector'+d+'.eps', format='eps')\n",
    "\n",
    "    fig, ax = plt.subplots()\n",
    "    fig.suptitle(\"Second Eigenvector with correction \" +d+ \" main data\")\n",
    "    ax.bar(feature_names, eigenvectors[1, :])\n",
    "    ax.set_ylabel(\"Weight\")\n",
    "    ax.grid(False)\n",
    "    fig.savefig('Secondeigenvector'+d+'.eps', format='eps')\n",
    "\n",
    "    fig, ax = plt.subplots()\n",
    "    # The relevance matrix is available after fitting the model.\n",
    "    relevance_matrix = average_lambda\n",
    "    fig.suptitle(\"Relevance Matrix Diagonal with correction \" +d+ \" main data\")\n",
    "    ax.bar(feature_names, np.diagonal(relevance_matrix))\n",
    "    ax.set_ylabel(\"Weight\")\n",
    "    ax.grid(False)\n",
    "    fig.savefig('relevancematrix'+d+'.eps', format='eps')"
   ]
  },
  {
   "cell_type": "code",
   "execution_count": 21,
   "id": "525614cf-2cdc-4b98-a526-7d27b1dd50ee",
   "metadata": {},
   "outputs": [
    {
     "data": {
      "image/png": "[encoded data removed]",
      "text/plain": [
       "<Figure size 432x288 with 1 Axes>"
      ]
     },
     "metadata": {
      "needs_background": "light"
     },
     "output_type": "display_data"
    },
    {
     "data": {
      "image/png": "[encoded data removed]",
      "text/plain": [
       "<Figure size 432x288 with 1 Axes>"
      ]
     },
     "metadata": {
      "needs_background": "light"
     },
     "output_type": "display_data"
    },
    {
     "data": {
      "image/png": "[encoded data removed]",
      "text/plain": [
       "<Figure size 432x288 with 1 Axes>"
      ]
     },
     "metadata": {
      "needs_background": "light"
     },
     "output_type": "display_data"
    },
    {
     "data": {
      "image/png": "[encoded data removed]",
      "text/plain": [
       "<Figure size 432x288 with 1 Axes>"
      ]
     },
     "metadata": {
      "needs_background": "light"
     },
     "output_type": "display_data"
    }
   ],
   "source": [
    "ploteigenvalues(eigenvaluescenter,eigenvectorscenter,average_lambda_center,'center')"
   ]
  },
  {
   "cell_type": "code",
   "execution_count": 22,
   "id": "2a17df53-ec79-43a7-bd66-47fce741eb6a",
   "metadata": {},
   "outputs": [
    {
     "data": {
      "image/png": "[encoded data removed]",
      "text/plain": [
       "<Figure size 432x288 with 1 Axes>"
      ]
     },
     "metadata": {
      "needs_background": "light"
     },
     "output_type": "display_data"
    },
    {
     "data": {
      "image/png": "[encoded data removed]",
      "text/plain": [
       "<Figure size 432x288 with 1 Axes>"
      ]
     },
     "metadata": {
      "needs_background": "light"
     },
     "output_type": "display_data"
    },
    {
     "data": {
      "image/png": "[encoded data removed]",
      "text/plain": [
       "<Figure size 432x288 with 1 Axes>"
      ]
     },
     "metadata": {
      "needs_background": "light"
     },
     "output_type": "display_data"
    },
    {
     "data": {
      "image/png": "[encoded data removed]",
      "text/plain": [
       "<Figure size 432x288 with 1 Axes>"
      ]
     },
     "metadata": {
      "needs_background": "light"
     },
     "output_type": "display_data"
    }
   ],
   "source": [
    "ploteigenvalues(eigenvaluesdisease,eigenvectorsdisease,average_lambda_disease,'disease')"
   ]
  },
  {
   "cell_type": "code",
   "execution_count": 23,
   "id": "3105a101-52bb-4c05-b520-9657fe6d1b0e",
   "metadata": {},
   "outputs": [],
   "source": [
    "def transform1(X,eigenvectoraverage,scale):\n",
    "    r\"\"\"\n",
    "    Parameters\n",
    "    ----------\n",
    "    X : np.ndarray with shape (n_samples, n_features)\n",
    "        Data that needs to be transformed\n",
    "    scale : {True, False}, default = False\n",
    "        Controls if the eigenvectors the data is projected on are scaled by the square root\n",
    "        of their eigenvalues.\n",
    "\n",
    "    Returns\n",
    "    -------\n",
    "    The data projected on columns of ``omega_hat_`` with shape (n_samples, n_columns)\n",
    "    \"\"\"\n",
    "    if scale == True:\n",
    "        return np.matmul(X, eigenvectoraverage.T)\n",
    "\n",
    "    return np.matmul(X, eigenvectoraverage.T)"
   ]
  },
  {
   "cell_type": "code",
   "execution_count": 24,
   "id": "adb025de-fb61-491c-9c41-fbb80646a958",
   "metadata": {},
   "outputs": [],
   "source": [
    "# removing the z transform\n",
    "def visualize(model,scaler,centerdata,centerlabels,eigenvectoraverage):\n",
    "    \n",
    "    centerdata = scaler.inverse_transform(centerdata)\n",
    "    transformed_data = transform1(centerdata,eigenvectoraverage,True)\n",
    "\n",
    "    x_d = transformed_data[:, 0]\n",
    "    y_d = transformed_data[:, 1]\n",
    "\n",
    "    # Transform the model, i.e., the prototypes (scaled by square root of eigenvalues \"scale = True\")\n",
    "    # prototype inverser transform\n",
    "    prototypes = scaler.inverse_transform(model.prototypes_)\n",
    "    \n",
    "    #transformed_model = model.transform(model.prototypes_, scale=True)\n",
    "    transformed_model = transform1(prototypes,eigenvectoraverage,True)\n",
    "\n",
    "    print(len(model.prototypes_))\n",
    "    x_m = transformed_model[:, 0]\n",
    "    y_m = transformed_model[:, 1]\n",
    "\n",
    "    fig, ax = plt.subplots()\n",
    "    fig.suptitle(\"Maindataset disease data with corresponding prototypes\")\n",
    "    colors = ['yellow','magenta','brown']#,'pink','lightgreen']\n",
    "    for i, cls in enumerate(model.classes_):\n",
    "        ii = cls == centerlabels\n",
    "        ax.scatter(\n",
    "            x_d[ii],\n",
    "            y_d[ii],\n",
    "            c=colors[i],\n",
    "            s=100,\n",
    "            alpha=0.7,\n",
    "            edgecolors=\"white\",\n",
    "            label=model.classes_[model.prototypes_labels_[i]],\n",
    "        )\n",
    "    ax.scatter(x_m, y_m, c=colors, s=180, alpha=0.8, edgecolors=\"black\", linewidth=2.0)\n",
    "    ax.set_xlabel(\"First eigenvector\")\n",
    "    ax.set_ylabel(\"Second eigenvector\")\n",
    "    ax.legend()\n",
    "    ax.grid(True)\n",
    "    print(model.classes_)\n",
    "    plt.savefig('disease.png')\n",
    "    #plt.savefig('destination_path23.eps', format='eps')\n",
    "    print('A1: Black, A2: Red, B1: Green, B2: Blue, Centers A and B, and diseases 1 and 2.) ')"
   ]
  },
  {
   "cell_type": "code",
   "execution_count": 25,
   "id": "7b7a9456-f504-466e-a06a-c3f25ff38f23",
   "metadata": {},
   "outputs": [],
   "source": [
    "# removing the z transform\n",
    "def visualize_diseaseaverage(model,scaler,diseasedata,diseaselabel,eigenvectoraverage):\n",
    "    \n",
    "    centerdata = scaler.inverse_transform(centerdata)\n",
    "    transformed_data = transform1(diseasedata,eigenvectoraverage,True)\n",
    "\n",
    "    x_d = transformed_data[:, 0]\n",
    "    y_d = transformed_data[:, 1]\n",
    "\n",
    "    # Transform the model, i.e., the prototypes (scaled by square root of eigenvalues \"scale = True\")\n",
    "    # prototype inverser transform\n",
    "    prototypes = scaler.inverse_transform(model.prototypes_)\n",
    "    \n",
    "    #transformed_model = model.transform(model.prototypes_, scale=True)\n",
    "    transformed_model = transform1(prototypes,eigenvectoraverage,True)\n",
    "\n",
    "    print(len(model.prototypes_))\n",
    "    x_m = transformed_model[:, 0]\n",
    "    y_m = transformed_model[:, 1]\n",
    "\n",
    "    fig, ax = plt.subplots()\n",
    "    fig.suptitle(\"Maindataset disease data with corresponding prototypes\")\n",
    "    colors = ['yellow','magenta','lightgreen']#,'pink','lightgreen']\n",
    "    for i, cls in enumerate(model.classes_):\n",
    "        ii = cls == centerlabels\n",
    "        ax.scatter(\n",
    "            x_d[ii],\n",
    "            y_d[ii],\n",
    "            c=colors[i],\n",
    "            s=100,\n",
    "            alpha=0.7,\n",
    "            edgecolors=\"white\",\n",
    "            label=model.classes_[model.prototypes_labels_[i]],\n",
    "        )\n",
    "    ax.scatter(x_m, y_m, c=colors, s=180, alpha=0.8, edgecolors=\"black\", linewidth=2.0)\n",
    "    ax.set_xlabel(\"First eigenvector\")\n",
    "    ax.set_ylabel(\"Second eigenvector\")\n",
    "    ax.legend()\n",
    "    ax.grid(True)\n",
    "    print(model.classes_)\n",
    "    plt.savefig('disease.png')\n",
    "    #plt.savefig('destination_path23.eps', format='eps')\n",
    "    print('A1: Black, A2: Red, B1: Green, B2: Blue, Centers A and B, and diseases 1 and 2.) ')"
   ]
  },
  {
   "cell_type": "code",
   "execution_count": 26,
   "id": "fcd3e39b-b74a-4e3d-b089-78f5fe624bad",
   "metadata": {},
   "outputs": [],
   "source": [
    "# removing the z transform\n",
    "def visualize_disease(model,scaler,data,labels):\n",
    "    \n",
    "    data = scaler.inverse_transform(data)\n",
    "    transformed_data = model.transform(data, scale=True)\n",
    "\n",
    "    x_d = transformed_data[:, 0]\n",
    "    y_d = transformed_data[:, 1]\n",
    "\n",
    "    # Transform the model, i.e., the prototypes (scaled by square root of eigenvalues \"scale = True\")\n",
    "    # prototype inverser transform\n",
    "    prototypes = scaler.inverse_transform(model.prototypes_)\n",
    "\n",
    "    transformed_model = model.transform(prototypes, scale=True)\n",
    "\n",
    "    print(len(model.prototypes_))\n",
    "    x_m = transformed_model[:, 0]\n",
    "    y_m = transformed_model[:, 1]\n",
    "\n",
    "    fig, ax = plt.subplots()\n",
    "    fig.suptitle(\"Maindataset disease data with corresponding prototypes\")\n",
    "    colors = ['yellow','magenta','lightgreen']#,'pink','lightgreen']\n",
    "    for i, cls in enumerate(model.classes_):\n",
    "        ii = cls == labels\n",
    "        ax.scatter(\n",
    "            x_d[ii],\n",
    "            y_d[ii],\n",
    "            c=colors[i],\n",
    "            s=100,\n",
    "            alpha=0.7,\n",
    "            edgecolors=\"white\",\n",
    "            label=model.classes_[model.prototypes_labels_[i]],\n",
    "        )\n",
    "    ax.scatter(x_m, y_m, c=colors, s=180, alpha=0.8, edgecolors=\"black\", linewidth=2.0)\n",
    "    ax.set_xlabel(\"First eigenvector\")\n",
    "    ax.set_ylabel(\"Second eigenvector\")\n",
    "    ax.legend()\n",
    "    ax.grid(True)\n",
    "    print(model.classes_)\n",
    "    plt.savefig('disease.png')\n",
    "    #plt.savefig('destination_path23.eps', format='eps')\n",
    "    print('A1: Black, A2: Red, B1: Green, B2: Blue, Centers A and B, and diseases 1 and 2.) ')"
   ]
  },
  {
   "cell_type": "code",
   "execution_count": 27,
   "id": "f38d7a50-2891-4882-95a3-fd7131c65439",
   "metadata": {},
   "outputs": [
    {
     "name": "stdout",
     "output_type": "stream",
     "text": [
      "3\n",
      "['HCCUN' 'HCUGOSM' 'HCUMCG']\n",
      "A1: Black, A2: Red, B1: Green, B2: Blue, Centers A and B, and diseases 1 and 2.) \n",
      "3\n",
      "['AD' 'HC' 'PD']\n",
      "A1: Black, A2: Red, B1: Green, B2: Blue, Centers A and B, and diseases 1 and 2.) \n",
      "3\n",
      "['AD' 'HC' 'PD']\n",
      "A1: Black, A2: Red, B1: Green, B2: Blue, Centers A and B, and diseases 1 and 2.) \n"
     ]
    },
    {
     "data": {
      "image/png": "[encoded data removed]",
      "text/plain": [
       "<Figure size 432x288 with 1 Axes>"
      ]
     },
     "metadata": {
      "needs_background": "light"
     },
     "output_type": "display_data"
    },
    {
     "data": {
      "image/png": "[encoded data removed]",
      "text/plain": [
       "<Figure size 432x288 with 1 Axes>"
      ]
     },
     "metadata": {
      "needs_background": "light"
     },
     "output_type": "display_data"
    },
    {
     "data": {
      "image/png": "[encoded data removed]",
      "text/plain": [
       "<Figure size 432x288 with 1 Axes>"
      ]
     },
     "metadata": {
      "needs_background": "light"
     },
     "output_type": "display_data"
    }
   ],
   "source": [
    "visualize(centermodel[0][0],scalar,datamatrix[0][0],labelmatrix[0][0],eigenvectorscenter)\n",
    "visualize(diseasemodel[0][1],scalar,datamatrix1[0][1],labelmatrix1[0][1],eigenvectorsdisease)\n",
    "\n",
    "visualize_disease(diseasemodel[0][1],scalar,datamatrix1[0][1],labelmatrix1[0][1])"
   ]
  },
  {
   "cell_type": "code",
   "execution_count": null,
   "id": "8f2884ff-4ed6-4193-9688-0ac4ffc30be9",
   "metadata": {},
   "outputs": [],
   "source": []
  }
 ],
 "metadata": {
  "kernelspec": {
   "display_name": "Python 3",
   "language": "python",
   "name": "python3"
  },
  "language_info": {
   "codemirror_mode": {
    "name": "ipython",
    "version": 3
   },
   "file_extension": ".py",
   "mimetype": "text/x-python",
   "name": "python",
   "nbconvert_exporter": "python",
   "pygments_lexer": "ipython3",
   "version": "3.8.5"
  }
 },
 "nbformat": 4,
 "nbformat_minor": 5
}

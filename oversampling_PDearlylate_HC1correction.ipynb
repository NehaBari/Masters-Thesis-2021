{
 "cells": [
  {
   "cell_type": "markdown",
   "id": "d7de23e3-e618-42b7-87fb-35fc0f973460",
   "metadata": {
    "tags": []
   },
   "source": [
    "## 6 class AD PD model"
   ]
  },
  {
   "cell_type": "code",
   "execution_count": 1,
   "id": "69d10766-4a2b-4a94-83da-0f8790ca5cc6",
   "metadata": {},
   "outputs": [
    {
     "name": "stdout",
     "output_type": "stream",
     "text": [
      "Requirement already satisfied: imblearn in /home/gebruiker/.local/lib/python3.8/site-packages (0.0)\n",
      "Requirement already satisfied: imbalanced-learn in /home/gebruiker/.local/lib/python3.8/site-packages (from imblearn) (0.8.0)\n",
      "Requirement already satisfied: numpy>=1.13.3 in /home/gebruiker/.local/lib/python3.8/site-packages (from imbalanced-learn->imblearn) (1.20.1)\n",
      "Requirement already satisfied: scikit-learn>=0.24 in /home/gebruiker/.local/lib/python3.8/site-packages (from imbalanced-learn->imblearn) (0.24.1)\n",
      "Requirement already satisfied: joblib>=0.11 in /home/gebruiker/.local/lib/python3.8/site-packages (from imbalanced-learn->imblearn) (1.0.1)\n",
      "Requirement already satisfied: scipy>=0.19.1 in /home/gebruiker/.local/lib/python3.8/site-packages (from imbalanced-learn->imblearn) (1.6.1)\n",
      "Requirement already satisfied: threadpoolctl>=2.0.0 in /home/gebruiker/.local/lib/python3.8/site-packages (from scikit-learn>=0.24->imbalanced-learn->imblearn) (2.1.0)\n"
     ]
    }
   ],
   "source": [
    "import pandas as pd\n",
    "import matplotlib\n",
    "import matplotlib.pyplot as plt\n",
    "import numpy as np\n",
    "from sklearn.preprocessing import StandardScaler\n",
    "from sklearn.preprocessing import OrdinalEncoder\n",
    "from sklvq import GMLVQ\n",
    "from timeit import timeit\n",
    "from sklearn.model_selection import KFold\n",
    "from itertools import chain\n",
    "from sklearn.metrics import confusion_matrix\n",
    "from sklearn.model_selection import (\n",
    "    cross_val_score,\n",
    "    RepeatedKFold,\n",
    ")\n",
    "from sklearn.pipeline import make_pipeline\n",
    "from sklearn.metrics import precision_recall_curve\n",
    "from sklearn.metrics import roc_curve,roc_auc_score,auc\n",
    "import colorama\n",
    "from colorama import Fore, Style\n",
    "matplotlib.rc(\"xtick\", labelsize=\"small\")\n",
    "matplotlib.rc(\"ytick\", labelsize=\"small\")\n",
    "\n",
    "!pip3 install imblearn\n",
    "\n",
    "from imblearn.over_sampling import RandomOverSampler\n",
    "from sklearn.model_selection import StratifiedKFold\n"
   ]
  },
  {
   "cell_type": "code",
   "execution_count": 2,
   "id": "3202a5d3-4161-4efa-bfdf-d854bc9f214e",
   "metadata": {},
   "outputs": [],
   "source": [
    "def getdata():\n",
    "    data = pd.read_csv(\"feature_vectors.csv\").to_numpy()\n",
    "    labels = pd.read_csv(\"diagnosis_label.csv\").to_numpy().squeeze()\n",
    "    labelscenter = pd.read_csv(\"center_label.csv\").to_numpy().squeeze()\n",
    "\n",
    "    labelsfinal = labels + labelscenter\n",
    "    \n",
    "    # better way to perform this\n",
    "    labelsdiseases1 = np.where(labelsfinal == 'HCUMCG') \n",
    "    centerlabels1 = labelsfinal[labelsdiseases1]\n",
    "    labelsdiseases2 = np.where(labelsfinal == 'HCUGOSM') \n",
    "    #labelsdiseases = np.where(labels == 'HCCUN','1',centerlabels) \n",
    "    centerlabels2 = labelsfinal[labelsdiseases2]\n",
    "    labelsdiseases3 = np.where(labelsfinal == 'HCCUN') \n",
    "    centerlabels3 = labelsfinal[labelsdiseases3]\n",
    "    \n",
    "    # better way to perform this\n",
    "    centerlabels = np.concatenate((centerlabels1,centerlabels2,centerlabels3))\n",
    "    centerdata = data[labelsdiseases1]\n",
    "    centerdata = np.concatenate((centerdata,data[labelsdiseases2]))\n",
    "    centerdata = np.concatenate((centerdata,data[labelsdiseases3]))\n",
    "    \n",
    "    scalar = StandardScaler()\n",
    "\n",
    "    return data,labels,centerdata,centerlabels,labelscenter,scalar,labelsfinal"
   ]
  },
  {
   "cell_type": "code",
   "execution_count": 3,
   "id": "a2aed082-2c6e-44b8-b7a9-7cf7ef81c4c0",
   "metadata": {},
   "outputs": [],
   "source": [
    "def ztransform(data_ztransform,scalarz):\n",
    "    # Sklearn's standardscaler to perform z-transform\n",
    "\n",
    "    # Compute (fit) and apply (transform) z-transform\n",
    "    # why do we do an inverse z transform\n",
    "    #scalar = scalar\n",
    "    data_ztransform = scalarz.fit_transform(data_ztransform)\n",
    "    return data_ztransform,scalarz"
   ]
  },
  {
   "cell_type": "code",
   "execution_count": 4,
   "id": "e24eaf5a-8a91-4ac4-b4f8-c344d3f3750e",
   "metadata": {},
   "outputs": [],
   "source": [
    "class ProcessLogger:\n",
    "    def __init__(self):\n",
    "        self.states = np.array([])\n",
    "\n",
    "    # A callback function has to accept two arguments, i.e., model and state, where model is the\n",
    "    # current model, and state contains a number of the optimizers variables.\n",
    "    def __call__(self, state):\n",
    "        self.states = np.append(self.states, state)\n",
    "        return False  # The callback function can also be used to stop training early,\n",
    "        # if some condition is met by returning True.\n",
    "\n",
    "        \n",
    "        \n",
    "logger = ProcessLogger()\n",
    "\n"
   ]
  },
  {
   "cell_type": "code",
   "execution_count": 5,
   "id": "d2c57056-faf4-4b7b-a736-17e99ff18eb6",
   "metadata": {},
   "outputs": [],
   "source": [
    "def model_definition_center():\n",
    "    \n",
    "    model = GMLVQ(\n",
    "    distance_type=\"adaptive-squared-euclidean\",\n",
    "    activation_type=\"sigmoid\",\n",
    "    activation_params={\"beta\": 2},\n",
    "        #wgd\n",
    "    solver_type=\"wgd\",\n",
    "    solver_params={\"max_runs\": 50,\"step_size\": np.array([0.05, 0.03]),\"callback\": logger},\n",
    "    #solver_params={\"max_runs\": 10,\"batch_size\":1,\"step_size\": np.array([0.1, 0.05])},\n",
    "    random_state=1428,)\n",
    "    \n",
    "    return model"
   ]
  },
  {
   "cell_type": "code",
   "execution_count": 6,
   "id": "00982c12-964c-4d89-a7af-4b08ef40515c",
   "metadata": {},
   "outputs": [],
   "source": [
    "def model_definition_disease(correctionmatrix):\n",
    "    model1 = GMLVQ(\n",
    "        distance_type=\"adaptive-squared-euclidean\",\n",
    "        activation_type=\"sigmoid\",\n",
    "        activation_params={\"beta\": 2},\n",
    "        solver_type=\"wgd\",\n",
    "        solver_params={\"max_runs\": 50,\"step_size\": np.array([0.06, 0.03]),\"callback\": logger},\n",
    "        #solver_params={\"max_runs\": 10,\"batch_size\":1,\"step_size\": np.array([0.1, 0.05])},\n",
    "        random_state=1428,\n",
    "        relevance_correction=correctionmatrix\n",
    "    )\n",
    "    return model1"
   ]
  },
  {
   "cell_type": "code",
   "execution_count": 7,
   "id": "f994e290-fe66-4baf-8d69-e5c690930871",
   "metadata": {},
   "outputs": [],
   "source": [
    "def train_modelkfold(data, label,disease,correctionmatrix1,repeated,scalar,folds):\n",
    "    modelmatrix = np.zeros((repeated,folds),dtype=object) \n",
    "    scalars = np.zeros((repeated,folds),dtype=object)\n",
    "    datamatrix =  np.zeros((repeated,folds),dtype=object) \n",
    "    labelmatrix = np.zeros((repeated,folds),dtype=object)\n",
    "    accuracies = np.zeros((repeated,folds),dtype=float) \n",
    "    # each entry will store the test labels and the predicted labels\n",
    "    testlabels = np.zeros((repeated,folds),dtype=object) \n",
    "    predicted = np.zeros((repeated,folds),dtype=object) \n",
    "    probablities = np.zeros((repeated,folds),dtype=object) \n",
    "    laeblscore = np.zeros((repeated,folds),dtype=object) \n",
    "    testing_indicesM = np.zeros((repeated,folds),dtype=object) \n",
    "    traning_indicesM = np.zeros((repeated,folds),dtype=object) \n",
    "    \n",
    "    if disease==False:\n",
    "        print('Repeated K fold for center data')\n",
    "    else:\n",
    "        print('Repeated K fold for disease data')\n",
    "    for repeated in range(repeated):\n",
    "        \n",
    "        print(\"========Repeated fold number\",str(repeated),\"========\")\n",
    "        kfold = StratifiedKFold(folds, shuffle=True)\n",
    "        \n",
    "        \n",
    "        for k, (training_indices, testing_indices) in enumerate(kfold.split(data,label)):\n",
    "            if disease==False:\n",
    "                model = model_definition_center()\n",
    "                #print('in this')\n",
    "                #print(type(model))\n",
    "            else:\n",
    "                #model = model_definition_center()\n",
    "                model = model_definition_disease(correctionmatrix1)\n",
    "            accuracy = 0\n",
    "            correct = 0\n",
    "            trainX, trainY, testX, testY = data[training_indices], label[training_indices], data[testing_indices], label[testing_indices]\n",
    "            \n",
    "            \n",
    "            # oversampling done and z transform applied\n",
    "            oversample = RandomOverSampler(sampling_strategy='minority')\n",
    "            trainX, trainY = oversample.fit_resample(trainX, trainY)\n",
    "\n",
    "            #applying z transform on training data only\n",
    "            trainX,scalar1 = ztransform(trainX,scalar)\n",
    "            model.fit(trainX,trainY)\n",
    "            \n",
    "            # model is fitted, can also do = model\n",
    "            modelmatrix[repeated,k] = model\n",
    "            datamatrix[repeated,k] = trainX\n",
    "            \n",
    "            \n",
    "            labelmatrix[repeated,k] = trainY\n",
    "\n",
    "            testX = scalar1.transform(testX)\n",
    "            predictedlabels = model.predict(testX)\n",
    "            #print(confusion_matrix(testX, predictedlabels))\n",
    "            for i in range(len(predictedlabels)):                \n",
    "                if(predictedlabels[i]==testY[i]):\n",
    "                    correct = correct+1\n",
    "                    \n",
    "            scalars[repeated,k] = scalar1\n",
    "            \n",
    "            probabilties = model.predict_proba(testX)\n",
    "            \n",
    "            laeblscore[repeated,k] = model.decision_function(testX)\n",
    "            \n",
    "            probablities[repeated,k] = probabilties\n",
    "            \n",
    "            testlabels[repeated,k] = testY\n",
    "            \n",
    "            predicted[repeated,k] = predictedlabels\n",
    "            \n",
    "            \n",
    "            testing_indicesM[repeated,k] = testing_indices\n",
    "            traning_indicesM[repeated,k] = training_indices\n",
    "            # accuracy and error rate for the validation set(test set in kfold)\n",
    "            accuracy = correct/len(testY)\n",
    "            print('%.3f accuracy' % (correct/len(testY)))\n",
    "            \n",
    "            # could also plot same for the training set in the kfold\n",
    "    return modelmatrix,datamatrix,labelmatrix,scalars,testlabels,predicted,probablities,laeblscore,testing_indicesM,traning_indicesM"
   ]
  },
  {
   "cell_type": "code",
   "execution_count": 8,
   "id": "8cbe8b86-7264-4184-9299-fedcd77b4244",
   "metadata": {},
   "outputs": [],
   "source": [
    "def calculate_lambda(modelmatrix,repeated):\n",
    "    #average_lambda = np.mean(sum(model.lambda_ for model in modellist),axis=0)\n",
    "    #check the shape of total_lambda\n",
    "    \n",
    "    total_lambda = np.zeros((36,36),dtype = 'float')\n",
    "    print(repeated)\n",
    "    for index in range(repeated):\n",
    "        print(index)\n",
    "        lambdaperfold = np.zeros((36,36),dtype='float')        \n",
    "        \n",
    "        for modelin in modelmatrix[index,:]:\n",
    "            lambdaperfold = lambdaperfold + modelin.lambda_\n",
    "\n",
    "        lambdaperfold = lambdaperfold/np.shape(modelmatrix)[1]\n",
    "        \n",
    "        total_lambda = total_lambda + lambdaperfold\n",
    "        \n",
    "    total_lambda = total_lambda/repeated\n",
    "\n",
    "    return total_lambda"
   ]
  },
  {
   "cell_type": "code",
   "execution_count": 9,
   "id": "df865776-0f42-4239-a7ee-cebe14a57c44",
   "metadata": {},
   "outputs": [],
   "source": [
    "def eigendecomposition(average_lambda):\n",
    "    eigenvalues, eigenvectors = np.linalg.eigh(average_lambda)\n",
    "    # eigen vectors returned in columns\n",
    "    # Flip (reverse the order to descending) before assigning.\n",
    "    eigenvalues = np.flip(eigenvalues)\n",
    "\n",
    "    # eigenvectors are column matrix in ascending order. Flip the columns and transpose the matrix\n",
    "    # to get the descending ordered row matrix.\n",
    "    \n",
    "    # eigenvectors are row matrices\n",
    "    #eigenvectors = eigenvectors.T\n",
    "    #eigenvectors = np.flip(eigenvectors,axis=0)\n",
    "    eigenvectors = np.flip(eigenvectors, axis=1).T\n",
    "    \n",
    "    return eigenvalues,eigenvectors"
   ]
  },
  {
   "cell_type": "code",
   "execution_count": 10,
   "id": "2e509042-110f-4cb4-a5b6-a551806c2fcc",
   "metadata": {},
   "outputs": [],
   "source": [
    "feature_names = ['a', 'b', 'c', 'd', 'e', 'f', 'g', 'h', 'i', 'j', 'k', 'l', 'm', 'n', 'o', 'p', 'q', 'r', 's', 't', 'u', 'v', 'w', 'x', 'y', 'z','ab','ac','ad','ae','af','ag','ah','ai','aj','ak']\n"
   ]
  },
  {
   "cell_type": "code",
   "execution_count": 11,
   "id": "107fd399-d6bd-4fa5-93e9-e807c4ddb73f",
   "metadata": {},
   "outputs": [],
   "source": [
    "\n",
    "def correction_matrix(eigvectorscenter):\n",
    "    N=36\n",
    "    K=1\n",
    "    I = np.identity(N)\n",
    "    outerproduct = np.zeros((N,N))   \n",
    "    for i in range(K):\n",
    "        # check this\n",
    "        outerproduct +=  np.outer(eigvectorscenter.T[:,i],eigvectorscenter[i,:])\n",
    "        outerproduct1 =  np.outer(eigvectorscenter.T[:,0],eigvectorscenter[0,:])\n",
    "        outerproduct2 =  np.outer(eigvectorscenter.T[:,1],eigvectorscenter[1,:])        \n",
    "    correctionmatrix = I-outerproduct\n",
    "    return correctionmatrix"
   ]
  },
  {
   "cell_type": "markdown",
   "id": "86794a10-f6ae-4822-8a69-868aa25b50e0",
   "metadata": {},
   "source": [
    "## Center data and labels"
   ]
  },
  {
   "cell_type": "code",
   "execution_count": 12,
   "id": "81b57d24-53a4-426d-9e34-e552fd1b0762",
   "metadata": {},
   "outputs": [],
   "source": [
    "data,labels,centerdata1,centerlabels1,labelscenter,scalar,labelsfinal = getdata()\n",
    "\n",
    "\n",
    "\n",
    "######UMCG indices##########\n",
    "\n",
    "#ADindices = np.where(labels=='AD')\n",
    "\n",
    "UMCGindices = np.where(labelscenter=='UMCG')\n",
    "\n",
    "# fetch umcg indices\n",
    "datanoUMCG = np.delete(data,UMCGindices,axis=0)\n"
   ]
  },
  {
   "cell_type": "code",
   "execution_count": 13,
   "id": "92e95143-42fd-4995-a619-6d1281540aab",
   "metadata": {},
   "outputs": [],
   "source": [
    "# center \n",
    "# UMCG,CUN,UGOSM\n",
    "labelscenternoUMCG = np.delete(labelscenter,UMCGindices,axis=0)\n",
    "\n",
    "\n",
    "# get AD indices \n",
    "\n",
    "# disease\n",
    "# remove UMCG\n",
    "labelsdiseasenoUMCG = np.delete(labels,UMCGindices,axis=0)\n",
    "\n",
    "### get AD indices\n",
    "ADindices = np.where(labelsdiseasenoUMCG=='AD')\n",
    "\n",
    "\n",
    "\n",
    "\n",
    "\n",
    "####################### Remove adindices from center and disease##################################\n",
    "centerdata_noAD = np.delete(datanoUMCG,ADindices,axis=0)\n",
    "\n",
    "#Final center labels after AD is removed\n",
    "centerlabels_noAD = np.delete(labelscenternoUMCG,ADindices,axis=0)\n",
    "\n",
    "\n",
    "# remove AD\n",
    "diseasedata_noAD = np.delete(datanoUMCG,ADindices,axis=0)\n",
    "# labelsnoAD for disease data\n",
    "diseaselabels_noAD = np.delete(labelsdiseasenoUMCG,ADindices,axis=0)\n",
    "\n",
    "\n",
    "\n",
    "####################### Remove PD indices from center##################################\n",
    "\n",
    "PDindices = np.where(diseaselabels_noAD=='PD')\n",
    "\n",
    "################# FINAL Center data and labels###################\n",
    "\n",
    "finaldatacenter1 = np.delete(centerdata_noAD,PDindices,axis=0)\n",
    "\n",
    "finalcenterlabels1 = np.delete(centerlabels_noAD,PDindices,axis = 0)\n",
    "\n",
    "\n",
    "################# FINAL disease data and labels###################\n",
    "\n",
    "finaldatadisease = diseasedata_noAD\n",
    "\n",
    "Finallabelsdisease = diseaselabels_noAD + centerlabels_noAD\n",
    "\n",
    "\n"
   ]
  },
  {
   "cell_type": "code",
   "execution_count": 14,
   "id": "e1ec6a68-f00c-43a3-b15d-7f867b5ec056",
   "metadata": {},
   "outputs": [
    {
     "name": "stdout",
     "output_type": "stream",
     "text": [
      "63\n"
     ]
    }
   ],
   "source": [
    "print(len(finalcenterlabels1))"
   ]
  },
  {
   "cell_type": "code",
   "execution_count": 15,
   "id": "f3daa335-6cd3-4fa5-9967-1409ad2c05c3",
   "metadata": {},
   "outputs": [],
   "source": [
    "a2=np.where(Finallabelsdisease=='HCUGOSM')\n",
    "a3=np.where(Finallabelsdisease=='HCCUN')\n",
    "Finallabelsdisease[a2] = 'HC'\n",
    "Finallabelsdisease[a3] = 'HC'"
   ]
  },
  {
   "cell_type": "code",
   "execution_count": 16,
   "id": "1d7e44d2-0926-40f0-a570-a45e6ad72519",
   "metadata": {},
   "outputs": [
    {
     "data": {
      "text/plain": [
       "(array([ 0,  1,  2,  3,  4,  5,  6,  7,  8,  9, 10, 11, 12, 13, 14, 15, 16,\n",
       "        17, 18, 19, 20, 21, 22, 23, 24, 25, 26, 27, 28, 29, 30, 31, 32, 33,\n",
       "        34, 35, 36, 37, 38, 39, 40, 41, 42, 43]),)"
      ]
     },
     "execution_count": 16,
     "metadata": {},
     "output_type": "execute_result"
    }
   ],
   "source": [
    "a2"
   ]
  },
  {
   "cell_type": "code",
   "execution_count": 17,
   "id": "0e49cab6-2c67-4511-bae9-4b98059dd188",
   "metadata": {},
   "outputs": [
    {
     "data": {
      "text/plain": [
       "(array([ 82,  83,  84,  85,  86,  87,  88,  89,  90,  91,  92,  93,  94,\n",
       "         95,  96,  97,  98,  99, 100]),)"
      ]
     },
     "execution_count": 17,
     "metadata": {},
     "output_type": "execute_result"
    }
   ],
   "source": [
    "a3"
   ]
  },
  {
   "cell_type": "code",
   "execution_count": 18,
   "id": "c9a817cf-41c6-4c05-a5db-d862d3d0a020",
   "metadata": {},
   "outputs": [
    {
     "data": {
      "text/plain": [
       "array([ 5.16579464, -5.05629722, -0.21070551, -6.63773558,  3.42607724,\n",
       "       -4.54324034,  3.19331933, -3.1609173 , -6.68670566,  1.76327137,\n",
       "        0.67748083,  1.39821179, -0.59816338, -2.76668796,  1.71070952,\n",
       "        0.70922749,  0.54302644, -4.04797434, -0.10967902,  1.02750101,\n",
       "       -0.33876431,  1.06058009,  2.11543676, -1.23379108,  0.79207783,\n",
       "       -2.62350617,  0.83312341, -2.13731982,  0.67345652, -2.32483045,\n",
       "       -0.11315484, -2.36933238,  2.20936629, -3.21608893, 12.43798366,\n",
       "       -0.05237054])"
      ]
     },
     "execution_count": 18,
     "metadata": {},
     "output_type": "execute_result"
    }
   ],
   "source": [
    "finaldatadisease[82]"
   ]
  },
  {
   "cell_type": "code",
   "execution_count": 19,
   "id": "b3da2672-2f4d-4343-9230-7dfe192532c7",
   "metadata": {},
   "outputs": [
    {
     "data": {
      "text/plain": [
       "-0.82694538"
      ]
     },
     "execution_count": 19,
     "metadata": {},
     "output_type": "execute_result"
    }
   ],
   "source": [
    "-8.26945380e-01"
   ]
  },
  {
   "cell_type": "code",
   "execution_count": 20,
   "id": "82266782-789f-437b-9262-479f1e9456ca",
   "metadata": {},
   "outputs": [
    {
     "data": {
      "text/plain": [
       "'HC'"
      ]
     },
     "execution_count": 20,
     "metadata": {},
     "output_type": "execute_result"
    }
   ],
   "source": [
    "Finallabelsdisease[100]"
   ]
  },
  {
   "cell_type": "code",
   "execution_count": 21,
   "id": "84df5103-aafc-463a-aeb1-53a734fcfe52",
   "metadata": {},
   "outputs": [],
   "source": [
    "HCindices =np.append(a2,a3)"
   ]
  },
  {
   "cell_type": "code",
   "execution_count": 22,
   "id": "b1a9ea3d-a93b-4c14-94f7-63e94b8169d7",
   "metadata": {},
   "outputs": [],
   "source": [
    "HCindices1 = a2+a3"
   ]
  },
  {
   "cell_type": "raw",
   "id": "00df5158-b0d3-4130-8544-10f55f725070",
   "metadata": {},
   "source": [
    "HCindices1[0]"
   ]
  },
  {
   "cell_type": "raw",
   "id": "cd269fec-dc67-4bbd-bc8b-55b56fe1b4dd",
   "metadata": {},
   "source": [
    "HCUGOSMindices = np.where(labelsfinal=='HCUGOSM')\n",
    "HCCUNindices = np.where(labelsfinal=='HCCUN')\n",
    "\n",
    "PDUGOSMindices = np.where(labelsfinal=='PDUGOSM')\n",
    "PDCUNindices = np.where(labelsfinal=='PDCUN')\n",
    "\n",
    "\n",
    "HC_UGOSM_CUN = np.append(HCUGOSMindices,HCCUNindices)\n",
    "\n",
    "HCPD_UGOSM_CUN = np.append(HCUGOSMindices,PDUGOSMindices)\n",
    "HCPD_UGOSM_CUN = np.append(HCPD_UGOSM_CUN,HCCUNindices)\n",
    "HCPD_UGOSM_CUN = np.append(HCPD_UGOSM_CUN,PDCUNindices)"
   ]
  },
  {
   "cell_type": "code",
   "execution_count": 23,
   "id": "1741f0ff-6e59-4fb6-a500-36ed3d970db5",
   "metadata": {},
   "outputs": [],
   "source": [
    "#oversample = RandomOverSampler(sampling_strategy='minority')\n"
   ]
  },
  {
   "cell_type": "code",
   "execution_count": 24,
   "id": "c2e3b956-0f71-4f16-90a4-c315e6d6200d",
   "metadata": {},
   "outputs": [],
   "source": [
    "def calculate_prototype1(modelmatrix,repeated,dimension,scalarmodel):\n",
    "    #prototypeaverage = np.zeros((prototype,dimensions),dtype='float')    \n",
    "    numberofprototypes = len(modelmatrix[0][0].prototypes_)\n",
    "    prototypeaverage = np.zeros((numberofprototypes,dimension),dtype='float')    \n",
    "    modellist = list(chain.from_iterable(zip(*modelmatrix)))\n",
    "    scalarlist = list(chain.from_iterable(zip(*scalarmodel)))\n",
    "    for modelin in range(len(modellist)):\n",
    "        for i in range(numberofprototypes):\n",
    "            #prototypeaverage[i] = np.add(prototypeaverage[i],scalarlist[modelin].inverse_transform(modellist[modelin].prototypes_[i]))\n",
    "            prototypeaverage[i] = np.add(prototypeaverage[i],scalarlist[modelin].inverse_transform(modellist[modelin].prototypes_[i]))\n",
    "    return prototypeaverage/len(modellist)"
   ]
  },
  {
   "cell_type": "code",
   "execution_count": 25,
   "id": "bcbb0f02-ecfb-44e2-93bd-59c8099b3dad",
   "metadata": {},
   "outputs": [],
   "source": [
    "def calculate_prototype(modelmatrix,repeated,dimension,scalarmodel):\n",
    "    #prototypeaverage = np.zeros((prototype,dimensions),dtype='float')    \n",
    "    numberofprototypes = len(modelmatrix[0][0].prototypes_)\n",
    "    prototypeaverage = np.zeros((numberofprototypes,dimension),dtype='float')    \n",
    "    modellist = list(chain.from_iterable(zip(*modelmatrix)))\n",
    "    scalarlist = list(chain.from_iterable(zip(*scalarmodel)))\n",
    "    for modelin in range(len(modellist)):\n",
    "        for i in range(numberofprototypes):\n",
    "            #prototypeaverage[i] = np.add(prototypeaverage[i],scalarlist[i].inverse_transform(modellist[modelin].prototypes_[i]))\n",
    "            prototypeaverage[i] = np.add(prototypeaverage[i],scalarlist[modelin].inverse_transform(modellist[modelin].prototypes_[i]))\n",
    "    return prototypeaverage/len(modellist)"
   ]
  },
  {
   "cell_type": "code",
   "execution_count": 26,
   "id": "5d99499a-dd94-44f7-b53a-95a56b1c8a6a",
   "metadata": {},
   "outputs": [],
   "source": [
    "def diagonal_average_permodel(modelmatrix,dimenison):\n",
    "    \n",
    "    # element wise addition by default in numpy\n",
    "    average = np.zeros(dimension)\n",
    "    standard_deviation = np.zeros(dimension)\n",
    "    \n",
    "    modellist = list(chain.from_iterable(zip(*modelmatrix)))\n",
    "    for i in range(len(modellist)):\n",
    "        average = average + np.diagonal(modellist[i].lambda_)\n",
    "        \n",
    "        \n",
    "    \n",
    "    avarege = average/len(average)\n",
    "    for i in range(len(modellist)):\n",
    "        standard_deviation = standard_deviation  + np.square(np.diagonal(modellist[i].lambda_) - average))\n",
    "    \n",
    "    standard_deviation = standard_deviation/len(modellist)\n",
    "    return standard_deviation"
   ]
  },
  {
   "cell_type": "code",
   "execution_count": 27,
   "id": "c8580589-4c21-4c90-b067-ae3aafb1c7e0",
   "metadata": {},
   "outputs": [],
   "source": [
    "repeated = 10\n",
    "folds = 10\n",
    "dimension = 36"
   ]
  },
  {
   "cell_type": "markdown",
   "id": "933ffd57-c981-4191-b043-737ab74cfa0f",
   "metadata": {},
   "source": [
    "## center data"
   ]
  },
  {
   "cell_type": "code",
   "execution_count": 28,
   "id": "0d75df09-9887-44a9-bf49-22f53b9693b4",
   "metadata": {},
   "outputs": [
    {
     "name": "stdout",
     "output_type": "stream",
     "text": [
      "Repeated K fold for center data\n",
      "========Repeated fold number 0 ========\n",
      "1.000 accuracy\n",
      "1.000 accuracy\n",
      "1.000 accuracy\n",
      "1.000 accuracy\n",
      "1.000 accuracy\n",
      "1.000 accuracy\n",
      "1.000 accuracy\n",
      "1.000 accuracy\n",
      "1.000 accuracy\n",
      "1.000 accuracy\n",
      "========Repeated fold number 1 ========\n",
      "1.000 accuracy\n",
      "1.000 accuracy\n",
      "1.000 accuracy\n",
      "1.000 accuracy\n",
      "1.000 accuracy\n",
      "1.000 accuracy\n",
      "1.000 accuracy\n",
      "1.000 accuracy\n",
      "1.000 accuracy\n",
      "1.000 accuracy\n",
      "========Repeated fold number 2 ========\n",
      "1.000 accuracy\n",
      "1.000 accuracy\n",
      "1.000 accuracy\n",
      "1.000 accuracy\n",
      "1.000 accuracy\n",
      "1.000 accuracy\n",
      "1.000 accuracy\n",
      "1.000 accuracy\n",
      "1.000 accuracy\n",
      "1.000 accuracy\n",
      "========Repeated fold number 3 ========\n",
      "1.000 accuracy\n",
      "1.000 accuracy\n",
      "1.000 accuracy\n",
      "1.000 accuracy\n",
      "1.000 accuracy\n",
      "1.000 accuracy\n",
      "1.000 accuracy\n",
      "1.000 accuracy\n",
      "1.000 accuracy\n",
      "1.000 accuracy\n",
      "========Repeated fold number 4 ========\n",
      "1.000 accuracy\n",
      "1.000 accuracy\n",
      "1.000 accuracy\n",
      "1.000 accuracy\n",
      "1.000 accuracy\n",
      "1.000 accuracy\n",
      "1.000 accuracy\n",
      "1.000 accuracy\n",
      "1.000 accuracy\n",
      "1.000 accuracy\n",
      "========Repeated fold number 5 ========\n",
      "1.000 accuracy\n",
      "0.857 accuracy\n",
      "1.000 accuracy\n",
      "1.000 accuracy\n",
      "1.000 accuracy\n",
      "1.000 accuracy\n",
      "1.000 accuracy\n",
      "1.000 accuracy\n",
      "1.000 accuracy\n",
      "1.000 accuracy\n",
      "========Repeated fold number 6 ========\n",
      "1.000 accuracy\n",
      "1.000 accuracy\n",
      "1.000 accuracy\n",
      "1.000 accuracy\n",
      "1.000 accuracy\n",
      "1.000 accuracy\n",
      "1.000 accuracy\n",
      "1.000 accuracy\n",
      "1.000 accuracy\n",
      "1.000 accuracy\n",
      "========Repeated fold number 7 ========\n",
      "1.000 accuracy\n",
      "1.000 accuracy\n",
      "0.857 accuracy\n",
      "1.000 accuracy\n",
      "1.000 accuracy\n",
      "1.000 accuracy\n",
      "1.000 accuracy\n",
      "1.000 accuracy\n",
      "1.000 accuracy\n",
      "1.000 accuracy\n",
      "========Repeated fold number 8 ========\n",
      "1.000 accuracy\n",
      "1.000 accuracy\n",
      "1.000 accuracy\n",
      "1.000 accuracy\n",
      "1.000 accuracy\n",
      "1.000 accuracy\n",
      "1.000 accuracy\n",
      "1.000 accuracy\n",
      "1.000 accuracy\n",
      "1.000 accuracy\n",
      "========Repeated fold number 9 ========\n",
      "1.000 accuracy\n",
      "1.000 accuracy\n",
      "1.000 accuracy\n",
      "1.000 accuracy\n",
      "1.000 accuracy\n",
      "1.000 accuracy\n",
      "1.000 accuracy\n",
      "1.000 accuracy\n",
      "1.000 accuracy\n",
      "1.000 accuracy\n",
      "10\n",
      "0\n",
      "1\n",
      "2\n",
      "3\n",
      "4\n",
      "5\n",
      "6\n",
      "7\n",
      "8\n",
      "9\n",
      "                                                     \n",
      "The sum of the digonal of the center relevance matrix\n",
      "1.0\n",
      "                                                     \n"
     ]
    }
   ],
   "source": [
    "centermodel,datamatrix,labelmatrix,scalars1,testlabelsc,predictedc,probabiltiesc,laeblscorec,testing_indicesC,training_indicesC = train_modelkfold(finaldatacenter1,finalcenterlabels1,False,None,repeated,scalar,folds)\n",
    "\n",
    "average_lambda_center = calculate_lambda(centermodel,repeated)\n",
    "\n",
    "average_prototype_center = calculate_prototype(centermodel,repeated,36,scalars1)\n",
    "\n",
    "\n",
    "Std_lambad_center_permodel = diagonal_average_permodel(centermodel,dimension)\n",
    "\n",
    "\n",
    "print('                                                     ')\n",
    "\n",
    "\n",
    "print('The sum of the digonal of the center relevance matrix')\n",
    "\n",
    "print(np.sum(np.diagonal(average_lambda_center)))\n",
    "\n",
    "print('                                                     ')\n",
    "\n",
    "\n",
    "eigenvaluescenter,eigenvectorscenter= eigendecomposition(average_lambda_center)\n",
    "\n",
    "\n",
    "correctionmatrix1 = correction_matrix(eigenvectorscenter)\n",
    "\n",
    "#correctionmatrix = correction_matrix()\n"
   ]
  },
  {
   "cell_type": "markdown",
   "id": "0de9713b-dd91-45ae-aee1-aef100fc9a40",
   "metadata": {},
   "source": [
    "## disease data "
   ]
  },
  {
   "cell_type": "code",
   "execution_count": 29,
   "id": "8f464885-e58f-42e5-8d51-005250df0d5b",
   "metadata": {},
   "outputs": [
    {
     "name": "stdout",
     "output_type": "stream",
     "text": [
      "Repeated K fold for disease data\n",
      "========Repeated fold number 0 ========\n",
      "0.647 accuracy\n",
      "0.706 accuracy\n",
      "0.706 accuracy\n",
      "0.882 accuracy\n",
      "0.647 accuracy\n",
      "0.706 accuracy\n",
      "0.706 accuracy\n",
      "0.647 accuracy\n",
      "0.688 accuracy\n",
      "0.750 accuracy\n",
      "========Repeated fold number 1 ========\n",
      "0.706 accuracy\n",
      "0.765 accuracy\n",
      "0.647 accuracy\n",
      "0.588 accuracy\n",
      "0.529 accuracy\n",
      "0.765 accuracy\n",
      "0.824 accuracy\n",
      "0.706 accuracy\n",
      "0.812 accuracy\n",
      "0.750 accuracy\n",
      "========Repeated fold number 2 ========\n",
      "0.706 accuracy\n",
      "0.765 accuracy\n",
      "0.765 accuracy\n",
      "0.706 accuracy\n",
      "0.824 accuracy\n",
      "0.529 accuracy\n",
      "0.706 accuracy\n",
      "0.765 accuracy\n",
      "0.750 accuracy\n",
      "0.688 accuracy\n",
      "========Repeated fold number 3 ========\n",
      "0.529 accuracy\n",
      "0.706 accuracy\n",
      "0.765 accuracy\n",
      "0.706 accuracy\n",
      "0.529 accuracy\n",
      "0.706 accuracy\n",
      "0.824 accuracy\n",
      "0.824 accuracy\n",
      "0.562 accuracy\n",
      "0.688 accuracy\n",
      "========Repeated fold number 4 ========\n",
      "0.765 accuracy\n",
      "0.706 accuracy\n",
      "0.588 accuracy\n",
      "0.588 accuracy\n",
      "0.824 accuracy\n",
      "0.765 accuracy\n",
      "0.765 accuracy\n",
      "0.706 accuracy\n",
      "0.812 accuracy\n",
      "0.688 accuracy\n",
      "========Repeated fold number 5 ========\n",
      "0.588 accuracy\n",
      "0.882 accuracy\n",
      "0.647 accuracy\n",
      "0.824 accuracy\n",
      "0.647 accuracy\n",
      "0.765 accuracy\n",
      "0.765 accuracy\n",
      "0.706 accuracy\n",
      "0.750 accuracy\n",
      "0.875 accuracy\n",
      "========Repeated fold number 6 ========\n",
      "0.765 accuracy\n",
      "0.882 accuracy\n",
      "0.882 accuracy\n",
      "0.882 accuracy\n",
      "0.706 accuracy\n",
      "0.706 accuracy\n",
      "0.706 accuracy\n",
      "0.647 accuracy\n",
      "0.625 accuracy\n",
      "0.688 accuracy\n",
      "========Repeated fold number 7 ========\n",
      "0.824 accuracy\n",
      "0.765 accuracy\n",
      "0.765 accuracy\n",
      "0.588 accuracy\n",
      "0.765 accuracy\n",
      "0.647 accuracy\n",
      "0.588 accuracy\n",
      "0.765 accuracy\n",
      "0.812 accuracy\n",
      "0.688 accuracy\n",
      "========Repeated fold number 8 ========\n",
      "0.706 accuracy\n",
      "0.588 accuracy\n",
      "0.706 accuracy\n",
      "0.647 accuracy\n",
      "0.824 accuracy\n",
      "0.765 accuracy\n",
      "0.765 accuracy\n",
      "0.765 accuracy\n",
      "0.625 accuracy\n",
      "0.688 accuracy\n",
      "========Repeated fold number 9 ========\n",
      "0.941 accuracy\n",
      "0.882 accuracy\n",
      "0.765 accuracy\n",
      "0.765 accuracy\n",
      "0.824 accuracy\n",
      "0.706 accuracy\n",
      "0.588 accuracy\n",
      "0.529 accuracy\n",
      "0.688 accuracy\n",
      "0.750 accuracy\n",
      "10\n",
      "0\n",
      "1\n",
      "2\n",
      "3\n",
      "4\n",
      "5\n",
      "6\n",
      "7\n",
      "8\n",
      "9\n",
      "The sum of the digonal of the disease relevance matrix\n",
      "1.0\n"
     ]
    }
   ],
   "source": [
    "\n",
    "diseasemodel,datamatrix1,labelmatrix1,scalars2,testlabelsd,predictedd,probabiltiesd,laeblscored,testing_indicesD,training_indicesD  = train_modelkfold(finaldatadisease,Finallabelsdisease,True,None,repeated,scalar,folds)\n",
    "\n",
    "average_lambda_disease = calculate_lambda(diseasemodel,repeated)\n",
    "\n",
    "Std_lambad_disease_permodel = diagonal_average_permodel(diseasemodel,dimension)\n",
    "\n",
    "eigenvaluesdisease,eigenvectorsdisease = eigendecomposition(average_lambda_disease)\n",
    "\n",
    "average_prototype_disease = calculate_prototype1(diseasemodel,repeated,36,scalars2)\n",
    "\n",
    "\n",
    "print('The sum of the digonal of the disease relevance matrix')\n",
    "\n",
    "print(np.sum(np.diagonal(average_lambda_disease)))\n"
   ]
  },
  {
   "cell_type": "markdown",
   "id": "f0e895c7-3b54-4a17-93c7-d7f3ed50450b",
   "metadata": {},
   "source": [
    "## single model center data"
   ]
  },
  {
   "cell_type": "code",
   "execution_count": 30,
   "id": "160b0816-b1d8-4897-be74-c298aecfd58e",
   "metadata": {},
   "outputs": [
    {
     "data": {
      "text/plain": [
       "GMLVQ(activation_params={'beta': 2}, random_state=1428,\n",
       "      solver_params={'callback': <__main__.ProcessLogger object at 0x7f29a7fd35b0>,\n",
       "                     'max_runs': 50, 'step_size': array([0.05, 0.03])},\n",
       "      solver_type='wgd')"
      ]
     },
     "execution_count": 30,
     "metadata": {},
     "output_type": "execute_result"
    }
   ],
   "source": [
    "# training an individual model\n",
    "modelc = model_definition_center()\n",
    "finaldatacenter1,scalarIc = ztransform(finaldatacenter1,scalar)\n",
    "\n",
    "modelc.fit(finaldatacenter1,finalcenterlabels1)"
   ]
  },
  {
   "cell_type": "markdown",
   "id": "8ef4c267-517f-40a9-99e4-ebe103cc940d",
   "metadata": {},
   "source": [
    "## Single model corrected on the average correction matrix"
   ]
  },
  {
   "cell_type": "markdown",
   "id": "15a38940-52f5-4c9b-a02d-8fcc012bd6ef",
   "metadata": {},
   "source": [
    "## Oversampled disease data"
   ]
  },
  {
   "cell_type": "code",
   "execution_count": 31,
   "id": "086408cc-586b-4c73-8f0d-2840a780b8d6",
   "metadata": {},
   "outputs": [],
   "source": [
    "modeld_oversampled = model_definition_disease(None)\n",
    "\n",
    "oversample = RandomOverSampler(sampling_strategy='minority')\n",
    "finaldatadisease_oversampled, Finallabelsdisease_oversampled = oversample.fit_resample(finaldatadisease, Finallabelsdisease)\n",
    "\n",
    "finaldatadisease_oversampled,scalard__oversampled = ztransform(finaldatadisease_oversampled,scalar)\n",
    "\n",
    "\n",
    "modeld_oversampled.fit(finaldatadisease_oversampled,Finallabelsdisease_oversampled)\n",
    "predictedlabels_oversampled = modeld_oversampled.predict(finaldatadisease_oversampled)"
   ]
  },
  {
   "cell_type": "code",
   "execution_count": null,
   "id": "0f239221-a8c8-44b4-9314-50e0d9353998",
   "metadata": {},
   "outputs": [],
   "source": []
  },
  {
   "cell_type": "code",
   "execution_count": null,
   "id": "98d882b0-42ee-4d72-aceb-795a84c5320a",
   "metadata": {},
   "outputs": [],
   "source": []
  },
  {
   "cell_type": "markdown",
   "id": "a85a5ca2-6d3f-44e9-95a9-4c31c8ed53bd",
   "metadata": {},
   "source": [
    "## Not oversampled disease data"
   ]
  },
  {
   "cell_type": "code",
   "execution_count": 32,
   "id": "c80cf823-462d-4af9-a008-b3faa2be5a5c",
   "metadata": {},
   "outputs": [],
   "source": [
    "finaldatadisease,scalarId = ztransform(finaldatadisease,scalar)\n",
    "\n",
    "modeld = model_definition_disease(correctionmatrix1)\n",
    "\n",
    "modeld.fit(finaldatadisease,Finallabelsdisease)\n",
    "predictedlabels = modeld.predict(finaldatadisease)"
   ]
  },
  {
   "cell_type": "code",
   "execution_count": null,
   "id": "4f8f3e1a-2e32-4d43-b9ef-33efaa330718",
   "metadata": {},
   "outputs": [],
   "source": []
  },
  {
   "cell_type": "code",
   "execution_count": null,
   "id": "91961821-5a1e-4c91-8e77-b1b5b1d81953",
   "metadata": {},
   "outputs": [],
   "source": []
  },
  {
   "cell_type": "raw",
   "id": "d84a0ea9-bf62-437d-b445-4c19589512a6",
   "metadata": {},
   "source": [
    "modeld1 = model_definition_disease(None)\n",
    "modeld1.fit(finaldatadisease,Finallabelsdisease)\n",
    "predictedlabels1 = modeld.predict(finaldatadisease)"
   ]
  },
  {
   "cell_type": "code",
   "execution_count": 33,
   "id": "fb3da59d-3903-473b-916e-a4f82740e596",
   "metadata": {},
   "outputs": [],
   "source": [
    "average_prototype_disease = calculate_prototype1(diseasemodel,repeated,36,scalars2)\n",
    "average_prototype_center = calculate_prototype(centermodel,repeated,36,scalars1)"
   ]
  },
  {
   "cell_type": "markdown",
   "id": "2b5e5da0-880f-45a8-b075-f6af623459f8",
   "metadata": {},
   "source": [
    "## Zero dot product"
   ]
  },
  {
   "cell_type": "raw",
   "id": "53878992-7942-43ae-ba24-fa3877844dbf",
   "metadata": {},
   "source": [
    "# removed the influence of the leading eigen vector from each \n",
    "first_eigen_vector = np.dot(diseasemodel[0][3].eigenvectors_[0,:],eigenvectorscenter[0,:])\n",
    "print(first_eigen_vector)"
   ]
  },
  {
   "cell_type": "code",
   "execution_count": 34,
   "id": "cf6111af-73b7-45cf-80d0-954ca93ccaa9",
   "metadata": {},
   "outputs": [],
   "source": [
    "def check_orthogonality(centermodel,diseasemodel,dimensions,repeated,folds,eigenvectorscenter):\n",
    "    centerlist = list(chain.from_iterable(zip(*centermodel)))\n",
    "    disease_center = list()\n",
    "    disease_averagecenter= list()\n",
    "    for j in range(2):\n",
    "        for array,modeld in enumerate(diseasemodel[j]):\n",
    "            disease_averagecenter.append(np.dot(modeld.eigenvectors_[:2,:],eigenvectorscenter[:2,:].T))\n",
    "            for modelc in centerlist:\n",
    "                # eigenvectors are row vectors\n",
    "                disease_center.append((np.dot(modeld.eigenvectors_[:2,:],modelc.eigenvectors_[:2,:].T)))\n",
    "    return disease_averagecenter,disease_center"
   ]
  },
  {
   "cell_type": "code",
   "execution_count": 35,
   "id": "aa152fdc-9d40-47b7-9d7b-be78df85d9f8",
   "metadata": {},
   "outputs": [],
   "source": [
    "from sklearn.utils.validation import check_is_fitted, check_array\n",
    "def transform1(X,eigenvaluesaverage,eigenvectoraverage,scale):\n",
    "    X = check_array(X)\n",
    "    eigenvaluesaverage[eigenvaluesaverage < 0] = 0\n",
    "    eigenvectoraverage = np.sqrt(eigenvaluesaverage[:, None]) * eigenvectoraverage\n",
    "    if scale:\n",
    "        return np.matmul(X, eigenvectoraverage.T)\n",
    "    return np.matmul(X, eigenvectoraverage.T)"
   ]
  },
  {
   "cell_type": "code",
   "execution_count": 36,
   "id": "95ae6673-e41f-4595-b513-fac252052ab5",
   "metadata": {},
   "outputs": [
    {
     "data": {
      "text/plain": [
       "array(['HC', 'PDCUN', 'PDUGOSM'], dtype=object)"
      ]
     },
     "execution_count": 36,
     "metadata": {},
     "output_type": "execute_result"
    }
   ],
   "source": [
    "modeld.classes_"
   ]
  },
  {
   "cell_type": "raw",
   "id": "69fd74b8-1bae-496e-bc21-47ea9e038682",
   "metadata": {},
   "source": [
    "visualizeSinglemodel(modelc,scalarIc,centerdata1,centerlabels1,modelc.eigenvalues_,modelc.eigenvectors_,average_prototype_center)\n",
    "#disease with average disease eigen vectors\n",
    "# higher negative eigen vectors on xaxis represents lower score /importance of that component"
   ]
  },
  {
   "cell_type": "markdown",
   "id": "0e682b3a-bfac-4821-9313-c7055dfb39d7",
   "metadata": {},
   "source": [
    "## confusion matrix center"
   ]
  },
  {
   "cell_type": "code",
   "execution_count": 37,
   "id": "5e28eb0c-1f9d-4457-8ef4-62d0dcb13dc5",
   "metadata": {},
   "outputs": [],
   "source": [
    "def confusionmatrixc(test,predicted):\n",
    "    \n",
    "    CUNCUN=CUNUGOSM=UGOSMCUN=UGOSMUGOSM=0\n",
    "    CUNCUN,CUNUGOSM,UGOSMCUN,UGOSMUGOSM = confusion_matrix(test, predicted, labels= ['CUN', 'UGOSM']).ravel()\n",
    "            \n",
    "    return CUNCUN,CUNUGOSM,UGOSMCUN,UGOSMUGOSM\n",
    "            "
   ]
  },
  {
   "cell_type": "code",
   "execution_count": 38,
   "id": "ce55b419-d216-4e24-a65d-f0ecdb528c07",
   "metadata": {},
   "outputs": [],
   "source": [
    "def confusionmatrix_61classc(modelmatrix,testlabelmatrix,predictedlabelmatrix):\n",
    "    #testlist = list(chain.from_iterable(zip(*testlabelmatrix)))\n",
    "    #predictedlist = list(chain.from_iterable(zip(*predictedlabelmatrix)))\n",
    "    #1class only passing one set of test and predicted labels\n",
    "    np.seterr(divide='ignore', invalid='ignore')\n",
    "    testlist = testlabelmatrix\n",
    "    predictedlist = predictedlabelmatrix\n",
    "\n",
    "\n",
    "    #testlist= testlist.astype(int)\n",
    "    #predictedlist = predictlist.astype(int)\n",
    "    CUN_tpr = dict()\n",
    "    CUN_fpr = dict()\n",
    "    \n",
    "    UGOSM_tpr = dict()\n",
    "    UGOSM_fpr = dict()\n",
    "    \n",
    "    nCUN_tpr=nCUN_fpr=nUGOSM_tpr=nUGOSM_fpr=0\n",
    "    \n",
    "    \n",
    "    CUNCUN,CUNUGOSM,UGOSMCUN,UGOSMUGOSM  = confusionmatrixc(testlabelmatrix,predictedlabelmatrix)\n",
    "    \n",
    "    nCUN_fpr = (UGOSMCUN)/(UGOSMCUN + UGOSMUGOSM)\n",
    "    nCUN_tpr = (CUNCUN) /(CUNCUN + CUNUGOSM) \n",
    "    \n",
    "    nUGOSM_fpr = (CUNUGOSM)/(CUNUGOSM+CUNCUN)\n",
    "    nUGOSM_tpr = (UGOSMUGOSM)/(UGOSMUGOSM+UGOSMCUN)\n",
    "    \n",
    "    \n",
    "    #############################\n",
    "    CUN_fpr = nCUN_fpr\n",
    "    CUN_tpr =  nCUN_tpr\n",
    "    \n",
    "    UGOSM_fpr = nUGOSM_fpr\n",
    "    UGOSM_tpr = nUGOSM_tpr\n",
    "\n",
    "#return PDCUN_PDCUN,PDCUN_PDUGOSM,PDCUN_PDUMCG,PDCUN_ADUGOSM,PDCUN_ADUMCG,PDUGOSM_PDCUN, PDUGOSM_PDUGOSM, PDUGOSM_PDUMCG, PDUGOSM_ADUGOSM, PDUGOSM_ADUMCG,PDUMCG_PDCUN, PDUMCG_PDUGOSM, PDUMCG_PDUMCG, PDUMCG_ADUGOSM, PDUMCG_ADUMCG,ADUGOSM_PDCUN ,ADUGOSM_PDUGOSM ,ADUGOSM_PDUMCG, ADUGOSM_ADUGOSM ,ADUGOSM_ADUMCG,ADUMCG_PDCUN, ADUMCG_PDUGOSM, ADUMCG_PDUMCG, ADUMCG_ADUGOSM, ADUMCG_ADUMCG\n",
    "    return CUN_fpr,CUN_tpr,UGOSM_fpr,UGOSM_tpr"
   ]
  },
  {
   "cell_type": "code",
   "execution_count": 39,
   "id": "92e8d88e-0028-4069-932d-21d84a6eeae7",
   "metadata": {},
   "outputs": [],
   "source": [
    "def confusionmatrix_6classc(modelmatrix,testlabelmatrix,predictedlabelmatrix):\n",
    "    testlist = list(chain.from_iterable(zip(*testlabelmatrix)))\n",
    "    predictedlist = list(chain.from_iterable(zip(*predictedlabelmatrix)))\n",
    "    # storing the values \n",
    "    np.seterr(divide='ignore', invalid='ignore')\n",
    "\n",
    "\n",
    "    #testlist= testlist.astype(int)\n",
    "    #predictedlist = predictlist.astype(int)\n",
    "    \n",
    "    CUN_tpr = dict()\n",
    "    CUN_fpr = dict()\n",
    "    \n",
    "    UGOSM_tpr = dict()\n",
    "    UGOSM_fpr = dict()\n",
    "    \n",
    "    for i in range(len(testlist)):\n",
    "        nCUN_tpr=nCUN_fpr=nUGOSM_tpr=nUGOSM_fpr=0\n",
    "        \n",
    "        CUNCUN,CUNUGOSM,UGOSMCUN,UGOSMUGOSM  = confusionmatrixc(testlist[i],predictedlist[i])\n",
    "\n",
    "        nCUN_fpr = (UGOSMCUN)/(UGOSMCUN + UGOSMUGOSM)\n",
    "        nCUN_tpr = (CUNCUN) /(CUNCUN + CUNUGOSM) \n",
    "\n",
    "        nUGOSM_fpr = (CUNUGOSM)/(CUNUGOSM+CUNCUN)\n",
    "        nUGOSM_tpr = (UGOSMUGOSM)/(UGOSMUGOSM+UGOSMCUN)\n",
    "    \n",
    "        #############################\n",
    "        CUN_fpr[i] = nCUN_fpr\n",
    "        CUN_tpr[i] =  nCUN_tpr\n",
    "\n",
    "        UGOSM_fpr[i] = nUGOSM_fpr\n",
    "        UGOSM_tpr[i] = nUGOSM_tpr\n",
    "\n",
    "#return PDCUN_PDCUN,PDCUN_PDUGOSM,PDCUN_PDUMCG,PDCUN_ADUGOSM,PDCUN_ADUMCG,PDUGOSM_PDCUN, PDUGOSM_PDUGOSM, PDUGOSM_PDUMCG, PDUGOSM_ADUGOSM, PDUGOSM_ADUMCG,PDUMCG_PDCUN, PDUMCG_PDUGOSM, PDUMCG_PDUMCG, PDUMCG_ADUGOSM, PDUMCG_ADUMCG,ADUGOSM_PDCUN ,ADUGOSM_PDUGOSM ,ADUGOSM_PDUMCG, ADUGOSM_ADUGOSM ,ADUGOSM_ADUMCG,ADUMCG_PDCUN, ADUMCG_PDUGOSM, ADUMCG_PDUMCG, ADUMCG_ADUGOSM, ADUMCG_ADUMCG\n",
    "    return CUN_fpr,CUN_tpr,UGOSM_fpr,UGOSM_tpr"
   ]
  },
  {
   "cell_type": "code",
   "execution_count": 40,
   "id": "352f6a69-6101-49e9-9ee5-149ff7e75840",
   "metadata": {},
   "outputs": [],
   "source": [
    "testlabelsdsinglec = np.concatenate(list(chain.from_iterable(zip(*testlabelsc))), axis=0 )\n",
    "predicteddsinglec = np.concatenate( list(chain.from_iterable(zip(*predictedc))), axis=0 )\n",
    "probabiltysinglec = np.concatenate( list(chain.from_iterable(zip(*probabiltiesc))), axis=0 )"
   ]
  },
  {
   "cell_type": "code",
   "execution_count": 41,
   "id": "7d4cbf77-5d5e-453f-af3c-b1bc45bc92f1",
   "metadata": {},
   "outputs": [],
   "source": [
    "pCUNCUN,pCUNUGOSM,pUGOSMCUN,pUGOSMUGOSM  = confusionmatrixc(testlabelsdsinglec,predicteddsinglec)"
   ]
  },
  {
   "cell_type": "code",
   "execution_count": 42,
   "id": "f7aee4f1-8ebb-4019-ae27-1bac32e4e926",
   "metadata": {},
   "outputs": [],
   "source": [
    "cmc = np.array([[pCUNCUN,pCUNUGOSM],\n",
    "               [pUGOSMCUN,pUGOSMUGOSM]])"
   ]
  },
  {
   "cell_type": "code",
   "execution_count": 43,
   "id": "164ae229-1cb2-4c03-941d-58bb0d34a7dd",
   "metadata": {},
   "outputs": [
    {
     "data": {
      "image/png": "[encoded data removed]",
      "text/plain": [
       "<Figure size 396x288 with 2 Axes>"
      ]
     },
     "metadata": {
      "needs_background": "light"
     },
     "output_type": "display_data"
    }
   ],
   "source": [
    "from sklearn.svm import SVC\n",
    "from sklearn.metrics import accuracy_score, confusion_matrix, precision_recall_fscore_support\n",
    "import seaborn as sns\n",
    "\n",
    "# Transform to df for easier plotting\n",
    "cm_df = pd.DataFrame(cmc,index = ['CUN', 'UGOSM'], columns = ['CUN', 'UGOSM'])\n",
    "\n",
    "plt.figure(figsize=(5.5,4))\n",
    "sns.heatmap(cm_df, annot=True,cmap='Blues', fmt='g')\n",
    "\n",
    "plt.title('center data')\n",
    "plt.ylabel('True label')\n",
    "\n",
    "plt.xlabel('Predicted label')\n",
    "plt.show()\n",
    "\n"
   ]
  },
  {
   "cell_type": "code",
   "execution_count": 44,
   "id": "9ee71fe3-a107-451f-8a96-62c616cda043",
   "metadata": {},
   "outputs": [],
   "source": [
    "CUN_fpr,CUN_tpr,UGOSM_fpr,UGOSM_tpr = confusionmatrix_6classc(centermodel,testlabelsc,predictedc)\n",
    "\n",
    "CUN_fpr1,CUN_tpr1,UGOSM_fpr1,UGOSM_tpr1 = confusionmatrix_61classc(centermodel,testlabelsdsinglec,predicteddsinglec)"
   ]
  },
  {
   "cell_type": "code",
   "execution_count": 45,
   "id": "9a38558e-087c-4473-9a6a-4e5c3fd04bb3",
   "metadata": {},
   "outputs": [
    {
     "data": {
      "text/plain": [
       "(190, 0, 2, 438)"
      ]
     },
     "execution_count": 45,
     "metadata": {},
     "output_type": "execute_result"
    }
   ],
   "source": [
    "confusionmatrixc(testlabelsdsinglec,predicteddsinglec)"
   ]
  },
  {
   "cell_type": "code",
   "execution_count": 46,
   "id": "45f5e37d-904b-4398-ace1-7f4d3e11e0b7",
   "metadata": {},
   "outputs": [],
   "source": [
    "n_classes=['CUN', 'UGOSM']\n",
    "plotdict_tpr1c = dict()\n",
    "plotdict_fpr1c = dict()\n",
    "\n",
    "plotdict_tpr1c = CUN_tpr1,UGOSM_tpr1\n",
    "plotdict_fpr1c = CUN_fpr1,UGOSM_fpr1\n",
    "\n",
    "\n",
    "n_classes=['CUN', 'UGOSM']\n",
    "plotdictc_tpr = dict()\n",
    "plotdictc_fpr = dict()\n",
    "\n",
    "#for j in range(len(repeated)*folds):\n",
    "for j in range(repeated*folds):\n",
    "\n",
    "    \n",
    "    plotdictc_tpr[j]=CUN_tpr[j],UGOSM_tpr[j]\n",
    "    plotdictc_fpr[j]=CUN_fpr[j],UGOSM_fpr[j]"
   ]
  },
  {
   "cell_type": "code",
   "execution_count": 47,
   "id": "a89a8619-3102-4593-89c3-7470375cfae4",
   "metadata": {},
   "outputs": [
    {
     "data": {
      "image/png": "[encoded data removed]",
      "text/plain": [
       "<Figure size 720x720 with 1 Axes>"
      ]
     },
     "metadata": {
      "needs_background": "light"
     },
     "output_type": "display_data"
    }
   ],
   "source": [
    "testlist = list(chain.from_iterable(zip(*testlabelsc)))\n",
    "probabiltylist = list(chain.from_iterable(zip(*probabiltiesc)))\n",
    "fpru = dict()\n",
    "tpru = dict()\n",
    "roc_aucu = dict()\n",
    "for k in range(len(testlist)):\n",
    "\n",
    "    n_classes=['CUN', 'UGOSM']\n",
    "\n",
    "    # structures\n",
    "    fpr = dict()\n",
    "\n",
    "    tpr = dict()\n",
    "\n",
    "    roc_auc = dict()\n",
    "    \n",
    "    \n",
    "    \n",
    "    fpr1 = dict()\n",
    "\n",
    "    tpr1 = dict()\n",
    "\n",
    "    roc_auc1 = dict()\n",
    "    \n",
    "\n",
    "    colorrange = ['lightblue','lightblue']\n",
    "    colorrange2 = ['red','green']\n",
    "    for i in range(len(n_classes)):\n",
    "        fpr[i], tpr[i], _ = roc_curve(testlist[k],probabiltylist[k][:,i],pos_label=n_classes[i], drop_intermediate=True)\n",
    "        roc_auc[i] = auc(fpr[i], tpr[i])\n",
    "        fpru[k] = fpr\n",
    "        tpru[k] = tpr\n",
    "        roc_aucu[k] = roc_auc\n",
    "        \n",
    "for j in range(len(n_classes)):\n",
    "        fpr1[j], tpr1[j], _ = roc_curve(testlabelsdsinglec,probabiltysinglec[:,j],pos_label=n_classes[j], drop_intermediate=True)\n",
    "        roc_auc1[j] = auc(fpr1[j], tpr1[j])\n",
    "\n",
    "    \n",
    "    \n",
    "    \n",
    "figsize=(10, 10)\n",
    "# roc for each class\n",
    "fig, ax = plt.subplots(figsize=figsize)\n",
    "\n",
    "\n",
    "\n",
    "ax.plot([0, 1], [0, 1], 'k--')\n",
    "#ax.set_xlim([0.0, 1.0])\n",
    "#ax.set_ylim([0.0, 1.05])\n",
    "ax.set_xlabel('False Positive Rate')\n",
    "ax.set_ylabel('True Positive Rate')\n",
    "ax.set_title('Receiver operating characteristic example') \n",
    "\n",
    "\n",
    "for k1 in range(len(testlist)):\n",
    "    for i1 in range(len(n_classes)):  \n",
    "        ax.plot(fpru[k1][i1], tpru[k1][i1], label='_nolegend_',color=colorrange[i1])\n",
    "\n",
    "        #ax.plot(PDCUN_fpr[i], PDCUN_fpr[i],  marker=\"o\", markersize=\"12\")\n",
    "        ax.plot(plotdictc_fpr[k1][i1], plotdictc_tpr[k1][i1],  color=colorrange[i1])#,marker=\"o\", markersize=\"12\")\n",
    "        \n",
    "        \n",
    "#plotdict_tpr1 = ADUGOSM_tpr1,ADUMCG_tpr1,PDCUN_tpr1,PDUGOSM_tpr1,PDUMCG_tpr1\n",
    "#plotdict_fpr1 = ADUGOSM_fpr1,ADUMCG_fpr1,PDCUN_tpr1,PDUGOSM_fpr1,PDUMCG_fpr1\n",
    "\n",
    "#for i2 in range(len(n_classes)):\n",
    "#    ax.plot(fpr1[i2], tpr1[1], label='ROC curve (AUC = %0.2f) for %s' % (roc_auc1[1], n_classes[1]),color=colorrange2[i2])\n",
    "#    ax.plot(plotdict_fpr1c[1], plotdict_tpr1c[1], color=colorrange2[1],marker=\"o\", markersize=\"12\")\n",
    "\n",
    "ax.plot(fpr1[1], tpr1[1], label='ROC curve (AUC = %0.2f) for %s' % (roc_auc1[1], n_classes[1]),color=colorrange2[1])\n",
    "ax.plot(plotdict_fpr1c[1], plotdict_tpr1c[1], color=colorrange2[1],marker=\"o\", markersize=\"12\")\n",
    "\n",
    "ax.legend(loc=\"right\")   \n",
    "ax.grid(False)\n",
    "fig.savefig('roc6class.png')\n",
    "#ax.grid(alpha=.4)\n",
    "plt.show()"
   ]
  },
  {
   "cell_type": "code",
   "execution_count": 48,
   "id": "eaec5a8b-a82f-4f88-803c-b2989eab8364",
   "metadata": {},
   "outputs": [],
   "source": [
    "def confusionmatrix(test,predicted):\n",
    "    \n",
    "    HCHC=HCDCUN=HCPDUGOSM=PDCUNHC=PDCUNPDCUN=PDCUNPDUGOSM=PDUGOSMHC=PDUGOSMPDCUN=PDUGOSMPDUGOSM=0\n",
    "    HCHC,HCDCUN,HCPDUGOSM,PDCUNHC,PDCUNPDCUN,PDCUNPDUGOSM,PDUGOSMHC,PDUGOSMPDCUN,PDUGOSMPDUGOSM = confusion_matrix(test, predicted, labels=['HC','PDCUN', 'PDUGOSM']).ravel()\n",
    "            \n",
    "    return HCHC,HCDCUN,HCPDUGOSM,PDCUNHC,PDCUNPDCUN,PDCUNPDUGOSM,PDUGOSMHC,PDUGOSMPDCUN,PDUGOSMPDUGOSM\n",
    "            "
   ]
  },
  {
   "cell_type": "code",
   "execution_count": 49,
   "id": "1aa7f7c6-3109-4044-832d-b66ed06ecda8",
   "metadata": {},
   "outputs": [],
   "source": [
    "def confusionmatrix_61class(modelmatrix,testlabelmatrix,predictedlabelmatrix):\n",
    "    #testlist = list(chain.from_iterable(zip(*testlabelmatrix)))\n",
    "    #predictedlist = list(chain.from_iterable(zip(*predictedlabelmatrix)))\n",
    "    #1class only passing one set of test and predicted labels\n",
    "    np.seterr(divide='ignore', invalid='ignore')\n",
    "    testlist = testlabelmatrix\n",
    "    predictedlist = predictedlabelmatrix\n",
    "\n",
    "\n",
    "    #testlist= testlist.astype(int)\n",
    "    #predictedlist = predictlist.astype(int)\n",
    "    HC_tpr = dict()\n",
    "    HC_fpr = dict()\n",
    "    \n",
    "    \n",
    "    PDCUN_tpr = dict()\n",
    "    PDCUN_fpr = dict()\n",
    "    \n",
    "    \n",
    "    PDUGOSM_tpr = dict()\n",
    "    PDUGOSM_fpr = dict()\n",
    "    \n",
    "    nHC_fpr=nHC_tpr=nPDCUN_fpr=nPDCUN_tpr= nPDUGOSM_fpr= nPDUGOSM_tpr=0\n",
    "    \n",
    "    \n",
    "    HCHC,HCPDCUN,HCPDUGOSM,PDCUNHC,PDCUNPDCUN,PDCUNPDUGOSM,PDUGOSMHC,PDUGOSMPDCUN,PDUGOSMPDUGOSM  = confusionmatrix(testlabelmatrix,predictedlabelmatrix)\n",
    "    \n",
    "    nHC_fpr = (PDCUNHC+PDUGOSMHC)/(PDCUNHC+PDUGOSMHC+ PDCUNPDCUN + PDCUNPDUGOSM+  PDUGOSMPDCUN+  PDUGOSMPDUGOSM)\n",
    "    nHC_tpr = (HCHC) /(HCHC+HCPDCUN+HCPDUGOSM) \n",
    "        \n",
    "    nPDCUN_fpr = (HCPDCUN + PDUGOSMPDCUN)/(HCPDCUN + PDUGOSMPDCUN + HCHC + HCPDUGOSM + PDUGOSMHC +  PDUGOSMPDUGOSM) \n",
    "    nPDCUN_tpr = (PDCUNPDCUN)/(PDCUNPDCUN + PDCUNHC + PDCUNPDUGOSM)\n",
    "\n",
    "\n",
    "    nPDUGOSM_fpr = (HCPDUGOSM + PDCUNPDUGOSM)/(HCPDUGOSM + PDCUNPDUGOSM+HCHC+HCPDCUN +PDCUNPDCUN+ PDCUNHC) \n",
    "    nPDUGOSM_tpr = (PDUGOSMPDUGOSM)/(PDUGOSMPDUGOSM+PDUGOSMHC + PDUGOSMPDCUN)\n",
    "\n",
    "    #############################\n",
    "    HC_fpr = nHC_fpr\n",
    "    HC_tpr =  nHC_tpr\n",
    "    \n",
    "    PDCUN_fpr = nPDCUN_fpr\n",
    "    PDCUN_tpr = nPDCUN_tpr\n",
    "    \n",
    "    \n",
    "    PDUGOSM_fpr = nPDUGOSM_fpr\n",
    "    PDUGOSM_tpr = nPDUGOSM_tpr\n",
    "    # add to the dictionary\n",
    "    #pd_fpr[i].append(npd_fpr)\n",
    "    #pd_tpr[i].append(npd_tpr)\n",
    "    #ad_fpr[i].append(nad_fpr)\n",
    "    #ad_tpr[i].append(nad_tpr)\n",
    "\n",
    "#return PDCUN_PDCUN,PDCUN_PDUGOSM,PDCUN_PDUMCG,PDCUN_ADUGOSM,PDCUN_ADUMCG,PDUGOSM_PDCUN, PDUGOSM_PDUGOSM, PDUGOSM_PDUMCG, PDUGOSM_ADUGOSM, PDUGOSM_ADUMCG,PDUMCG_PDCUN, PDUMCG_PDUGOSM, PDUMCG_PDUMCG, PDUMCG_ADUGOSM, PDUMCG_ADUMCG,ADUGOSM_PDCUN ,ADUGOSM_PDUGOSM ,ADUGOSM_PDUMCG, ADUGOSM_ADUGOSM ,ADUGOSM_ADUMCG,ADUMCG_PDCUN, ADUMCG_PDUGOSM, ADUMCG_PDUMCG, ADUMCG_ADUGOSM, ADUMCG_ADUMCG\n",
    "    return HC_fpr,HC_tpr,PDCUN_fpr,PDCUN_tpr,PDUGOSM_fpr,PDUGOSM_tpr"
   ]
  },
  {
   "cell_type": "code",
   "execution_count": 50,
   "id": "3b20f81a-1e8b-4d5b-8160-be6ef633752c",
   "metadata": {},
   "outputs": [],
   "source": [
    "def confusionmatrix_6class(modelmatrix,testlabelmatrix,predictedlabelmatrix):\n",
    "    testlist = list(chain.from_iterable(zip(*testlabelmatrix)))\n",
    "    predictedlist = list(chain.from_iterable(zip(*predictedlabelmatrix)))\n",
    "    # storing the values \n",
    "    np.seterr(divide='ignore', invalid='ignore')\n",
    "\n",
    "\n",
    "    #testlist= testlist.astype(int)\n",
    "    #predictedlist = predictlist.astype(int)\n",
    "    \n",
    "    HC_tpr = dict()\n",
    "    HC_fpr = dict()\n",
    "    \n",
    "    PDCUN_tpr = dict()\n",
    "    PDCUN_fpr = dict()\n",
    "    \n",
    "    \n",
    "    PDUGOSM_tpr = dict()\n",
    "    PDUGOSM_fpr = dict()\n",
    "    \n",
    "    \n",
    "    for i in range(len(testlist)):\n",
    "        nHC_fpr=nHC_tpr=nPDCUN_fpr=nPDCUN_tpr= nPDUGOSM_fpr= nPDUGOSM_tpr=0\n",
    "        HCHC,HCPDCUN,HCPDUGOSM,PDCUNHC,PDCUNPDCUN,PDCUNPDUGOSM,PDUGOSMHC,PDUGOSMPDCUN,PDUGOSMPDUGOSM  = confusionmatrix(testlist[i],predictedlist[i])\n",
    "\n",
    "        nHC_fpr = (PDCUNHC+PDUGOSMHC)/(PDCUNHC+PDUGOSMHC+ PDCUNPDCUN + PDCUNPDUGOSM+  PDUGOSMPDCUN+  PDUGOSMPDUGOSM)\n",
    "        nHC_tpr = (HCHC) /(HCHC+HCPDCUN+HCPDUGOSM) \n",
    "\n",
    "        nPDCUN_fpr = (HCPDCUN + PDUGOSMPDCUN)/(HCPDCUN + PDUGOSMPDCUN + HCHC + HCPDUGOSM + PDUGOSMHC +  PDUGOSMPDUGOSM) \n",
    "        nPDCUN_tpr = (PDCUNPDCUN)/(PDCUNPDCUN + PDCUNHC + PDCUNPDUGOSM)\n",
    "\n",
    "\n",
    "        nPDUGOSM_fpr = (HCPDUGOSM + PDCUNPDUGOSM)/(HCPDUGOSM + PDCUNPDUGOSM+HCHC+HCPDCUN +PDCUNPDCUN+ PDCUNHC) \n",
    "        nPDUGOSM_tpr = (PDUGOSMPDUGOSM)/(PDUGOSMPDUGOSM+PDUGOSMHC + PDUGOSMPDCUN)\n",
    "\n",
    "        #############################\n",
    "        HC_fpr[i] = nHC_fpr\n",
    "        HC_tpr[i] =  nHC_tpr\n",
    "        \n",
    "        PDCUN_fpr[i] = nPDCUN_fpr\n",
    "        PDCUN_tpr[i] = nPDCUN_tpr\n",
    "\n",
    "\n",
    "        PDUGOSM_fpr[i] = nPDUGOSM_fpr\n",
    "        PDUGOSM_tpr[i] = nPDUGOSM_tpr\n",
    "\n",
    "#return PDCUN_PDCUN,PDCUN_PDUGOSM,PDCUN_PDUMCG,PDCUN_ADUGOSM,PDCUN_ADUMCG,PDUGOSM_PDCUN, PDUGOSM_PDUGOSM, PDUGOSM_PDUMCG, PDUGOSM_ADUGOSM, PDUGOSM_ADUMCG,PDUMCG_PDCUN, PDUMCG_PDUGOSM, PDUMCG_PDUMCG, PDUMCG_ADUGOSM, PDUMCG_ADUMCG,ADUGOSM_PDCUN ,ADUGOSM_PDUGOSM ,ADUGOSM_PDUMCG, ADUGOSM_ADUGOSM ,ADUGOSM_ADUMCG,ADUMCG_PDCUN, ADUMCG_PDUGOSM, ADUMCG_PDUMCG, ADUMCG_ADUGOSM, ADUMCG_ADUMCG\n",
    "    return HC_fpr,HC_tpr,PDCUN_fpr,PDCUN_tpr,PDUGOSM_fpr,PDUGOSM_tpr"
   ]
  },
  {
   "cell_type": "markdown",
   "id": "651b62ea-ffa7-4911-a5bc-5b7c5091fd1e",
   "metadata": {},
   "source": [
    "## confusion matrix "
   ]
  },
  {
   "cell_type": "code",
   "execution_count": 51,
   "id": "22f39cd8-59bc-4a89-b010-af6c29595dd3",
   "metadata": {},
   "outputs": [],
   "source": [
    "testlabelsdsingle = np.concatenate(list(chain.from_iterable(zip(*testlabelsd))), axis=0 )\n",
    "predicteddsingle = np.concatenate( list(chain.from_iterable(zip(*predictedd))), axis=0 )\n",
    "probabiltysingle = np.concatenate( list(chain.from_iterable(zip(*probabiltiesd))), axis=0 )"
   ]
  },
  {
   "cell_type": "code",
   "execution_count": 52,
   "id": "c28b757f-cf79-4c73-a482-998c53e5d433",
   "metadata": {},
   "outputs": [],
   "source": [
    "pHCHC,pHCPDCUN,pHCPDUGOSM,pPDCUNHC,pPDCUNPDCUN,pPDCUNPDUGOSM,pPDUGOSMHC,pPDUGOSMPDCUN,pPDUGOSMPDUGOSM  = confusionmatrix(testlabelsdsingle,predicteddsingle)"
   ]
  },
  {
   "cell_type": "code",
   "execution_count": 53,
   "id": "c213beef-bb47-41f2-804f-120134120f27",
   "metadata": {},
   "outputs": [
    {
     "data": {
      "text/plain": [
       "(408, 58, 164, 36, 611, 23, 143, 45, 192)"
      ]
     },
     "execution_count": 53,
     "metadata": {},
     "output_type": "execute_result"
    }
   ],
   "source": [
    "pHCHC,pHCPDCUN,pHCPDUGOSM,pPDCUNHC,pPDCUNPDCUN,pPDCUNPDUGOSM,pPDUGOSMHC,pPDUGOSMPDCUN,pPDUGOSMPDUGOSM"
   ]
  },
  {
   "cell_type": "code",
   "execution_count": 54,
   "id": "bd37295f-b944-40c9-ac9b-9320f71490ba",
   "metadata": {},
   "outputs": [],
   "source": [
    "cm = np.array([[pHCHC,pHCPDCUN,pHCPDUGOSM],\n",
    "               [pPDCUNHC,pPDCUNPDCUN,pPDCUNPDUGOSM],\n",
    "            [pPDUGOSMHC,pPDUGOSMPDCUN,pPDUGOSMPDUGOSM]])"
   ]
  },
  {
   "cell_type": "code",
   "execution_count": 55,
   "id": "4ee83a61-a2a2-4f38-a8b2-e37db2a1f9eb",
   "metadata": {},
   "outputs": [
    {
     "data": {
      "image/png": "[encoded data removed]",
      "text/plain": [
       "<Figure size 396x288 with 2 Axes>"
      ]
     },
     "metadata": {
      "needs_background": "light"
     },
     "output_type": "display_data"
    },
    {
     "data": {
      "text/plain": [
       "<Figure size 432x288 with 0 Axes>"
      ]
     },
     "metadata": {},
     "output_type": "display_data"
    }
   ],
   "source": [
    "from sklearn.svm import SVC\n",
    "from sklearn.metrics import accuracy_score, confusion_matrix, precision_recall_fscore_support\n",
    "import seaborn as sns\n",
    "\n",
    "# Transform to df for easier plotting\n",
    "cm_df = pd.DataFrame(cm,index = ['HC','PDCUN', 'PDUGOSM'], columns = ['HC','PDCUN', 'PDUGOSM'])\n",
    "\n",
    "plt.figure(figsize=(5.5,4))\n",
    "sns.heatmap(cm_df, annot=True,cmap='Blues', fmt='g')\n",
    "\n",
    "plt.title('Disease data')\n",
    "plt.ylabel('True label')\n",
    "\n",
    "plt.xlabel('Predicted label')\n",
    "plt.show()\n",
    "plt.savefig('temp.png')\n",
    "\n"
   ]
  },
  {
   "cell_type": "markdown",
   "id": "7358abf2-bfde-4ec6-91af-866046ca2ee7",
   "metadata": {},
   "source": [
    "## confusion matrix for kfold models"
   ]
  },
  {
   "cell_type": "code",
   "execution_count": 56,
   "id": "3485d01d-89b8-488d-a894-65aafdd97f83",
   "metadata": {},
   "outputs": [],
   "source": [
    "HC_fpr, HC_tpr, PDCUN_fpr, PDCUN_tpr, PDUGOSM_fpr, PDUGOSM_tpr = confusionmatrix_6class(diseasemodel,testlabelsd,predictedd)\n",
    "\n",
    "HC_fpr1,HC_tpr1,PDCUN_fpr1,PDCUN_tpr1,PDUGOSM_fpr1,PDUGOSM_tpr1 = confusionmatrix_61class(diseasemodel,testlabelsdsingle,predicteddsingle)"
   ]
  },
  {
   "cell_type": "markdown",
   "id": "640f2f8d-f074-4285-8d88-80ccf8c45452",
   "metadata": {},
   "source": [
    "## create dictionary for models and an averaged model"
   ]
  },
  {
   "cell_type": "code",
   "execution_count": 57,
   "id": "6ba32161-41ba-40ee-afec-f49bbf808d09",
   "metadata": {},
   "outputs": [],
   "source": [
    "n_classes=['HC','PDCUN', 'PDUGOSM']\n",
    "plotdict_tpr1 = dict()\n",
    "plotdict_fpr1 = dict()\n",
    "\n",
    "plotdict_tpr1 = HC_tpr1,PDCUN_tpr1,PDUGOSM_tpr1\n",
    "plotdict_fpr1 = HC_fpr1,PDCUN_fpr1,PDUGOSM_fpr1\n",
    "\n"
   ]
  },
  {
   "cell_type": "code",
   "execution_count": 58,
   "id": "de231b96-1bad-42f5-a70d-f111dbf7a99b",
   "metadata": {},
   "outputs": [],
   "source": [
    "n_classes=['HC','PDCUN', 'PDUGOSM']\n",
    "plotdict_tpr = dict()\n",
    "plotdict_fpr = dict()\n",
    "\n",
    "#for j in range(len(repeated)*folds):\n",
    "for j in range(repeated*folds):\n",
    "\n",
    "    \n",
    "    plotdict_tpr[j]=HC_tpr[j],PDCUN_tpr[j],PDUGOSM_tpr[j]\n",
    "    plotdict_fpr[j]=HC_fpr[j],PDCUN_fpr[j],PDUGOSM_fpr[j]"
   ]
  },
  {
   "cell_type": "code",
   "execution_count": 59,
   "id": "e84127ea-893d-4c01-aad0-ac90fab7f7ef",
   "metadata": {},
   "outputs": [],
   "source": [
    "n_classes=['HC','PDCUN', 'PDUGOSM']"
   ]
  },
  {
   "cell_type": "code",
   "execution_count": 60,
   "id": "5516c92b-bf38-4851-861d-c0099a4ffaed",
   "metadata": {},
   "outputs": [
    {
     "data": {
      "image/png": "[encoded data removed]",
      "text/plain": [
       "<Figure size 720x720 with 1 Axes>"
      ]
     },
     "metadata": {
      "needs_background": "light"
     },
     "output_type": "display_data"
    }
   ],
   "source": [
    "testlist = list(chain.from_iterable(zip(*testlabelsd)))\n",
    "probabiltylist = list(chain.from_iterable(zip(*probabiltiesd)))\n",
    "fpru = dict()\n",
    "tpru = dict()\n",
    "roc_aucu = dict()\n",
    "for k in range(len(testlist)):\n",
    "\n",
    "    n_classes=['HC','PDCUN', 'PDUGOSM']\n",
    "\n",
    "    # structures\n",
    "    fpr = dict()\n",
    "\n",
    "    tpr = dict()\n",
    "\n",
    "    roc_auc = dict()\n",
    "    \n",
    "    \n",
    "    \n",
    "    fpr1 = dict()\n",
    "\n",
    "    tpr1 = dict()\n",
    "\n",
    "    roc_auc1 = dict()\n",
    "    \n",
    "\n",
    "    colorrange = ['green','red','blue']\n",
    "    colorrange2 = ['green','red','blue']\n",
    "    for i in range(len(n_classes)):\n",
    "        \n",
    "        # dictionary fpr tpr and roc calcualted per class per model and then stored in a bigger dict\n",
    "        # Dict of Dict\n",
    "        fpr[i], tpr[i], _ = roc_curve(testlist[k],probabiltylist[k][:,i],pos_label=n_classes[i], drop_intermediate=True)\n",
    "        roc_auc[i] = auc(fpr[i], tpr[i])\n",
    "        fpru[k] = fpr\n",
    "        tpru[k] = tpr\n",
    "        roc_aucu[k] = roc_auc\n",
    "        \n",
    "for j in range(len(n_classes)):\n",
    "        fpr1[j], tpr1[j], _ = roc_curve(testlabelsdsingle,probabiltysingle[:,j],pos_label=n_classes[j], drop_intermediate=True)\n",
    "        roc_auc1[j] = auc(fpr1[j], tpr1[j])\n",
    "\n",
    "    \n",
    "    \n",
    "    \n",
    "figsize=(10, 10)\n",
    "# roc for each class\n",
    "fig, ax = plt.subplots(figsize=figsize)\n",
    "\n",
    "\n",
    "\n",
    "ax.plot([0, 1], [0, 1], 'k--')\n",
    "#ax.set_xlim([0.0, 1.0])\n",
    "#ax.set_ylim([0.0, 1.05])\n",
    "ax.set_xlabel('False Positive Rate')\n",
    "ax.set_ylabel('True Positive Rate')\n",
    "ax.set_title('Receiver operating characteristic example') \n",
    "\n",
    "\n",
    "#for k1 in range(len(testlist)):\n",
    "#    for i1 in range(len(n_classes)):  \n",
    "#        ax.plot(fpru[k1][i1], tpru[k1][i1], label='_nolegend_',color=colorrange[i1])\n",
    "\n",
    "        #ax.plot(PDCUN_fpr[i], PDCUN_fpr[i],  marker=\"o\", markersize=\"12\")\n",
    "#        ax.plot(plotdict_fpr[k1][i1], plotdict_tpr[k1][i1],  color=colorrange[i1])#,marker=\"o\", markersize=\"12\")\n",
    "        \n",
    "        \n",
    "#plotdict_tpr1 = ADUGOSM_tpr1,ADUMCG_tpr1,PDCUN_tpr1,PDUGOSM_tpr1,PDUMCG_tpr1\n",
    "#plotdict_fpr1 = ADUGOSM_fpr1,ADUMCG_fpr1,PDCUN_tpr1,PDUGOSM_fpr1,PDUMCG_fpr1\n",
    "\n",
    "for i2 in range(len(n_classes)):\n",
    "    ax.plot(fpr1[i2], tpr1[i2], label='ROC curve (AUC = %0.2f) for %s' % (roc_auc1[i2], n_classes[i2]),color=colorrange2[i2])\n",
    "    ax.plot(plotdict_fpr1[i2], plotdict_tpr1[i2], color=colorrange2[i2],marker=\"o\", markersize=\"12\")\n",
    "\n",
    "ax.legend(loc=\"right\")   \n",
    "ax.grid(False)\n",
    "fig.savefig('roc6class.png')\n",
    "#ax.grid(alpha=.4)\n",
    "plt.show()"
   ]
  },
  {
   "cell_type": "code",
   "execution_count": 61,
   "id": "618c5358-5090-4723-bbcb-77461d4727af",
   "metadata": {},
   "outputs": [
    {
     "data": {
      "text/plain": [
       "100"
      ]
     },
     "execution_count": 61,
     "metadata": {},
     "output_type": "execute_result"
    }
   ],
   "source": [
    "len(roc_aucu)"
   ]
  },
  {
   "cell_type": "code",
   "execution_count": 62,
   "id": "dc888745-9cbe-4457-a811-ba1e40bc045d",
   "metadata": {},
   "outputs": [],
   "source": [
    "average_ruc = dict()\n",
    "# check this once\n",
    "for i in range(len(n_classes)):\n",
    "    sum = 0\n",
    "    for key in roc_aucu:\n",
    "        sum += roc_aucu[key][i]\n",
    "    average_ruc[i] = sum/len(roc_aucu)\n",
    "\n"
   ]
  },
  {
   "cell_type": "code",
   "execution_count": 63,
   "id": "fa70b53b-2018-4cc7-8eca-e220ef5d4670",
   "metadata": {},
   "outputs": [
    {
     "data": {
      "text/plain": [
       "{0: 0.7898715041572184, 1: 0.9527663661888577, 2: 0.7386761133603239}"
      ]
     },
     "execution_count": 63,
     "metadata": {},
     "output_type": "execute_result"
    }
   ],
   "source": [
    "roc_auc1"
   ]
  },
  {
   "cell_type": "code",
   "execution_count": 64,
   "id": "73a2b0fc-8c5d-49c5-afda-9f0d84c88e94",
   "metadata": {},
   "outputs": [
    {
     "data": {
      "text/plain": [
       "array([  0,   1,   2,   3,   4,   5,   6,   7,   8,   9,  10,  11,  12,\n",
       "        13,  14,  15,  16,  17,  18,  19,  20,  21,  22,  23,  24,  25,\n",
       "        26,  27,  28,  29,  30,  31,  32,  33,  34,  35,  36,  37,  38,\n",
       "        39,  40,  41,  42,  43,  82,  83,  84,  85,  86,  87,  88,  89,\n",
       "        90,  91,  92,  93,  94,  95,  96,  97,  98,  99, 100])"
      ]
     },
     "execution_count": 64,
     "metadata": {},
     "output_type": "execute_result"
    }
   ],
   "source": [
    "HCindices"
   ]
  },
  {
   "cell_type": "markdown",
   "id": "714aecee-d527-4978-8de2-aff64ed8bd0d",
   "metadata": {},
   "source": [
    "## ROC curve for one trained model for 6 class classification"
   ]
  },
  {
   "cell_type": "code",
   "execution_count": 65,
   "id": "6eedd7d5-1883-4a59-9ff4-3a671ecf56e5",
   "metadata": {},
   "outputs": [],
   "source": [
    "# removing the z transform\n",
    "def visualizeSinglemodeld(model,scalarI,data,labels,eigenvaluesaverage,eigenvectoraverage,prototypes1):\n",
    "\n",
    "    transformed_data = model.transform(data,True)\n",
    "    \n",
    "    # all examples 1st and 2nd feature\n",
    "    x_d = transformed_data[:, 0]\n",
    "    y_d = transformed_data[:, 1]\n",
    "\n",
    "\n",
    "\n",
    "    transformed_model = model.transform(prototypes1, scale=True)\n",
    "\n",
    "\n",
    "    x_m = transformed_model[:, 0]\n",
    "    y_m = transformed_model[:, 1]\n",
    "\n",
    "    fig, ax = plt.subplots(figsize=(15,15))\n",
    "    fig.suptitle(\"Maindataset disease data with corresponding prototypes\")\n",
    "    \n",
    "    colors = ['lightgreen','red','orange']\n",
    "    colorsHC = ['lightblue','blue']\n",
    "    # check the ordering from 4 class\n",
    "    labelHC = ['HCUGOSM_early','HCCUN_late']\n",
    "    labelss = ['HC','PDCUN_late','PDUGOSM_early']\n",
    "    for i, cls in enumerate(model.classes_):\n",
    "        ii = cls == labels\n",
    "        if(i == 0):\n",
    "            for hc in range(len(HCindices1)):\n",
    "            #print('label0')\n",
    "                ax.scatter(\n",
    "                    x_d[HCindices1[hc]],\n",
    "                    y_d[HCindices1[hc]],\n",
    "                    c=colorsHC[hc],\n",
    "                    s=100,\n",
    "                    alpha=0.7,\n",
    "                    edgecolors=\"white\",\n",
    "                    label = labelHC[hc])\n",
    "                    #label = model.classes_[model.prototypes_labels_[i]])\n",
    "        else:\n",
    "            ax.scatter(\n",
    "            x_d[ii],\n",
    "            y_d[ii],\n",
    "            c=colors[i],\n",
    "            s=100,\n",
    "            alpha=0.7,\n",
    "            edgecolors=\"white\",\n",
    "            label = labelss[i]\n",
    "            #label=model.classes_[model.prototypes_labels_[i]]\n",
    "        )\n",
    "\n",
    "    \n",
    "        \n",
    "    #for i, txt in enumerate(HCindices):\n",
    "        #ax.annotate(txt,(x_d[i],y_d[i]))\n",
    "        #plt.scatter(x_d[ii],y_d[ii])\n",
    "    \n",
    "    \n",
    "    for hc,txt in enumerate(HCindices):\n",
    "        ax.annotate(txt,(x_d[HCindices[hc]],y_d[HCindices[hc]]))\n",
    "        \n",
    "        \n",
    "    for hc1,txt1 in enumerate(labelss):\n",
    "        ax.annotate(txt1,(x_m[hc1],y_m[HCindices[hc1]]),fontsize=20)\n",
    "    \n",
    "    ax.scatter(x_m, y_m, c=colors, s=500, alpha=0.8, edgecolors=\"black\", linewidth=2.0)\n",
    "    ax.set_xlabel(\"First eigenvector\")\n",
    "    ax.set_ylabel(\"Second eigenvector\")\n",
    "    ax.legend()\n",
    "    #plt.ylim([-1, 30])\n",
    "    #plt.xlim([-30, 30])\n",
    "    ax.grid(True)\n",
    "    print(model.classes_)\n",
    "    #fig.savefig('visualize_center.eps', format='eps')\n",
    "    fig.savefig('disease_correction_singelmodel.png')\n",
    "    print('A1: Black, A2: Red, B1: Green, B2: Blue, Centers A and B, and diseases 1 and 2.) ')"
   ]
  },
  {
   "cell_type": "code",
   "execution_count": 66,
   "id": "c65f6448-37b1-4eda-8e91-e7835f021bfd",
   "metadata": {},
   "outputs": [
    {
     "name": "stdout",
     "output_type": "stream",
     "text": [
      "returning if\n",
      "returning if\n",
      "['HC' 'PDCUN' 'PDUGOSM']\n",
      "A1: Black, A2: Red, B1: Green, B2: Blue, Centers A and B, and diseases 1 and 2.) \n"
     ]
    },
    {
     "data": {
      "image/png": "[encoded data removed]",
      "text/plain": [
       "<Figure size 1080x1080 with 1 Axes>"
      ]
     },
     "metadata": {
      "needs_background": "light"
     },
     "output_type": "display_data"
    }
   ],
   "source": [
    "# model d is trained and fitted on oversampled data, BUT we plot the original datset. The whole point of oversampling was to increase the accuracy of the classifier\n",
    "# training model d on oversampled data and plotting on non oversampled data makes a difference\n",
    "# the scaled eigen vectors end up making a huge differendce for normal and overscaled dataset\n",
    "visualizeSinglemodeld(modeld,scalarId,finaldatadisease,Finallabelsdisease,modeld.eigenvalues_,modeld.eigenvectors_,modeld.prototypes_)\n"
   ]
  },
  {
   "cell_type": "code",
   "execution_count": null,
   "id": "cbb5f467-c092-4eed-ba34-b9dc6eb8d0ec",
   "metadata": {},
   "outputs": [],
   "source": []
  },
  {
   "cell_type": "code",
   "execution_count": 67,
   "id": "20c2ba48-87a1-4fb9-a2b6-bc3360c8b786",
   "metadata": {},
   "outputs": [
    {
     "name": "stdout",
     "output_type": "stream",
     "text": [
      "returning if\n",
      "returning if\n",
      "['HC' 'PDCUN' 'PDUGOSM']\n",
      "A1: Black, A2: Red, B1: Green, B2: Blue, Centers A and B, and diseases 1 and 2.) \n"
     ]
    },
    {
     "data": {
      "image/png": "[encoded data removed]",
      "text/plain": [
       "<Figure size 1080x1080 with 1 Axes>"
      ]
     },
     "metadata": {
      "needs_background": "light"
     },
     "output_type": "display_data"
    }
   ],
   "source": [
    "# model d is trained and fitted on oversampled data, BUT we plot the original datset. The whole point of oversampling was to increase the accuracy of the classifier\n",
    "# training model d on oversampled data and plotting on non oversampled data makes a difference\n",
    "# the scaled eigen vectors end up making a huge differendce for normal and overscaled dataset\n",
    "visualizeSinglemodeld(modeld_oversampled,scalard__oversampled,finaldatadisease_oversampled,Finallabelsdisease_oversampled,modeld_oversampled.eigenvalues_,modeld_oversampled.eigenvectors_,modeld_oversampled.prototypes_)\n"
   ]
  },
  {
   "cell_type": "markdown",
   "id": "9eca0be2-a944-486d-9891-ebe326f0b0e8",
   "metadata": {},
   "source": [
    "## visualize models 6 class"
   ]
  },
  {
   "cell_type": "code",
   "execution_count": 70,
   "id": "3dacc229-b520-4405-8b5f-7d4a88314279",
   "metadata": {},
   "outputs": [],
   "source": [
    "# removing the z transform\n",
    "def visualizeSinglemodelc(model,scalarI,data,labels,eigenvaluesaverage,eigenvectoraverage,prototypes1):\n",
    "    #data = scalarI.inverse_transform(data)    \n",
    "    transformed_data = model.transform(data,True)\n",
    "    \n",
    "    # all examples 1st and 2nd feature\n",
    "    x_d = transformed_data[:, 0]\n",
    "    y_d = transformed_data[:, 1]\n",
    "\n",
    "    # Transform the model, i.e., the prototypes (scaled by square root of eigenvalues \"scale = True\")\n",
    "    # prototype inverser transform\n",
    "    #prototypes = scalarI.inverse_transform(prototypes1)\n",
    "\n",
    "    transformed_model = model.transform(prototypes1, scale=True)\n",
    "\n",
    "    #transformed_model = transform1(prototypes,eigenvaluesaverage,eigenvectoraverage,scale=True)\n",
    "\n",
    "    x_m = transformed_model[:, 0]\n",
    "    y_m = transformed_model[:, 1]\n",
    "\n",
    "    fig, ax = plt.subplots(figsize=(15,15))\n",
    "    fig.suptitle(\"Maindataset center data with corresponding prototypes\")\n",
    "    colors = ['pink','magenta']#,'red','lightgreen']\n",
    "    for i, cls in enumerate(model.classes_):\n",
    "        ii = cls == labels\n",
    "        ax.scatter(\n",
    "            x_d[ii],\n",
    "            y_d[ii],\n",
    "            c=colors[i],\n",
    "            s=100,\n",
    "            alpha=0.7,\n",
    "            edgecolors=\"white\",\n",
    "            label=model.classes_[model.prototypes_labels_[i]],\n",
    "        )\n",
    "    #for i, txt in enumerate(HC_UGOSM_CUN):\n",
    "    #    ax.annotate(txt,(x_d[i],y_d[i]))\n",
    "    ax.scatter(x_m, y_m, c=colors, s=500, alpha=0.8, edgecolors=\"black\", linewidth=2.0)\n",
    "    ax.set_xlabel(\"First eigenvector\")\n",
    "    ax.set_ylabel(\"Second eigenvector\")\n",
    "    ax.legend()\n",
    "    #plt.ylim([-1, 30])\n",
    "    #plt.xlim([-30, 30])\n",
    "    ax.grid(True)\n",
    "    print(model.classes_)\n",
    "    #fig.savefig('visualize_center.eps', format='eps')\n",
    "    fig.savefig('center_correction_singelmodel.png')\n",
    "    print('A1: Black, A2: Red, B1: Green, B2: Blue, Centers A and B, and diseases 1 and 2.) ')"
   ]
  },
  {
   "cell_type": "code",
   "execution_count": 71,
   "id": "cc4b81e7-1314-4488-a1cd-3fd75a1f61d9",
   "metadata": {},
   "outputs": [
    {
     "name": "stdout",
     "output_type": "stream",
     "text": [
      "returning if\n",
      "returning if\n",
      "['CUN' 'UGOSM']\n",
      "A1: Black, A2: Red, B1: Green, B2: Blue, Centers A and B, and diseases 1 and 2.) \n"
     ]
    },
    {
     "data": {
      "image/png": "[encoded data removed]",
      "text/plain": [
       "<Figure size 1080x1080 with 1 Axes>"
      ]
     },
     "metadata": {
      "needs_background": "light"
     },
     "output_type": "display_data"
    }
   ],
   "source": [
    "visualizeSinglemodelc(modelc,scalarIc,finaldatacenter1,finalcenterlabels1,modelc.eigenvalues_,modelc.eigenvectors_,modelc.prototypes_)\n"
   ]
  },
  {
   "cell_type": "raw",
   "id": "c9047ffe-d7fa-44cf-afa4-3f9c4624eacb",
   "metadata": {},
   "source": [
    "# removing the z transform\n",
    "def averageprototype(model,scalarI,data,labels,eigenvaluesaverage,eigenvectoraverage,average_prototype):\n",
    "    #data = scalarI.inverse_transform(data)\n",
    "    transformed_data = transform1(data,eigenvaluesdisease,eigenvectoraverage,True)\n",
    "\n",
    "    \n",
    "    # all examples 1st and 2nd feature\n",
    "    x_d = transformed_data[:, 0]\n",
    "    y_d = transformed_data[:, 1]\n",
    "\n",
    "\n",
    "    #transformed_model = model.transform(prototypes, scale=True)\n",
    "    #prototypes = scalarI.inverse_transform(average_prototype)\n",
    "    transformed_model = transform1(average_prototype,eigenvaluesaverage,eigenvectoraverage,scale=True)\n",
    "    #transformed_model = model.transform(prototypes, scale=True)\n",
    "    x_m = transformed_model[:, 0]\n",
    "    y_m = transformed_model[:, 1]\n",
    "    fig, ax = plt.subplots(figsize=(15,15))\n",
    "    fig.suptitle(\"Maindataset disease data with corresponding prototypes\")\n",
    "    colors = ['pink','magenta','red']#,'lightgreen']\n",
    "    labelss = ['HC','PDCUN_late','PDUGOSM_early']\n",
    "    for i, cls in enumerate(model.classes_):\n",
    "        ii = cls == labels\n",
    "        ax.scatter(\n",
    "            x_d[ii],\n",
    "            y_d[ii],\n",
    "            c=colors[i],\n",
    "            s=100,\n",
    "            alpha=0.7,\n",
    "            edgecolors=\"white\",\n",
    "            #label=model.classes_[model.prototypes_labels_[i]],\n",
    "            #label = labelss[i]\n",
    "            label=model.classes_[model.prototypes_labels_[i]]\n",
    "        )\n",
    "        \n",
    "    #for i, txt in enumerate(HCPD_UGOSM_CUN):\n",
    "     #   ax.annotate(txt,(x_d[i],y_d[i]))\n",
    "    ax.scatter(x_m, y_m, c=colors, s=500, alpha=0.8, edgecolors=\"black\", linewidth=2.0)\n",
    "    ax.scatter(x_m, y_m, c=colors, s=500, alpha=0.8, edgecolors=\"black\", linewidth=2.0)\n",
    "    ax.set_xlabel(\"First eigenvector\")\n",
    "    ax.set_ylabel(\"Second eigenvector\")\n",
    "    ax.legend()\n",
    "    #plt.ylim([-1, 30])\n",
    "    #plt.xlim([-30, 30])\n",
    "    ax.grid(True)\n",
    "    print(model.classes_)\n",
    "    #fig.savefig('visualize_center.eps', format='eps')\n",
    "    fig.savefig('disease_correction_singelmodel_kfold.png')\n",
    "    print('A1: Black, A2: Red, B1: Green, B2: Blue, Centers A and B, and diseases 1 and 2.) ')"
   ]
  },
  {
   "cell_type": "raw",
   "id": "36c1a037-d351-4852-8212-f7158ac7d628",
   "metadata": {},
   "source": [
    "# removing the z transform\n",
    "def averageprototypec(model,scalarI,data,labels,eigenvaluesaverage,eigenvectoraverage,average_prototype):\n",
    "    #data = scalarI.inverse_transform(data)\n",
    "    transformed_data = transform1(data,eigenvaluesdisease,eigenvectoraverage,True)\n",
    "\n",
    "    \n",
    "    # all examples 1st and 2nd feature\n",
    "    x_d = transformed_data[:, 0]\n",
    "    y_d = transformed_data[:, 1]\n",
    "\n",
    "\n",
    "    #transformed_model = model.transform(prototypes, scale=True)\n",
    "    #prototypes = scalarI.inverse_transform(average_prototype)\n",
    "    transformed_model = transform1(average_prototype,eigenvaluesaverage,eigenvectoraverage,scale=True)\n",
    "    #transformed_model = model.transform(prototypes, scale=True)\n",
    "    x_m = transformed_model[:, 0]\n",
    "    y_m = transformed_model[:, 1]\n",
    "    fig, ax = plt.subplots(figsize=(15,15))\n",
    "    fig.suptitle(\"Maindataset center data with corresponding prototypes\")\n",
    "    colors = ['pink','magenta']#,'red','lightgreen']\n",
    "    innerlabels = ['PDCUN','PDUGOSM']\\n\",\n",
    "    for i, cls in enumerate(model.classes_):\n",
    "        ii = cls == labels\n",
    "        ax.scatter(\n",
    "            x_d[ii],\n",
    "            y_d[ii],\n",
    "            s=100,\n",
    "            alpha=0.7,\n",
    "            edgecolors=\"white\",\n",
    "            label=model.classes_[model.prototypes_labels_[i]],\n",
    "        )\n",
    "    #for i, txt in enumerate(HC_UGOSM_CUN):\n",
    "        #ax.annotate(txt,(x_d[i],y_d[i]))\n",
    "    ax.scatter(x_m, y_m, c=colors, s=500, alpha=0.8, edgecolors=\"black\", linewidth=2.0,cmap=plt.cm.get_cmap('cubehelix', 6))\n",
    "    ax.set_xlabel(\"First eigenvector\")\n",
    "    ax.set_ylabel(\"Second eigenvector\")\n",
    "    ax.legend()\n",
    "    #plt.ylim([-1, 30])\n",
    "    #plt.xlim([-30, 30])\n",
    "    ax.grid(True)\n",
    "    print(model.classes_)\n",
    "    #fig.savefig('visualize_center.eps', format='eps')\n",
    "    fig.savefig('center_correction_singelmodel_kfold.png')\n",
    "    print('A1: Black, A2: Red, B1: Green, B2: Blue, Centers A and B, and diseases 1 and 2.) ')"
   ]
  },
  {
   "cell_type": "raw",
   "id": "6812661e-50c9-483f-a6ff-f36f876d8a9a",
   "metadata": {},
   "source": [
    "diseasemodel[0][0].prototypes_[0] +  diseasemodel[0][1].prototypes_[0] + diseasemodel[0][2].prototypes_[0] + diseasemodel[0][3].prototypes_[0]+   diseasemodel[0][4].prototypes_[0] + diseasemodel[1][0].prototypes_[0] +  diseasemodel[1][1].prototypes_[0] + diseasemodel[1][2].prototypes_[0] + diseasemodel[1][3].prototypes_[0]+   diseasemodel[1][4].prototypes_[0]+diseasemodel[2][0].prototypes_[0] +  diseasemodel[2][1].prototypes_[0] + diseasemodel[2][2].prototypes_[0] + diseasemodel[2][3].prototypes_[0]+   diseasemodel[2][4].prototypes_[0]+diseasemodel[3][0].prototypes_[0] +  diseasemodel[3][1].prototypes_[0] + diseasemodel[3][2].prototypes_[0] + diseasemodel[3][3].prototypes_[0]+   diseasemodel[3][4].prototypes_[0]+diseasemodel[4][0].prototypes_[0] +  diseasemodel[4][1].prototypes_[0] + diseasemodel[4][2].prototypes_[0] + diseasemodel[4][3].prototypes_[0]+   diseasemodel[4][4].prototypes_[0]+diseasemodel[5][0].prototypes_[0] +  diseasemodel[5][1].prototypes_[0] + diseasemodel[5][2].prototypes_[0] + diseasemodel[5][3].prototypes_[0]+   diseasemodel[5][4].prototypes_[0]+diseasemodel[6][0].prototypes_[0] +  diseasemodel[6][1].prototypes_[0] + diseasemodel[6][2].prototypes_[0] + diseasemodel[6][3].prototypes_[0]+   diseasemodel[6][4].prototypes_[0]++diseasemodel[7][0].prototypes_[0] +  diseasemodel[7][1].prototypes_[0] + diseasemodel[7][2].prototypes_[0] + diseasemodel[7][3].prototypes_[0]+   diseasemodel[7][4].prototypes_[0]+diseasemodel[8][0].prototypes_[0] +  diseasemodel[8][1].prototypes_[0] + diseasemodel[8][2].prototypes_[0] + diseasemodel[8][3].prototypes_[0]+   diseasemodel[8][4].prototypes_[0]+diseasemodel[9][0].prototypes_[0] +  diseasemodel[9][1].prototypes_[0] + diseasemodel[9][2].prototypes_[0] + diseasemodel[9][3].prototypes_[0]+   diseasemodel[9][4].prototypes_[0]"
   ]
  },
  {
   "cell_type": "raw",
   "id": "0fe4b03a-d2df-497e-9f01-ec687b06de29",
   "metadata": {},
   "source": [
    "a1 = diseasemodel[0][0].prototypes_[1] +  diseasemodel[0][1].prototypes_[1] + diseasemodel[0][2].prototypes_[1] + diseasemodel[0][3].prototypes_[1]+   diseasemodel[0][4].prototypes_[1] + diseasemodel[1][0].prototypes_[1] +  diseasemodel[1][1].prototypes_[1] + diseasemodel[1][2].prototypes_[1] + diseasemodel[1][3].prototypes_[1]+   diseasemodel[1][4].prototypes_[1]+diseasemodel[2][0].prototypes_[1] +  diseasemodel[2][1].prototypes_[1] + diseasemodel[2][2].prototypes_[1] + diseasemodel[2][3].prototypes_[1]+   diseasemodel[2][4].prototypes_[1]+diseasemodel[3][0].prototypes_[1] +  diseasemodel[3][1].prototypes_[1] + diseasemodel[3][2].prototypes_[1] + diseasemodel[3][3].prototypes_[1]+   diseasemodel[3][4].prototypes_[1]+diseasemodel[4][0].prototypes_[1] +  diseasemodel[4][1].prototypes_[1] + diseasemodel[4][2].prototypes_[1] + diseasemodel[4][3].prototypes_[1]+   diseasemodel[4][4].prototypes_[1]+diseasemodel[5][0].prototypes_[1] +  diseasemodel[5][1].prototypes_[1] + diseasemodel[5][2].prototypes_[1] + diseasemodel[5][3].prototypes_[1]+   diseasemodel[5][4].prototypes_[1]+diseasemodel[6][0].prototypes_[1] +  diseasemodel[6][1].prototypes_[1] + diseasemodel[6][2].prototypes_[1] + diseasemodel[6][3].prototypes_[1]+   diseasemodel[6][4].prototypes_[1]++diseasemodel[7][0].prototypes_[1] +  diseasemodel[7][1].prototypes_[1] + diseasemodel[7][2].prototypes_[1] + diseasemodel[7][3].prototypes_[1]+   diseasemodel[7][4].prototypes_[1]+diseasemodel[8][0].prototypes_[1] +  diseasemodel[8][1].prototypes_[1] + diseasemodel[8][2].prototypes_[1] + diseasemodel[8][3].prototypes_[1]+   diseasemodel[8][4].prototypes_[1]+diseasemodel[9][0].prototypes_[1] +  diseasemodel[9][1].prototypes_[1] + diseasemodel[9][2].prototypes_[1] + diseasemodel[9][3].prototypes_[1]+   diseasemodel[9][4].prototypes_[1]"
   ]
  },
  {
   "cell_type": "code",
   "execution_count": 72,
   "id": "d70abdcb-7ca9-4592-9098-668dc698ad6e",
   "metadata": {},
   "outputs": [],
   "source": [
    "# Plot the eigenvalues of the eigenvectors of the relevance matrix.\n",
    "def ploteigenvalues(eigenvalues,eigenvectors,average_lambda,d):\n",
    "    fig, ax = plt.subplots()\n",
    "    fig.suptitle(\"Eigen values with correction \"+d+ \" main data\")\n",
    "    ax.bar(range(0, len(eigenvalues)), eigenvalues)\n",
    "    ax.set_ylabel(\"Weight\")\n",
    "    ax.grid(False)\n",
    "    fig.savefig('eigenvalues'+d+'.eps', format='eps')\n",
    "    fig.savefig('eigenvalues'+d+'.png')\n",
    "    #fig.savefig('eigenvalues+d+.svg\", format ='svg', dpi=1200)\n",
    "\n",
    "\n",
    "    # Plot the first two eigenvectors of the relevance matrix, which  is called `omega_hat`.\n",
    "    fig, ax = plt.subplots()\n",
    "    fig.suptitle(\"First Eigenvector with correction \" +d+ \" main data\")\n",
    "    ax.bar(feature_names, eigenvectors[0, :])\n",
    "    ax.set_ylabel(\"Weight\")\n",
    "    ax.grid(False)\n",
    "    fig.savefig('Firsteigenvector'+d+'.eps', format='eps')\n",
    "    fig.savefig('Firsteigenvector'+d+'.png')\n",
    "    \n",
    "    fig, ax = plt.subplots()\n",
    "    fig.suptitle(\"Second Eigenvector with correction \" +d+ \" main data\")\n",
    "    ax.bar(feature_names, eigenvectors[1, :])\n",
    "    ax.set_ylabel(\"Weight\")\n",
    "    ax.grid(False)\n",
    "    fig.savefig('Secondeigenvector'+d+'.eps', format='eps')\n",
    "    fig.savefig('Secondeigenvector'+d+'.png')\n",
    "    fig, ax = plt.subplots()\n",
    "    \n",
    "    \n",
    "    # The relevance matrix is available after fitting the model.\n",
    "    relevance_matrix = average_lambda\n",
    "    \n",
    "    \n",
    "    error = np.std(average_lambda_center,axis=0)\n",
    "    fig.suptitle(\"Relevance Matrix Diagonal with correction \" +d+ \" main data\")\n",
    "    ax.bar(feature_names,np.diagonal(relevance_matrix),yerr=error)\n",
    "    ax.set_ylabel(\"Weight\")\n",
    "    ax.grid(False)\n",
    "    fig.savefig('relevancematrix'+d+'.eps', format='eps')\n",
    "    fig.savefig('relevancematrix'+d+'.png')"
   ]
  },
  {
   "cell_type": "code",
   "execution_count": null,
   "id": "857b30ef-68d3-42a7-bb46-e539a03a91bf",
   "metadata": {},
   "outputs": [],
   "source": [
    "# Plot the eigenvalues of the eigenvectors of the relevance matrix.\n",
    "def ploteigenvalueswithout(eigenvalues,eigenvectors,average_lambda,d):\n",
    "    fig, ax = plt.subplots()\n",
    "    fig.suptitle(\"Eigen values without correction \"+d+ \" main data\")\n",
    "    ax.bar(range(0, len(eigenvalues)), eigenvalues)\n",
    "    ax.set_ylabel(\"Weight\")\n",
    "    ax.grid(False)\n",
    "    fig.savefig('eigenvalues'+d+'.eps', format='eps')\n",
    "    fig.savefig('eigenvalues'+d+'.png')\n",
    "    #fig.savefig('eigenvalues+d+.svg\", format ='svg', dpi=1200)\n",
    "\n",
    "\n",
    "    # Plot the first two eigenvectors of the relevance matrix, which  is called `omega_hat`.\n",
    "    fig, ax = plt.subplots()\n",
    "    fig.suptitle(\"First Eigenvector without correction \" +d+ \" main data\")\n",
    "    ax.bar(feature_names, eigenvectors[0, :])\n",
    "    ax.set_ylabel(\"Weight\")\n",
    "    ax.grid(False)\n",
    "    fig.savefig('Firsteigenvector'+d+'.eps', format='eps')\n",
    "    fig.savefig('Firsteigenvector'+d+'.png')\n",
    "    \n",
    "    fig, ax = plt.subplots()\n",
    "    fig.suptitle(\"Second Eigenvector without correction \" +d+ \" main data\")\n",
    "    ax.bar(feature_names, eigenvectors[1, :])\n",
    "    ax.set_ylabel(\"Weight\")\n",
    "    ax.grid(False)\n",
    "    fig.savefig('Secondeigenvector'+d+'.eps', format='eps')\n",
    "    fig.savefig('Secondeigenvector'+d+'.png')\n",
    "    fig, ax = plt.subplots()\n",
    "    \n",
    "    \n",
    "    # plot diagonal, std and mean per feature for all dimensions\n",
    "    relevance_matrix = average_lambda\n",
    "    #means = np.mean(average_lambda_center,axis=0)\n",
    "    #error = np.std(average_lambda_center,axis=0)\n",
    "    error = average_lambad_disease_permodel\n",
    "    fig.suptitle(\"Relevance Matrix Diagonal without correction \" +d+ \" main data\")\n",
    "    ax.bar(feature_names,np.diagonal(relevance_matrix),yerr=error)\n",
    "    ax.set_ylabel(\"Weight\")\n",
    "    ax.grid(False)\n",
    "    fig.savefig('relevancematrix'+d+'.eps', format='eps')\n",
    "    fig.savefig('relevancematrix'+d+'.png')\n",
    "    "
   ]
  },
  {
   "cell_type": "code",
   "execution_count": null,
   "id": "64afa6aa-f092-4e14-904a-4a522f064f07",
   "metadata": {},
   "outputs": [],
   "source": []
  },
  {
   "cell_type": "code",
   "execution_count": 74,
   "id": "7157a2fc-b999-4262-9a09-55b1664ba737",
   "metadata": {},
   "outputs": [
    {
     "data": {
      "image/png": "[encoded data removed]",
      "text/plain": [
       "<Figure size 432x288 with 1 Axes>"
      ]
     },
     "metadata": {
      "needs_background": "light"
     },
     "output_type": "display_data"
    },
    {
     "data": {
      "image/png": "[encoded data removed]",
      "text/plain": [
       "<Figure size 432x288 with 1 Axes>"
      ]
     },
     "metadata": {
      "needs_background": "light"
     },
     "output_type": "display_data"
    },
    {
     "data": {
      "image/png": "[encoded data removed]",
      "text/plain": [
       "<Figure size 432x288 with 1 Axes>"
      ]
     },
     "metadata": {
      "needs_background": "light"
     },
     "output_type": "display_data"
    },
    {
     "data": {
      "image/png": "[encoded data removed]",
      "text/plain": [
       "<Figure size 432x288 with 1 Axes>"
      ]
     },
     "metadata": {
      "needs_background": "light"
     },
     "output_type": "display_data"
    }
   ],
   "source": [
    "ploteigenvalues(modeld.eigenvalues_,modeld.eigenvectors_,modeld.lambda_,'disease')"
   ]
  },
  {
   "cell_type": "code",
   "execution_count": null,
   "id": "d17236ee-3106-4857-be68-7a20efaf3f90",
   "metadata": {},
   "outputs": [],
   "source": [
    "ploteigenvalues(modelc.eigenvalues_,modelc.eigenvectors_,modelc.lambda_,'center')"
   ]
  },
  {
   "cell_type": "code",
   "execution_count": null,
   "id": "52953510-c078-4ff7-b26c-8b12f4678a8e",
   "metadata": {},
   "outputs": [],
   "source": []
  },
  {
   "cell_type": "code",
   "execution_count": null,
   "id": "dba45454-0373-4180-9a40-79ee83012e5a",
   "metadata": {},
   "outputs": [],
   "source": [
    "\n"
   ]
  }
 ],
 "metadata": {
  "kernelspec": {
   "display_name": "Python 3",
   "language": "python",
   "name": "python3"
  },
  "language_info": {
   "codemirror_mode": {
    "name": "ipython",
    "version": 3
   },
   "file_extension": ".py",
   "mimetype": "text/x-python",
   "name": "python",
   "nbconvert_exporter": "python",
   "pygments_lexer": "ipython3",
   "version": "3.8.10"
  }
 },
 "nbformat": 4,
 "nbformat_minor": 5
}

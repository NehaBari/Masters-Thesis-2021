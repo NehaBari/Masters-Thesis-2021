{
 "cells": [
  {
   "cell_type": "code",
   "execution_count": 1,
   "metadata": {
    "collapsed": false,
    "jupyter": {
     "outputs_hidden": false
    }
   },
   "outputs": [],
   "source": [
    "%matplotlib inline"
   ]
  },
  {
   "cell_type": "markdown",
   "metadata": {},
   "source": [
    "\n",
    "# Generalized Matrix LVQ (GMLVQ)\n",
    "\n",
    "Example of how to use GMLVQ `[1]`_ on the classic diabetes dataset.\n"
   ]
  },
  {
   "cell_type": "code",
   "execution_count": 2,
   "metadata": {
    "collapsed": false,
    "jupyter": {
     "outputs_hidden": false
    }
   },
   "outputs": [],
   "source": [
    "import matplotlib\n",
    "import matplotlib.pyplot as plt\n",
    "import numpy as np\n",
    "from sklearn.datasets import load_wine\n",
    "from sklearn.metrics import classification_report\n",
    "from sklearn.preprocessing import StandardScaler\n",
    "\n",
    "from sklvq import GMLVQ\n",
    "\n",
    "matplotlib.rc(\"xtick\", labelsize=\"small\")\n",
    "matplotlib.rc(\"ytick\", labelsize=\"small\")\n",
    "\n",
    "# Contains also the target_names and feature_names, which we will use for the plots.\n",
    "wine = load_wine()\n",
    "\n",
    "data = wine.data\n",
    "labels = wine.target\n",
    "feature_names = [name[:-5] for name in wine.feature_names]"
   ]
  },
  {
   "cell_type": "markdown",
   "metadata": {},
   "source": [
    "## Fitting the Model\n",
    "Scale the data and create a GLVQ object with, e.g., custom distance function, activation\n",
    "function and solver. See the API reference under documentation for defaults and other\n",
    "possible parameters.\n",
    "\n"
   ]
  },
  {
   "cell_type": "code",
   "execution_count": 3,
   "metadata": {
    "collapsed": false,
    "jupyter": {
     "outputs_hidden": false
    }
   },
   "outputs": [],
   "source": [
    "# Sklearn's standardscaler to perform z-transform\n",
    "scaler = StandardScaler()\n",
    "\n",
    "# Compute (fit) and apply (transform) z-transform\n",
    "data = scaler.fit_transform(data)\n",
    "\n",
    "# The creation of the model object used to fit the data to.\n",
    "model = GMLVQ(\n",
    "    distance_type=\"adaptive-squared-euclidean\",\n",
    "    activation_type=\"swish\",\n",
    "    activation_params={\"beta\": 2},\n",
    "    solver_type=\"waypoint-gradient-descent\",\n",
    "    solver_params={\"max_runs\": 10, \"k\": 3, \"step_size\": np.array([0.1, 0.05])},\n",
    "    random_state=1428,\n",
    ")"
   ]
  },
  {
   "cell_type": "markdown",
   "metadata": {},
   "source": [
    "The next step is to fit the GMLVQ object to the data and use the predict method to make the\n",
    "predictions. Note that this example only works on the training data and therefor does not say\n",
    "anything about the generalizability of the fitted model.\n",
    "\n"
   ]
  },
  {
   "cell_type": "code",
   "execution_count": 5,
   "metadata": {
    "collapsed": false,
    "jupyter": {
     "outputs_hidden": false
    }
   },
   "outputs": [
    {
     "name": "stdout",
     "output_type": "stream",
     "text": [
      "442\n",
      "              precision    recall  f1-score   support\n",
      "\n",
      "        25.0       0.50      1.00      0.67         1\n",
      "        31.0       1.00      1.00      1.00         1\n",
      "        37.0       1.00      1.00      1.00         1\n",
      "        39.0       0.33      1.00      0.50         2\n",
      "        40.0       0.50      1.00      0.67         1\n",
      "        42.0       0.38      1.00      0.55         3\n",
      "        43.0       0.50      1.00      0.67         1\n",
      "        44.0       0.50      1.00      0.67         1\n",
      "        45.0       1.00      1.00      1.00         1\n",
      "        47.0       1.00      1.00      1.00         2\n",
      "        48.0       0.00      0.00      0.00         3\n",
      "        49.0       0.67      0.67      0.67         3\n",
      "        50.0       1.00      1.00      1.00         1\n",
      "        51.0       0.25      0.33      0.29         3\n",
      "        52.0       0.00      0.00      0.00         4\n",
      "        53.0       0.33      0.25      0.29         4\n",
      "        54.0       0.50      1.00      0.67         1\n",
      "        55.0       1.00      0.25      0.40         4\n",
      "        57.0       1.00      1.00      1.00         1\n",
      "        58.0       0.50      1.00      0.67         1\n",
      "        59.0       0.25      0.25      0.25         4\n",
      "        60.0       0.25      0.33      0.29         3\n",
      "        61.0       0.33      1.00      0.50         2\n",
      "        63.0       0.00      0.00      0.00         4\n",
      "        64.0       0.33      0.67      0.44         3\n",
      "        65.0       0.75      0.75      0.75         4\n",
      "        66.0       0.25      0.50      0.33         2\n",
      "        67.0       0.50      0.50      0.50         2\n",
      "        68.0       0.00      0.00      0.00         3\n",
      "        69.0       0.00      0.00      0.00         3\n",
      "        70.0       0.00      0.00      0.00         2\n",
      "        71.0       0.00      0.00      0.00         5\n",
      "        72.0       0.50      0.33      0.40         6\n",
      "        73.0       0.50      1.00      0.67         1\n",
      "        74.0       0.00      0.00      0.00         2\n",
      "        75.0       0.33      1.00      0.50         2\n",
      "        77.0       0.50      0.50      0.50         4\n",
      "        78.0       0.00      0.00      0.00         3\n",
      "        79.0       0.50      1.00      0.67         1\n",
      "        80.0       1.00      1.00      1.00         1\n",
      "        81.0       0.00      0.00      0.00         2\n",
      "        83.0       0.25      0.33      0.29         3\n",
      "        84.0       0.50      0.75      0.60         4\n",
      "        85.0       0.67      0.50      0.57         4\n",
      "        86.0       1.00      1.00      1.00         1\n",
      "        87.0       0.50      1.00      0.67         2\n",
      "        88.0       0.00      0.00      0.00         4\n",
      "        89.0       0.50      1.00      0.67         2\n",
      "        90.0       0.00      0.00      0.00         5\n",
      "        91.0       0.33      0.25      0.29         4\n",
      "        92.0       0.00      0.00      0.00         2\n",
      "        93.0       0.50      0.50      0.50         2\n",
      "        94.0       0.33      0.33      0.33         3\n",
      "        95.0       0.00      0.00      0.00         2\n",
      "        96.0       0.50      0.25      0.33         4\n",
      "        97.0       0.00      0.00      0.00         4\n",
      "        98.0       1.00      1.00      1.00         1\n",
      "        99.0       0.00      0.00      0.00         2\n",
      "       100.0       0.33      1.00      0.50         1\n",
      "       101.0       0.50      1.00      0.67         3\n",
      "       102.0       0.50      0.33      0.40         3\n",
      "       103.0       1.00      0.50      0.67         2\n",
      "       104.0       0.00      0.00      0.00         4\n",
      "       107.0       0.50      1.00      0.67         2\n",
      "       108.0       1.00      1.00      1.00         1\n",
      "       109.0       0.00      0.00      0.00         4\n",
      "       110.0       0.25      0.50      0.33         2\n",
      "       111.0       0.00      0.00      0.00         3\n",
      "       113.0       0.40      0.67      0.50         3\n",
      "       114.0       0.50      1.00      0.67         1\n",
      "       115.0       0.33      0.50      0.40         2\n",
      "       116.0       0.33      0.50      0.40         2\n",
      "       118.0       0.00      0.00      0.00         3\n",
      "       120.0       1.00      1.00      1.00         1\n",
      "       121.0       0.50      0.50      0.50         2\n",
      "       122.0       1.00      1.00      1.00         2\n",
      "       123.0       1.00      1.00      1.00         1\n",
      "       124.0       0.50      0.50      0.50         2\n",
      "       125.0       1.00      1.00      1.00         1\n",
      "       126.0       1.00      1.00      1.00         1\n",
      "       127.0       0.12      0.50      0.20         2\n",
      "       128.0       0.50      0.25      0.33         4\n",
      "       129.0       0.00      0.00      0.00         3\n",
      "       131.0       0.50      0.25      0.33         4\n",
      "       132.0       0.00      0.00      0.00         2\n",
      "       134.0       0.33      0.50      0.40         2\n",
      "       135.0       1.00      0.50      0.67         2\n",
      "       136.0       1.00      1.00      1.00         1\n",
      "       137.0       0.00      0.00      0.00         2\n",
      "       138.0       0.00      0.00      0.00         2\n",
      "       139.0       0.33      1.00      0.50         2\n",
      "       140.0       0.00      0.00      0.00         2\n",
      "       141.0       0.25      0.33      0.29         3\n",
      "       142.0       0.20      0.25      0.22         4\n",
      "       143.0       0.00      0.00      0.00         2\n",
      "       144.0       0.00      0.00      0.00         4\n",
      "       145.0       0.50      1.00      0.67         1\n",
      "       146.0       1.00      1.00      1.00         1\n",
      "       147.0       0.50      1.00      0.67         1\n",
      "       148.0       1.00      1.00      1.00         1\n",
      "       150.0       0.00      0.00      0.00         4\n",
      "       151.0       0.67      0.67      0.67         3\n",
      "       152.0       0.25      0.50      0.33         2\n",
      "       153.0       1.00      1.00      1.00         1\n",
      "       154.0       1.00      1.00      1.00         1\n",
      "       155.0       1.00      0.50      0.67         2\n",
      "       156.0       1.00      1.00      1.00         1\n",
      "       158.0       0.17      0.50      0.25         2\n",
      "       160.0       0.00      0.00      0.00         2\n",
      "       161.0       1.00      1.00      1.00         1\n",
      "       162.0       1.00      1.00      1.00         1\n",
      "       163.0       0.50      0.50      0.50         2\n",
      "       164.0       0.00      0.00      0.00         2\n",
      "       166.0       1.00      1.00      1.00         1\n",
      "       167.0       0.50      1.00      0.67         1\n",
      "       168.0       0.00      0.00      0.00         3\n",
      "       170.0       0.00      0.00      0.00         3\n",
      "       171.0       1.00      1.00      1.00         1\n",
      "       172.0       0.00      0.00      0.00         2\n",
      "       173.0       0.33      0.50      0.40         2\n",
      "       174.0       0.40      1.00      0.57         2\n",
      "       175.0       1.00      1.00      1.00         1\n",
      "       177.0       0.50      1.00      0.67         1\n",
      "       178.0       0.50      0.20      0.29         5\n",
      "       179.0       0.50      0.50      0.50         2\n",
      "       180.0       0.67      1.00      0.80         2\n",
      "       181.0       1.00      0.50      0.67         2\n",
      "       182.0       1.00      0.33      0.50         3\n",
      "       183.0       1.00      1.00      1.00         1\n",
      "       184.0       1.00      1.00      1.00         1\n",
      "       185.0       1.00      0.33      0.50         3\n",
      "       186.0       0.50      1.00      0.67         1\n",
      "       187.0       1.00      1.00      1.00         1\n",
      "       189.0       1.00      1.00      1.00         1\n",
      "       190.0       0.00      0.00      0.00         2\n",
      "       191.0       0.50      0.50      0.50         2\n",
      "       192.0       1.00      1.00      1.00         1\n",
      "       195.0       1.00      1.00      1.00         1\n",
      "       196.0       1.00      0.50      0.67         2\n",
      "       197.0       0.50      0.50      0.50         2\n",
      "       198.0       1.00      0.33      0.50         3\n",
      "       199.0       1.00      1.00      1.00         1\n",
      "       200.0       1.00      0.17      0.29         6\n",
      "       201.0       1.00      1.00      1.00         1\n",
      "       202.0       1.00      0.25      0.40         4\n",
      "       206.0       1.00      1.00      1.00         2\n",
      "       208.0       1.00      1.00      1.00         1\n",
      "       209.0       1.00      1.00      1.00         1\n",
      "       210.0       0.25      1.00      0.40         1\n",
      "       212.0       1.00      1.00      1.00         1\n",
      "       214.0       1.00      0.33      0.50         3\n",
      "       215.0       0.33      1.00      0.50         1\n",
      "       216.0       1.00      1.00      1.00         1\n",
      "       217.0       0.50      1.00      0.67         2\n",
      "       219.0       0.00      0.00      0.00         2\n",
      "       220.0       0.50      0.25      0.33         4\n",
      "       221.0       1.00      1.00      1.00         1\n",
      "       222.0       0.50      1.00      0.67         1\n",
      "       225.0       0.00      0.00      0.00         2\n",
      "       229.0       0.50      1.00      0.67         1\n",
      "       230.0       1.00      1.00      1.00         2\n",
      "       232.0       1.00      0.50      0.67         2\n",
      "       233.0       0.50      0.33      0.40         3\n",
      "       235.0       0.50      1.00      0.67         2\n",
      "       236.0       0.50      1.00      0.67         1\n",
      "       237.0       0.67      1.00      0.80         2\n",
      "       241.0       1.00      1.00      1.00         1\n",
      "       242.0       0.00      0.00      0.00         3\n",
      "       243.0       1.00      1.00      1.00         2\n",
      "       244.0       0.50      1.00      0.67         1\n",
      "       245.0       0.00      0.00      0.00         2\n",
      "       246.0       0.00      0.00      0.00         2\n",
      "       248.0       1.00      0.67      0.80         3\n",
      "       249.0       0.50      1.00      0.67         1\n",
      "       252.0       1.00      0.33      0.50         3\n",
      "       253.0       0.50      1.00      0.67         1\n",
      "       257.0       0.50      0.50      0.50         2\n",
      "       258.0       0.00      0.00      0.00         3\n",
      "       259.0       1.00      0.33      0.50         3\n",
      "       261.0       1.00      1.00      1.00         1\n",
      "       262.0       0.67      1.00      0.80         2\n",
      "       263.0       0.33      0.50      0.40         2\n",
      "       264.0       1.00      1.00      1.00         1\n",
      "       265.0       0.67      0.67      0.67         3\n",
      "       268.0       0.67      1.00      0.80         2\n",
      "       270.0       1.00      1.00      1.00         2\n",
      "       272.0       0.50      0.50      0.50         2\n",
      "       273.0       1.00      1.00      1.00         1\n",
      "       274.0       1.00      1.00      1.00         1\n",
      "       275.0       1.00      0.75      0.86         4\n",
      "       276.0       0.50      1.00      0.67         1\n",
      "       277.0       0.00      0.00      0.00         2\n",
      "       279.0       1.00      1.00      1.00         1\n",
      "       280.0       1.00      1.00      1.00         1\n",
      "       281.0       0.67      0.50      0.57         4\n",
      "       283.0       1.00      1.00      1.00         2\n",
      "       288.0       1.00      1.00      1.00         1\n",
      "       292.0       0.67      1.00      0.80         2\n",
      "       293.0       0.33      1.00      0.50         1\n",
      "       295.0       1.00      1.00      1.00         1\n",
      "       296.0       1.00      1.00      1.00         1\n",
      "       297.0       0.50      1.00      0.67         1\n",
      "       302.0       1.00      1.00      1.00         1\n",
      "       303.0       1.00      1.00      1.00         1\n",
      "       306.0       1.00      1.00      1.00         1\n",
      "       308.0       1.00      1.00      1.00         1\n",
      "       310.0       0.67      0.67      0.67         3\n",
      "       311.0       0.25      1.00      0.40         1\n",
      "       317.0       1.00      1.00      1.00         1\n",
      "       321.0       0.33      1.00      0.50         1\n",
      "       332.0       1.00      1.00      1.00         1\n",
      "       336.0       1.00      1.00      1.00         1\n",
      "       341.0       1.00      1.00      1.00         1\n",
      "       346.0       1.00      1.00      1.00         1\n",
      "\n",
      "    accuracy                           0.49       442\n",
      "   macro avg       0.57      0.64      0.57       442\n",
      "weighted avg       0.49      0.49      0.45       442\n",
      "\n"
     ]
    },
    {
     "name": "stderr",
     "output_type": "stream",
     "text": [
      "/home/gebruiker/anaconda3/envs/mypython3/lib/python3.9/site-packages/sklearn/metrics/_classification.py:1245: UndefinedMetricWarning: Precision and F-score are ill-defined and being set to 0.0 in labels with no predicted samples. Use `zero_division` parameter to control this behavior.\n",
      "  _warn_prf(average, modifier, msg_start, len(result))\n",
      "/home/gebruiker/anaconda3/envs/mypython3/lib/python3.9/site-packages/sklearn/metrics/_classification.py:1245: UndefinedMetricWarning: Precision and F-score are ill-defined and being set to 0.0 in labels with no predicted samples. Use `zero_division` parameter to control this behavior.\n",
      "  _warn_prf(average, modifier, msg_start, len(result))\n",
      "/home/gebruiker/anaconda3/envs/mypython3/lib/python3.9/site-packages/sklearn/metrics/_classification.py:1245: UndefinedMetricWarning: Precision and F-score are ill-defined and being set to 0.0 in labels with no predicted samples. Use `zero_division` parameter to control this behavior.\n",
      "  _warn_prf(average, modifier, msg_start, len(result))\n"
     ]
    }
   ],
   "source": [
    "# Train the model using the scaled data and true labels\n",
    "model.fit(data, labels)\n",
    "\n",
    "# Predict the labels using the trained model\n",
    "predicted_labels = model.predict(data)\n",
    "print(len(data))\n",
    "\n",
    "# To get a sense of the training performance we could print the classification report.\n",
    "print(classification_report(labels, predicted_labels))"
   ]
  },
  {
   "cell_type": "markdown",
   "metadata": {},
   "source": [
    "## Extracting the Relevance Matrix\n",
    "In addition to the prototypes (see GLVQ example), GMLVQ learns a\n",
    "matrix `lambda_` which can tell us something about which features are most relevant for the\n",
    "classification.\n",
    "\n"
   ]
  },
  {
   "cell_type": "code",
   "execution_count": null,
   "metadata": {
    "collapsed": false,
    "jupyter": {
     "outputs_hidden": false
    }
   },
   "outputs": [],
   "source": [
    "# The relevance matrix is available after fitting the model.\n",
    "relevance_matrix = model.lambda_\n",
    "\n",
    "# Plot the diagonal of the relevance matrix\n",
    "fig, ax = plt.subplots()\n",
    "fig.suptitle(\"Relevance Matrix Diagonal\")\n",
    "ax.bar(feature_names, np.diagonal(relevance_matrix))\n",
    "ax.set_ylabel(\"Weight\")\n",
    "ax.grid(False)"
   ]
  },
  {
   "cell_type": "code",
   "execution_count": null,
   "metadata": {},
   "outputs": [],
   "source": [
    "relevance_matrix"
   ]
  },
  {
   "cell_type": "markdown",
   "metadata": {},
   "source": [
    "Note that the relevance diagonal adds up to one. The most relevant features for\n",
    "distinguishing between the classes present in  the iris dataset seem to be (in decreasing\n",
    "order) the petal length, petal width, sepal length, and sepal width. Although not very\n",
    "interesting for the iris dataset one could use this information to select only the top most\n",
    "relevant features to be used for the classification and thus reducing the dimensionality of\n",
    "the problem.\n",
    "\n"
   ]
  },
  {
   "cell_type": "markdown",
   "metadata": {},
   "source": [
    "## Transforming the data\n",
    "In addition to making predictions GMLVQ can be used to transform the data using the\n",
    "eigenvectors of the relevance matrix.\n",
    "\n"
   ]
  },
  {
   "cell_type": "code",
   "execution_count": null,
   "metadata": {
    "collapsed": false,
    "jupyter": {
     "outputs_hidden": false
    }
   },
   "outputs": [],
   "source": [
    "# Transform the data (scaled by square root of eigenvalues \"scale = True\")\n",
    "transformed_data = model.transform(data, scale=True)\n",
    "\n",
    "x_d = transformed_data[:, 0]\n",
    "y_d = transformed_data[:, 1]\n",
    "\n",
    "# Transform the model, i.e., the prototypes (scaled by square root of eigenvalues \"scale = True\")\n",
    "transformed_model = model.transform(model.prototypes_, scale=True)\n",
    "\n",
    "x_m = transformed_model[:, 0]\n",
    "y_m = transformed_model[:, 1]\n",
    "\n",
    "# Plot\n",
    "fig, ax = plt.subplots()\n",
    "fig.suptitle(\"Discriminative projection diabetes data and GMLVQ prototypes\")\n",
    "colors = [\"blue\", \"red\", \"green\"]\n",
    "for i, cls in enumerate(model.classes_):\n",
    "    ii = cls == labels\n",
    "    ax.scatter(\n",
    "        x_d[ii],\n",
    "        y_d[ii],\n",
    "        c=colors[i],\n",
    "        s=100,\n",
    "        alpha=0.7,\n",
    "        edgecolors=\"white\",\n",
    "        label=wine.target_names[model.prototypes_labels_[i]],\n",
    "    )\n",
    "ax.scatter(x_m, y_m, c=colors, s=180, alpha=0.8, edgecolors=\"black\", linewidth=2.0)\n",
    "ax.set_xlabel(\"First eigenvector\")\n",
    "ax.set_ylabel(\"Second eigenvector\")\n",
    "ax.legend()\n",
    "ax.grid(True)"
   ]
  },
  {
   "cell_type": "markdown",
   "metadata": {},
   "source": [
    "The transformed data and prototypes can be used to visualize the problem in a lower dimension,\n",
    "which is also the space the model would compute the distance. The axis are the directions which\n",
    "are the most discriminating directions (combinations of features). Hence, inspecting the\n",
    "eigenvalues and eigenvectors (axis) themselves can be interesting.\n",
    "\n"
   ]
  },
  {
   "cell_type": "code",
   "execution_count": null,
   "metadata": {
    "collapsed": false,
    "jupyter": {
     "outputs_hidden": false
    }
   },
   "outputs": [],
   "source": [
    "# Plot the eigenvalues of the eigenvectors of the relevance matrix.\n",
    "fig, ax = plt.subplots()\n",
    "fig.suptitle(\"Eigenvalues\")\n",
    "ax.bar(range(0, len(model.eigenvalues_)), model.eigenvalues_)\n",
    "ax.set_ylabel(\"Weight\")\n",
    "ax.grid(False)\n",
    "\n",
    "# Plot the first two eigenvectors of the relevance matrix, which  is called `omega_hat`.\n",
    "fig, ax = plt.subplots()\n",
    "fig.suptitle(\"First Eigenvector\")\n",
    "ax.bar(feature_names, model.omega_hat_[:, 0])\n",
    "ax.set_ylabel(\"Weight\")\n",
    "ax.grid(False)\n",
    "\n",
    "fig, ax = plt.subplots()\n",
    "fig.suptitle(\"Second Eigenvector\")\n",
    "ax.bar(feature_names, model.omega_hat_[:, 1])\n",
    "ax.set_ylabel(\"Weight\")\n",
    "ax.grid(False)"
   ]
  },
  {
   "cell_type": "markdown",
   "metadata": {},
   "source": [
    "In the plots from the eigenvalues and eigenvector we see a similar effects as we could see from\n",
    "just the diagonal of `lambda_`. The two leading (most relevant or discriminating) eigenvectors\n",
    "mostly use the petal length and petal width in their calculation. The diagonal of the\n",
    "relevance matrix can therefor be considered as a summary of the relevances of the features.\n",
    "\n"
   ]
  },
  {
   "cell_type": "markdown",
   "metadata": {},
   "source": [
    "## References\n",
    "_`[1]` Schneider, P., Biehl, M., & Hammer, B. (2009). \"Adaptive Relevance Matrices in Learning\n",
    "Vector Quantization\" Neural Computation, 21(12), 3532–3561, 2009.\n",
    "\n"
   ]
  }
 ],
 "metadata": {
  "kernelspec": {
   "display_name": "Python 3",
   "language": "python",
   "name": "python3"
  },
  "language_info": {
   "codemirror_mode": {
    "name": "ipython",
    "version": 3
   },
   "file_extension": ".py",
   "mimetype": "text/x-python",
   "name": "python",
   "nbconvert_exporter": "python",
   "pygments_lexer": "ipython3",
   "version": "3.9.1"
  }
 },
 "nbformat": 4,
 "nbformat_minor": 4
}

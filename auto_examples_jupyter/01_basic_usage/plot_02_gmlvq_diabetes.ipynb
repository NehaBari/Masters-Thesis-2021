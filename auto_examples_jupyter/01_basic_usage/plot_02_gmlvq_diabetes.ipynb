{
 "cells": [
  {
   "cell_type": "code",
   "execution_count": 1,
   "metadata": {
    "collapsed": false,
    "jupyter": {
     "outputs_hidden": false
    }
   },
   "outputs": [],
   "source": [
    "%matplotlib inline"
   ]
  },
  {
   "cell_type": "markdown",
   "metadata": {},
   "source": [
    "\n",
    "# Generalized Matrix LVQ (GMLVQ)\n",
    "\n",
    "Example of how to use GMLVQ `[1]`_ on the classic diabetes dataset.\n"
   ]
  },
  {
   "cell_type": "code",
   "execution_count": 2,
   "metadata": {
    "collapsed": false,
    "jupyter": {
     "outputs_hidden": false
    }
   },
   "outputs": [],
   "source": [
    "import matplotlib\n",
    "import matplotlib.pyplot as plt\n",
    "import numpy as np\n",
    "from sklearn.datasets import load_wine\n",
    "from sklearn.metrics import classification_report\n",
    "from sklearn.preprocessing import StandardScaler\n",
    "\n",
    "from sklvq import GMLVQ\n",
    "\n",
    "matplotlib.rc(\"xtick\", labelsize=\"small\")\n",
    "matplotlib.rc(\"ytick\", labelsize=\"small\")\n",
    "\n",
    "# Contains also the target_names and feature_names, which we will use for the plots.\n",
    "wine = load_wine()\n",
    "\n",
    "data = wine.data\n",
    "labels = wine.target\n",
    "feature_names = [name[:-5] for name in wine.feature_names]"
   ]
  },
  {
   "cell_type": "markdown",
   "metadata": {},
   "source": [
    "## Fitting the Model\n",
    "Scale the data and create a GLVQ object with, e.g., custom distance function, activation\n",
    "function and solver. See the API reference under documentation for defaults and other\n",
    "possible parameters.\n",
    "\n"
   ]
  },
  {
   "cell_type": "code",
   "execution_count": 3,
   "metadata": {
    "collapsed": false,
    "jupyter": {
     "outputs_hidden": false
    }
   },
   "outputs": [],
   "source": [
    "# Sklearn's standardscaler to perform z-transform\n",
    "scaler = StandardScaler()\n",
    "\n",
    "# Compute (fit) and apply (transform) z-transform\n",
    "data = scaler.fit_transform(data)\n",
    "\n",
    "# The creation of the model object used to fit the data to.\n",
    "model = GMLVQ(\n",
    "    distance_type=\"adaptive-squared-euclidean\",\n",
    "    activation_type=\"swish\",\n",
    "    activation_params={\"beta\": 2},\n",
    "    solver_type=\"waypoint-gradient-descent\",\n",
    "    solver_params={\"max_runs\": 10, \"k\": 3, \"step_size\": np.array([0.1, 0.05])},\n",
    "    random_state=1428,\n",
    ")"
   ]
  },
  {
   "cell_type": "markdown",
   "metadata": {},
   "source": [
    "The next step is to fit the GMLVQ object to the data and use the predict method to make the\n",
    "predictions. Note that this example only works on the training data and therefor does not say\n",
    "anything about the generalizability of the fitted model.\n",
    "\n"
   ]
  },
  {
   "cell_type": "code",
   "execution_count": 4,
   "metadata": {
    "collapsed": false,
    "jupyter": {
     "outputs_hidden": false
    }
   },
   "outputs": [
    {
     "name": "stdout",
     "output_type": "stream",
     "text": [
      "178\n",
      "              precision    recall  f1-score   support\n",
      "\n",
      "           0       1.00      1.00      1.00        59\n",
      "           1       1.00      1.00      1.00        71\n",
      "           2       1.00      1.00      1.00        48\n",
      "\n",
      "    accuracy                           1.00       178\n",
      "   macro avg       1.00      1.00      1.00       178\n",
      "weighted avg       1.00      1.00      1.00       178\n",
      "\n"
     ]
    }
   ],
   "source": [
    "# Train the model using the scaled data and true labels\n",
    "model.fit(data, labels)\n",
    "\n",
    "# Predict the labels using the trained model\n",
    "predicted_labels = model.predict(data)\n",
    "print(len(data))\n",
    "\n",
    "# To get a sense of the training performance we could print the classification report.\n",
    "print(classification_report(labels, predicted_labels))"
   ]
  },
  {
   "cell_type": "markdown",
   "metadata": {},
   "source": [
    "## Extracting the Relevance Matrix\n",
    "In addition to the prototypes (see GLVQ example), GMLVQ learns a\n",
    "matrix `lambda_` which can tell us something about which features are most relevant for the\n",
    "classification.\n",
    "\n"
   ]
  },
  {
   "cell_type": "code",
   "execution_count": 9,
   "metadata": {
    "collapsed": false,
    "jupyter": {
     "outputs_hidden": false
    }
   },
   "outputs": [
    {
     "name": "stdout",
     "output_type": "stream",
     "text": [
      "['al', 'malic', '', 'alcalinity_o', 'magn', 'total_ph', 'flava', 'nonflavanoid_ph', 'proanthocy', 'color_inte', '', 'od280/od315_of_diluted_', 'pr']\n"
     ]
    },
    {
     "data": {
      "image/png": "[encoded data removed]",
      "text/plain": [
       "<Figure size 432x288 with 1 Axes>"
      ]
     },
     "metadata": {
      "needs_background": "light"
     },
     "output_type": "display_data"
    }
   ],
   "source": [
    "# The relevance matrix is available after fitting the model.\n",
    "relevance_matrix = model.lambda_\n",
    "\n",
    "# Plot the diagonal of the relevance matrix\n",
    "fig, ax = plt.subplots()\n",
    "fig.suptitle(\"Relevance Matrix Diagonal\")\n",
    "print(feature_names)\n",
    "ax.bar(feature_names, np.diagonal(relevance_matrix))\n",
    "ax.set_ylabel(\"Weight\")\n",
    "ax.grid(False)"
   ]
  },
  {
   "cell_type": "code",
   "execution_count": 6,
   "metadata": {},
   "outputs": [
    {
     "data": {
      "text/plain": [
       "array([[ 9.48612939e-02,  1.16838728e-02,  3.43133600e-02,\n",
       "        -2.44425007e-02,  2.19503935e-03, -4.67850214e-03,\n",
       "        -6.80595524e-03, -8.28749920e-03, -2.53466028e-03,\n",
       "         2.86814353e-02, -2.64413236e-02,  5.29812378e-03,\n",
       "         4.24326382e-02],\n",
       "       [ 1.16838728e-02,  4.70953571e-02,  9.05668662e-03,\n",
       "        -1.80232330e-02,  9.64061694e-03,  6.70403152e-03,\n",
       "         6.56022222e-04, -8.19494993e-03, -2.20650976e-03,\n",
       "         1.63913270e-02,  1.07349544e-03, -8.68071629e-04,\n",
       "         2.52261391e-02],\n",
       "       [ 3.43133600e-02,  9.05668662e-03,  7.78491335e-02,\n",
       "        -4.01301948e-02, -7.80563355e-03, -4.03944626e-05,\n",
       "        -1.29567643e-02, -1.37662745e-02, -1.10146313e-02,\n",
       "         3.52222091e-02, -2.61341691e-02, -6.82751246e-03,\n",
       "         4.59300680e-02],\n",
       "       [-2.44425007e-02, -1.80232330e-02, -4.01301948e-02,\n",
       "         7.62436751e-02, -4.35583087e-03, -2.57405212e-03,\n",
       "        -9.74886436e-03,  3.88588166e-03,  5.11060761e-03,\n",
       "        -1.66683232e-02,  1.11831799e-02, -2.05060268e-02,\n",
       "        -3.01187677e-02],\n",
       "       [ 2.19503935e-03,  9.64061694e-03, -7.80563355e-03,\n",
       "        -4.35583087e-03,  5.00058698e-02,  2.63857513e-03,\n",
       "         3.15265982e-03,  3.14829690e-03, -7.20388666e-03,\n",
       "         1.57912418e-03, -2.91715359e-03,  6.43151757e-04,\n",
       "        -9.71085263e-03],\n",
       "       [-4.67850214e-03,  6.70403152e-03, -4.03944626e-05,\n",
       "        -2.57405212e-03,  2.63857513e-03,  5.69972578e-02,\n",
       "        -1.31635987e-02,  4.82021458e-03, -1.36682291e-02,\n",
       "         4.01761495e-04, -1.18946373e-02, -1.59977069e-02,\n",
       "        -4.13876543e-03],\n",
       "       [-6.80595524e-03,  6.56022222e-04, -1.29567643e-02,\n",
       "        -9.74886436e-03,  3.15265982e-03, -1.31635987e-02,\n",
       "         8.42850048e-02,  8.42595718e-03, -4.92873121e-03,\n",
       "        -2.18848435e-02,  1.27042000e-02,  8.49433967e-03,\n",
       "        -4.24290535e-03],\n",
       "       [-8.28749920e-03, -8.19494993e-03, -1.37662745e-02,\n",
       "         3.88588166e-03,  3.14829690e-03,  4.82021458e-03,\n",
       "         8.42595718e-03,  4.36984346e-02,  1.25255334e-02,\n",
       "        -1.49458992e-02,  5.46797877e-03,  7.15034282e-03,\n",
       "        -4.78279593e-03],\n",
       "       [-2.53466028e-03, -2.20650976e-03, -1.10146313e-02,\n",
       "         5.11060761e-03, -7.20388666e-03, -1.36682291e-02,\n",
       "        -4.92873121e-03,  1.25255334e-02,  5.00885777e-02,\n",
       "        -1.47983365e-02,  1.13397273e-02, -8.41940931e-03,\n",
       "        -1.22415648e-02],\n",
       "       [ 2.86814353e-02,  1.63913270e-02,  3.52222091e-02,\n",
       "        -1.66683232e-02,  1.57912418e-03,  4.01761495e-04,\n",
       "        -2.18848435e-02, -1.49458992e-02, -1.47983365e-02,\n",
       "         1.15526334e-01, -2.81557680e-02, -9.25378574e-03,\n",
       "         4.21969028e-02],\n",
       "       [-2.64413236e-02,  1.07349544e-03, -2.61341691e-02,\n",
       "         1.11831799e-02, -2.91715359e-03, -1.18946373e-02,\n",
       "         1.27042000e-02,  5.46797877e-03,  1.13397273e-02,\n",
       "        -2.81557680e-02,  8.72868505e-02,  3.01140057e-03,\n",
       "        -2.97062701e-02],\n",
       "       [ 5.29812378e-03, -8.68071629e-04, -6.82751246e-03,\n",
       "        -2.05060268e-02,  6.43151757e-04, -1.59977069e-02,\n",
       "         8.49433967e-03,  7.15034282e-03, -8.41940931e-03,\n",
       "        -9.25378574e-03,  3.01140057e-03,  8.25882636e-02,\n",
       "         8.32565993e-03],\n",
       "       [ 4.24326382e-02,  2.52261391e-02,  4.59300680e-02,\n",
       "        -3.01187677e-02, -9.71085263e-03, -4.13876543e-03,\n",
       "        -4.24290535e-03, -4.78279593e-03, -1.22415648e-02,\n",
       "         4.21969028e-02, -2.97062701e-02,  8.32565993e-03,\n",
       "         1.33473948e-01]])"
      ]
     },
     "execution_count": 6,
     "metadata": {},
     "output_type": "execute_result"
    }
   ],
   "source": [
    "relevance_matrix"
   ]
  },
  {
   "cell_type": "markdown",
   "metadata": {},
   "source": [
    "Note that the relevance diagonal adds up to one. The most relevant features for\n",
    "distinguishing between the classes present in  the iris dataset seem to be (in decreasing\n",
    "order) the petal length, petal width, sepal length, and sepal width. Although not very\n",
    "interesting for the iris dataset one could use this information to select only the top most\n",
    "relevant features to be used for the classification and thus reducing the dimensionality of\n",
    "the problem.\n",
    "\n"
   ]
  },
  {
   "cell_type": "markdown",
   "metadata": {},
   "source": [
    "## Transforming the data\n",
    "In addition to making predictions GMLVQ can be used to transform the data using the\n",
    "eigenvectors of the relevance matrix.\n",
    "\n"
   ]
  },
  {
   "cell_type": "code",
   "execution_count": 7,
   "metadata": {
    "collapsed": false,
    "jupyter": {
     "outputs_hidden": false
    }
   },
   "outputs": [
    {
     "data": {
      "image/png": "[encoded data removed]",
      "text/plain": [
       "<Figure size 432x288 with 1 Axes>"
      ]
     },
     "metadata": {
      "needs_background": "light"
     },
     "output_type": "display_data"
    }
   ],
   "source": [
    "# Transform the data (scaled by square root of eigenvalues \"scale = True\")\n",
    "transformed_data = model.transform(data, scale=True)\n",
    "\n",
    "x_d = transformed_data[:, 0]\n",
    "y_d = transformed_data[:, 1]\n",
    "\n",
    "# Transform the model, i.e., the prototypes (scaled by square root of eigenvalues \"scale = True\")\n",
    "transformed_model = model.transform(model.prototypes_, scale=True)\n",
    "\n",
    "x_m = transformed_model[:, 0]\n",
    "y_m = transformed_model[:, 1]\n",
    "\n",
    "# Plot\n",
    "fig, ax = plt.subplots()\n",
    "fig.suptitle(\"Discriminative projection diabetes data and GMLVQ prototypes\")\n",
    "colors = [\"blue\", \"red\", \"green\"]\n",
    "for i, cls in enumerate(model.classes_):\n",
    "    ii = cls == labels\n",
    "    ax.scatter(\n",
    "        x_d[ii],\n",
    "        y_d[ii],\n",
    "        c=colors[i],\n",
    "        s=100,\n",
    "        alpha=0.7,\n",
    "        edgecolors=\"white\",\n",
    "        label=wine.target_names[model.prototypes_labels_[i]],\n",
    "    )\n",
    "ax.scatter(x_m, y_m, c=colors, s=180, alpha=0.8, edgecolors=\"black\", linewidth=2.0)\n",
    "ax.set_xlabel(\"First eigenvector\")\n",
    "ax.set_ylabel(\"Second eigenvector\")\n",
    "ax.legend()\n",
    "ax.grid(True)"
   ]
  },
  {
   "cell_type": "markdown",
   "metadata": {},
   "source": [
    "The transformed data and prototypes can be used to visualize the problem in a lower dimension,\n",
    "which is also the space the model would compute the distance. The axis are the directions which\n",
    "are the most discriminating directions (combinations of features). Hence, inspecting the\n",
    "eigenvalues and eigenvectors (axis) themselves can be interesting.\n",
    "\n"
   ]
  },
  {
   "cell_type": "code",
   "execution_count": 8,
   "metadata": {
    "collapsed": false,
    "jupyter": {
     "outputs_hidden": false
    }
   },
   "outputs": [
    {
     "data": {
      "image/png": "[encoded data removed]",
      "text/plain": [
       "<Figure size 432x288 with 1 Axes>"
      ]
     },
     "metadata": {
      "needs_background": "light"
     },
     "output_type": "display_data"
    },
    {
     "data": {
      "image/png": "[encoded data removed]",
      "text/plain": [
       "<Figure size 432x288 with 1 Axes>"
      ]
     },
     "metadata": {
      "needs_background": "light"
     },
     "output_type": "display_data"
    },
    {
     "data": {
      "image/png": "[encoded data removed]",
      "text/plain": [
       "<Figure size 432x288 with 1 Axes>"
      ]
     },
     "metadata": {
      "needs_background": "light"
     },
     "output_type": "display_data"
    }
   ],
   "source": [
    "# Plot the eigenvalues of the eigenvectors of the relevance matrix.\n",
    "fig, ax = plt.subplots()\n",
    "fig.suptitle(\"Eigenvalues\")\n",
    "ax.bar(range(0, len(model.eigenvalues_)), model.eigenvalues_)\n",
    "ax.set_ylabel(\"Weight\")\n",
    "ax.grid(False)\n",
    "\n",
    "# Plot the first two eigenvectors of the relevance matrix, which  is called `omega_hat`.\n",
    "fig, ax = plt.subplots()\n",
    "fig.suptitle(\"First Eigenvector\")\n",
    "ax.bar(feature_names, model.omega_hat_[:, 0])\n",
    "ax.set_ylabel(\"Weight\")\n",
    "ax.grid(False)\n",
    "\n",
    "fig, ax = plt.subplots()\n",
    "fig.suptitle(\"Second Eigenvector\")\n",
    "ax.bar(feature_names, model.omega_hat_[:, 1])\n",
    "ax.set_ylabel(\"Weight\")\n",
    "ax.grid(False)"
   ]
  },
  {
   "cell_type": "markdown",
   "metadata": {},
   "source": [
    "In the plots from the eigenvalues and eigenvector we see a similar effects as we could see from\n",
    "just the diagonal of `lambda_`. The two leading (most relevant or discriminating) eigenvectors\n",
    "mostly use the petal length and petal width in their calculation. The diagonal of the\n",
    "relevance matrix can therefor be considered as a summary of the relevances of the features.\n",
    "\n"
   ]
  },
  {
   "cell_type": "markdown",
   "metadata": {},
   "source": [
    "## References\n",
    "_`[1]` Schneider, P., Biehl, M., & Hammer, B. (2009). \"Adaptive Relevance Matrices in Learning\n",
    "Vector Quantization\" Neural Computation, 21(12), 3532–3561, 2009.\n",
    "\n"
   ]
  }
 ],
 "metadata": {
  "kernelspec": {
   "display_name": "Python 3",
   "language": "python",
   "name": "python3"
  },
  "language_info": {
   "codemirror_mode": {
    "name": "ipython",
    "version": 3
   },
   "file_extension": ".py",
   "mimetype": "text/x-python",
   "name": "python",
   "nbconvert_exporter": "python",
   "pygments_lexer": "ipython3",
   "version": "3.9.1"
  }
 },
 "nbformat": 4,
 "nbformat_minor": 4
}

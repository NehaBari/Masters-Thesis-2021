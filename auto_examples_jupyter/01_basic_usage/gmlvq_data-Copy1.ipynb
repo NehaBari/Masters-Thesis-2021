{
 "cells": [
  {
   "cell_type": "code",
   "execution_count": null,
   "metadata": {
    "collapsed": false,
    "jupyter": {
     "outputs_hidden": false
    }
   },
   "outputs": [],
   "source": [
    "%matplotlib inline"
   ]
  },
  {
   "cell_type": "code",
   "execution_count": null,
   "metadata": {},
   "outputs": [],
   "source": [
    "import pandas as pd\n",
    "import matplotlib\n",
    "import matplotlib.pyplot as plt\n",
    "import numpy as np\n",
    "from sklearn.datasets import load_iris\n",
    "from sklearn.metrics import classification_report\n",
    "from sklearn.preprocessing import StandardScaler\n",
    "from sklearn.preprocessing import OrdinalEncoder\n",
    "from sklvq import GMLVQ\n",
    "\n",
    "\n",
    "matplotlib.rc(\"xtick\", labelsize=\"small\")\n",
    "matplotlib.rc(\"ytick\", labelsize=\"small\")\n",
    "data = np.genfromtxt('fourcl.csv', delimiter=',')\n",
    "labels = np.genfromtxt('fourcl_labels.csv', delimiter=',')\n",
    "#feature_names = [name[:-5] for name in iris.feature_names]"
   ]
  },
  {
   "cell_type": "markdown",
   "metadata": {},
   "source": [
    "\n",
    "# Generalized Matrix LVQ (GMLVQ)\n",
    "\n",
    "Example of how to use GMLVQ `[1]`_ on the classic iris dataset.\n"
   ]
  },
  {
   "cell_type": "code",
   "execution_count": null,
   "metadata": {
    "collapsed": false,
    "jupyter": {
     "outputs_hidden": false
    }
   },
   "outputs": [],
   "source": [
    "labelpd = pd.read_csv('fourcl_labels.csv',header=None).to_numpy()"
   ]
  },
  {
   "cell_type": "code",
   "execution_count": null,
   "metadata": {},
   "outputs": [],
   "source": [
    "np.shape(labelpd)"
   ]
  },
  {
   "cell_type": "code",
   "execution_count": null,
   "metadata": {},
   "outputs": [],
   "source": [
    "labelpd = labelpd.squeeze()"
   ]
  },
  {
   "cell_type": "code",
   "execution_count": null,
   "metadata": {},
   "outputs": [],
   "source": [
    "np.shape(labelpd)"
   ]
  },
  {
   "cell_type": "code",
   "execution_count": null,
   "metadata": {},
   "outputs": [],
   "source": [
    "np.shape(data)"
   ]
  },
  {
   "cell_type": "code",
   "execution_count": null,
   "metadata": {},
   "outputs": [],
   "source": [
    "labels = labelpd"
   ]
  },
  {
   "cell_type": "code",
   "execution_count": null,
   "metadata": {},
   "outputs": [],
   "source": [
    "type(labels)"
   ]
  },
  {
   "cell_type": "markdown",
   "metadata": {},
   "source": [
    "## Fitting the Model\n",
    "Scale the data and create a GLVQ object with, e.g., custom distance function, activation\n",
    "function and solver. See the API reference under documentation for defaults and other\n",
    "possible parameters.\n",
    "\n"
   ]
  },
  {
   "cell_type": "code",
   "execution_count": null,
   "metadata": {
    "collapsed": false,
    "jupyter": {
     "outputs_hidden": false
    }
   },
   "outputs": [],
   "source": [
    "# Sklearn's standardscaler to perform z-transform\n",
    "scaler = StandardScaler()\n",
    "\n",
    "# Compute (fit) and apply (transform) z-transform\n",
    "data = scaler.fit_transform(data)\n",
    "\n",
    "# The creation of the model object used to fit the data to.\n",
    "model = GMLVQ(\n",
    "    distance_type=\"adaptive-squared-euclidean\",\n",
    "    activation_type=\"sigmoid\",\n",
    "    activation_params={\"beta\": 2},\n",
    "    solver_type=\"sgd\",\n",
    "    solver_params={\"max_runs\": 20,\"batch_size\":1,\"step_size\": np.array([0.1, 0.05])},\n",
    "    random_state=1428,\n",
    ")"
   ]
  },
  {
   "cell_type": "markdown",
   "metadata": {},
   "source": [
    "The next step is to fit the GMLVQ object to the data and use the predict method to make the\n",
    "predictions. Note that this example only works on the training data and therefor does not say\n",
    "anything about the generalizability of the fitted model.\n",
    "\n"
   ]
  },
  {
   "cell_type": "code",
   "execution_count": null,
   "metadata": {
    "collapsed": false,
    "jupyter": {
     "outputs_hidden": false
    }
   },
   "outputs": [],
   "source": [
    "# Train the model using the scaled data and true labels\n",
    "model.fit(data, labels)\n",
    "\n",
    "# Predict the labels using the trained model\n",
    "# predicting on the same trianing data?\n",
    "predicted_labels = model.predict(data)\n",
    "print(len(data))\n",
    "# To get a sense of the training performance we could print the classification report.\n",
    "print(classification_report(labels, predicted_labels))"
   ]
  },
  {
   "cell_type": "code",
   "execution_count": null,
   "metadata": {},
   "outputs": [],
   "source": [
    "feature_names = ['a', 'b', 'c', 'd', 'e', 'f', 'g', 'h', 'i', 'j']#, 'k', 'l', 'm', 'n', 'o', 'p', 'q', 'r', 's', 't', 'u', 'v', 'w', 'x', 'y', 'z','ab','ac','ad','ae','af','ag','ah','ai','aj','ak']\n"
   ]
  },
  {
   "cell_type": "markdown",
   "metadata": {},
   "source": [
    "## Extracting the Relevance Matrix\n",
    "In addition to the prototypes (see GLVQ example), GMLVQ learns a\n",
    "matrix `lambda_` which can tell us something about which features are most relevant for the\n",
    "classification.\n",
    "\n"
   ]
  },
  {
   "cell_type": "code",
   "execution_count": null,
   "metadata": {
    "collapsed": false,
    "jupyter": {
     "outputs_hidden": false
    }
   },
   "outputs": [],
   "source": [
    "# The relevance matrix is available after fitting the model.\n",
    "relevance_matrix = model.lambda_\n",
    "\n",
    "# Plot the diagonal of the relevance matrix\n",
    "fig, ax = plt.subplots()\n",
    "fig.suptitle(\"Relevance Matrix Diagonal\")\n",
    "ax.bar(feature_names, np.diagonal(relevance_matrix))\n",
    "ax.set_ylabel(\"Weight\")\n",
    "ax.grid(False)"
   ]
  },
  {
   "cell_type": "markdown",
   "metadata": {},
   "source": [
    "Note that the relevance diagonal adds up to one. The most relevant features for\n",
    "distinguishing between the classes present in  the iris dataset seem to be (in decreasing\n",
    "order) the petal length, petal width, sepal length, and sepal width. Although not very\n",
    "interesting for the iris dataset one could use this information to select only the top most\n",
    "relevant features to be used for the classification and thus reducing the dimensionality of\n",
    "the problem.\n",
    "\n"
   ]
  },
  {
   "cell_type": "markdown",
   "metadata": {},
   "source": [
    "## Transforming the data\n",
    "In addition to making predictions GMLVQ can be used to transform the data using the\n",
    "eigenvectors of the relevance matrix.\n",
    "\n"
   ]
  },
  {
   "cell_type": "code",
   "execution_count": null,
   "metadata": {
    "collapsed": false,
    "jupyter": {
     "outputs_hidden": false
    }
   },
   "outputs": [],
   "source": [
    "# Transform the data (scaled by square root of eigenvalues \"scale = True\")\n",
    "# data is the remaining datapoints.\n",
    "transformed_data = model.transform(data, scale=True)\n",
    "\n",
    "x_d = transformed_data[:, 0]\n",
    "y_d = transformed_data[:, 1]\n",
    "\n",
    "# Transform the model, i.e., the prototypes (scaled by square root of eigenvalues \"scale = True\")\n",
    "# prototypes are the 4 dots\n",
    "transformed_model = model.transform(model.prototypes_, scale=True)\n",
    "print(len(model.prototypes_))\n",
    "x_m = transformed_model[:, 0]\n",
    "y_m = transformed_model[:, 1]\n",
    "#prototypes = ['PD','AD','HC']\n",
    "# Plot\n",
    "fig, ax = plt.subplots()\n",
    "fig.suptitle(\"Discriminative projection Iris data and GMLVQ prototypes\")\n",
    "colors = [\"black\", \"red\", \"green\",\"blue\"]\n",
    "for i, cls in enumerate(model.classes_):\n",
    "    ii = cls == labels\n",
    "    ax.scatter(\n",
    "        x_d[ii],\n",
    "        y_d[ii],\n",
    "        c=colors[i],\n",
    "        s=100,\n",
    "        alpha=0.7,\n",
    "        edgecolors=\"white\",\n",
    "        label=model.classes_[model.prototypes_labels_[i]],\n",
    "    )\n",
    "ax.scatter(x_m, y_m, c=colors, s=180, alpha=0.8, edgecolors=\"black\", linewidth=2.0)\n",
    "ax.set_xlabel(\"First eigenvector\")\n",
    "ax.set_ylabel(\"Second eigenvector\")\n",
    "ax.legend()\n",
    "ax.grid(True)\n",
    "print(model.classes_)\n",
    "#plt.savefig('destination_path1.eps', format='eps')\n",
    "print('A1: Black, A2: Red, B1: Green, B2: Blue, Centers A and B, and diseases 1 and 2.) ')"
   ]
  },
  {
   "cell_type": "code",
   "execution_count": null,
   "metadata": {},
   "outputs": [],
   "source": [
    "# Plot the eigenvalues of the eigenvectors of the relevance matrix.\n",
    "fig, ax = plt.subplots()\n",
    "fig.suptitle(\"Eigenvalues\")\n",
    "ax.bar(range(0, len(model.eigenvalues_)), model.eigenvalues_)\n",
    "ax.set_ylabel(\"Weight\")\n",
    "ax.grid(False)\n",
    "\n",
    "# Plot the first two eigenvectors of the relevance matrix, which  is called `omega_hat`.\n",
    "fig, ax = plt.subplots()\n",
    "fig.suptitle(\"First Eigenvector\")\n",
    "ax.bar(feature_names, model.omega_hat_[:, 0])\n",
    "ax.set_ylabel(\"Weight\")\n",
    "ax.grid(False)\n",
    "\n",
    "fig, ax = plt.subplots()\n",
    "fig.suptitle(\"Second Eigenvector\")\n",
    "ax.bar(feature_names, model.omega_hat_[:, 1])\n",
    "ax.set_ylabel(\"Weight\")\n",
    "ax.grid(False)"
   ]
  },
  {
   "cell_type": "code",
   "execution_count": null,
   "metadata": {},
   "outputs": [],
   "source": []
  },
  {
   "cell_type": "code",
   "execution_count": null,
   "metadata": {},
   "outputs": [],
   "source": [
    "labels"
   ]
  },
  {
   "cell_type": "code",
   "execution_count": null,
   "metadata": {},
   "outputs": [],
   "source": [
    "#print(np.where((labels == 'A1') & (labels == 'A2')))# and np.where(labels == 'A2')        \n",
    "labelssubclass = labels\n",
    "labelssubclass = np.where(labels == 'A1','A',labelssubclass) \n",
    "labelssubclass = np.where(labels == 'A2','A',labelssubclass) \n",
    "labelssubclass = np.where(labels == 'B1','B',labelssubclass) \n",
    "labelssubclass = np.where(labels == 'B2','B',labelssubclass) \n"
   ]
  },
  {
   "cell_type": "code",
   "execution_count": null,
   "metadata": {},
   "outputs": [],
   "source": [
    "labelssubclass"
   ]
  },
  {
   "cell_type": "code",
   "execution_count": null,
   "metadata": {},
   "outputs": [],
   "source": [
    "labelssubclass.shape"
   ]
  },
  {
   "cell_type": "code",
   "execution_count": null,
   "metadata": {},
   "outputs": [],
   "source": [
    "labels1 = np.where(labels == 'A1') \n",
    "labels2 = np.where(labels == 'A2') \n",
    "labels3 = np.where(labels == 'B1') \n",
    "labels4 = np.where(labels == 'B2') "
   ]
  },
  {
   "cell_type": "code",
   "execution_count": null,
   "metadata": {},
   "outputs": [],
   "source": [
    "#labelssubclass[labels1] = 'A1'\n",
    "#labelssubclass[labels2] = 'A2'\n",
    "#labelssubclass[labels3] = 'B1'\n",
    "#labelssubclass[labels4] = 'B2'"
   ]
  },
  {
   "cell_type": "code",
   "execution_count": null,
   "metadata": {},
   "outputs": [],
   "source": [
    "labelssubclass[3999\n",
    "              ]"
   ]
  },
  {
   "cell_type": "code",
   "execution_count": null,
   "metadata": {},
   "outputs": [],
   "source": [
    "data.shape"
   ]
  },
  {
   "cell_type": "code",
   "execution_count": null,
   "metadata": {},
   "outputs": [],
   "source": [
    "# Train the model using the scaled data and true labels\n",
    "model.fit(data, labelssubclass)\n",
    "\n",
    "# Predict the labels using the trained model\n",
    "# predicting on the same trianing data?\n",
    "predicted_labels = model.predict(data)\n",
    "# To get a sense of the training performance we could print the classification report.\n",
    "print(classification_report(labelssubclass, predicted_labels))"
   ]
  },
  {
   "cell_type": "code",
   "execution_count": null,
   "metadata": {},
   "outputs": [],
   "source": [
    "# The relevance matrix is available after fitting the model.\n",
    "relevance_matrix1 = model.lambda_\n",
    "\n",
    "# Plot the diagonal of the relevance matrix\n",
    "fig, ax = plt.subplots()\n",
    "fig.suptitle(\"Relevance Matrix Diagonal\")\n",
    "ax.bar(feature_names, np.diagonal(relevance_matrix1))\n",
    "ax.set_ylabel(\"Weight\")\n",
    "ax.grid(False)"
   ]
  },
  {
   "cell_type": "code",
   "execution_count": null,
   "metadata": {},
   "outputs": [],
   "source": [
    "\n",
    "transformed_data = model.transform(data, scale=True)\n",
    "\n",
    "x_d = transformed_data[:, 0]\n",
    "y_d = transformed_data[:, 1]\n",
    "\n",
    "transformed_model = model.transform(model.prototypes_, scale=True)\n",
    "print(len(model.prototypes_))\n",
    "x_m = transformed_model[:, 0]\n",
    "y_m = transformed_model[:, 1]\n",
    "\n",
    "fig, ax = plt.subplots()\n",
    "fig.suptitle(\"Discriminative projection Iris data and GMLVQ prototypes\")\n",
    "colors = [\"black\", \"red\"]#, \"green\",\"blue\"]\n",
    "for i, cls in enumerate(model.classes_):\n",
    "    ii = cls == labelssubclass\n",
    "    ax.scatter(\n",
    "        x_d[ii],\n",
    "        y_d[ii],\n",
    "        c=colors[i],\n",
    "        s=100,\n",
    "        alpha=0.7,\n",
    "        edgecolors=\"white\",\n",
    "        label=model.classes_[model.prototypes_labels_[i]],\n",
    "    )\n",
    "ax.scatter(x_m, y_m, c=colors, s=180, alpha=0.8, edgecolors=\"black\", linewidth=2.0)\n",
    "ax.set_xlabel(\"First eigenvector\")\n",
    "ax.set_ylabel(\"Second eigenvector\")\n",
    "ax.legend()\n",
    "ax.grid(True)\n",
    "print(model.classes_)\n",
    "plt.savefig('destination_path23.eps', format='eps')\n",
    "print('A1: Black, A2: Red, B1: Green, B2: Blue, Centers A and B, and diseases 1 and 2.) ')"
   ]
  },
  {
   "cell_type": "code",
   "execution_count": null,
   "metadata": {},
   "outputs": [],
   "source": [
    "#print(np.where((labels == 'A1') & (labels == 'A2')))# and np.where(labels == 'A2')              "
   ]
  },
  {
   "cell_type": "markdown",
   "metadata": {},
   "source": [
    "The transformed data and prototypes can be used to visualize the problem in a lower dimension,\n",
    "which is also the space the model would compute the distance. The axis are the directions which\n",
    "are the most discriminating directions (combinations of features). Hence, inspecting the\n",
    "eigenvalues and eigenvectors (axis) themselves can be interesting.\n",
    "\n"
   ]
  },
  {
   "cell_type": "code",
   "execution_count": null,
   "metadata": {
    "collapsed": false,
    "jupyter": {
     "outputs_hidden": false
    }
   },
   "outputs": [],
   "source": [
    "# Plot the eigenvalues of the eigenvectors of the relevance matrix.\n",
    "fig, ax = plt.subplots()\n",
    "fig.suptitle(\"Eigenvalues\")\n",
    "ax.bar(range(0, len(model.eigenvalues_)), model.eigenvalues_)\n",
    "ax.set_ylabel(\"Weight\")\n",
    "ax.grid(False)\n",
    "\n",
    "# Plot the first two eigenvectors of the relevance matrix, which  is called `omega_hat`.\n",
    "fig, ax = plt.subplots()\n",
    "fig.suptitle(\"First Eigenvector\")\n",
    "ax.bar(feature_names, model.omega_hat_[:, 0])\n",
    "ax.set_ylabel(\"Weight\")\n",
    "ax.grid(False)\n",
    "\n",
    "fig, ax = plt.subplots()\n",
    "fig.suptitle(\"Second Eigenvector\")\n",
    "ax.bar(feature_names, model.omega_hat_[:, 1])\n",
    "ax.set_ylabel(\"Weight\")\n",
    "ax.grid(False)"
   ]
  },
  {
   "cell_type": "code",
   "execution_count": null,
   "metadata": {},
   "outputs": [],
   "source": [
    "# are the eigen values of the data with A and B as labels\n",
    "np.sqrt(model.eigenvalues_)*model.omega_hat_"
   ]
  },
  {
   "cell_type": "code",
   "execution_count": null,
   "metadata": {},
   "outputs": [],
   "source": [
    "model.eigenvalues_.shape"
   ]
  },
  {
   "cell_type": "code",
   "execution_count": null,
   "metadata": {},
   "outputs": [],
   "source": [
    "# are the eigen values of the data with A and B as labels\n",
    "model.omega_hat_[:,1]"
   ]
  },
  {
   "cell_type": "code",
   "execution_count": null,
   "metadata": {},
   "outputs": [],
   "source": [
    "import math "
   ]
  },
  {
   "cell_type": "code",
   "execution_count": null,
   "metadata": {},
   "outputs": [],
   "source": [
    "om0 = math.sqrt(model.eigenvalues_[0])*model.omega_hat_[:,0]"
   ]
  },
  {
   "cell_type": "code",
   "execution_count": null,
   "metadata": {},
   "outputs": [],
   "source": [
    "om0"
   ]
  },
  {
   "cell_type": "code",
   "execution_count": null,
   "metadata": {},
   "outputs": [],
   "source": [
    "om1 = math.sqrt(model.eigenvalues_[1])*model.omega_hat_[:,1]"
   ]
  },
  {
   "cell_type": "code",
   "execution_count": null,
   "metadata": {},
   "outputs": [],
   "source": [
    "temporaray_omega = [[om1]]"
   ]
  },
  {
   "cell_type": "code",
   "execution_count": null,
   "metadata": {},
   "outputs": [],
   "source": [
    "temp_omega = np.array([om1,om2])"
   ]
  },
  {
   "cell_type": "code",
   "execution_count": null,
   "metadata": {},
   "outputs": [],
   "source": [
    "temp_omega.shape"
   ]
  },
  {
   "cell_type": "code",
   "execution_count": null,
   "metadata": {},
   "outputs": [],
   "source": [
    "fig, ax = plt.subplots()\n",
    "fig.suptitle(\"First temp omega entry\")\n",
    "ax.bar(feature_names, temporaray_omega[0,:])\n",
    "ax.set_ylabel(\"Weight\")\n",
    "ax.grid(False)"
   ]
  },
  {
   "cell_type": "markdown",
   "metadata": {},
   "source": [
    "In the plots from the eigenvalues and eigenvector we see a similar effects as we could see from\n",
    "just the diagonal of `lambda_`. The two leading (most relevant or discriminating) eigenvectors\n",
    "mostly use the petal length and petal width in their calculation. The diagonal of the\n",
    "relevance matrix can therefor be considered as a summary of the relevances of the features.\n",
    "\n"
   ]
  },
  {
   "cell_type": "markdown",
   "metadata": {},
   "source": [
    "## References\n",
    "_`[1]` Schneider, P., Biehl, M., & Hammer, B. (2009). \"Adaptive Relevance Matrices in Learning\n",
    "Vector Quantization\" Neural Computation, 21(12), 3532–3561, 2009.\n",
    "\n"
   ]
  }
 ],
 "metadata": {
  "kernelspec": {
   "display_name": "Python 3",
   "language": "python",
   "name": "python3"
  },
  "language_info": {
   "codemirror_mode": {
    "name": "ipython",
    "version": 3
   },
   "file_extension": ".py",
   "mimetype": "text/x-python",
   "name": "python",
   "nbconvert_exporter": "python",
   "pygments_lexer": "ipython3",
   "version": "3.9.2"
  }
 },
 "nbformat": 4,
 "nbformat_minor": 4
}

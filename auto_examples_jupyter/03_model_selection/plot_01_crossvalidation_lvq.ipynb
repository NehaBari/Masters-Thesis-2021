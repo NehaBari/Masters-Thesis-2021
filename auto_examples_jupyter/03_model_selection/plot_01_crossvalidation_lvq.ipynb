{
 "cells": [
  {
   "cell_type": "code",
   "execution_count": null,
   "metadata": {
    "collapsed": false,
    "jupyter": {
     "outputs_hidden": false
    }
   },
   "outputs": [],
   "source": [
    "%matplotlib inline"
   ]
  },
  {
   "cell_type": "markdown",
   "metadata": {},
   "source": [
    "\n",
    "# Cross validation\n",
    "\n",
    "In all previous examples we showed the training performance of the models. However,\n",
    "in practice it is much more interesting how well a model performs on\n",
    "unseen data, i.e., the generalizability of the model. We can use `crossvalidation`_ for this.\n",
    "\n"
   ]
  },
  {
   "cell_type": "code",
   "execution_count": null,
   "metadata": {
    "collapsed": false,
    "jupyter": {
     "outputs_hidden": false
    }
   },
   "outputs": [],
   "source": [
    "import numpy as np\n",
    "from sklearn.datasets import load_iris\n",
    "from sklearn.model_selection import (\n",
    "    cross_val_score,\n",
    "    RepeatedKFold,\n",
    ")\n",
    "from sklearn.pipeline import make_pipeline\n",
    "from sklearn.preprocessing import StandardScaler\n",
    "\n",
    "from sklvq import GMLVQ\n",
    "\n",
    "data, labels = load_iris(return_X_y=True)"
   ]
  },
  {
   "cell_type": "markdown",
   "metadata": {},
   "source": [
    "Sklearn provides a very handy way of performing cross validation. For this\n",
    "purpose we firstly create a pipeline and initiate a sklearn object that will\n",
    "repeatedly create k folds for us.\n",
    "\n"
   ]
  },
  {
   "cell_type": "code",
   "execution_count": null,
   "metadata": {
    "collapsed": false,
    "jupyter": {
     "outputs_hidden": false
    }
   },
   "outputs": [],
   "source": [
    "# Create a scaler instance\n",
    "scaler = StandardScaler()\n",
    "\n",
    "# Create a GMLVQ  model instance\n",
    "model = GMLVQ(\n",
    "    distance_type=\"adaptive-squared-euclidean\",\n",
    "    activation_type=\"swish\",\n",
    "    activation_params={\"beta\": 2},\n",
    "    solver_type=\"waypoint-gradient-descent\",\n",
    "    solver_params={\"max_runs\": 10, \"k\": 3, \"step_size\": np.array([0.1, 0.05])},\n",
    "    random_state=1428,\n",
    ")\n",
    "\n",
    "# Link them together (Note this will work as it should in a CV setting, i.e., it's fitted to the\n",
    "# training data and predict is used for the testing data which makes sure the test data is\n",
    "# scaled using the tranformation parameters found during training.\n",
    "pipeline = make_pipeline(scaler, model)\n",
    "\n",
    "# Create an object that n_repeat times creates k=10  folds.\n",
    "repeated_10_fold = RepeatedKFold(n_splits=10, n_repeats=10)\n",
    "\n",
    "# Call the cross_val_score using all created instances and loaded data. Note it can accept\n",
    "# different and also multiple scoring parameters\n",
    "accuracy = cross_val_score(\n",
    "    pipeline, data, labels, cv=repeated_10_fold, scoring=\"accuracy\"\n",
    ")\n",
    "\n",
    "# Print the mean and standard deviation of the cross validation testing scores.\n",
    "print(\n",
    "    \"Accuracy, mean (std): {:.2f} ({:.2f})\".format(np.mean(accuracy), np.std(accuracy))\n",
    ")"
   ]
  }
 ],
 "metadata": {
  "kernelspec": {
   "display_name": "Python 3",
   "language": "python",
   "name": "python3"
  },
  "language_info": {
   "codemirror_mode": {
    "name": "ipython",
    "version": 3
   },
   "file_extension": ".py",
   "mimetype": "text/x-python",
   "name": "python",
   "nbconvert_exporter": "python",
   "pygments_lexer": "ipython3",
   "version": "3.9.1"
  }
 },
 "nbformat": 4,
 "nbformat_minor": 4
}

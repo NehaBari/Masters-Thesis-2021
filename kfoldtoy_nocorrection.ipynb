{
 "cells": [
  {
   "cell_type": "code",
   "execution_count": 1,
   "id": "8ee60a06-9225-4650-b054-96c8e7639a8e",
   "metadata": {},
   "outputs": [],
   "source": [
    "import pandas as pd\n",
    "import matplotlib\n",
    "import matplotlib.pyplot as plt\n",
    "import numpy as np\n",
    "from sklearn.datasets import load_iris\n",
    "from sklearn.metrics import classification_report\n",
    "from sklearn.preprocessing import StandardScaler\n",
    "from sklearn.preprocessing import OrdinalEncoder\n",
    "from sklvq import GMLVQ\n",
    "from timeit import timeit\n",
    "from sklearn.model_selection import KFold\n",
    "\n",
    "from sklearn.metrics import confusion_matrix\n",
    "from sklearn.model_selection import (\n",
    "    cross_val_score,\n",
    "    RepeatedKFold,\n",
    ")\n",
    "\n",
    "\n",
    "matplotlib.rc(\"xtick\", labelsize=\"small\")\n",
    "matplotlib.rc(\"ytick\", labelsize=\"small\")"
   ]
  },
  {
   "cell_type": "code",
   "execution_count": 2,
   "id": "ea602d97-5f59-463a-bb1a-e499ffc82c80",
   "metadata": {},
   "outputs": [],
   "source": [
    "def getdata():\n",
    "    \n",
    "    \n",
    "    data = pd.read_csv(\"fourcl.csv\").to_numpy()\n",
    "    labels = pd.read_csv(\"fourcl_labels.csv\").to_numpy().squeeze()\n",
    "    # changing labels to Class A and B    \n",
    "    labelscenter = labels\n",
    "    labelscenter = np.where(labels == 'A1','A',labelscenter) \n",
    "    labelscenter = np.where(labels == 'A2','A',labelscenter) \n",
    "    labelscenter = np.where(labels == 'B1','B',labelscenter) \n",
    "    labelscenter = np.where(labels == 'B2','B',labelscenter) \n",
    "\n",
    "    \n",
    "    # changing labels to Class A and B    \n",
    "    labelsdiseases = labels\n",
    "    labelsdiseases = np.where(labels == 'A1','1',labelsdiseases) \n",
    "    labelsdiseases = np.where(labels == 'A2','2',labelsdiseases) \n",
    "    labelsdiseases = np.where(labels == 'B1','1',labelsdiseases) \n",
    "    labelsdiseases = np.where(labels == 'B2','2',labelsdiseases) \n",
    "\n",
    "    \n",
    "    \n",
    "    data = ztransform(data)\n",
    "    return data,labelscenter,labelsdiseases"
   ]
  },
  {
   "cell_type": "code",
   "execution_count": 3,
   "id": "54dd2050-b30b-4f53-8247-8d5108b2dea7",
   "metadata": {},
   "outputs": [],
   "source": [
    "def ztransform(data_ztransform):\n",
    "    # Sklearn's standardscaler to perform z-transform\n",
    "    scaler = StandardScaler()\n",
    "\n",
    "    # Compute (fit) and apply (transform) z-transform\n",
    "    # why do we do an inverse z transform\n",
    "    data_ztransform = scaler.fit_transform(data_ztransform)\n",
    "    \n",
    "    return data_ztransform"
   ]
  },
  {
   "cell_type": "code",
   "execution_count": 4,
   "id": "fcaec41e-474c-4d5b-a6fb-7f241f31dff0",
   "metadata": {},
   "outputs": [],
   "source": [
    "def model_definition_center():\n",
    "    \n",
    "    model = GMLVQ(\n",
    "    distance_type=\"adaptive-squared-euclidean\",\n",
    "    activation_type=\"sigmoid\",\n",
    "    activation_params={\"beta\": 2},\n",
    "    solver_type=\"sgd\",\n",
    "    solver_params={\"max_runs\": 20,\"batch_size\":1,\"step_size\": np.array([0.1, 0.05])},\n",
    "    random_state=1428,)\n",
    "    \n",
    "    return model"
   ]
  },
  {
   "cell_type": "code",
   "execution_count": 5,
   "id": "29ad8314-5716-4442-bc00-21db8c6879e3",
   "metadata": {},
   "outputs": [],
   "source": [
    "def model_definition_disease(correctionmatrix):\n",
    "    model1 = GMLVQ(\n",
    "        distance_type=\"adaptive-squared-euclidean\",\n",
    "        activation_type=\"sigmoid\",\n",
    "        activation_params={\"beta\": 2},\n",
    "        solver_type=\"sgd\",\n",
    "        solver_params={\"max_runs\": 20,\"batch_size\":1,\"step_size\": np.array([0.1, 0.05])},\n",
    "        random_state=1428,\n",
    "        relevance_correction=correctionmatrix\n",
    "    )\n",
    "    return model1"
   ]
  },
  {
   "cell_type": "code",
   "execution_count": 6,
   "id": "a480a63c-b436-4b60-8394-3d3c0b88414c",
   "metadata": {},
   "outputs": [],
   "source": [
    "def train_modelkfold(data, label,disease,correctionmatrix,repeated,folds=10):\n",
    "    modelmatrix = np.zeros((repeated,folds),dtype=object) \n",
    "    accuracies = np.zeros((repeated,folds),dtype=float) \n",
    "    transformed_model_matrix = np.zeros((repeated,folds),dtype=object) \n",
    "    transformed_data_matrix = np.zeros((repeated,folds),dtype=int)\n",
    "    if disease==False:\n",
    "        print('Repeated K fold for center data')\n",
    "    else:\n",
    "        print('Repeated K fold for disease data')\n",
    "        \n",
    "    for repeated in range(repeated):\n",
    "        print(\"========Repeated fold number\",str(repeated),\"========\")\n",
    "        kfold = KFold(folds, shuffle=True)\n",
    "        for k, (training_indices, testing_indices) in enumerate(kfold.split(data)):\n",
    "            if disease==False:\n",
    "                model = model_definition_center()\n",
    "                #print('in this')\n",
    "                #print(type(model))\n",
    "            else:\n",
    "                model = model_definition_center()\n",
    "            accuracy = 0\n",
    "            correct = 0\n",
    "            trainX, trainY, testX, testY = data[training_indices], label[training_indices], data[testing_indices], label[testing_indices]\n",
    "            #print(np.shape(trainX))\n",
    "            model.fit(trainX, trainY)\n",
    "            #validation accuracy\n",
    "            # could use model.predict but it will only give the fraction of the correctly predicted labels\n",
    "            #_, accuraccy = model.evaluate(testX, testY)\n",
    "            predictedlabels = model.predict(testX)\n",
    "\n",
    "            # since no model.evaluate.....\n",
    "\n",
    "            for i in range(len(predictedlabels)):\n",
    "                if(predictedlabels[i]==testY[i]):\n",
    "                    correct = correct+1\n",
    "\n",
    "            accuracy = correct/len(testY)\n",
    "            print('%.3f accuracy' % (correct/len(testY)))\n",
    "            \n",
    "            # stored row wise\n",
    "            modelmatrix[repeated,k] = model\n",
    "        #histories.append(history_kfold)\n",
    "    return modelmatrix"
   ]
  },
  {
   "cell_type": "code",
   "execution_count": 7,
   "id": "223b4fbf-9ab3-4049-bdab-a228d60eafcb",
   "metadata": {},
   "outputs": [],
   "source": [
    "def calculate_lambda(modelmatrix,repeated):\n",
    "    #average_lambda = np.mean(sum(model.lambda_ for model in modellist),axis=0)\n",
    "    #check the shape of total_lambda\n",
    "    \n",
    "    total_lambda = np.zeros((10,10),dtype = 'float')\n",
    "    \n",
    "    for i in range(repeated):\n",
    "        \n",
    "        lambdaperfold = np.zeros((10,10),dtype='float')        \n",
    "        \n",
    "        for modelin in modelmatrix[i,:]:\n",
    "            lambdaperfold = lambdaperfold + modelin.lambda_\n",
    "            \n",
    "        # addition per fold divided by total number of models in a fold\n",
    "        lambdaperfold = lambdaperfold/np.shape(modelmatrix)[1]\n",
    "        \n",
    "        total_lambda = total_lambda + lambdaperfold\n",
    "        #total lambda = average lambda, avergae lambda is divided by total number of repeats\n",
    "    # divided by total number of repeated fold\n",
    "    total_lambda = total_lambda/repeated\n",
    "    return total_lambda"
   ]
  },
  {
   "cell_type": "raw",
   "id": "28caebde-b20f-45df-8704-fc3455350da7",
   "metadata": {},
   "source": [
    "lambdaperfolf = np.zeros((36,36),dtype=object)\n",
    "for modelin in centermodel[1,:]:\n",
    "    print(modelin)\n",
    "    lambdaperfolf = lambdaperfolf + modelin.lambda_\n",
    "lambdaperfolf = lambdaperfolf/10\n",
    "\n",
    "print(np.sum(np.diagonal(lambdaperfolf)))"
   ]
  },
  {
   "cell_type": "raw",
   "id": "5fdf7160-657d-48d6-9735-87404f7e9965",
   "metadata": {},
   "source": [
    "a = False\n",
    "def aa(a):\n",
    "    if not a:\n",
    "        print(a)\n",
    "    else:\n",
    "        print('hell')\n",
    "aa(a)\n",
    "print(not(a))"
   ]
  },
  {
   "cell_type": "raw",
   "id": "b07ccb1d-bcd5-4bea-b15e-756bc472f48e",
   "metadata": {},
   "source": [
    "print(np.shape(centermodel[1,1].lambda_))"
   ]
  },
  {
   "cell_type": "raw",
   "id": "1143d031-ab18-4b64-9460-588dcd4c9572",
   "metadata": {},
   "source": [
    "lambdaperfolf = np.zeros((36,36),dtype=object)\n",
    "lambdaperfolf2 = np.zeros((36,36),dtype=object)\n",
    "for modelin in centermodel[0,:]:\n",
    "    lambdaperfolf = lambdaperfolf+modelin.lambda_\n",
    "lambdaperfolf = lambdaperfolf/2\n",
    "for modelin in centermodel[1,:]:\n",
    "    lambdaperfolf2 = lambdaperfolf2+modelin.lambda_\n",
    "lambdaperfolf2 = lambdaperfolf2/2\n",
    "\n",
    "\n",
    "lambdaperfolf = (lambdaperfolf + lambdaperfolf2)/2"
   ]
  },
  {
   "cell_type": "raw",
   "id": "8f7dae0b-a8a4-4e7b-99ff-41cbd1eb3c05",
   "metadata": {},
   "source": [
    "np.sum(np.diagonal(lambdaperfolf))"
   ]
  },
  {
   "cell_type": "raw",
   "id": "6280e4c3-18e9-4019-9d81-23b5abd6f522",
   "metadata": {},
   "source": [
    "np.sum(np.diagonal(lambdaperfolf2))"
   ]
  },
  {
   "cell_type": "raw",
   "id": "7920a103-ea26-4a02-a5f0-565e013c7790",
   "metadata": {},
   "source": [
    "np.sum(np.diagonal(lambdaperfolf/2))"
   ]
  },
  {
   "cell_type": "raw",
   "id": "f4f99ca0-7d13-4d91-8346-f7e446771f5c",
   "metadata": {},
   "source": [
    "a = [[1,1],[2,2]]\n",
    "b = [[1,1],[2,2]]\n",
    "a = a+b\n",
    "a = a/np.shape(a)[0]\n",
    "print(a)"
   ]
  },
  {
   "cell_type": "code",
   "execution_count": 8,
   "id": "d7eadc4a-55e9-4fd0-93a0-f43f7c0680d0",
   "metadata": {},
   "outputs": [],
   "source": [
    "def eigendecomposition(average_lambda):\n",
    "    eigenvalues, eigenvectors = np.linalg.eigh(average_lambda)\n",
    "    # Flip (reverse the order to descending) before assigning.\n",
    "    eigenvalues = np.flip(eigenvalues)\n",
    "\n",
    "    # eigenvectors are column matrix in ascending order. Flip the columns and transpose the matrix\n",
    "    # to get the descending ordered row matrix.\n",
    "    eigenvectors = np.flip(eigenvectors, axis=1).T\n",
    "    \n",
    "    return eigenvalues,eigenvectors"
   ]
  },
  {
   "cell_type": "code",
   "execution_count": 9,
   "id": "b79c4fd0-5a90-411f-ab7d-d91c96c67116",
   "metadata": {},
   "outputs": [],
   "source": [
    "feature_names = ['a', 'b', 'c', 'd', 'e', 'f', 'g', 'h', 'i', 'j']"
   ]
  },
  {
   "cell_type": "code",
   "execution_count": 10,
   "id": "922ac0ee-2908-4dc6-906f-650177ff2702",
   "metadata": {},
   "outputs": [],
   "source": [
    "\n",
    "def correction_matrix(eigenvectors):\n",
    "    N=10\n",
    "    K=2\n",
    "    I = np.identity(N)\n",
    "    outerproduct = np.zeros((N,N))   \n",
    "    for i in range(K):\n",
    "        outerproduct = np.outer(eigenvectors[i,:].T,eigenvectors[i,:])\n",
    "    correctionmatrix = I-outerproduct\n",
    "    return correctionmatrix"
   ]
  },
  {
   "cell_type": "code",
   "execution_count": 11,
   "id": "93f0154f-8e68-40df-9b8d-33706b5d9b53",
   "metadata": {},
   "outputs": [
    {
     "name": "stdout",
     "output_type": "stream",
     "text": [
      "Repeated K fold for center data\n",
      "========Repeated fold number 0 ========\n",
      "0.790 accuracy\n",
      "0.775 accuracy\n",
      "0.733 accuracy\n",
      "0.785 accuracy\n",
      "0.795 accuracy\n",
      "0.772 accuracy\n",
      "0.740 accuracy\n",
      "0.795 accuracy\n",
      "0.740 accuracy\n",
      "0.729 accuracy\n",
      "========Repeated fold number 1 ========\n",
      "0.782 accuracy\n",
      "0.777 accuracy\n",
      "0.752 accuracy\n",
      "0.745 accuracy\n",
      "0.772 accuracy\n",
      "0.782 accuracy\n",
      "0.748 accuracy\n",
      "0.743 accuracy\n",
      "0.775 accuracy\n",
      "0.759 accuracy\n",
      "========Repeated fold number 2 ========\n",
      "0.755 accuracy\n",
      "0.770 accuracy\n",
      "0.745 accuracy\n",
      "0.787 accuracy\n",
      "0.757 accuracy\n",
      "0.765 accuracy\n",
      "0.757 accuracy\n",
      "0.785 accuracy\n",
      "0.765 accuracy\n",
      "0.782 accuracy\n",
      "========Repeated fold number 3 ========\n",
      "0.790 accuracy\n",
      "0.775 accuracy\n",
      "0.782 accuracy\n",
      "0.748 accuracy\n",
      "0.738 accuracy\n",
      "0.740 accuracy\n",
      "0.785 accuracy\n",
      "0.782 accuracy\n",
      "0.765 accuracy\n",
      "0.762 accuracy\n",
      "========Repeated fold number 4 ========\n",
      "0.795 accuracy\n",
      "0.752 accuracy\n",
      "0.750 accuracy\n",
      "0.765 accuracy\n",
      "0.790 accuracy\n",
      "0.772 accuracy\n",
      "0.752 accuracy\n",
      "0.750 accuracy\n",
      "0.790 accuracy\n",
      "0.724 accuracy\n",
      "The sum of the digonal of the center relevance matrix\n",
      "1.0\n",
      "                                                     \n",
      "Repeated K fold for disease data\n",
      "========Repeated fold number 0 ========\n",
      "0.948 accuracy\n",
      "0.932 accuracy\n",
      "0.940 accuracy\n",
      "0.910 accuracy\n",
      "0.917 accuracy\n",
      "0.922 accuracy\n",
      "0.950 accuracy\n",
      "0.935 accuracy\n",
      "0.935 accuracy\n",
      "0.930 accuracy\n",
      "========Repeated fold number 1 ========\n",
      "0.940 accuracy\n",
      "0.887 accuracy\n",
      "0.932 accuracy\n",
      "0.912 accuracy\n",
      "0.968 accuracy\n",
      "0.925 accuracy\n",
      "0.965 accuracy\n",
      "0.920 accuracy\n",
      "0.897 accuracy\n",
      "0.930 accuracy\n",
      "========Repeated fold number 2 ========\n",
      "0.897 accuracy\n",
      "0.932 accuracy\n",
      "0.950 accuracy\n",
      "0.932 accuracy\n",
      "0.953 accuracy\n",
      "0.955 accuracy\n",
      "0.960 accuracy\n",
      "0.905 accuracy\n",
      "0.940 accuracy\n",
      "0.887 accuracy\n",
      "========Repeated fold number 3 ========\n",
      "0.917 accuracy\n",
      "0.935 accuracy\n",
      "0.945 accuracy\n",
      "0.938 accuracy\n",
      "0.907 accuracy\n",
      "0.927 accuracy\n",
      "0.892 accuracy\n",
      "0.902 accuracy\n",
      "0.938 accuracy\n",
      "0.945 accuracy\n",
      "========Repeated fold number 4 ========\n",
      "0.953 accuracy\n",
      "0.932 accuracy\n",
      "0.922 accuracy\n",
      "0.960 accuracy\n",
      "0.935 accuracy\n",
      "0.925 accuracy\n",
      "0.940 accuracy\n",
      "0.955 accuracy\n",
      "0.953 accuracy\n",
      "0.950 accuracy\n",
      "The sum of the digonal of the disease relevance matrix\n",
      "0.9999999999999998\n"
     ]
    }
   ],
   "source": [
    "# check if this is the right label for disease\n",
    "data,labelscenter,labelsdiseases = getdata()\n",
    "\n",
    "centermodel = train_modelkfold(data,labelscenter,False,None,5)\n",
    "\n",
    "\n",
    "\n",
    "average_lambda_center = calculate_lambda(centermodel,5)\n",
    "\n",
    "print('The sum of the digonal of the center relevance matrix')\n",
    "\n",
    "print(np.sum(np.diagonal(average_lambda_center)))\n",
    "\n",
    "print('                                                     ')\n",
    "\n",
    "eigenvaluescenter,eigenvectorscenter = eigendecomposition(average_lambda_center)\n",
    "\n",
    "\n",
    "#correctionmatrix = correction_matrix(eigenvectorscenter)\n",
    "\n",
    "diseasemodel = train_modelkfold(data,labelsdiseases,True,None,5)\n",
    "\n",
    "average_lambda_disease = calculate_lambda(diseasemodel,5)\n",
    "\n",
    "# check eigen decomposition\n",
    "\n",
    "eigenvaluesdisease,eigenvectorsdisease = eigendecomposition(average_lambda_disease)\n",
    "\n",
    "print('The sum of the digonal of the disease relevance matrix')\n",
    "\n",
    "\n",
    "print(np.sum(np.diagonal(average_lambda_disease)))"
   ]
  },
  {
   "cell_type": "code",
   "execution_count": 18,
   "id": "b3e81460-b818-4de2-8093-7f360c3a4ffc",
   "metadata": {},
   "outputs": [],
   "source": [
    "# Plot the eigenvalues of the eigenvectors of the relevance matrix.\n",
    "def ploteigenvalues(eigenvalues,eigenvectors,average_lambda,d):\n",
    "    fig, ax = plt.subplots()\n",
    "    fig.suptitle(\"Eigen values \"+d+ \" data\")\n",
    "    ax.bar(range(0, len(eigenvalues)), eigenvalues)\n",
    "    ax.set_ylabel(\"Weight\")\n",
    "    ax.grid(False)\n",
    "    fig.savefig('eigenvalues'+d+'.eps', format='eps')\n",
    "    #fig.savefig('eigenvalues+d+.svg\", format ='svg', dpi=1200)\n",
    "\n",
    "\n",
    "    # Plot the first two eigenvectors of the relevance matrix, which  is called `omega_hat`.\n",
    "    fig, ax = plt.subplots()\n",
    "    fig.suptitle(\"First Eigenvector \" +d+ \" data\")\n",
    "    ax.bar(feature_names, eigenvectors[0, :])\n",
    "    ax.set_ylabel(\"Weight\")\n",
    "    ax.grid(False)\n",
    "    fig.savefig('Firsteigenvector'+d+'.eps', format='eps')\n",
    "\n",
    "    fig, ax = plt.subplots()\n",
    "    fig.suptitle(\"Second Eigenvector\" +d+ \" data\")\n",
    "    ax.bar(feature_names, eigenvectors[1, :])\n",
    "    ax.set_ylabel(\"Weight\")\n",
    "    ax.grid(False)\n",
    "    fig.savefig('Secondeigenvector'+d+'.eps', format='eps')\n",
    "\n",
    "    fig, ax = plt.subplots()\n",
    "    # The relevance matrix is available after fitting the model.\n",
    "    relevance_matrix = average_lambda\n",
    "    fig.suptitle(\"Relevance Matrix Diagonal\" +d+ \" data\")\n",
    "    ax.bar(feature_names, np.diagonal(relevance_matrix))\n",
    "    ax.set_ylabel(\"Weight\")\n",
    "    ax.grid(False)\n",
    "    fig.savefig('relevancematrix'+d+'.eps', format='eps')"
   ]
  },
  {
   "cell_type": "code",
   "execution_count": 19,
   "id": "b03aef75-7cef-41ae-9fb5-52f4ee687e36",
   "metadata": {},
   "outputs": [
    {
     "data": {
      "image/png": "[encoded data removed]",
      "text/plain": [
       "<Figure size 432x288 with 1 Axes>"
      ]
     },
     "metadata": {
      "needs_background": "light"
     },
     "output_type": "display_data"
    },
    {
     "data": {
      "image/png": "[encoded data removed]",
      "text/plain": [
       "<Figure size 432x288 with 1 Axes>"
      ]
     },
     "metadata": {
      "needs_background": "light"
     },
     "output_type": "display_data"
    },
    {
     "data": {
      "image/png": "[encoded data removed]",
      "text/plain": [
       "<Figure size 432x288 with 1 Axes>"
      ]
     },
     "metadata": {
      "needs_background": "light"
     },
     "output_type": "display_data"
    },
    {
     "data": {
      "image/png": "[encoded data removed]",
      "text/plain": [
       "<Figure size 432x288 with 1 Axes>"
      ]
     },
     "metadata": {
      "needs_background": "light"
     },
     "output_type": "display_data"
    }
   ],
   "source": [
    "ploteigenvalues(eigenvaluescenter,eigenvectorscenter,average_lambda_center,'center')"
   ]
  },
  {
   "cell_type": "code",
   "execution_count": 20,
   "id": "e3f3f319-3d29-4e43-8553-33f3cecdb2df",
   "metadata": {},
   "outputs": [
    {
     "data": {
      "image/png": "[encoded data removed]",
      "text/plain": [
       "<Figure size 432x288 with 1 Axes>"
      ]
     },
     "metadata": {
      "needs_background": "light"
     },
     "output_type": "display_data"
    },
    {
     "data": {
      "image/png": "[encoded data removed]",
      "text/plain": [
       "<Figure size 432x288 with 1 Axes>"
      ]
     },
     "metadata": {
      "needs_background": "light"
     },
     "output_type": "display_data"
    },
    {
     "data": {
      "image/png": "[encoded data removed]",
      "text/plain": [
       "<Figure size 432x288 with 1 Axes>"
      ]
     },
     "metadata": {
      "needs_background": "light"
     },
     "output_type": "display_data"
    },
    {
     "data": {
      "image/png": "[encoded data removed]",
      "text/plain": [
       "<Figure size 432x288 with 1 Axes>"
      ]
     },
     "metadata": {
      "needs_background": "light"
     },
     "output_type": "display_data"
    }
   ],
   "source": [
    "ploteigenvalues(eigenvaluesdisease,eigenvectorsdisease,average_lambda_disease,'disease')"
   ]
  },
  {
   "cell_type": "code",
   "execution_count": null,
   "id": "346925e3-2a63-47de-87c0-0de73bf363be",
   "metadata": {},
   "outputs": [],
   "source": [
    "# removing the z transform\n",
    "data = scaler.inverse_transform(data)\n",
    "transformed_data = model1.transform(data, scale=True)\n",
    "\n",
    "x_d = transformed_data[:, 0]\n",
    "y_d = transformed_data[:, 1]\n",
    "\n",
    "# Transform the model, i.e., the prototypes (scaled by square root of eigenvalues \"scale = True\")\n",
    "# prototype inverser transform\n",
    "prototypes = scaler.inverse_transform(model1.prototypes_)\n",
    "\n",
    "transformed_model1 = model1.transform(prototypes, scale=True)\n",
    "\n",
    "print(len(model1.prototypes_))\n",
    "x_m = transformed_model1[:, 0]\n",
    "y_m = transformed_model1[:, 1]\n",
    "\n",
    "fig, ax = plt.subplots()\n",
    "fig.suptitle(\"Maindataset disease data with corresponding prototypes\")\n",
    "colors = ['yellow','Magenta','brown']#,'pink','lightgreen']\n",
    "for i, cls in enumerate(model1.classes_):\n",
    "    ii = cls == labels\n",
    "    ax.scatter(\n",
    "        x_d[ii],\n",
    "        y_d[ii],\n",
    "        c=colors[i],\n",
    "        s=100,\n",
    "        alpha=0.7,\n",
    "        edgecolors=\"white\",\n",
    "        label=model1.classes_[model1.prototypes_labels_[i]],\n",
    "    )\n",
    "ax.scatter(x_m, y_m, c=colors, s=180, alpha=0.8, edgecolors=\"black\", linewidth=2.0)\n",
    "ax.set_xlabel(\"First eigenvector\")\n",
    "ax.set_ylabel(\"Second eigenvector\")\n",
    "ax.legend()\n",
    "ax.grid(True)\n",
    "print(model1.classes_)\n",
    "plt.savefig('disease.png')\n",
    "#plt.savefig('destination_path23.eps', format='eps')\n",
    "print('A1: Black, A2: Red, B1: Green, B2: Blue, Centers A and B, and diseases 1 and 2.) ')"
   ]
  },
  {
   "cell_type": "code",
   "execution_count": null,
   "id": "cce3a51d-8104-41b5-8316-bcd16e122219",
   "metadata": {},
   "outputs": [],
   "source": [
    "print(modellist[1])"
   ]
  },
  {
   "cell_type": "code",
   "execution_count": null,
   "id": "f170b024-fc8c-4462-8b36-9cd990428340",
   "metadata": {},
   "outputs": [],
   "source": []
  }
 ],
 "metadata": {
  "kernelspec": {
   "display_name": "Python 3",
   "language": "python",
   "name": "python3"
  },
  "language_info": {
   "codemirror_mode": {
    "name": "ipython",
    "version": 3
   },
   "file_extension": ".py",
   "mimetype": "text/x-python",
   "name": "python",
   "nbconvert_exporter": "python",
   "pygments_lexer": "ipython3",
   "version": "3.8.5"
  }
 },
 "nbformat": 4,
 "nbformat_minor": 5
}
